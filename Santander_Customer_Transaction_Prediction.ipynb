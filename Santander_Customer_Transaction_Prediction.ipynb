{
 "cells": [
  {
   "cell_type": "markdown",
   "id": "8d0a0b83",
   "metadata": {
    "id": "8d0a0b83"
   },
   "source": [
    "**Autora** : Rafaela Ramos Sarmento\n",
    "\n",
    "**e-mail**: rafaelaramos.datasci@gmail.com"
   ]
  },
  {
   "cell_type": "markdown",
   "id": "e11d7da9",
   "metadata": {
    "id": "e11d7da9"
   },
   "source": [
    "#  <a name=\"resumo\"> RESUMO </a>\n",
    "[Voltar ao índice](#indice)\n",
    "\n",
    "A Base de dados trabalhada é a **'Santander Customer Transaction Prediction' disponível no link:** https://www.kaggle.com/c/santander-customer-transaction-prediction\n",
    "\n",
    "Essa base de dados envolve um problema de classificação binária, isto é, a partir das features disponíveis, decidir se caso é X ou Y, ou de maneira binária, 0 ou 1.\n"
   ]
  },
  {
   "cell_type": "markdown",
   "id": "94ada09c",
   "metadata": {
    "id": "94ada09c"
   },
   "source": [
    "#  <a name=\"indice\">  Índice </a>"
   ]
  },
  {
   "cell_type": "markdown",
   "id": "a0d85f63",
   "metadata": {
    "id": "a0d85f63"
   },
   "source": [
    "* [Resumo](#resumo)\n",
    "* [Índice](#indice)\n",
    "* [Problema a ser analisado](#secao_0)\n",
    "* [Análise descritiva e exploratória](#secao_1)\n",
    "* [Random Forest](#secao_2)\n",
    "* [Regressão Logística](#secao_3)\n",
    "* [GBDT - XGBOOST](#secao_4)\n",
    "* [Redes Neurais](#secao_5)\n",
    "* [Comparação Entre  os Modelos](#secao_6)\n",
    "* [Conclusão do Desafio](#secao_7) "
   ]
  },
  {
   "cell_type": "markdown",
   "id": "f95c03dc",
   "metadata": {
    "id": "f95c03dc"
   },
   "source": [
    "#  <a name=\"secao_0\"> Problema a ser analisado </a>\n",
    "[Voltar ao índice](#indice)"
   ]
  },
  {
   "cell_type": "markdown",
   "id": "0fa92f2e",
   "metadata": {
    "id": "0fa92f2e"
   },
   "source": [
    "Como a base de dados do **'Santander Customer Transaction Prediction'** tem o seguinte texto guia: \n",
    "\n",
    "   * \"In this challenge, we invite Kagglers to help us identify which customers will make a specific transaction in the future, irrespective of the amount of money transacted. The data provided for this competition has the same structure as the real data we have available to solve this problem.\" *\n",
    "\n",
    "\n",
    "Como temos um problema de classificação binária, e o próprio desafio sugere que a análise conste como uma previsão de que os clientes do banco realizem uma determinada operação no futuro, dadas as variáveis disponíveis no banco de dados do Santander, podemos formular um problema de negócio em que o banco estará oferecendo para o cliente um investimento de renda fixa do programa “Renda Mais”. Neste caso, os modelos de machine learning tem o objetivo de prever se um dado cliente irá participar do programa ou não.\n",
    "\n",
    "Assim, as variáveis disponíveis poderiam ser interpretados como informações relacionadas a empréstimos realizados e pagos, pagamentos, idade, renda, situação civil e outras trasações e investimentos no banco.\n",
    "\n",
    "Portanto, queremos criar um modelo de previsão que forneça o indicativo sobre quais clientes possuem maior probabilidade de fazer parte do programa \"Renda Mais\", de forma que os clientes classificados positivamente (1) receberão e-mails com propostas e propagandas referentes ao programa de investimento.\n",
    "\n",
    "Para este caso, observa-se que falsos positivos (FP) não são um problema grave, uma vez que um cliente que seja classificado positivamente mas que não tenha interesse no programa poderá apenas ignorar ou recusar a oferta. Entretanto, o caso de falso negativo (FN) é considerado um problema grave, uma vez que o cliente classificado negativamente mas que tenha interesse em investir não recebera a oferta e, assim, o banco perde um cliente em potencial e não haverá lucros. A métrica de classificação de maior importância é o recall, de forma que maximizando o recall estaremos diminuindo o número de falsos negativos.\n",
    "O recall é dado pela equação:\n",
    "\n",
    "\n",
    "$$ recall = \\frac{VP}{VP + FN}$$\n",
    "\n",
    "\n",
    "\n",
    "O problema consta com a variável **ID_code** que é a identificação do cliente, a **target** que é o problema que estamos querendo resolver, isto é, é a variável do tipo classe (binária, 0 ou 1), e teremos um total de **200** features, identificadas como: var_0, var_1, ..., var_199.\n",
    "\n",
    "Um detalhe é que a base de dados de teste não possui a coluna target, então não seria possível verificar as métricas do nosso modelo utilizando esses dados, portanto, o que será feito é dividir a base de treino em duas: uma efetivamente de treino e outra de validação, de forma a ter uma proporção 70% e 30%, respectivamente.\n",
    "Além disso, a base de dados já esta bastante limpa, não sendo necessário fazer um trabalho arduo de pré-processamento dos dados.\n"
   ]
  },
  {
   "cell_type": "markdown",
   "id": "0c2fd9b4",
   "metadata": {
    "id": "0c2fd9b4"
   },
   "source": [
    "#  <a name=\"secao_1\"> Análise descritiva e exploratória </a>\n",
    "[Voltar ao índice](#indice)\n",
    "\n",
    "Vamos calcular algumas propriedades estatisticas dessa base de dados.\n",
    "\n",
    "   - Não há valores nulos;\n",
    "   - Dados em mesmo range de escala;\n",
    "   - Classes desbalanceadas -> proporção 9 (0) para 1 (1)"
   ]
  },
  {
   "cell_type": "code",
   "execution_count": null,
   "id": "43bc8f1d",
   "metadata": {
    "id": "43bc8f1d"
   },
   "outputs": [],
   "source": [
    "import pandas as pd\n",
    "import numpy as np\n",
    "import seaborn as sns\n",
    "import sklearn as sk\n",
    "import statistics as sts\n",
    "import matplotlib.pyplot as plt\n",
    "import missingno as msno\n",
    "from sklearn.model_selection import train_test_split"
   ]
  },
  {
   "cell_type": "code",
   "execution_count": null,
   "id": "5f2f8de9",
   "metadata": {
    "id": "5f2f8de9"
   },
   "outputs": [],
   "source": [
    "#criando funcao para ter informacoes sobre os dados\n",
    "def show_info(data) :\n",
    "    print('DATASET SHAPE: ', data.shape, '\\n')\n",
    "    print('-'*50)\n",
    "    print('FEATURE DATA TYPES:')\n",
    "    print(data.info())\n",
    "    print('\\n', '-'*50)\n",
    "    print('NUMBER OF UNIQUE VALUES PER FEATURE:', '\\n')\n",
    "    print(data.nunique())\n",
    "    print('\\n', '-'*50)\n",
    "    print('NULL VALUES PER FEATURE')\n",
    "    print(data.isnull().sum())\n",
    "  "
   ]
  },
  {
   "cell_type": "code",
   "execution_count": null,
   "id": "52ee8e6e",
   "metadata": {
    "id": "52ee8e6e"
   },
   "outputs": [],
   "source": [
    "def plot_roc_curve(y_real, y_previsao, nome_modelo, color_roc = \"pink\") :\n",
    "    rfp, rvp,lim = roc_curve(y_real,  y_previsao)\n",
    "    # Gráfico da curva roc\n",
    "    auc = roc_auc_score(y_real, y_previsao)\n",
    "    plt.plot(rfp, rvp, marker='.', label='%s (AUC = %0.2f)' % (nome_modelo, auc),color=color_roc)\n",
    "    plt.plot([0, 1], [0, 1], color='darkblue', linestyle='--')\n",
    "    plt.title('Curva ROC - %s' % nome_modelo, fontsize=15)\n",
    "    plt.xlabel('1- Especificidade', fontsize=12)\n",
    "    plt.ylabel('Sensibilidade', fontsize=12)\n",
    "    plt.grid(color='w', linestyle='dotted', linewidth=1)\n",
    "    plt.legend()\n",
    "    #plt.show()"
   ]
  },
  {
   "cell_type": "code",
   "execution_count": null,
   "id": "0c154275",
   "metadata": {
    "id": "0c154275"
   },
   "outputs": [],
   "source": [
    "def plot_curva_learning(modelo, nome_modelo) :\n",
    "    results = modelo.evals_result()\n",
    "    # plot learning curves\n",
    "    plt.plot(results['validation_0']['logloss'], label='train')\n",
    "    plt.plot(results['validation_1']['logloss'], label='test')\n",
    "    plt.title('LogLoss vs n_estimator - %s' %nome_modelo)\n",
    "    plt.ylabel('LogLoss')\n",
    "    plt.xlabel('n_estimator')\n",
    "    plt.grid(color='w', linestyle='dotted', linewidth=1)\n",
    "    plt.legend()\n",
    "    plt.show()"
   ]
  },
  {
   "cell_type": "code",
   "execution_count": null,
   "id": "1eb1e0e5",
   "metadata": {
    "id": "1eb1e0e5"
   },
   "outputs": [],
   "source": [
    "df = pd.read_csv(\"santander-customer-transaction-prediction/train.csv\")\n",
    "df_train, df_validacao = train_test_split(df, train_size=0.7, shuffle=True)\n",
    "\n",
    "#df_test = pd.read_csv(\"santander-customer-transaction-prediction/test.csv\")"
   ]
  },
  {
   "cell_type": "code",
   "execution_count": null,
   "id": "d62680af",
   "metadata": {
    "id": "d62680af"
   },
   "outputs": [],
   "source": [
    "#criando os arrays para X {variaveis previsoras} e Y {variavel tipo classe} para treino e teste\n",
    "Y_train = df_train.iloc[:, 1].values\n",
    "X_train = df_train.iloc[:, 2:].values\n",
    "Y_validacao = df_validacao.iloc[:, 1].values \n",
    "X_validacao = df_validacao.iloc[:, 2:].values"
   ]
  },
  {
   "cell_type": "code",
   "execution_count": null,
   "id": "92498357",
   "metadata": {
    "id": "92498357",
    "outputId": "724ef6b8-891b-483d-d525-c3794ce7b2a2"
   },
   "outputs": [
    {
     "data": {
      "text/html": [
       "<div>\n",
       "<style scoped>\n",
       "    .dataframe tbody tr th:only-of-type {\n",
       "        vertical-align: middle;\n",
       "    }\n",
       "\n",
       "    .dataframe tbody tr th {\n",
       "        vertical-align: top;\n",
       "    }\n",
       "\n",
       "    .dataframe thead th {\n",
       "        text-align: right;\n",
       "    }\n",
       "</style>\n",
       "<table border=\"1\" class=\"dataframe\">\n",
       "  <thead>\n",
       "    <tr style=\"text-align: right;\">\n",
       "      <th></th>\n",
       "      <th>ID_code</th>\n",
       "      <th>target</th>\n",
       "      <th>var_0</th>\n",
       "      <th>var_1</th>\n",
       "      <th>var_2</th>\n",
       "      <th>var_3</th>\n",
       "      <th>var_4</th>\n",
       "      <th>var_5</th>\n",
       "      <th>var_6</th>\n",
       "      <th>var_7</th>\n",
       "      <th>...</th>\n",
       "      <th>var_190</th>\n",
       "      <th>var_191</th>\n",
       "      <th>var_192</th>\n",
       "      <th>var_193</th>\n",
       "      <th>var_194</th>\n",
       "      <th>var_195</th>\n",
       "      <th>var_196</th>\n",
       "      <th>var_197</th>\n",
       "      <th>var_198</th>\n",
       "      <th>var_199</th>\n",
       "    </tr>\n",
       "  </thead>\n",
       "  <tbody>\n",
       "    <tr>\n",
       "      <th>70197</th>\n",
       "      <td>train_70197</td>\n",
       "      <td>0</td>\n",
       "      <td>7.5930</td>\n",
       "      <td>-4.4951</td>\n",
       "      <td>11.7194</td>\n",
       "      <td>4.3922</td>\n",
       "      <td>8.8027</td>\n",
       "      <td>-17.6640</td>\n",
       "      <td>6.8718</td>\n",
       "      <td>17.9505</td>\n",
       "      <td>...</td>\n",
       "      <td>5.6948</td>\n",
       "      <td>10.0355</td>\n",
       "      <td>2.3923</td>\n",
       "      <td>5.0582</td>\n",
       "      <td>17.6801</td>\n",
       "      <td>-2.0170</td>\n",
       "      <td>0.8251</td>\n",
       "      <td>9.6314</td>\n",
       "      <td>15.5114</td>\n",
       "      <td>14.2601</td>\n",
       "    </tr>\n",
       "    <tr>\n",
       "      <th>50481</th>\n",
       "      <td>train_50481</td>\n",
       "      <td>0</td>\n",
       "      <td>7.8967</td>\n",
       "      <td>-5.6191</td>\n",
       "      <td>13.0385</td>\n",
       "      <td>8.2216</td>\n",
       "      <td>9.8487</td>\n",
       "      <td>-2.3504</td>\n",
       "      <td>4.9904</td>\n",
       "      <td>18.4480</td>\n",
       "      <td>...</td>\n",
       "      <td>-1.3388</td>\n",
       "      <td>6.7010</td>\n",
       "      <td>2.8875</td>\n",
       "      <td>3.5149</td>\n",
       "      <td>18.1092</td>\n",
       "      <td>0.1328</td>\n",
       "      <td>3.3125</td>\n",
       "      <td>8.2643</td>\n",
       "      <td>18.2931</td>\n",
       "      <td>-15.2632</td>\n",
       "    </tr>\n",
       "    <tr>\n",
       "      <th>26477</th>\n",
       "      <td>train_26477</td>\n",
       "      <td>1</td>\n",
       "      <td>6.7954</td>\n",
       "      <td>-0.5883</td>\n",
       "      <td>5.8955</td>\n",
       "      <td>3.9075</td>\n",
       "      <td>11.0372</td>\n",
       "      <td>-11.3375</td>\n",
       "      <td>7.4112</td>\n",
       "      <td>12.9902</td>\n",
       "      <td>...</td>\n",
       "      <td>5.0932</td>\n",
       "      <td>4.3161</td>\n",
       "      <td>1.2532</td>\n",
       "      <td>3.7374</td>\n",
       "      <td>23.8799</td>\n",
       "      <td>-3.1827</td>\n",
       "      <td>13.6412</td>\n",
       "      <td>8.9730</td>\n",
       "      <td>12.2996</td>\n",
       "      <td>-16.2891</td>\n",
       "    </tr>\n",
       "    <tr>\n",
       "      <th>167332</th>\n",
       "      <td>train_167332</td>\n",
       "      <td>0</td>\n",
       "      <td>13.4323</td>\n",
       "      <td>-0.1844</td>\n",
       "      <td>9.1492</td>\n",
       "      <td>7.0979</td>\n",
       "      <td>10.0791</td>\n",
       "      <td>-14.6293</td>\n",
       "      <td>4.1237</td>\n",
       "      <td>13.3847</td>\n",
       "      <td>...</td>\n",
       "      <td>1.5307</td>\n",
       "      <td>12.5179</td>\n",
       "      <td>2.1119</td>\n",
       "      <td>4.4935</td>\n",
       "      <td>20.5807</td>\n",
       "      <td>1.7595</td>\n",
       "      <td>-0.5109</td>\n",
       "      <td>9.9384</td>\n",
       "      <td>16.3147</td>\n",
       "      <td>-1.3673</td>\n",
       "    </tr>\n",
       "    <tr>\n",
       "      <th>62228</th>\n",
       "      <td>train_62228</td>\n",
       "      <td>0</td>\n",
       "      <td>8.9270</td>\n",
       "      <td>-8.0172</td>\n",
       "      <td>8.3204</td>\n",
       "      <td>3.5993</td>\n",
       "      <td>12.4823</td>\n",
       "      <td>3.5828</td>\n",
       "      <td>4.8830</td>\n",
       "      <td>21.2775</td>\n",
       "      <td>...</td>\n",
       "      <td>7.0091</td>\n",
       "      <td>7.2177</td>\n",
       "      <td>5.4472</td>\n",
       "      <td>5.8761</td>\n",
       "      <td>19.2103</td>\n",
       "      <td>-1.3245</td>\n",
       "      <td>-10.3941</td>\n",
       "      <td>7.9709</td>\n",
       "      <td>18.3459</td>\n",
       "      <td>7.4370</td>\n",
       "    </tr>\n",
       "  </tbody>\n",
       "</table>\n",
       "<p>5 rows × 202 columns</p>\n",
       "</div>"
      ],
      "text/plain": [
       "             ID_code  target    var_0   var_1    var_2   var_3    var_4  \\\n",
       "70197    train_70197       0   7.5930 -4.4951  11.7194  4.3922   8.8027   \n",
       "50481    train_50481       0   7.8967 -5.6191  13.0385  8.2216   9.8487   \n",
       "26477    train_26477       1   6.7954 -0.5883   5.8955  3.9075  11.0372   \n",
       "167332  train_167332       0  13.4323 -0.1844   9.1492  7.0979  10.0791   \n",
       "62228    train_62228       0   8.9270 -8.0172   8.3204  3.5993  12.4823   \n",
       "\n",
       "          var_5   var_6    var_7  ...  var_190  var_191  var_192  var_193  \\\n",
       "70197  -17.6640  6.8718  17.9505  ...   5.6948  10.0355   2.3923   5.0582   \n",
       "50481   -2.3504  4.9904  18.4480  ...  -1.3388   6.7010   2.8875   3.5149   \n",
       "26477  -11.3375  7.4112  12.9902  ...   5.0932   4.3161   1.2532   3.7374   \n",
       "167332 -14.6293  4.1237  13.3847  ...   1.5307  12.5179   2.1119   4.4935   \n",
       "62228    3.5828  4.8830  21.2775  ...   7.0091   7.2177   5.4472   5.8761   \n",
       "\n",
       "        var_194  var_195  var_196  var_197  var_198  var_199  \n",
       "70197   17.6801  -2.0170   0.8251   9.6314  15.5114  14.2601  \n",
       "50481   18.1092   0.1328   3.3125   8.2643  18.2931 -15.2632  \n",
       "26477   23.8799  -3.1827  13.6412   8.9730  12.2996 -16.2891  \n",
       "167332  20.5807   1.7595  -0.5109   9.9384  16.3147  -1.3673  \n",
       "62228   19.2103  -1.3245 -10.3941   7.9709  18.3459   7.4370  \n",
       "\n",
       "[5 rows x 202 columns]"
      ]
     },
     "execution_count": 15,
     "metadata": {},
     "output_type": "execute_result"
    }
   ],
   "source": [
    "df_train.head()"
   ]
  },
  {
   "cell_type": "code",
   "execution_count": null,
   "id": "16534482",
   "metadata": {
    "id": "16534482",
    "outputId": "91124755-1083-4b9f-de10-e5fe85c724e7"
   },
   "outputs": [
    {
     "name": "stdout",
     "output_type": "stream",
     "text": [
      "DATASET SHAPE:  (140000, 202) \n",
      "\n",
      "--------------------------------------------------\n",
      "FEATURE DATA TYPES:\n",
      "<class 'pandas.core.frame.DataFrame'>\n",
      "Int64Index: 140000 entries, 70197 to 195347\n",
      "Columns: 202 entries, ID_code to var_199\n",
      "dtypes: float64(200), int64(1), object(1)\n",
      "memory usage: 216.8+ MB\n",
      "None\n",
      "\n",
      " --------------------------------------------------\n",
      "NUMBER OF UNIQUE VALUES PER FEATURE: \n",
      "\n",
      "ID_code    140000\n",
      "target          2\n",
      "var_0       79761\n",
      "var_1       89357\n",
      "var_2       74297\n",
      "            ...  \n",
      "var_195     52501\n",
      "var_196     99647\n",
      "var_197     37946\n",
      "var_198     79331\n",
      "var_199    113623\n",
      "Length: 202, dtype: int64\n",
      "\n",
      " --------------------------------------------------\n",
      "NULL VALUES PER FEATURE\n",
      "ID_code    0\n",
      "target     0\n",
      "var_0      0\n",
      "var_1      0\n",
      "var_2      0\n",
      "          ..\n",
      "var_195    0\n",
      "var_196    0\n",
      "var_197    0\n",
      "var_198    0\n",
      "var_199    0\n",
      "Length: 202, dtype: int64\n"
     ]
    }
   ],
   "source": [
    "show_info(df_train)"
   ]
  },
  {
   "cell_type": "code",
   "execution_count": null,
   "id": "0746a364",
   "metadata": {
    "id": "0746a364",
    "outputId": "ae37a414-215e-47f6-ab32-d16cd073f44d"
   },
   "outputs": [
    {
     "name": "stdout",
     "output_type": "stream",
     "text": [
      "DATASET SHAPE:  (60000, 202) \n",
      "\n",
      "--------------------------------------------------\n",
      "FEATURE DATA TYPES:\n",
      "<class 'pandas.core.frame.DataFrame'>\n",
      "Int64Index: 60000 entries, 74306 to 8452\n",
      "Columns: 202 entries, ID_code to var_199\n",
      "dtypes: float64(200), int64(1), object(1)\n",
      "memory usage: 92.9+ MB\n",
      "None\n",
      "\n",
      " --------------------------------------------------\n",
      "NUMBER OF UNIQUE VALUES PER FEATURE: \n",
      "\n",
      "ID_code    60000\n",
      "target         2\n",
      "var_0      45928\n",
      "var_1      48670\n",
      "var_2      44144\n",
      "           ...  \n",
      "var_195    36218\n",
      "var_196    51572\n",
      "var_197    29011\n",
      "var_198    45825\n",
      "var_199    54689\n",
      "Length: 202, dtype: int64\n",
      "\n",
      " --------------------------------------------------\n",
      "NULL VALUES PER FEATURE\n",
      "ID_code    0\n",
      "target     0\n",
      "var_0      0\n",
      "var_1      0\n",
      "var_2      0\n",
      "          ..\n",
      "var_195    0\n",
      "var_196    0\n",
      "var_197    0\n",
      "var_198    0\n",
      "var_199    0\n",
      "Length: 202, dtype: int64\n"
     ]
    }
   ],
   "source": [
    "show_info(df_validacao)"
   ]
  },
  {
   "cell_type": "markdown",
   "id": "a105e0e2",
   "metadata": {
    "id": "a105e0e2"
   },
   "source": [
    "#### Primeiras observações \n",
    "\n",
    "Legenda para entendimento do problema: \n",
    "   *  ID_code :  identificação do cliente\n",
    "   *  target: variável que queremos prever\n",
    "   *  var_i ; i = 0, 1, ..., 199\n",
    "   \n",
    "observa-se que em ambos conjuntos de dados, treino e validacao, não há valores nulos. Também não será necessário fazer processo de cleaning e escalonamento, visto que as variáveis estão sem significado e as ordens de grandeza estão próximas. \n",
    "\n",
    "Temos um caso de classes desbalanceadas, sendo as contagens:\n",
    "  - Treino:\n",
    "      * classe 0 : 125972 contagens  \n",
    "      * classe 1 : 14028 contagens\n",
    "  - Validação:\n",
    "      * classe 0 : 53930 contagens  \n",
    "      * classe 1 : 6070 contagens"
   ]
  },
  {
   "cell_type": "code",
   "execution_count": null,
   "id": "a7b7d55b",
   "metadata": {
    "id": "a7b7d55b",
    "outputId": "d64eac21-342c-4f5a-8e06-9457f59a1f4e"
   },
   "outputs": [
    {
     "data": {
      "text/html": [
       "<div>\n",
       "<style scoped>\n",
       "    .dataframe tbody tr th:only-of-type {\n",
       "        vertical-align: middle;\n",
       "    }\n",
       "\n",
       "    .dataframe tbody tr th {\n",
       "        vertical-align: top;\n",
       "    }\n",
       "\n",
       "    .dataframe thead th {\n",
       "        text-align: right;\n",
       "    }\n",
       "</style>\n",
       "<table border=\"1\" class=\"dataframe\">\n",
       "  <thead>\n",
       "    <tr style=\"text-align: right;\">\n",
       "      <th></th>\n",
       "      <th>target</th>\n",
       "      <th>var_0</th>\n",
       "      <th>var_1</th>\n",
       "      <th>var_2</th>\n",
       "      <th>var_3</th>\n",
       "      <th>var_4</th>\n",
       "      <th>var_5</th>\n",
       "      <th>var_6</th>\n",
       "      <th>var_7</th>\n",
       "      <th>var_8</th>\n",
       "      <th>...</th>\n",
       "      <th>var_190</th>\n",
       "      <th>var_191</th>\n",
       "      <th>var_192</th>\n",
       "      <th>var_193</th>\n",
       "      <th>var_194</th>\n",
       "      <th>var_195</th>\n",
       "      <th>var_196</th>\n",
       "      <th>var_197</th>\n",
       "      <th>var_198</th>\n",
       "      <th>var_199</th>\n",
       "    </tr>\n",
       "  </thead>\n",
       "  <tbody>\n",
       "    <tr>\n",
       "      <th>count</th>\n",
       "      <td>140000.000000</td>\n",
       "      <td>140000.000000</td>\n",
       "      <td>140000.000000</td>\n",
       "      <td>140000.000000</td>\n",
       "      <td>140000.000000</td>\n",
       "      <td>140000.000000</td>\n",
       "      <td>140000.000000</td>\n",
       "      <td>140000.000000</td>\n",
       "      <td>140000.000000</td>\n",
       "      <td>140000.000000</td>\n",
       "      <td>...</td>\n",
       "      <td>140000.000000</td>\n",
       "      <td>140000.000000</td>\n",
       "      <td>140000.000000</td>\n",
       "      <td>140000.000000</td>\n",
       "      <td>140000.000000</td>\n",
       "      <td>140000.000000</td>\n",
       "      <td>140000.000000</td>\n",
       "      <td>140000.000000</td>\n",
       "      <td>140000.000000</td>\n",
       "      <td>140000.000000</td>\n",
       "    </tr>\n",
       "    <tr>\n",
       "      <th>mean</th>\n",
       "      <td>0.100636</td>\n",
       "      <td>10.685293</td>\n",
       "      <td>-1.636544</td>\n",
       "      <td>10.719682</td>\n",
       "      <td>6.799216</td>\n",
       "      <td>11.076656</td>\n",
       "      <td>-5.081516</td>\n",
       "      <td>5.409367</td>\n",
       "      <td>16.543386</td>\n",
       "      <td>0.286315</td>\n",
       "      <td>...</td>\n",
       "      <td>3.237778</td>\n",
       "      <td>7.436732</td>\n",
       "      <td>1.926656</td>\n",
       "      <td>3.330479</td>\n",
       "      <td>17.996502</td>\n",
       "      <td>-0.141078</td>\n",
       "      <td>2.302753</td>\n",
       "      <td>8.908147</td>\n",
       "      <td>15.865155</td>\n",
       "      <td>-3.317204</td>\n",
       "    </tr>\n",
       "    <tr>\n",
       "      <th>std</th>\n",
       "      <td>0.300847</td>\n",
       "      <td>3.037937</td>\n",
       "      <td>4.043152</td>\n",
       "      <td>2.640608</td>\n",
       "      <td>2.042239</td>\n",
       "      <td>1.623227</td>\n",
       "      <td>7.869765</td>\n",
       "      <td>0.866004</td>\n",
       "      <td>3.417761</td>\n",
       "      <td>3.336735</td>\n",
       "      <td>...</td>\n",
       "      <td>4.561830</td>\n",
       "      <td>3.023690</td>\n",
       "      <td>1.478636</td>\n",
       "      <td>3.991352</td>\n",
       "      <td>3.134652</td>\n",
       "      <td>1.430021</td>\n",
       "      <td>5.452793</td>\n",
       "      <td>0.922759</td>\n",
       "      <td>3.006958</td>\n",
       "      <td>10.438259</td>\n",
       "    </tr>\n",
       "    <tr>\n",
       "      <th>min</th>\n",
       "      <td>0.000000</td>\n",
       "      <td>0.452800</td>\n",
       "      <td>-15.043400</td>\n",
       "      <td>2.117100</td>\n",
       "      <td>-0.040200</td>\n",
       "      <td>5.074800</td>\n",
       "      <td>-30.681600</td>\n",
       "      <td>2.347300</td>\n",
       "      <td>5.349700</td>\n",
       "      <td>-10.505500</td>\n",
       "      <td>...</td>\n",
       "      <td>-13.454700</td>\n",
       "      <td>-2.691700</td>\n",
       "      <td>-3.814500</td>\n",
       "      <td>-11.783400</td>\n",
       "      <td>8.694400</td>\n",
       "      <td>-5.154700</td>\n",
       "      <td>-14.020400</td>\n",
       "      <td>5.960600</td>\n",
       "      <td>6.299300</td>\n",
       "      <td>-38.852800</td>\n",
       "    </tr>\n",
       "    <tr>\n",
       "      <th>25%</th>\n",
       "      <td>0.000000</td>\n",
       "      <td>8.460650</td>\n",
       "      <td>-4.741250</td>\n",
       "      <td>8.734600</td>\n",
       "      <td>5.260100</td>\n",
       "      <td>9.882475</td>\n",
       "      <td>-11.224425</td>\n",
       "      <td>4.768300</td>\n",
       "      <td>13.937975</td>\n",
       "      <td>-2.312200</td>\n",
       "      <td>...</td>\n",
       "      <td>-0.053900</td>\n",
       "      <td>5.157475</td>\n",
       "      <td>0.888400</td>\n",
       "      <td>0.584075</td>\n",
       "      <td>15.629150</td>\n",
       "      <td>-1.168300</td>\n",
       "      <td>-1.948325</td>\n",
       "      <td>8.250900</td>\n",
       "      <td>13.826900</td>\n",
       "      <td>-11.211925</td>\n",
       "    </tr>\n",
       "    <tr>\n",
       "      <th>50%</th>\n",
       "      <td>0.000000</td>\n",
       "      <td>10.531700</td>\n",
       "      <td>-1.616300</td>\n",
       "      <td>10.585900</td>\n",
       "      <td>6.827200</td>\n",
       "      <td>11.105100</td>\n",
       "      <td>-4.851100</td>\n",
       "      <td>5.385450</td>\n",
       "      <td>16.458300</td>\n",
       "      <td>0.397050</td>\n",
       "      <td>...</td>\n",
       "      <td>3.202400</td>\n",
       "      <td>7.343900</td>\n",
       "      <td>1.901800</td>\n",
       "      <td>3.387900</td>\n",
       "      <td>17.965500</td>\n",
       "      <td>-0.174250</td>\n",
       "      <td>2.411900</td>\n",
       "      <td>8.889100</td>\n",
       "      <td>15.932650</td>\n",
       "      <td>-2.805050</td>\n",
       "    </tr>\n",
       "    <tr>\n",
       "      <th>75%</th>\n",
       "      <td>0.000000</td>\n",
       "      <td>12.761900</td>\n",
       "      <td>1.345400</td>\n",
       "      <td>12.521500</td>\n",
       "      <td>8.325225</td>\n",
       "      <td>12.259100</td>\n",
       "      <td>0.920900</td>\n",
       "      <td>6.003000</td>\n",
       "      <td>19.094100</td>\n",
       "      <td>2.943200</td>\n",
       "      <td>...</td>\n",
       "      <td>6.407300</td>\n",
       "      <td>9.509825</td>\n",
       "      <td>2.948200</td>\n",
       "      <td>6.206125</td>\n",
       "      <td>20.397575</td>\n",
       "      <td>0.831900</td>\n",
       "      <td>6.556200</td>\n",
       "      <td>9.595500</td>\n",
       "      <td>18.052725</td>\n",
       "      <td>4.845775</td>\n",
       "    </tr>\n",
       "    <tr>\n",
       "      <th>max</th>\n",
       "      <td>1.000000</td>\n",
       "      <td>20.315000</td>\n",
       "      <td>10.376800</td>\n",
       "      <td>18.635400</td>\n",
       "      <td>13.188300</td>\n",
       "      <td>16.671400</td>\n",
       "      <td>17.128100</td>\n",
       "      <td>8.447700</td>\n",
       "      <td>27.691800</td>\n",
       "      <td>10.151300</td>\n",
       "      <td>...</td>\n",
       "      <td>18.440900</td>\n",
       "      <td>16.716500</td>\n",
       "      <td>7.811100</td>\n",
       "      <td>17.908600</td>\n",
       "      <td>27.597300</td>\n",
       "      <td>4.255700</td>\n",
       "      <td>18.321500</td>\n",
       "      <td>12.000400</td>\n",
       "      <td>26.034600</td>\n",
       "      <td>28.500700</td>\n",
       "    </tr>\n",
       "  </tbody>\n",
       "</table>\n",
       "<p>8 rows × 201 columns</p>\n",
       "</div>"
      ],
      "text/plain": [
       "              target          var_0          var_1          var_2  \\\n",
       "count  140000.000000  140000.000000  140000.000000  140000.000000   \n",
       "mean        0.100636      10.685293      -1.636544      10.719682   \n",
       "std         0.300847       3.037937       4.043152       2.640608   \n",
       "min         0.000000       0.452800     -15.043400       2.117100   \n",
       "25%         0.000000       8.460650      -4.741250       8.734600   \n",
       "50%         0.000000      10.531700      -1.616300      10.585900   \n",
       "75%         0.000000      12.761900       1.345400      12.521500   \n",
       "max         1.000000      20.315000      10.376800      18.635400   \n",
       "\n",
       "               var_3          var_4          var_5          var_6  \\\n",
       "count  140000.000000  140000.000000  140000.000000  140000.000000   \n",
       "mean        6.799216      11.076656      -5.081516       5.409367   \n",
       "std         2.042239       1.623227       7.869765       0.866004   \n",
       "min        -0.040200       5.074800     -30.681600       2.347300   \n",
       "25%         5.260100       9.882475     -11.224425       4.768300   \n",
       "50%         6.827200      11.105100      -4.851100       5.385450   \n",
       "75%         8.325225      12.259100       0.920900       6.003000   \n",
       "max        13.188300      16.671400      17.128100       8.447700   \n",
       "\n",
       "               var_7          var_8  ...        var_190        var_191  \\\n",
       "count  140000.000000  140000.000000  ...  140000.000000  140000.000000   \n",
       "mean       16.543386       0.286315  ...       3.237778       7.436732   \n",
       "std         3.417761       3.336735  ...       4.561830       3.023690   \n",
       "min         5.349700     -10.505500  ...     -13.454700      -2.691700   \n",
       "25%        13.937975      -2.312200  ...      -0.053900       5.157475   \n",
       "50%        16.458300       0.397050  ...       3.202400       7.343900   \n",
       "75%        19.094100       2.943200  ...       6.407300       9.509825   \n",
       "max        27.691800      10.151300  ...      18.440900      16.716500   \n",
       "\n",
       "             var_192        var_193        var_194        var_195  \\\n",
       "count  140000.000000  140000.000000  140000.000000  140000.000000   \n",
       "mean        1.926656       3.330479      17.996502      -0.141078   \n",
       "std         1.478636       3.991352       3.134652       1.430021   \n",
       "min        -3.814500     -11.783400       8.694400      -5.154700   \n",
       "25%         0.888400       0.584075      15.629150      -1.168300   \n",
       "50%         1.901800       3.387900      17.965500      -0.174250   \n",
       "75%         2.948200       6.206125      20.397575       0.831900   \n",
       "max         7.811100      17.908600      27.597300       4.255700   \n",
       "\n",
       "             var_196        var_197        var_198        var_199  \n",
       "count  140000.000000  140000.000000  140000.000000  140000.000000  \n",
       "mean        2.302753       8.908147      15.865155      -3.317204  \n",
       "std         5.452793       0.922759       3.006958      10.438259  \n",
       "min       -14.020400       5.960600       6.299300     -38.852800  \n",
       "25%        -1.948325       8.250900      13.826900     -11.211925  \n",
       "50%         2.411900       8.889100      15.932650      -2.805050  \n",
       "75%         6.556200       9.595500      18.052725       4.845775  \n",
       "max        18.321500      12.000400      26.034600      28.500700  \n",
       "\n",
       "[8 rows x 201 columns]"
      ]
     },
     "execution_count": 20,
     "metadata": {},
     "output_type": "execute_result"
    }
   ],
   "source": [
    "df_train.describe()"
   ]
  },
  {
   "cell_type": "code",
   "execution_count": null,
   "id": "9622e54d",
   "metadata": {
    "id": "9622e54d",
    "outputId": "7fedb4bc-8a78-401d-cedc-a8d846274da5"
   },
   "outputs": [
    {
     "data": {
      "text/html": [
       "<div>\n",
       "<style scoped>\n",
       "    .dataframe tbody tr th:only-of-type {\n",
       "        vertical-align: middle;\n",
       "    }\n",
       "\n",
       "    .dataframe tbody tr th {\n",
       "        vertical-align: top;\n",
       "    }\n",
       "\n",
       "    .dataframe thead th {\n",
       "        text-align: right;\n",
       "    }\n",
       "</style>\n",
       "<table border=\"1\" class=\"dataframe\">\n",
       "  <thead>\n",
       "    <tr style=\"text-align: right;\">\n",
       "      <th></th>\n",
       "      <th>target</th>\n",
       "      <th>var_0</th>\n",
       "      <th>var_1</th>\n",
       "      <th>var_2</th>\n",
       "      <th>var_3</th>\n",
       "      <th>var_4</th>\n",
       "      <th>var_5</th>\n",
       "      <th>var_6</th>\n",
       "      <th>var_7</th>\n",
       "      <th>var_8</th>\n",
       "      <th>...</th>\n",
       "      <th>var_190</th>\n",
       "      <th>var_191</th>\n",
       "      <th>var_192</th>\n",
       "      <th>var_193</th>\n",
       "      <th>var_194</th>\n",
       "      <th>var_195</th>\n",
       "      <th>var_196</th>\n",
       "      <th>var_197</th>\n",
       "      <th>var_198</th>\n",
       "      <th>var_199</th>\n",
       "    </tr>\n",
       "  </thead>\n",
       "  <tbody>\n",
       "    <tr>\n",
       "      <th>count</th>\n",
       "      <td>60000.000000</td>\n",
       "      <td>60000.000000</td>\n",
       "      <td>60000.000000</td>\n",
       "      <td>60000.000000</td>\n",
       "      <td>60000.000000</td>\n",
       "      <td>60000.000000</td>\n",
       "      <td>60000.000000</td>\n",
       "      <td>60000.000000</td>\n",
       "      <td>60000.000000</td>\n",
       "      <td>60000.000000</td>\n",
       "      <td>...</td>\n",
       "      <td>60000.000000</td>\n",
       "      <td>60000.000000</td>\n",
       "      <td>60000.000000</td>\n",
       "      <td>60000.000000</td>\n",
       "      <td>60000.000000</td>\n",
       "      <td>60000.000000</td>\n",
       "      <td>60000.000000</td>\n",
       "      <td>60000.000000</td>\n",
       "      <td>60000.000000</td>\n",
       "      <td>60000.000000</td>\n",
       "    </tr>\n",
       "    <tr>\n",
       "      <th>mean</th>\n",
       "      <td>0.100150</td>\n",
       "      <td>10.667364</td>\n",
       "      <td>-1.606803</td>\n",
       "      <td>10.704714</td>\n",
       "      <td>6.790260</td>\n",
       "      <td>11.082246</td>\n",
       "      <td>-5.027520</td>\n",
       "      <td>5.407972</td>\n",
       "      <td>16.551599</td>\n",
       "      <td>0.279138</td>\n",
       "      <td>...</td>\n",
       "      <td>3.226649</td>\n",
       "      <td>7.442321</td>\n",
       "      <td>1.930598</td>\n",
       "      <td>3.334795</td>\n",
       "      <td>17.987442</td>\n",
       "      <td>-0.144445</td>\n",
       "      <td>2.304694</td>\n",
       "      <td>8.908183</td>\n",
       "      <td>15.883706</td>\n",
       "      <td>-3.348313</td>\n",
       "    </tr>\n",
       "    <tr>\n",
       "      <th>std</th>\n",
       "      <td>0.300202</td>\n",
       "      <td>3.044967</td>\n",
       "      <td>4.066037</td>\n",
       "      <td>2.641555</td>\n",
       "      <td>2.045840</td>\n",
       "      <td>1.622976</td>\n",
       "      <td>7.848018</td>\n",
       "      <td>0.868021</td>\n",
       "      <td>3.418832</td>\n",
       "      <td>3.323065</td>\n",
       "      <td>...</td>\n",
       "      <td>4.555493</td>\n",
       "      <td>3.022318</td>\n",
       "      <td>1.477933</td>\n",
       "      <td>3.993644</td>\n",
       "      <td>3.136369</td>\n",
       "      <td>1.427866</td>\n",
       "      <td>5.458090</td>\n",
       "      <td>0.918983</td>\n",
       "      <td>3.020214</td>\n",
       "      <td>10.437501</td>\n",
       "    </tr>\n",
       "    <tr>\n",
       "      <th>min</th>\n",
       "      <td>0.000000</td>\n",
       "      <td>0.408400</td>\n",
       "      <td>-14.091000</td>\n",
       "      <td>2.615000</td>\n",
       "      <td>0.043000</td>\n",
       "      <td>5.277800</td>\n",
       "      <td>-32.562600</td>\n",
       "      <td>2.385700</td>\n",
       "      <td>6.465300</td>\n",
       "      <td>-9.476600</td>\n",
       "      <td>...</td>\n",
       "      <td>-14.093300</td>\n",
       "      <td>-2.009400</td>\n",
       "      <td>-3.515900</td>\n",
       "      <td>-10.845500</td>\n",
       "      <td>8.957500</td>\n",
       "      <td>-5.261000</td>\n",
       "      <td>-14.209600</td>\n",
       "      <td>6.232800</td>\n",
       "      <td>6.644800</td>\n",
       "      <td>-38.852800</td>\n",
       "    </tr>\n",
       "    <tr>\n",
       "      <th>25%</th>\n",
       "      <td>0.000000</td>\n",
       "      <td>8.440925</td>\n",
       "      <td>-4.737150</td>\n",
       "      <td>8.700075</td>\n",
       "      <td>5.239275</td>\n",
       "      <td>9.884800</td>\n",
       "      <td>-11.148375</td>\n",
       "      <td>4.766600</td>\n",
       "      <td>13.954375</td>\n",
       "      <td>-2.333625</td>\n",
       "      <td>...</td>\n",
       "      <td>-0.070400</td>\n",
       "      <td>5.157400</td>\n",
       "      <td>0.893375</td>\n",
       "      <td>0.587350</td>\n",
       "      <td>15.630950</td>\n",
       "      <td>-1.176000</td>\n",
       "      <td>-1.944150</td>\n",
       "      <td>8.256700</td>\n",
       "      <td>13.835700</td>\n",
       "      <td>-11.203150</td>\n",
       "    </tr>\n",
       "    <tr>\n",
       "      <th>50%</th>\n",
       "      <td>0.000000</td>\n",
       "      <td>10.511450</td>\n",
       "      <td>-1.590150</td>\n",
       "      <td>10.567150</td>\n",
       "      <td>6.820400</td>\n",
       "      <td>11.116150</td>\n",
       "      <td>-4.793950</td>\n",
       "      <td>5.384100</td>\n",
       "      <td>16.453650</td>\n",
       "      <td>0.386100</td>\n",
       "      <td>...</td>\n",
       "      <td>3.206200</td>\n",
       "      <td>7.357100</td>\n",
       "      <td>1.900700</td>\n",
       "      <td>3.413750</td>\n",
       "      <td>17.940650</td>\n",
       "      <td>-0.168550</td>\n",
       "      <td>2.403500</td>\n",
       "      <td>8.886300</td>\n",
       "      <td>15.936600</td>\n",
       "      <td>-2.863300</td>\n",
       "    </tr>\n",
       "    <tr>\n",
       "      <th>75%</th>\n",
       "      <td>0.000000</td>\n",
       "      <td>12.750025</td>\n",
       "      <td>1.389525</td>\n",
       "      <td>12.505425</td>\n",
       "      <td>8.320900</td>\n",
       "      <td>12.264850</td>\n",
       "      <td>0.932775</td>\n",
       "      <td>6.002925</td>\n",
       "      <td>19.120200</td>\n",
       "      <td>2.927350</td>\n",
       "      <td>...</td>\n",
       "      <td>6.405125</td>\n",
       "      <td>9.519200</td>\n",
       "      <td>2.951400</td>\n",
       "      <td>6.204975</td>\n",
       "      <td>20.393225</td>\n",
       "      <td>0.823900</td>\n",
       "      <td>6.559400</td>\n",
       "      <td>9.588200</td>\n",
       "      <td>18.093300</td>\n",
       "      <td>4.813225</td>\n",
       "    </tr>\n",
       "    <tr>\n",
       "      <th>max</th>\n",
       "      <td>1.000000</td>\n",
       "      <td>20.074000</td>\n",
       "      <td>9.511900</td>\n",
       "      <td>19.353000</td>\n",
       "      <td>13.098300</td>\n",
       "      <td>16.085500</td>\n",
       "      <td>17.251600</td>\n",
       "      <td>8.285200</td>\n",
       "      <td>27.597700</td>\n",
       "      <td>9.880900</td>\n",
       "      <td>...</td>\n",
       "      <td>18.342300</td>\n",
       "      <td>16.409400</td>\n",
       "      <td>8.402400</td>\n",
       "      <td>18.281800</td>\n",
       "      <td>27.928800</td>\n",
       "      <td>4.272900</td>\n",
       "      <td>17.684100</td>\n",
       "      <td>11.827700</td>\n",
       "      <td>26.079100</td>\n",
       "      <td>27.531900</td>\n",
       "    </tr>\n",
       "  </tbody>\n",
       "</table>\n",
       "<p>8 rows × 201 columns</p>\n",
       "</div>"
      ],
      "text/plain": [
       "             target         var_0         var_1         var_2         var_3  \\\n",
       "count  60000.000000  60000.000000  60000.000000  60000.000000  60000.000000   \n",
       "mean       0.100150     10.667364     -1.606803     10.704714      6.790260   \n",
       "std        0.300202      3.044967      4.066037      2.641555      2.045840   \n",
       "min        0.000000      0.408400    -14.091000      2.615000      0.043000   \n",
       "25%        0.000000      8.440925     -4.737150      8.700075      5.239275   \n",
       "50%        0.000000     10.511450     -1.590150     10.567150      6.820400   \n",
       "75%        0.000000     12.750025      1.389525     12.505425      8.320900   \n",
       "max        1.000000     20.074000      9.511900     19.353000     13.098300   \n",
       "\n",
       "              var_4         var_5         var_6         var_7         var_8  \\\n",
       "count  60000.000000  60000.000000  60000.000000  60000.000000  60000.000000   \n",
       "mean      11.082246     -5.027520      5.407972     16.551599      0.279138   \n",
       "std        1.622976      7.848018      0.868021      3.418832      3.323065   \n",
       "min        5.277800    -32.562600      2.385700      6.465300     -9.476600   \n",
       "25%        9.884800    -11.148375      4.766600     13.954375     -2.333625   \n",
       "50%       11.116150     -4.793950      5.384100     16.453650      0.386100   \n",
       "75%       12.264850      0.932775      6.002925     19.120200      2.927350   \n",
       "max       16.085500     17.251600      8.285200     27.597700      9.880900   \n",
       "\n",
       "       ...       var_190       var_191       var_192       var_193  \\\n",
       "count  ...  60000.000000  60000.000000  60000.000000  60000.000000   \n",
       "mean   ...      3.226649      7.442321      1.930598      3.334795   \n",
       "std    ...      4.555493      3.022318      1.477933      3.993644   \n",
       "min    ...    -14.093300     -2.009400     -3.515900    -10.845500   \n",
       "25%    ...     -0.070400      5.157400      0.893375      0.587350   \n",
       "50%    ...      3.206200      7.357100      1.900700      3.413750   \n",
       "75%    ...      6.405125      9.519200      2.951400      6.204975   \n",
       "max    ...     18.342300     16.409400      8.402400     18.281800   \n",
       "\n",
       "            var_194       var_195       var_196       var_197       var_198  \\\n",
       "count  60000.000000  60000.000000  60000.000000  60000.000000  60000.000000   \n",
       "mean      17.987442     -0.144445      2.304694      8.908183     15.883706   \n",
       "std        3.136369      1.427866      5.458090      0.918983      3.020214   \n",
       "min        8.957500     -5.261000    -14.209600      6.232800      6.644800   \n",
       "25%       15.630950     -1.176000     -1.944150      8.256700     13.835700   \n",
       "50%       17.940650     -0.168550      2.403500      8.886300     15.936600   \n",
       "75%       20.393225      0.823900      6.559400      9.588200     18.093300   \n",
       "max       27.928800      4.272900     17.684100     11.827700     26.079100   \n",
       "\n",
       "            var_199  \n",
       "count  60000.000000  \n",
       "mean      -3.348313  \n",
       "std       10.437501  \n",
       "min      -38.852800  \n",
       "25%      -11.203150  \n",
       "50%       -2.863300  \n",
       "75%        4.813225  \n",
       "max       27.531900  \n",
       "\n",
       "[8 rows x 201 columns]"
      ]
     },
     "execution_count": 21,
     "metadata": {},
     "output_type": "execute_result"
    }
   ],
   "source": [
    "df_validacao.describe()"
   ]
  },
  {
   "cell_type": "code",
   "execution_count": null,
   "id": "9246b9da",
   "metadata": {
    "id": "9246b9da",
    "outputId": "9bbe4b90-8077-494a-e022-0affa652fe56"
   },
   "outputs": [
    {
     "data": {
      "image/png": "[encoded data removed]",
      "text/plain": [
       "<Figure size 576x396 with 1 Axes>"
      ]
     },
     "metadata": {},
     "output_type": "display_data"
    }
   ],
   "source": [
    "#verificando a quantidade de cada classe dentro do conjunto de dados de treino\n",
    "sns.countplot(x=df_train['target'], palette = 'RdPu').set_title('target - treino')\n",
    "plt.show()"
   ]
  },
  {
   "cell_type": "code",
   "execution_count": null,
   "id": "ddde5cb3",
   "metadata": {
    "id": "ddde5cb3",
    "outputId": "bf19cb64-32c9-42f0-8bed-f7cb005a5415"
   },
   "outputs": [
    {
     "data": {
      "text/plain": [
       "(array([0, 1]), array([125911,  14089]))"
      ]
     },
     "execution_count": 23,
     "metadata": {},
     "output_type": "execute_result"
    }
   ],
   "source": [
    "np.unique(Y_train, return_counts = True)"
   ]
  },
  {
   "cell_type": "code",
   "execution_count": null,
   "id": "6ee1cf1c",
   "metadata": {
    "id": "6ee1cf1c",
    "outputId": "a4cdb236-389e-4918-d949-4e1976ab1419"
   },
   "outputs": [
    {
     "data": {
      "image/png": "[encoded data removed]",
      "text/plain": [
       "<Figure size 576x396 with 1 Axes>"
      ]
     },
     "metadata": {},
     "output_type": "display_data"
    }
   ],
   "source": [
    "#verificando a quantidade de cada classe dentro do conjunto de dados de validacao\n",
    "sns.countplot(x=df_validacao['target'], palette = 'ocean').set_title('target - validação')\n",
    "plt.show()"
   ]
  },
  {
   "cell_type": "code",
   "execution_count": null,
   "id": "155d0435",
   "metadata": {
    "id": "155d0435",
    "outputId": "ebabcdfb-bf44-4c53-c7ed-c89f54ca1185"
   },
   "outputs": [
    {
     "data": {
      "text/plain": [
       "(array([0, 1]), array([53991,  6009]))"
      ]
     },
     "execution_count": 25,
     "metadata": {},
     "output_type": "execute_result"
    }
   ],
   "source": [
    "np.unique(Y_validacao, return_counts = True)"
   ]
  },
  {
   "cell_type": "code",
   "execution_count": null,
   "id": "0687129e",
   "metadata": {
    "id": "0687129e",
    "outputId": "5b8f151c-de79-41f3-f8c5-747049cd7ce4"
   },
   "outputs": [
    {
     "data": {
      "image/png": "[encoded data removed]",
      "text/plain": [
       "<Figure size 2880x1440 with 2 Axes>"
      ]
     },
     "metadata": {},
     "output_type": "display_data"
    }
   ],
   "source": [
    "#calculo da matriz de correlação entre as variáveis do problema\n",
    "plt.figure(figsize=(40,20)) \n",
    "plt.title('Correlação entre as features', size = 50) \n",
    "sns.heatmap(df_train.corr(), cmap='RdPu')\n",
    "plt.show()"
   ]
  },
  {
   "cell_type": "markdown",
   "id": "734b574a",
   "metadata": {
    "id": "734b574a"
   },
   "source": [
    "A seguir, o calculo matriz de correlacao, verifica quais entradas é maior que 0.5 e faz a contagem. A diagonal sempre vai valer 1, se tiver 201 contagens nao nulas, entao as variaveis nao sao correlacionadas."
   ]
  },
  {
   "cell_type": "code",
   "execution_count": null,
   "id": "70aecf12",
   "metadata": {
    "id": "70aecf12",
    "outputId": "11b00499-cb3d-4cdc-8240-232bb0999e7a"
   },
   "outputs": [
    {
     "data": {
      "text/plain": [
       "(201,\n",
       " array([[1, 0, 0, ..., 0, 0, 0],\n",
       "        [0, 1, 0, ..., 0, 0, 0],\n",
       "        [0, 0, 1, ..., 0, 0, 0],\n",
       "        ...,\n",
       "        [0, 0, 0, ..., 1, 0, 0],\n",
       "        [0, 0, 0, ..., 0, 1, 0],\n",
       "        [0, 0, 0, ..., 0, 0, 1]]))"
      ]
     },
     "execution_count": 155,
     "metadata": {},
     "output_type": "execute_result"
    }
   ],
   "source": [
    "correlacao = df_train.corr()\n",
    "qtd_correlacao = np.where(abs(correlacao)>0.5, 1, 0)\n",
    "np.count_nonzero(qtd_correlacao), qtd_correlacao"
   ]
  },
  {
   "cell_type": "markdown",
   "id": "3a617bb8",
   "metadata": {
    "id": "3a617bb8"
   },
   "source": [
    "#  <a name=\"secao_2\"> Random Forest </a>\n",
    "[Voltar ao índice](#indice)\n",
    "\n",
    "Vamos iniciar o processo de previsão utilizando um algoritmo mais simples, o Random Forest.\n",
    "\n",
    "Para este caso, foi testado alguns modelos manualmente e após isso foi utilizado o GridSearchCV() para encontrar o melhor modelo dentro de algumas possibilidades de hiper parâmetros. \n",
    "\n",
    "Com o melhor modelo, foi calculado as principais métricas para um caso de classificação, sendo elas a matriz de confusão, precision, recall e a curva ROC. Também foi plotado as 10 features mais importantes para o treino do modelo, essa informação poderia ser utilizada para eliminar features pouco importantes e deixar o treino com um custo computacional menor. Esse ultimo processo não foi feito nessa análise.\n",
    "\n",
    "\n",
    "Parâmetros utilizados e variados:\n",
    "   - n_estimator\n",
    "   - max_depth\n",
    "   - criterion = 'entropy' (fixo)\n",
    "   \n",
    "métrica maximizada: **recall** \n",
    "\n",
    "O melhor modelo, utilizando o GridSearchCV() foi construido usando os seguintes parâmetros:\n",
    "   - n_estimator: 200\n",
    "   - max_depth: 12\n",
    "\n",
    "   \n",
    "Com o recall sendo igual a:\n",
    "   - Recall Score : 0.7235\n",
    "   "
   ]
  },
  {
   "cell_type": "code",
   "execution_count": null,
   "id": "54702e80",
   "metadata": {
    "id": "54702e80",
    "outputId": "a04b20c9-6f3d-4389-8c4d-defd79099163"
   },
   "outputs": [
    {
     "name": "stdout",
     "output_type": "stream",
     "text": [
      "Requirement already satisfied: imblearn in /opt/anaconda3/lib/python3.9/site-packages (0.0)\n",
      "Requirement already satisfied: imbalanced-learn in /opt/anaconda3/lib/python3.9/site-packages (from imblearn) (0.9.1)\n",
      "Requirement already satisfied: scikit-learn>=1.1.0 in /opt/anaconda3/lib/python3.9/site-packages (from imbalanced-learn->imblearn) (1.1.3)\n",
      "Requirement already satisfied: scipy>=1.3.2 in /opt/anaconda3/lib/python3.9/site-packages (from imbalanced-learn->imblearn) (1.7.1)\n",
      "Requirement already satisfied: threadpoolctl>=2.0.0 in /opt/anaconda3/lib/python3.9/site-packages (from imbalanced-learn->imblearn) (3.1.0)\n",
      "Requirement already satisfied: numpy>=1.17.3 in /opt/anaconda3/lib/python3.9/site-packages (from imbalanced-learn->imblearn) (1.22.3)\n",
      "Requirement already satisfied: joblib>=1.0.0 in /opt/anaconda3/lib/python3.9/site-packages (from imbalanced-learn->imblearn) (1.1.0)\n"
     ]
    }
   ],
   "source": [
    "!pip install imblearn"
   ]
  },
  {
   "cell_type": "code",
   "execution_count": null,
   "id": "86ca8b50",
   "metadata": {
    "id": "86ca8b50",
    "outputId": "c558a6c1-00e2-4da7-bd2d-ec7737797142"
   },
   "outputs": [
    {
     "name": "stdout",
     "output_type": "stream",
     "text": [
      "Requirement already satisfied: threadpoolctl==3.1.0 in /opt/anaconda3/lib/python3.9/site-packages (3.1.0)\n",
      "Note: you may need to restart the kernel to use updated packages.\n"
     ]
    }
   ],
   "source": [
    "pip install threadpoolctl==3.1.0"
   ]
  },
  {
   "cell_type": "code",
   "execution_count": null,
   "id": "00202643",
   "metadata": {
    "id": "00202643"
   },
   "outputs": [],
   "source": [
    "from sklearn.ensemble import RandomForestClassifier\n",
    "from sklearn.metrics import accuracy_score, classification_report, recall_score, roc_auc_score\n",
    "from yellowbrick.classifier import ConfusionMatrix\n",
    "from imblearn.over_sampling import BorderlineSMOTE \n",
    "from sklearn.model_selection import GridSearchCV\n",
    "from sklearn.metrics import plot_roc_curve, RocCurveDisplay, roc_curve"
   ]
  },
  {
   "cell_type": "code",
   "execution_count": null,
   "id": "88d75d63",
   "metadata": {
    "id": "88d75d63",
    "outputId": "bdfca1f4-ab9d-467a-c16a-2daa3e916712"
   },
   "outputs": [
    {
     "data": {
      "text/plain": [
       "((140000, 200), (140000,))"
      ]
     },
     "execution_count": 33,
     "metadata": {},
     "output_type": "execute_result"
    }
   ],
   "source": [
    "X_train.shape, Y_train.shape"
   ]
  },
  {
   "cell_type": "code",
   "execution_count": null,
   "id": "a108bcf7",
   "metadata": {
    "id": "a108bcf7",
    "outputId": "7a54519a-3233-4cd7-d6de-fdd3ad15b089"
   },
   "outputs": [
    {
     "data": {
      "text/plain": [
       "((60000, 200), (60000,))"
      ]
     },
     "execution_count": 34,
     "metadata": {},
     "output_type": "execute_result"
    }
   ],
   "source": [
    "X_validacao.shape, Y_validacao.shape"
   ]
  },
  {
   "cell_type": "code",
   "execution_count": null,
   "id": "e8625f9d",
   "metadata": {
    "id": "e8625f9d"
   },
   "outputs": [],
   "source": [
    "#balanceando os dados, de forma a usar a técnica de oversampling\n",
    "smote_random_forest = BorderlineSMOTE(sampling_strategy='minority')\n",
    "X_over_train, Y_over_train = smote_random_forest.fit_resample(X_train, Y_train)\n",
    "X_over_validacao, Y_over_validacao = smote_random_forest.fit_resample(X_validacao, Y_validacao)"
   ]
  },
  {
   "cell_type": "code",
   "execution_count": null,
   "id": "6a2b7211",
   "metadata": {
    "id": "6a2b7211",
    "outputId": "f028b623-5ee7-4dac-b873-20e2f8d20e36"
   },
   "outputs": [
    {
     "data": {
      "text/plain": [
       "(array([0, 1]), array([125911, 125911]))"
      ]
     },
     "execution_count": 64,
     "metadata": {},
     "output_type": "execute_result"
    }
   ],
   "source": [
    "np.unique(Y_over_train, return_counts=True)"
   ]
  },
  {
   "cell_type": "code",
   "execution_count": null,
   "id": "be305c69",
   "metadata": {
    "id": "be305c69",
    "outputId": "eb41f5d1-6d0d-41ba-bbe6-2e00454f27e9"
   },
   "outputs": [
    {
     "data": {
      "text/plain": [
       "(array([0, 1]), array([53991, 53991]))"
      ]
     },
     "execution_count": 65,
     "metadata": {},
     "output_type": "execute_result"
    }
   ],
   "source": [
    "np.unique(Y_over_validacao, return_counts=True)"
   ]
  },
  {
   "cell_type": "code",
   "execution_count": null,
   "id": "d17fb6b5",
   "metadata": {
    "id": "d17fb6b5",
    "outputId": "57ab2d75-63d3-4009-bc99-097cad5abe71"
   },
   "outputs": [
    {
     "name": "stderr",
     "output_type": "stream",
     "text": [
      "[Parallel(n_jobs=1)]: Using backend SequentialBackend with 1 concurrent workers.\n",
      "[Parallel(n_jobs=1)]: Done 200 out of 200 | elapsed: 21.1min finished\n"
     ]
    },
    {
     "data": {
      "text/html": [
       "<style>#sk-container-id-12 {color: black;background-color: white;}#sk-container-id-12 pre{padding: 0;}#sk-container-id-12 div.sk-toggleable {background-color: white;}#sk-container-id-12 label.sk-toggleable__label {cursor: pointer;display: block;width: 100%;margin-bottom: 0;padding: 0.3em;box-sizing: border-box;text-align: center;}#sk-container-id-12 label.sk-toggleable__label-arrow:before {content: \"▸\";float: left;margin-right: 0.25em;color: #696969;}#sk-container-id-12 label.sk-toggleable__label-arrow:hover:before {color: black;}#sk-container-id-12 div.sk-estimator:hover label.sk-toggleable__label-arrow:before {color: black;}#sk-container-id-12 div.sk-toggleable__content {max-height: 0;max-width: 0;overflow: hidden;text-align: left;background-color: #f0f8ff;}#sk-container-id-12 div.sk-toggleable__content pre {margin: 0.2em;color: black;border-radius: 0.25em;background-color: #f0f8ff;}#sk-container-id-12 input.sk-toggleable__control:checked~div.sk-toggleable__content {max-height: 200px;max-width: 100%;overflow: auto;}#sk-container-id-12 input.sk-toggleable__control:checked~label.sk-toggleable__label-arrow:before {content: \"▾\";}#sk-container-id-12 div.sk-estimator input.sk-toggleable__control:checked~label.sk-toggleable__label {background-color: #d4ebff;}#sk-container-id-12 div.sk-label input.sk-toggleable__control:checked~label.sk-toggleable__label {background-color: #d4ebff;}#sk-container-id-12 input.sk-hidden--visually {border: 0;clip: rect(1px 1px 1px 1px);clip: rect(1px, 1px, 1px, 1px);height: 1px;margin: -1px;overflow: hidden;padding: 0;position: absolute;width: 1px;}#sk-container-id-12 div.sk-estimator {font-family: monospace;background-color: #f0f8ff;border: 1px dotted black;border-radius: 0.25em;box-sizing: border-box;margin-bottom: 0.5em;}#sk-container-id-12 div.sk-estimator:hover {background-color: #d4ebff;}#sk-container-id-12 div.sk-parallel-item::after {content: \"\";width: 100%;border-bottom: 1px solid gray;flex-grow: 1;}#sk-container-id-12 div.sk-label:hover label.sk-toggleable__label {background-color: #d4ebff;}#sk-container-id-12 div.sk-serial::before {content: \"\";position: absolute;border-left: 1px solid gray;box-sizing: border-box;top: 0;bottom: 0;left: 50%;z-index: 0;}#sk-container-id-12 div.sk-serial {display: flex;flex-direction: column;align-items: center;background-color: white;padding-right: 0.2em;padding-left: 0.2em;position: relative;}#sk-container-id-12 div.sk-item {position: relative;z-index: 1;}#sk-container-id-12 div.sk-parallel {display: flex;align-items: stretch;justify-content: center;background-color: white;position: relative;}#sk-container-id-12 div.sk-item::before, #sk-container-id-12 div.sk-parallel-item::before {content: \"\";position: absolute;border-left: 1px solid gray;box-sizing: border-box;top: 0;bottom: 0;left: 50%;z-index: -1;}#sk-container-id-12 div.sk-parallel-item {display: flex;flex-direction: column;z-index: 1;position: relative;background-color: white;}#sk-container-id-12 div.sk-parallel-item:first-child::after {align-self: flex-end;width: 50%;}#sk-container-id-12 div.sk-parallel-item:last-child::after {align-self: flex-start;width: 50%;}#sk-container-id-12 div.sk-parallel-item:only-child::after {width: 0;}#sk-container-id-12 div.sk-dashed-wrapped {border: 1px dashed gray;margin: 0 0.4em 0.5em 0.4em;box-sizing: border-box;padding-bottom: 0.4em;background-color: white;}#sk-container-id-12 div.sk-label label {font-family: monospace;font-weight: bold;display: inline-block;line-height: 1.2em;}#sk-container-id-12 div.sk-label-container {text-align: center;}#sk-container-id-12 div.sk-container {/* jupyter's `normalize.less` sets `[hidden] { display: none; }` but bootstrap.min.css set `[hidden] { display: none !important; }` so we also need the `!important` here to be able to override the default hidden behavior on the sphinx rendered scikit-learn.org. See: https://github.com/scikit-learn/scikit-learn/issues/21755 */display: inline-block !important;position: relative;}#sk-container-id-12 div.sk-text-repr-fallback {display: none;}</style><div id=\"sk-container-id-12\" class=\"sk-top-container\"><div class=\"sk-text-repr-fallback\"><pre>RandomForestClassifier(criterion=&#x27;entropy&#x27;, max_depth=12, n_estimators=200,\n",
       "                       random_state=0, verbose=1)</pre><b>In a Jupyter environment, please rerun this cell to show the HTML representation or trust the notebook. <br />On GitHub, the HTML representation is unable to render, please try loading this page with nbviewer.org.</b></div><div class=\"sk-container\" hidden><div class=\"sk-item\"><div class=\"sk-estimator sk-toggleable\"><input class=\"sk-toggleable__control sk-hidden--visually\" id=\"sk-estimator-id-16\" type=\"checkbox\" checked><label for=\"sk-estimator-id-16\" class=\"sk-toggleable__label sk-toggleable__label-arrow\">RandomForestClassifier</label><div class=\"sk-toggleable__content\"><pre>RandomForestClassifier(criterion=&#x27;entropy&#x27;, max_depth=12, n_estimators=200,\n",
       "                       random_state=0, verbose=1)</pre></div></div></div></div></div>"
      ],
      "text/plain": [
       "RandomForestClassifier(criterion='entropy', max_depth=12, n_estimators=200,\n",
       "                       random_state=0, verbose=1)"
      ]
     },
     "execution_count": 185,
     "metadata": {},
     "output_type": "execute_result"
    }
   ],
   "source": [
    "#inciando o treinamento com a Random Forest, usando a metrica para hierarquia das features\n",
    "#a minimizacao da entropia (maximizacao do ganho de informacao)\n",
    "random_forest = RandomForestClassifier(n_estimators=200, criterion='entropy', max_depth=12, verbose=1,random_state = 0)\n",
    "random_forest.fit(X_over_train, Y_over_train)"
   ]
  },
  {
   "cell_type": "code",
   "execution_count": null,
   "id": "f65cacaf",
   "metadata": {
    "id": "f65cacaf",
    "outputId": "96c06550-f4cd-4300-813a-2490f2f177da"
   },
   "outputs": [
    {
     "name": "stderr",
     "output_type": "stream",
     "text": [
      "[Parallel(n_jobs=1)]: Using backend SequentialBackend with 1 concurrent workers.\n",
      "[Parallel(n_jobs=1)]: Done 200 out of 200 | elapsed:    5.0s finished\n"
     ]
    },
    {
     "data": {
      "text/plain": [
       "0.7234909521957363"
      ]
     },
     "execution_count": 200,
     "metadata": {},
     "output_type": "execute_result"
    }
   ],
   "source": [
    "previsoes_random_forest = random_forest.predict(X_over_validacao)\n",
    "recall_score(Y_over_validacao, previsoes_random_forest)"
   ]
  },
  {
   "cell_type": "code",
   "execution_count": null,
   "id": "85669082",
   "metadata": {
    "id": "85669082",
    "outputId": "09ecbfe6-0582-4ebc-aa85-547844f208c8"
   },
   "outputs": [
    {
     "name": "stderr",
     "output_type": "stream",
     "text": [
      "[Parallel(n_jobs=1)]: Using backend SequentialBackend with 1 concurrent workers.\n",
      "[Parallel(n_jobs=1)]: Done 200 out of 200 | elapsed:    3.1s finished\n",
      "[Parallel(n_jobs=1)]: Using backend SequentialBackend with 1 concurrent workers.\n",
      "[Parallel(n_jobs=1)]: Done 200 out of 200 | elapsed:    3.1s finished\n"
     ]
    },
    {
     "data": {
      "text/plain": [
       "0.7960400807541997"
      ]
     },
     "execution_count": 187,
     "metadata": {},
     "output_type": "execute_result"
    },
    {
     "data": {
      "image/png": "[encoded data removed]",
      "text/plain": [
       "<Figure size 576x396 with 1 Axes>"
      ]
     },
     "metadata": {},
     "output_type": "display_data"
    }
   ],
   "source": [
    "#calculo de algumas métricas de classificação: matriz de confusao\n",
    "matriz_confusao_random_forest = ConfusionMatrix(random_forest, cmap='GnBu')\n",
    "matriz_confusao_random_forest.fit(X_over_train, Y_over_train)\n",
    "matriz_confusao_random_forest.score(X_over_validacao, Y_over_validacao)"
   ]
  },
  {
   "cell_type": "code",
   "execution_count": null,
   "id": "2e3a45f5",
   "metadata": {
    "id": "2e3a45f5",
    "outputId": "6555dc94-6e55-4dbb-f43a-f318ea9bbe85"
   },
   "outputs": [
    {
     "name": "stdout",
     "output_type": "stream",
     "text": [
      "              precision    recall  f1-score   support\n",
      "\n",
      "           0       0.76      0.87      0.81     53991\n",
      "           1       0.85      0.72      0.78     53991\n",
      "\n",
      "    accuracy                           0.80    107982\n",
      "   macro avg       0.80      0.80      0.79    107982\n",
      "weighted avg       0.80      0.80      0.79    107982\n",
      "\n"
     ]
    }
   ],
   "source": [
    "#printa as métricas de classificação\n",
    "print(classification_report(Y_over_validacao, previsoes_random_forest))"
   ]
  },
  {
   "cell_type": "code",
   "execution_count": null,
   "id": "6616000d",
   "metadata": {
    "id": "6616000d",
    "outputId": "276b2d61-f7d0-4d11-bb3c-a8caf89cad2a"
   },
   "outputs": [
    {
     "data": {
      "image/png": "[encoded data removed]",
      "text/plain": [
       "<Figure size 576x396 with 1 Axes>"
      ]
     },
     "metadata": {},
     "output_type": "display_data"
    }
   ],
   "source": [
    "#RocCurveDisplay.from_estimator(random_forest, X_over_validacao, Y_over_validacao, name = 'Random Forest')\n",
    "roc_random_forest = plot_roc_curve(Y_over_validacao, previsoes_random_forest, 'Random Forest')\n",
    "plt.show()"
   ]
  },
  {
   "cell_type": "code",
   "execution_count": null,
   "id": "20b1f889",
   "metadata": {
    "id": "20b1f889",
    "outputId": "1d05d829-ce41-4dd9-dd7b-d1293bb84e5c",
    "scrolled": true
   },
   "outputs": [
    {
     "data": {
      "text/plain": [
       "<AxesSubplot:>"
      ]
     },
     "execution_count": 192,
     "metadata": {},
     "output_type": "execute_result"
    },
    {
     "data": {
      "image/png": "[encoded data removed]",
      "text/plain": [
       "<Figure size 576x396 with 1 Axes>"
      ]
     },
     "metadata": {},
     "output_type": "display_data"
    }
   ],
   "source": [
    "#plotando o ranking de importancia das features utilizadas para treinar o meu modelo\n",
    "feat_importances = pd.Series(random_forest.feature_importances_)\n",
    "feat_importances.nlargest(10).plot(kind='barh')"
   ]
  },
  {
   "cell_type": "code",
   "execution_count": null,
   "id": "bd04047d",
   "metadata": {
    "id": "bd04047d",
    "outputId": "3c895490-34d9-450a-bd8a-c79e2186e3aa",
    "scrolled": true
   },
   "outputs": [
    {
     "data": {
      "text/html": [
       "<style>#sk-container-id-11 {color: black;background-color: white;}#sk-container-id-11 pre{padding: 0;}#sk-container-id-11 div.sk-toggleable {background-color: white;}#sk-container-id-11 label.sk-toggleable__label {cursor: pointer;display: block;width: 100%;margin-bottom: 0;padding: 0.3em;box-sizing: border-box;text-align: center;}#sk-container-id-11 label.sk-toggleable__label-arrow:before {content: \"▸\";float: left;margin-right: 0.25em;color: #696969;}#sk-container-id-11 label.sk-toggleable__label-arrow:hover:before {color: black;}#sk-container-id-11 div.sk-estimator:hover label.sk-toggleable__label-arrow:before {color: black;}#sk-container-id-11 div.sk-toggleable__content {max-height: 0;max-width: 0;overflow: hidden;text-align: left;background-color: #f0f8ff;}#sk-container-id-11 div.sk-toggleable__content pre {margin: 0.2em;color: black;border-radius: 0.25em;background-color: #f0f8ff;}#sk-container-id-11 input.sk-toggleable__control:checked~div.sk-toggleable__content {max-height: 200px;max-width: 100%;overflow: auto;}#sk-container-id-11 input.sk-toggleable__control:checked~label.sk-toggleable__label-arrow:before {content: \"▾\";}#sk-container-id-11 div.sk-estimator input.sk-toggleable__control:checked~label.sk-toggleable__label {background-color: #d4ebff;}#sk-container-id-11 div.sk-label input.sk-toggleable__control:checked~label.sk-toggleable__label {background-color: #d4ebff;}#sk-container-id-11 input.sk-hidden--visually {border: 0;clip: rect(1px 1px 1px 1px);clip: rect(1px, 1px, 1px, 1px);height: 1px;margin: -1px;overflow: hidden;padding: 0;position: absolute;width: 1px;}#sk-container-id-11 div.sk-estimator {font-family: monospace;background-color: #f0f8ff;border: 1px dotted black;border-radius: 0.25em;box-sizing: border-box;margin-bottom: 0.5em;}#sk-container-id-11 div.sk-estimator:hover {background-color: #d4ebff;}#sk-container-id-11 div.sk-parallel-item::after {content: \"\";width: 100%;border-bottom: 1px solid gray;flex-grow: 1;}#sk-container-id-11 div.sk-label:hover label.sk-toggleable__label {background-color: #d4ebff;}#sk-container-id-11 div.sk-serial::before {content: \"\";position: absolute;border-left: 1px solid gray;box-sizing: border-box;top: 0;bottom: 0;left: 50%;z-index: 0;}#sk-container-id-11 div.sk-serial {display: flex;flex-direction: column;align-items: center;background-color: white;padding-right: 0.2em;padding-left: 0.2em;position: relative;}#sk-container-id-11 div.sk-item {position: relative;z-index: 1;}#sk-container-id-11 div.sk-parallel {display: flex;align-items: stretch;justify-content: center;background-color: white;position: relative;}#sk-container-id-11 div.sk-item::before, #sk-container-id-11 div.sk-parallel-item::before {content: \"\";position: absolute;border-left: 1px solid gray;box-sizing: border-box;top: 0;bottom: 0;left: 50%;z-index: -1;}#sk-container-id-11 div.sk-parallel-item {display: flex;flex-direction: column;z-index: 1;position: relative;background-color: white;}#sk-container-id-11 div.sk-parallel-item:first-child::after {align-self: flex-end;width: 50%;}#sk-container-id-11 div.sk-parallel-item:last-child::after {align-self: flex-start;width: 50%;}#sk-container-id-11 div.sk-parallel-item:only-child::after {width: 0;}#sk-container-id-11 div.sk-dashed-wrapped {border: 1px dashed gray;margin: 0 0.4em 0.5em 0.4em;box-sizing: border-box;padding-bottom: 0.4em;background-color: white;}#sk-container-id-11 div.sk-label label {font-family: monospace;font-weight: bold;display: inline-block;line-height: 1.2em;}#sk-container-id-11 div.sk-label-container {text-align: center;}#sk-container-id-11 div.sk-container {/* jupyter's `normalize.less` sets `[hidden] { display: none; }` but bootstrap.min.css set `[hidden] { display: none !important; }` so we also need the `!important` here to be able to override the default hidden behavior on the sphinx rendered scikit-learn.org. See: https://github.com/scikit-learn/scikit-learn/issues/21755 */display: inline-block !important;position: relative;}#sk-container-id-11 div.sk-text-repr-fallback {display: none;}</style><div id=\"sk-container-id-11\" class=\"sk-top-container\"><div class=\"sk-text-repr-fallback\"><pre>GridSearchCV(cv=2, estimator=RandomForestClassifier(),\n",
       "             param_grid={&#x27;criterion&#x27;: [&#x27;entropy&#x27;], &#x27;max_depth&#x27;: [6, 9, 12],\n",
       "                         &#x27;n_estimators&#x27;: [50, 100, 200], &#x27;random_state&#x27;: [0]},\n",
       "             scoring=&#x27;recall&#x27;)</pre><b>In a Jupyter environment, please rerun this cell to show the HTML representation or trust the notebook. <br />On GitHub, the HTML representation is unable to render, please try loading this page with nbviewer.org.</b></div><div class=\"sk-container\" hidden><div class=\"sk-item sk-dashed-wrapped\"><div class=\"sk-label-container\"><div class=\"sk-label sk-toggleable\"><input class=\"sk-toggleable__control sk-hidden--visually\" id=\"sk-estimator-id-13\" type=\"checkbox\" ><label for=\"sk-estimator-id-13\" class=\"sk-toggleable__label sk-toggleable__label-arrow\">GridSearchCV</label><div class=\"sk-toggleable__content\"><pre>GridSearchCV(cv=2, estimator=RandomForestClassifier(),\n",
       "             param_grid={&#x27;criterion&#x27;: [&#x27;entropy&#x27;], &#x27;max_depth&#x27;: [6, 9, 12],\n",
       "                         &#x27;n_estimators&#x27;: [50, 100, 200], &#x27;random_state&#x27;: [0]},\n",
       "             scoring=&#x27;recall&#x27;)</pre></div></div></div><div class=\"sk-parallel\"><div class=\"sk-parallel-item\"><div class=\"sk-item\"><div class=\"sk-label-container\"><div class=\"sk-label sk-toggleable\"><input class=\"sk-toggleable__control sk-hidden--visually\" id=\"sk-estimator-id-14\" type=\"checkbox\" ><label for=\"sk-estimator-id-14\" class=\"sk-toggleable__label sk-toggleable__label-arrow\">estimator: RandomForestClassifier</label><div class=\"sk-toggleable__content\"><pre>RandomForestClassifier()</pre></div></div></div><div class=\"sk-serial\"><div class=\"sk-item\"><div class=\"sk-estimator sk-toggleable\"><input class=\"sk-toggleable__control sk-hidden--visually\" id=\"sk-estimator-id-15\" type=\"checkbox\" ><label for=\"sk-estimator-id-15\" class=\"sk-toggleable__label sk-toggleable__label-arrow\">RandomForestClassifier</label><div class=\"sk-toggleable__content\"><pre>RandomForestClassifier()</pre></div></div></div></div></div></div></div></div></div></div>"
      ],
      "text/plain": [
       "GridSearchCV(cv=2, estimator=RandomForestClassifier(),\n",
       "             param_grid={'criterion': ['entropy'], 'max_depth': [6, 9, 12],\n",
       "                         'n_estimators': [50, 100, 200], 'random_state': [0]},\n",
       "             scoring='recall')"
      ]
     },
     "execution_count": 178,
     "metadata": {},
     "output_type": "execute_result"
    }
   ],
   "source": [
    "#tunando os hyperparametros com o gridsearch:\n",
    "parametros = {'criterion': ['entropy'], \n",
    "              'n_estimators': [50, 100, 200],\n",
    "              'max_depth': [6, 9, 12],\n",
    "               'random_state': [0]}  \n",
    "\n",
    "grid_rf = GridSearchCV(estimator=RandomForestClassifier(), param_grid=parametros, scoring='recall', cv=2)\n",
    "grid_rf.fit(X_over_train, Y_over_train)"
   ]
  },
  {
   "cell_type": "code",
   "execution_count": null,
   "id": "554ebb33",
   "metadata": {
    "id": "554ebb33",
    "outputId": "7fabca17-af57-46bf-ad1e-d32a43300e57"
   },
   "outputs": [
    {
     "name": "stdout",
     "output_type": "stream",
     "text": [
      "Melhor modelo: RandomForestClassifier(criterion='entropy', max_depth=12, n_estimators=200,\n",
      "                       random_state=0)\n",
      "Best Score: 0.9100629240086487\n"
     ]
    }
   ],
   "source": [
    "print('Melhor modelo: ' + str(grid_rf.best_estimator_))\n",
    "print('Best Score: ' + str(grid_rf.best_score_))"
   ]
  },
  {
   "cell_type": "markdown",
   "id": "cbc35fa3",
   "metadata": {
    "id": "cbc35fa3"
   },
   "source": [
    "#  <a name=\"secao_3\"> Regressão Logística </a>\n",
    "[Voltar ao índice](#indice)\n",
    "\n",
    "Tentando um modelo mais simples para verificar como os dados se comportam. Para isso, será utilizado a regressão logística.\n",
    "\n",
    "Parâmetros utilizados e variados:\n",
    "   - max_iter\n",
    "   - solver\n",
    "   \n",
    "métrica maximizada: recall \n",
    "\n",
    "O melhor modelo, utilizando o GridSearchCV() foi construido usando os seguintes parâmetros:\n",
    "   - max_iter: 1500\n",
    "   - solver: 'lbfgs'\n",
    "   \n",
    "Com o recall sendo igual a:\n",
    "   - recall: 0.8037"
   ]
  },
  {
   "cell_type": "code",
   "execution_count": null,
   "id": "b064831e",
   "metadata": {
    "id": "b064831e"
   },
   "outputs": [],
   "source": [
    "from sklearn.linear_model import LogisticRegression"
   ]
  },
  {
   "cell_type": "code",
   "execution_count": null,
   "id": "186b0486",
   "metadata": {
    "id": "186b0486",
    "outputId": "ac051bd2-da21-4345-be61-ad1ee8d6ff95"
   },
   "outputs": [
    {
     "name": "stderr",
     "output_type": "stream",
     "text": [
      "/opt/anaconda3/lib/python3.9/site-packages/sklearn/linear_model/_logistic.py:444: ConvergenceWarning: lbfgs failed to converge (status=1):\n",
      "STOP: TOTAL NO. of ITERATIONS REACHED LIMIT.\n",
      "\n",
      "Increase the number of iterations (max_iter) or scale the data as shown in:\n",
      "    https://scikit-learn.org/stable/modules/preprocessing.html\n",
      "Please also refer to the documentation for alternative solver options:\n",
      "    https://scikit-learn.org/stable/modules/linear_model.html#logistic-regression\n",
      "  n_iter_i = _check_optimize_result(\n"
     ]
    },
    {
     "data": {
      "text/html": [
       "<style>#sk-container-id-45 {color: black;background-color: white;}#sk-container-id-45 pre{padding: 0;}#sk-container-id-45 div.sk-toggleable {background-color: white;}#sk-container-id-45 label.sk-toggleable__label {cursor: pointer;display: block;width: 100%;margin-bottom: 0;padding: 0.3em;box-sizing: border-box;text-align: center;}#sk-container-id-45 label.sk-toggleable__label-arrow:before {content: \"▸\";float: left;margin-right: 0.25em;color: #696969;}#sk-container-id-45 label.sk-toggleable__label-arrow:hover:before {color: black;}#sk-container-id-45 div.sk-estimator:hover label.sk-toggleable__label-arrow:before {color: black;}#sk-container-id-45 div.sk-toggleable__content {max-height: 0;max-width: 0;overflow: hidden;text-align: left;background-color: #f0f8ff;}#sk-container-id-45 div.sk-toggleable__content pre {margin: 0.2em;color: black;border-radius: 0.25em;background-color: #f0f8ff;}#sk-container-id-45 input.sk-toggleable__control:checked~div.sk-toggleable__content {max-height: 200px;max-width: 100%;overflow: auto;}#sk-container-id-45 input.sk-toggleable__control:checked~label.sk-toggleable__label-arrow:before {content: \"▾\";}#sk-container-id-45 div.sk-estimator input.sk-toggleable__control:checked~label.sk-toggleable__label {background-color: #d4ebff;}#sk-container-id-45 div.sk-label input.sk-toggleable__control:checked~label.sk-toggleable__label {background-color: #d4ebff;}#sk-container-id-45 input.sk-hidden--visually {border: 0;clip: rect(1px 1px 1px 1px);clip: rect(1px, 1px, 1px, 1px);height: 1px;margin: -1px;overflow: hidden;padding: 0;position: absolute;width: 1px;}#sk-container-id-45 div.sk-estimator {font-family: monospace;background-color: #f0f8ff;border: 1px dotted black;border-radius: 0.25em;box-sizing: border-box;margin-bottom: 0.5em;}#sk-container-id-45 div.sk-estimator:hover {background-color: #d4ebff;}#sk-container-id-45 div.sk-parallel-item::after {content: \"\";width: 100%;border-bottom: 1px solid gray;flex-grow: 1;}#sk-container-id-45 div.sk-label:hover label.sk-toggleable__label {background-color: #d4ebff;}#sk-container-id-45 div.sk-serial::before {content: \"\";position: absolute;border-left: 1px solid gray;box-sizing: border-box;top: 0;bottom: 0;left: 50%;z-index: 0;}#sk-container-id-45 div.sk-serial {display: flex;flex-direction: column;align-items: center;background-color: white;padding-right: 0.2em;padding-left: 0.2em;position: relative;}#sk-container-id-45 div.sk-item {position: relative;z-index: 1;}#sk-container-id-45 div.sk-parallel {display: flex;align-items: stretch;justify-content: center;background-color: white;position: relative;}#sk-container-id-45 div.sk-item::before, #sk-container-id-45 div.sk-parallel-item::before {content: \"\";position: absolute;border-left: 1px solid gray;box-sizing: border-box;top: 0;bottom: 0;left: 50%;z-index: -1;}#sk-container-id-45 div.sk-parallel-item {display: flex;flex-direction: column;z-index: 1;position: relative;background-color: white;}#sk-container-id-45 div.sk-parallel-item:first-child::after {align-self: flex-end;width: 50%;}#sk-container-id-45 div.sk-parallel-item:last-child::after {align-self: flex-start;width: 50%;}#sk-container-id-45 div.sk-parallel-item:only-child::after {width: 0;}#sk-container-id-45 div.sk-dashed-wrapped {border: 1px dashed gray;margin: 0 0.4em 0.5em 0.4em;box-sizing: border-box;padding-bottom: 0.4em;background-color: white;}#sk-container-id-45 div.sk-label label {font-family: monospace;font-weight: bold;display: inline-block;line-height: 1.2em;}#sk-container-id-45 div.sk-label-container {text-align: center;}#sk-container-id-45 div.sk-container {/* jupyter's `normalize.less` sets `[hidden] { display: none; }` but bootstrap.min.css set `[hidden] { display: none !important; }` so we also need the `!important` here to be able to override the default hidden behavior on the sphinx rendered scikit-learn.org. See: https://github.com/scikit-learn/scikit-learn/issues/21755 */display: inline-block !important;position: relative;}#sk-container-id-45 div.sk-text-repr-fallback {display: none;}</style><div id=\"sk-container-id-45\" class=\"sk-top-container\"><div class=\"sk-text-repr-fallback\"><pre>LogisticRegression(max_iter=1500, random_state=0)</pre><b>In a Jupyter environment, please rerun this cell to show the HTML representation or trust the notebook. <br />On GitHub, the HTML representation is unable to render, please try loading this page with nbviewer.org.</b></div><div class=\"sk-container\" hidden><div class=\"sk-item\"><div class=\"sk-estimator sk-toggleable\"><input class=\"sk-toggleable__control sk-hidden--visually\" id=\"sk-estimator-id-57\" type=\"checkbox\" checked><label for=\"sk-estimator-id-57\" class=\"sk-toggleable__label sk-toggleable__label-arrow\">LogisticRegression</label><div class=\"sk-toggleable__content\"><pre>LogisticRegression(max_iter=1500, random_state=0)</pre></div></div></div></div></div>"
      ],
      "text/plain": [
       "LogisticRegression(max_iter=1500, random_state=0)"
      ]
     },
     "execution_count": 396,
     "metadata": {},
     "output_type": "execute_result"
    }
   ],
   "source": [
    "logistic_regression = LogisticRegression(max_iter=1500, random_state = 0)\n",
    "logistic_regression.fit(X_over_train, Y_over_train)"
   ]
  },
  {
   "cell_type": "code",
   "execution_count": null,
   "id": "1d871123",
   "metadata": {
    "id": "1d871123"
   },
   "outputs": [],
   "source": [
    "#logistic_regression.coef_"
   ]
  },
  {
   "cell_type": "code",
   "execution_count": null,
   "id": "73553c60",
   "metadata": {
    "id": "73553c60",
    "outputId": "b3cb86fd-fadf-4a56-dcb4-a6b625cc5afc"
   },
   "outputs": [
    {
     "data": {
      "text/plain": [
       "0.8037635902280009"
      ]
     },
     "execution_count": 397,
     "metadata": {},
     "output_type": "execute_result"
    }
   ],
   "source": [
    "previsoes_logistic = logistic_regression.predict(X_over_validacao)\n",
    "recall_score(Y_over_validacao, previsoes_logistic)"
   ]
  },
  {
   "cell_type": "code",
   "execution_count": null,
   "id": "a0e127ee",
   "metadata": {
    "id": "a0e127ee",
    "outputId": "ef4a474d-1fc2-4906-e8cb-08f5ef520e74"
   },
   "outputs": [
    {
     "data": {
      "text/plain": [
       "0.8038098942416328"
      ]
     },
     "execution_count": 398,
     "metadata": {},
     "output_type": "execute_result"
    },
    {
     "data": {
      "image/png": "[encoded data removed]",
      "text/plain": [
       "<Figure size 576x396 with 1 Axes>"
      ]
     },
     "metadata": {},
     "output_type": "display_data"
    }
   ],
   "source": [
    "matriz_confusao_logistic = ConfusionMatrix(logistic_regression, cmap='GnBu')\n",
    "matriz_confusao_logistic.fit(X_over_train, Y_over_train)\n",
    "matriz_confusao_logistic.score(X_over_validacao, Y_over_validacao)"
   ]
  },
  {
   "cell_type": "code",
   "execution_count": null,
   "id": "f4992fba",
   "metadata": {
    "id": "f4992fba",
    "outputId": "ba8fa181-028f-4c29-894c-1f7756a991eb"
   },
   "outputs": [
    {
     "name": "stdout",
     "output_type": "stream",
     "text": [
      "              precision    recall  f1-score   support\n",
      "\n",
      "           0       0.80      0.80      0.80     53991\n",
      "           1       0.80      0.80      0.80     53991\n",
      "\n",
      "    accuracy                           0.80    107982\n",
      "   macro avg       0.80      0.80      0.80    107982\n",
      "weighted avg       0.80      0.80      0.80    107982\n",
      "\n"
     ]
    }
   ],
   "source": [
    "print(classification_report(Y_over_validacao, previsoes_logistic))"
   ]
  },
  {
   "cell_type": "code",
   "execution_count": null,
   "id": "9fb7cc65",
   "metadata": {
    "id": "9fb7cc65",
    "outputId": "bb92e437-e272-4a02-fae0-dd380966eefb"
   },
   "outputs": [
    {
     "data": {
      "image/png": "[encoded data removed]",
      "text/plain": [
       "<Figure size 576x396 with 1 Axes>"
      ]
     },
     "metadata": {},
     "output_type": "display_data"
    }
   ],
   "source": [
    "roc_logistic = plot_roc_curve(Y_over_validacao, previsoes_logistic, 'Logistic Regression')"
   ]
  },
  {
   "cell_type": "code",
   "execution_count": null,
   "id": "bc05cdf8",
   "metadata": {
    "id": "bc05cdf8",
    "outputId": "65fa2673-18c5-4bf5-e65c-df1251a05e13"
   },
   "outputs": [
    {
     "name": "stderr",
     "output_type": "stream",
     "text": [
      "/opt/anaconda3/lib/python3.9/site-packages/sklearn/linear_model/_logistic.py:444: ConvergenceWarning: lbfgs failed to converge (status=1):\n",
      "STOP: TOTAL NO. of ITERATIONS REACHED LIMIT.\n",
      "\n",
      "Increase the number of iterations (max_iter) or scale the data as shown in:\n",
      "    https://scikit-learn.org/stable/modules/preprocessing.html\n",
      "Please also refer to the documentation for alternative solver options:\n",
      "    https://scikit-learn.org/stable/modules/linear_model.html#logistic-regression\n",
      "  n_iter_i = _check_optimize_result(\n",
      "/opt/anaconda3/lib/python3.9/site-packages/sklearn/linear_model/_logistic.py:444: ConvergenceWarning: lbfgs failed to converge (status=1):\n",
      "STOP: TOTAL NO. of ITERATIONS REACHED LIMIT.\n",
      "\n",
      "Increase the number of iterations (max_iter) or scale the data as shown in:\n",
      "    https://scikit-learn.org/stable/modules/preprocessing.html\n",
      "Please also refer to the documentation for alternative solver options:\n",
      "    https://scikit-learn.org/stable/modules/linear_model.html#logistic-regression\n",
      "  n_iter_i = _check_optimize_result(\n",
      "/opt/anaconda3/lib/python3.9/site-packages/sklearn/linear_model/_sag.py:350: ConvergenceWarning: The max_iter was reached which means the coef_ did not converge\n",
      "  warnings.warn(\n",
      "/opt/anaconda3/lib/python3.9/site-packages/sklearn/linear_model/_sag.py:350: ConvergenceWarning: The max_iter was reached which means the coef_ did not converge\n",
      "  warnings.warn(\n",
      "/opt/anaconda3/lib/python3.9/site-packages/sklearn/linear_model/_logistic.py:444: ConvergenceWarning: lbfgs failed to converge (status=1):\n",
      "STOP: TOTAL NO. of ITERATIONS REACHED LIMIT.\n",
      "\n",
      "Increase the number of iterations (max_iter) or scale the data as shown in:\n",
      "    https://scikit-learn.org/stable/modules/preprocessing.html\n",
      "Please also refer to the documentation for alternative solver options:\n",
      "    https://scikit-learn.org/stable/modules/linear_model.html#logistic-regression\n",
      "  n_iter_i = _check_optimize_result(\n",
      "/opt/anaconda3/lib/python3.9/site-packages/sklearn/linear_model/_logistic.py:444: ConvergenceWarning: lbfgs failed to converge (status=1):\n",
      "STOP: TOTAL NO. of ITERATIONS REACHED LIMIT.\n",
      "\n",
      "Increase the number of iterations (max_iter) or scale the data as shown in:\n",
      "    https://scikit-learn.org/stable/modules/preprocessing.html\n",
      "Please also refer to the documentation for alternative solver options:\n",
      "    https://scikit-learn.org/stable/modules/linear_model.html#logistic-regression\n",
      "  n_iter_i = _check_optimize_result(\n",
      "/opt/anaconda3/lib/python3.9/site-packages/sklearn/linear_model/_sag.py:350: ConvergenceWarning: The max_iter was reached which means the coef_ did not converge\n",
      "  warnings.warn(\n",
      "/opt/anaconda3/lib/python3.9/site-packages/sklearn/linear_model/_sag.py:350: ConvergenceWarning: The max_iter was reached which means the coef_ did not converge\n",
      "  warnings.warn(\n",
      "/opt/anaconda3/lib/python3.9/site-packages/sklearn/linear_model/_logistic.py:444: ConvergenceWarning: lbfgs failed to converge (status=1):\n",
      "STOP: TOTAL NO. of ITERATIONS REACHED LIMIT.\n",
      "\n",
      "Increase the number of iterations (max_iter) or scale the data as shown in:\n",
      "    https://scikit-learn.org/stable/modules/preprocessing.html\n",
      "Please also refer to the documentation for alternative solver options:\n",
      "    https://scikit-learn.org/stable/modules/linear_model.html#logistic-regression\n",
      "  n_iter_i = _check_optimize_result(\n",
      "/opt/anaconda3/lib/python3.9/site-packages/sklearn/linear_model/_logistic.py:444: ConvergenceWarning: lbfgs failed to converge (status=1):\n",
      "STOP: TOTAL NO. of ITERATIONS REACHED LIMIT.\n",
      "\n",
      "Increase the number of iterations (max_iter) or scale the data as shown in:\n",
      "    https://scikit-learn.org/stable/modules/preprocessing.html\n",
      "Please also refer to the documentation for alternative solver options:\n",
      "    https://scikit-learn.org/stable/modules/linear_model.html#logistic-regression\n",
      "  n_iter_i = _check_optimize_result(\n",
      "/opt/anaconda3/lib/python3.9/site-packages/sklearn/linear_model/_sag.py:350: ConvergenceWarning: The max_iter was reached which means the coef_ did not converge\n",
      "  warnings.warn(\n",
      "/opt/anaconda3/lib/python3.9/site-packages/sklearn/linear_model/_sag.py:350: ConvergenceWarning: The max_iter was reached which means the coef_ did not converge\n",
      "  warnings.warn(\n",
      "/opt/anaconda3/lib/python3.9/site-packages/sklearn/linear_model/_logistic.py:444: ConvergenceWarning: lbfgs failed to converge (status=1):\n",
      "STOP: TOTAL NO. of ITERATIONS REACHED LIMIT.\n",
      "\n",
      "Increase the number of iterations (max_iter) or scale the data as shown in:\n",
      "    https://scikit-learn.org/stable/modules/preprocessing.html\n",
      "Please also refer to the documentation for alternative solver options:\n",
      "    https://scikit-learn.org/stable/modules/linear_model.html#logistic-regression\n",
      "  n_iter_i = _check_optimize_result(\n",
      "/opt/anaconda3/lib/python3.9/site-packages/sklearn/linear_model/_logistic.py:444: ConvergenceWarning: lbfgs failed to converge (status=1):\n",
      "STOP: TOTAL NO. of ITERATIONS REACHED LIMIT.\n",
      "\n",
      "Increase the number of iterations (max_iter) or scale the data as shown in:\n",
      "    https://scikit-learn.org/stable/modules/preprocessing.html\n",
      "Please also refer to the documentation for alternative solver options:\n",
      "    https://scikit-learn.org/stable/modules/linear_model.html#logistic-regression\n",
      "  n_iter_i = _check_optimize_result(\n",
      "/opt/anaconda3/lib/python3.9/site-packages/sklearn/linear_model/_sag.py:350: ConvergenceWarning: The max_iter was reached which means the coef_ did not converge\n",
      "  warnings.warn(\n",
      "/opt/anaconda3/lib/python3.9/site-packages/sklearn/linear_model/_sag.py:350: ConvergenceWarning: The max_iter was reached which means the coef_ did not converge\n",
      "  warnings.warn(\n",
      "/opt/anaconda3/lib/python3.9/site-packages/sklearn/linear_model/_logistic.py:444: ConvergenceWarning: lbfgs failed to converge (status=1):\n",
      "STOP: TOTAL NO. of ITERATIONS REACHED LIMIT.\n",
      "\n",
      "Increase the number of iterations (max_iter) or scale the data as shown in:\n",
      "    https://scikit-learn.org/stable/modules/preprocessing.html\n",
      "Please also refer to the documentation for alternative solver options:\n",
      "    https://scikit-learn.org/stable/modules/linear_model.html#logistic-regression\n",
      "  n_iter_i = _check_optimize_result(\n",
      "/opt/anaconda3/lib/python3.9/site-packages/sklearn/linear_model/_logistic.py:444: ConvergenceWarning: lbfgs failed to converge (status=1):\n",
      "STOP: TOTAL NO. of ITERATIONS REACHED LIMIT.\n",
      "\n",
      "Increase the number of iterations (max_iter) or scale the data as shown in:\n",
      "    https://scikit-learn.org/stable/modules/preprocessing.html\n",
      "Please also refer to the documentation for alternative solver options:\n",
      "    https://scikit-learn.org/stable/modules/linear_model.html#logistic-regression\n",
      "  n_iter_i = _check_optimize_result(\n",
      "/opt/anaconda3/lib/python3.9/site-packages/sklearn/linear_model/_sag.py:350: ConvergenceWarning: The max_iter was reached which means the coef_ did not converge\n",
      "  warnings.warn(\n",
      "/opt/anaconda3/lib/python3.9/site-packages/sklearn/linear_model/_sag.py:350: ConvergenceWarning: The max_iter was reached which means the coef_ did not converge\n",
      "  warnings.warn(\n",
      "/opt/anaconda3/lib/python3.9/site-packages/sklearn/linear_model/_logistic.py:444: ConvergenceWarning: lbfgs failed to converge (status=1):\n",
      "STOP: TOTAL NO. of ITERATIONS REACHED LIMIT.\n",
      "\n",
      "Increase the number of iterations (max_iter) or scale the data as shown in:\n",
      "    https://scikit-learn.org/stable/modules/preprocessing.html\n",
      "Please also refer to the documentation for alternative solver options:\n",
      "    https://scikit-learn.org/stable/modules/linear_model.html#logistic-regression\n",
      "  n_iter_i = _check_optimize_result(\n"
     ]
    },
    {
     "data": {
      "text/html": [
       "<style>#sk-container-id-41 {color: black;background-color: white;}#sk-container-id-41 pre{padding: 0;}#sk-container-id-41 div.sk-toggleable {background-color: white;}#sk-container-id-41 label.sk-toggleable__label {cursor: pointer;display: block;width: 100%;margin-bottom: 0;padding: 0.3em;box-sizing: border-box;text-align: center;}#sk-container-id-41 label.sk-toggleable__label-arrow:before {content: \"▸\";float: left;margin-right: 0.25em;color: #696969;}#sk-container-id-41 label.sk-toggleable__label-arrow:hover:before {color: black;}#sk-container-id-41 div.sk-estimator:hover label.sk-toggleable__label-arrow:before {color: black;}#sk-container-id-41 div.sk-toggleable__content {max-height: 0;max-width: 0;overflow: hidden;text-align: left;background-color: #f0f8ff;}#sk-container-id-41 div.sk-toggleable__content pre {margin: 0.2em;color: black;border-radius: 0.25em;background-color: #f0f8ff;}#sk-container-id-41 input.sk-toggleable__control:checked~div.sk-toggleable__content {max-height: 200px;max-width: 100%;overflow: auto;}#sk-container-id-41 input.sk-toggleable__control:checked~label.sk-toggleable__label-arrow:before {content: \"▾\";}#sk-container-id-41 div.sk-estimator input.sk-toggleable__control:checked~label.sk-toggleable__label {background-color: #d4ebff;}#sk-container-id-41 div.sk-label input.sk-toggleable__control:checked~label.sk-toggleable__label {background-color: #d4ebff;}#sk-container-id-41 input.sk-hidden--visually {border: 0;clip: rect(1px 1px 1px 1px);clip: rect(1px, 1px, 1px, 1px);height: 1px;margin: -1px;overflow: hidden;padding: 0;position: absolute;width: 1px;}#sk-container-id-41 div.sk-estimator {font-family: monospace;background-color: #f0f8ff;border: 1px dotted black;border-radius: 0.25em;box-sizing: border-box;margin-bottom: 0.5em;}#sk-container-id-41 div.sk-estimator:hover {background-color: #d4ebff;}#sk-container-id-41 div.sk-parallel-item::after {content: \"\";width: 100%;border-bottom: 1px solid gray;flex-grow: 1;}#sk-container-id-41 div.sk-label:hover label.sk-toggleable__label {background-color: #d4ebff;}#sk-container-id-41 div.sk-serial::before {content: \"\";position: absolute;border-left: 1px solid gray;box-sizing: border-box;top: 0;bottom: 0;left: 50%;z-index: 0;}#sk-container-id-41 div.sk-serial {display: flex;flex-direction: column;align-items: center;background-color: white;padding-right: 0.2em;padding-left: 0.2em;position: relative;}#sk-container-id-41 div.sk-item {position: relative;z-index: 1;}#sk-container-id-41 div.sk-parallel {display: flex;align-items: stretch;justify-content: center;background-color: white;position: relative;}#sk-container-id-41 div.sk-item::before, #sk-container-id-41 div.sk-parallel-item::before {content: \"\";position: absolute;border-left: 1px solid gray;box-sizing: border-box;top: 0;bottom: 0;left: 50%;z-index: -1;}#sk-container-id-41 div.sk-parallel-item {display: flex;flex-direction: column;z-index: 1;position: relative;background-color: white;}#sk-container-id-41 div.sk-parallel-item:first-child::after {align-self: flex-end;width: 50%;}#sk-container-id-41 div.sk-parallel-item:last-child::after {align-self: flex-start;width: 50%;}#sk-container-id-41 div.sk-parallel-item:only-child::after {width: 0;}#sk-container-id-41 div.sk-dashed-wrapped {border: 1px dashed gray;margin: 0 0.4em 0.5em 0.4em;box-sizing: border-box;padding-bottom: 0.4em;background-color: white;}#sk-container-id-41 div.sk-label label {font-family: monospace;font-weight: bold;display: inline-block;line-height: 1.2em;}#sk-container-id-41 div.sk-label-container {text-align: center;}#sk-container-id-41 div.sk-container {/* jupyter's `normalize.less` sets `[hidden] { display: none; }` but bootstrap.min.css set `[hidden] { display: none !important; }` so we also need the `!important` here to be able to override the default hidden behavior on the sphinx rendered scikit-learn.org. See: https://github.com/scikit-learn/scikit-learn/issues/21755 */display: inline-block !important;position: relative;}#sk-container-id-41 div.sk-text-repr-fallback {display: none;}</style><div id=\"sk-container-id-41\" class=\"sk-top-container\"><div class=\"sk-text-repr-fallback\"><pre>GridSearchCV(cv=2, estimator=LogisticRegression(),\n",
       "             param_grid={&#x27;max_iter&#x27;: [100, 300, 500, 1000, 1500],\n",
       "                         &#x27;solver&#x27;: [&#x27;lbfgs&#x27;, &#x27;saga&#x27;]},\n",
       "             scoring=&#x27;recall&#x27;)</pre><b>In a Jupyter environment, please rerun this cell to show the HTML representation or trust the notebook. <br />On GitHub, the HTML representation is unable to render, please try loading this page with nbviewer.org.</b></div><div class=\"sk-container\" hidden><div class=\"sk-item sk-dashed-wrapped\"><div class=\"sk-label-container\"><div class=\"sk-label sk-toggleable\"><input class=\"sk-toggleable__control sk-hidden--visually\" id=\"sk-estimator-id-51\" type=\"checkbox\" ><label for=\"sk-estimator-id-51\" class=\"sk-toggleable__label sk-toggleable__label-arrow\">GridSearchCV</label><div class=\"sk-toggleable__content\"><pre>GridSearchCV(cv=2, estimator=LogisticRegression(),\n",
       "             param_grid={&#x27;max_iter&#x27;: [100, 300, 500, 1000, 1500],\n",
       "                         &#x27;solver&#x27;: [&#x27;lbfgs&#x27;, &#x27;saga&#x27;]},\n",
       "             scoring=&#x27;recall&#x27;)</pre></div></div></div><div class=\"sk-parallel\"><div class=\"sk-parallel-item\"><div class=\"sk-item\"><div class=\"sk-label-container\"><div class=\"sk-label sk-toggleable\"><input class=\"sk-toggleable__control sk-hidden--visually\" id=\"sk-estimator-id-52\" type=\"checkbox\" ><label for=\"sk-estimator-id-52\" class=\"sk-toggleable__label sk-toggleable__label-arrow\">estimator: LogisticRegression</label><div class=\"sk-toggleable__content\"><pre>LogisticRegression()</pre></div></div></div><div class=\"sk-serial\"><div class=\"sk-item\"><div class=\"sk-estimator sk-toggleable\"><input class=\"sk-toggleable__control sk-hidden--visually\" id=\"sk-estimator-id-53\" type=\"checkbox\" ><label for=\"sk-estimator-id-53\" class=\"sk-toggleable__label sk-toggleable__label-arrow\">LogisticRegression</label><div class=\"sk-toggleable__content\"><pre>LogisticRegression()</pre></div></div></div></div></div></div></div></div></div></div>"
      ],
      "text/plain": [
       "GridSearchCV(cv=2, estimator=LogisticRegression(),\n",
       "             param_grid={'max_iter': [100, 300, 500, 1000, 1500],\n",
       "                         'solver': ['lbfgs', 'saga']},\n",
       "             scoring='recall')"
      ]
     },
     "execution_count": 386,
     "metadata": {},
     "output_type": "execute_result"
    }
   ],
   "source": [
    "#tunando os hiperparametros da logistic regression com o GridSearchCV()\n",
    "parametros_logistic = {'max_iter': [100, 300, 500, 1000, 1500],\n",
    "                   'solver': ['lbfgs', 'saga'],\n",
    "               }  \n",
    "\n",
    "grid_logistic= GridSearchCV(estimator=LogisticRegression(), param_grid=parametros_logistic, cv=2, scoring='recall', verbose=0)\n",
    "grid_logistic.fit(X_over_train, Y_over_train)"
   ]
  },
  {
   "cell_type": "code",
   "execution_count": null,
   "id": "e95de529",
   "metadata": {
    "id": "e95de529",
    "outputId": "7850a538-58c9-450f-9a39-fd6e3c2c2d81"
   },
   "outputs": [
    {
     "name": "stdout",
     "output_type": "stream",
     "text": [
      "Melhor modelo: LogisticRegression(max_iter=1500)\n",
      "Best Score: 0.822676229584365\n"
     ]
    }
   ],
   "source": [
    "print('Melhor modelo: ' + str(grid_logistic.best_estimator_))\n",
    "print('Best Score: ' + str(grid_logistic.best_score_))"
   ]
  },
  {
   "cell_type": "markdown",
   "id": "389722b4",
   "metadata": {
    "id": "389722b4"
   },
   "source": [
    "#  <a name=\"secao_4\"> GBDT - XGBOOST </a>\n",
    "[Voltar ao índice](#indice)\n",
    "\n",
    "Utilizando a GBDT, um algoritmo mais avançado, em que teremos um ensemble de decisions trees trabalhando de forma sequencial. A GBDT aqui é implementada pela biblioteca XGBoost.\n",
    "\n",
    "Parâmetros utilizados e variados:\n",
    "   - n_estimator\n",
    "   - max_depth\n",
    "   - learning_rate\n",
    "\n",
    "métrica maximizada: recall \n",
    "\n",
    "O melhor modelo, utilizando o GridSearchCV() foi construido usando os seguintes parâmetros:\n",
    "   - n_estimator: 200\n",
    "   - max_depth: 9\n",
    "   - learning_rate: 0.3 \n",
    "   \n",
    "Com o recall sendo igual a:\n",
    "   - recall: 0.7417\n",
    "\n",
    "Entretanto, este modelo overfitou, assim, os parâmetros foram atualizados e adicionou-se um parâmetro de regularização (L2 - reg_gamma). De forma, que obteve-se o resultado:\n",
    "   - n_estimator: 500\n",
    "   - max_depth: 4\n",
    "   - learning_rate: 0.1 \n",
    "   \n",
    "Com o recall sendo igual a:\n",
    "   - recall: 0.8284"
   ]
  },
  {
   "cell_type": "code",
   "execution_count": null,
   "id": "c1d46370",
   "metadata": {
    "id": "c1d46370"
   },
   "outputs": [],
   "source": [
    "import xgboost as xgb\n",
    "import xgboost as get_score\n",
    "from sklearn.metrics import log_loss"
   ]
  },
  {
   "cell_type": "code",
   "execution_count": null,
   "id": "e7b23d27",
   "metadata": {
    "id": "e7b23d27",
    "outputId": "7ec8b497-313b-4450-919c-576eb0000433"
   },
   "outputs": [
    {
     "name": "stderr",
     "output_type": "stream",
     "text": [
      "/opt/anaconda3/lib/python3.9/site-packages/xgboost/sklearn.py:1224: UserWarning: The use of label encoder in XGBClassifier is deprecated and will be removed in a future release. To remove this warning, do the following: 1) Pass option use_label_encoder=False when constructing XGBClassifier object; and 2) Encode your labels (y) as integers starting with 0, i.e. 0, 1, 2, ..., [num_class - 1].\n",
      "  warnings.warn(label_encoder_deprecation_msg, UserWarning)\n"
     ]
    },
    {
     "name": "stdout",
     "output_type": "stream",
     "text": [
      "[0]\tvalidation_0-logloss:0.68671\tvalidation_1-logloss:0.68794\n",
      "[1]\tvalidation_0-logloss:0.68066\tvalidation_1-logloss:0.68250\n",
      "[2]\tvalidation_0-logloss:0.67515\tvalidation_1-logloss:0.67745\n",
      "[3]\tvalidation_0-logloss:0.66981\tvalidation_1-logloss:0.67254\n",
      "[4]\tvalidation_0-logloss:0.66450\tvalidation_1-logloss:0.66773\n",
      "[5]\tvalidation_0-logloss:0.65940\tvalidation_1-logloss:0.66315\n",
      "[6]\tvalidation_0-logloss:0.65455\tvalidation_1-logloss:0.65895\n",
      "[7]\tvalidation_0-logloss:0.64976\tvalidation_1-logloss:0.65468\n",
      "[8]\tvalidation_0-logloss:0.64507\tvalidation_1-logloss:0.65065\n",
      "[9]\tvalidation_0-logloss:0.64058\tvalidation_1-logloss:0.64659\n",
      "[10]\tvalidation_0-logloss:0.63626\tvalidation_1-logloss:0.64271\n",
      "[11]\tvalidation_0-logloss:0.63185\tvalidation_1-logloss:0.63868\n",
      "[12]\tvalidation_0-logloss:0.62769\tvalidation_1-logloss:0.63499\n",
      "[13]\tvalidation_0-logloss:0.62353\tvalidation_1-logloss:0.63112\n",
      "[14]\tvalidation_0-logloss:0.61947\tvalidation_1-logloss:0.62727\n",
      "[15]\tvalidation_0-logloss:0.61559\tvalidation_1-logloss:0.62375\n",
      "[16]\tvalidation_0-logloss:0.61180\tvalidation_1-logloss:0.62028\n",
      "[17]\tvalidation_0-logloss:0.60785\tvalidation_1-logloss:0.61662\n",
      "[18]\tvalidation_0-logloss:0.60416\tvalidation_1-logloss:0.61361\n",
      "[19]\tvalidation_0-logloss:0.60053\tvalidation_1-logloss:0.61033\n",
      "[20]\tvalidation_0-logloss:0.59700\tvalidation_1-logloss:0.60712\n",
      "[21]\tvalidation_0-logloss:0.59332\tvalidation_1-logloss:0.60405\n",
      "[22]\tvalidation_0-logloss:0.58993\tvalidation_1-logloss:0.60086\n",
      "[23]\tvalidation_0-logloss:0.58641\tvalidation_1-logloss:0.59821\n",
      "[24]\tvalidation_0-logloss:0.58308\tvalidation_1-logloss:0.59527\n",
      "[25]\tvalidation_0-logloss:0.57978\tvalidation_1-logloss:0.59213\n",
      "[26]\tvalidation_0-logloss:0.57651\tvalidation_1-logloss:0.58939\n",
      "[27]\tvalidation_0-logloss:0.57333\tvalidation_1-logloss:0.58641\n",
      "[28]\tvalidation_0-logloss:0.57028\tvalidation_1-logloss:0.58375\n",
      "[29]\tvalidation_0-logloss:0.56718\tvalidation_1-logloss:0.58099\n",
      "[30]\tvalidation_0-logloss:0.56421\tvalidation_1-logloss:0.57831\n",
      "[31]\tvalidation_0-logloss:0.56122\tvalidation_1-logloss:0.57570\n",
      "[32]\tvalidation_0-logloss:0.55831\tvalidation_1-logloss:0.57297\n",
      "[33]\tvalidation_0-logloss:0.55545\tvalidation_1-logloss:0.57037\n",
      "[34]\tvalidation_0-logloss:0.55263\tvalidation_1-logloss:0.56786\n",
      "[35]\tvalidation_0-logloss:0.54986\tvalidation_1-logloss:0.56540\n",
      "[36]\tvalidation_0-logloss:0.54710\tvalidation_1-logloss:0.56289\n",
      "[37]\tvalidation_0-logloss:0.54446\tvalidation_1-logloss:0.56060\n",
      "[38]\tvalidation_0-logloss:0.54181\tvalidation_1-logloss:0.55837\n",
      "[39]\tvalidation_0-logloss:0.53928\tvalidation_1-logloss:0.55644\n",
      "[40]\tvalidation_0-logloss:0.53670\tvalidation_1-logloss:0.55418\n",
      "[41]\tvalidation_0-logloss:0.53418\tvalidation_1-logloss:0.55225\n",
      "[42]\tvalidation_0-logloss:0.53167\tvalidation_1-logloss:0.54997\n",
      "[43]\tvalidation_0-logloss:0.52921\tvalidation_1-logloss:0.54762\n",
      "[44]\tvalidation_0-logloss:0.52685\tvalidation_1-logloss:0.54536\n",
      "[45]\tvalidation_0-logloss:0.52442\tvalidation_1-logloss:0.54323\n",
      "[46]\tvalidation_0-logloss:0.52207\tvalidation_1-logloss:0.54116\n",
      "[47]\tvalidation_0-logloss:0.51968\tvalidation_1-logloss:0.53897\n",
      "[48]\tvalidation_0-logloss:0.51737\tvalidation_1-logloss:0.53687\n",
      "[49]\tvalidation_0-logloss:0.51502\tvalidation_1-logloss:0.53476\n",
      "[50]\tvalidation_0-logloss:0.51273\tvalidation_1-logloss:0.53272\n",
      "[51]\tvalidation_0-logloss:0.51046\tvalidation_1-logloss:0.53072\n",
      "[52]\tvalidation_0-logloss:0.50826\tvalidation_1-logloss:0.52881\n",
      "[53]\tvalidation_0-logloss:0.50604\tvalidation_1-logloss:0.52692\n",
      "[54]\tvalidation_0-logloss:0.50380\tvalidation_1-logloss:0.52490\n",
      "[55]\tvalidation_0-logloss:0.50156\tvalidation_1-logloss:0.52292\n",
      "[56]\tvalidation_0-logloss:0.49946\tvalidation_1-logloss:0.52113\n",
      "[57]\tvalidation_0-logloss:0.49739\tvalidation_1-logloss:0.51934\n",
      "[58]\tvalidation_0-logloss:0.49540\tvalidation_1-logloss:0.51741\n",
      "[59]\tvalidation_0-logloss:0.49338\tvalidation_1-logloss:0.51570\n",
      "[60]\tvalidation_0-logloss:0.49140\tvalidation_1-logloss:0.51401\n",
      "[61]\tvalidation_0-logloss:0.48942\tvalidation_1-logloss:0.51220\n",
      "[62]\tvalidation_0-logloss:0.48751\tvalidation_1-logloss:0.51057\n",
      "[63]\tvalidation_0-logloss:0.48555\tvalidation_1-logloss:0.50870\n",
      "[64]\tvalidation_0-logloss:0.48366\tvalidation_1-logloss:0.50711\n",
      "[65]\tvalidation_0-logloss:0.48168\tvalidation_1-logloss:0.50561\n",
      "[66]\tvalidation_0-logloss:0.47982\tvalidation_1-logloss:0.50394\n",
      "[67]\tvalidation_0-logloss:0.47799\tvalidation_1-logloss:0.50246\n",
      "[68]\tvalidation_0-logloss:0.47608\tvalidation_1-logloss:0.50086\n",
      "[69]\tvalidation_0-logloss:0.47421\tvalidation_1-logloss:0.49912\n",
      "[70]\tvalidation_0-logloss:0.47243\tvalidation_1-logloss:0.49750\n",
      "[71]\tvalidation_0-logloss:0.47062\tvalidation_1-logloss:0.49593\n",
      "[72]\tvalidation_0-logloss:0.46878\tvalidation_1-logloss:0.49436\n",
      "[73]\tvalidation_0-logloss:0.46702\tvalidation_1-logloss:0.49289\n",
      "[74]\tvalidation_0-logloss:0.46520\tvalidation_1-logloss:0.49130\n",
      "[75]\tvalidation_0-logloss:0.46346\tvalidation_1-logloss:0.48998\n",
      "[76]\tvalidation_0-logloss:0.46179\tvalidation_1-logloss:0.48853\n",
      "[77]\tvalidation_0-logloss:0.46016\tvalidation_1-logloss:0.48711\n",
      "[78]\tvalidation_0-logloss:0.45844\tvalidation_1-logloss:0.48564\n",
      "[79]\tvalidation_0-logloss:0.45679\tvalidation_1-logloss:0.48423\n",
      "[80]\tvalidation_0-logloss:0.45523\tvalidation_1-logloss:0.48303\n",
      "[81]\tvalidation_0-logloss:0.45360\tvalidation_1-logloss:0.48159\n",
      "[82]\tvalidation_0-logloss:0.45202\tvalidation_1-logloss:0.48040\n",
      "[83]\tvalidation_0-logloss:0.45040\tvalidation_1-logloss:0.47896\n",
      "[84]\tvalidation_0-logloss:0.44881\tvalidation_1-logloss:0.47788\n",
      "[85]\tvalidation_0-logloss:0.44724\tvalidation_1-logloss:0.47661\n",
      "[86]\tvalidation_0-logloss:0.44572\tvalidation_1-logloss:0.47558\n",
      "[87]\tvalidation_0-logloss:0.44415\tvalidation_1-logloss:0.47430\n",
      "[88]\tvalidation_0-logloss:0.44260\tvalidation_1-logloss:0.47302\n",
      "[89]\tvalidation_0-logloss:0.44117\tvalidation_1-logloss:0.47167\n",
      "[90]\tvalidation_0-logloss:0.43972\tvalidation_1-logloss:0.47046\n",
      "[91]\tvalidation_0-logloss:0.43822\tvalidation_1-logloss:0.46917\n",
      "[92]\tvalidation_0-logloss:0.43673\tvalidation_1-logloss:0.46795\n",
      "[93]\tvalidation_0-logloss:0.43537\tvalidation_1-logloss:0.46672\n",
      "[94]\tvalidation_0-logloss:0.43394\tvalidation_1-logloss:0.46549\n",
      "[95]\tvalidation_0-logloss:0.43241\tvalidation_1-logloss:0.46414\n",
      "[96]\tvalidation_0-logloss:0.43103\tvalidation_1-logloss:0.46285\n",
      "[97]\tvalidation_0-logloss:0.42970\tvalidation_1-logloss:0.46180\n",
      "[98]\tvalidation_0-logloss:0.42833\tvalidation_1-logloss:0.46059\n",
      "[99]\tvalidation_0-logloss:0.42701\tvalidation_1-logloss:0.45930\n",
      "[100]\tvalidation_0-logloss:0.42562\tvalidation_1-logloss:0.45833\n",
      "[101]\tvalidation_0-logloss:0.42433\tvalidation_1-logloss:0.45712\n",
      "[102]\tvalidation_0-logloss:0.42304\tvalidation_1-logloss:0.45617\n",
      "[103]\tvalidation_0-logloss:0.42174\tvalidation_1-logloss:0.45506\n",
      "[104]\tvalidation_0-logloss:0.42046\tvalidation_1-logloss:0.45404\n",
      "[105]\tvalidation_0-logloss:0.41921\tvalidation_1-logloss:0.45301\n",
      "[106]\tvalidation_0-logloss:0.41796\tvalidation_1-logloss:0.45198\n",
      "[107]\tvalidation_0-logloss:0.41675\tvalidation_1-logloss:0.45084\n",
      "[108]\tvalidation_0-logloss:0.41556\tvalidation_1-logloss:0.44979\n",
      "[109]\tvalidation_0-logloss:0.41433\tvalidation_1-logloss:0.44863\n",
      "[110]\tvalidation_0-logloss:0.41309\tvalidation_1-logloss:0.44755\n",
      "[111]\tvalidation_0-logloss:0.41189\tvalidation_1-logloss:0.44642\n",
      "[112]\tvalidation_0-logloss:0.41075\tvalidation_1-logloss:0.44542\n",
      "[113]\tvalidation_0-logloss:0.40950\tvalidation_1-logloss:0.44452\n",
      "[114]\tvalidation_0-logloss:0.40835\tvalidation_1-logloss:0.44353\n",
      "[115]\tvalidation_0-logloss:0.40718\tvalidation_1-logloss:0.44256\n",
      "[116]\tvalidation_0-logloss:0.40600\tvalidation_1-logloss:0.44169\n",
      "[117]\tvalidation_0-logloss:0.40489\tvalidation_1-logloss:0.44069\n",
      "[118]\tvalidation_0-logloss:0.40379\tvalidation_1-logloss:0.43970\n",
      "[119]\tvalidation_0-logloss:0.40266\tvalidation_1-logloss:0.43893\n",
      "[120]\tvalidation_0-logloss:0.40164\tvalidation_1-logloss:0.43801\n",
      "[121]\tvalidation_0-logloss:0.40049\tvalidation_1-logloss:0.43706\n",
      "[122]\tvalidation_0-logloss:0.39948\tvalidation_1-logloss:0.43633\n",
      "[123]\tvalidation_0-logloss:0.39854\tvalidation_1-logloss:0.43539\n",
      "[124]\tvalidation_0-logloss:0.39747\tvalidation_1-logloss:0.43444\n",
      "[125]\tvalidation_0-logloss:0.39645\tvalidation_1-logloss:0.43344\n",
      "[126]\tvalidation_0-logloss:0.39534\tvalidation_1-logloss:0.43261\n",
      "[127]\tvalidation_0-logloss:0.39432\tvalidation_1-logloss:0.43162\n",
      "[128]\tvalidation_0-logloss:0.39324\tvalidation_1-logloss:0.43080\n",
      "[129]\tvalidation_0-logloss:0.39222\tvalidation_1-logloss:0.42992\n"
     ]
    },
    {
     "name": "stdout",
     "output_type": "stream",
     "text": [
      "[130]\tvalidation_0-logloss:0.39114\tvalidation_1-logloss:0.42910\n",
      "[131]\tvalidation_0-logloss:0.39021\tvalidation_1-logloss:0.42836\n",
      "[132]\tvalidation_0-logloss:0.38922\tvalidation_1-logloss:0.42759\n",
      "[133]\tvalidation_0-logloss:0.38826\tvalidation_1-logloss:0.42678\n",
      "[134]\tvalidation_0-logloss:0.38726\tvalidation_1-logloss:0.42588\n",
      "[135]\tvalidation_0-logloss:0.38627\tvalidation_1-logloss:0.42505\n",
      "[136]\tvalidation_0-logloss:0.38529\tvalidation_1-logloss:0.42435\n",
      "[137]\tvalidation_0-logloss:0.38435\tvalidation_1-logloss:0.42353\n",
      "[138]\tvalidation_0-logloss:0.38333\tvalidation_1-logloss:0.42265\n",
      "[139]\tvalidation_0-logloss:0.38237\tvalidation_1-logloss:0.42185\n",
      "[140]\tvalidation_0-logloss:0.38140\tvalidation_1-logloss:0.42120\n",
      "[141]\tvalidation_0-logloss:0.38041\tvalidation_1-logloss:0.42040\n",
      "[142]\tvalidation_0-logloss:0.37940\tvalidation_1-logloss:0.41963\n",
      "[143]\tvalidation_0-logloss:0.37850\tvalidation_1-logloss:0.41893\n",
      "[144]\tvalidation_0-logloss:0.37761\tvalidation_1-logloss:0.41816\n",
      "[145]\tvalidation_0-logloss:0.37672\tvalidation_1-logloss:0.41749\n",
      "[146]\tvalidation_0-logloss:0.37581\tvalidation_1-logloss:0.41675\n",
      "[147]\tvalidation_0-logloss:0.37492\tvalidation_1-logloss:0.41607\n",
      "[148]\tvalidation_0-logloss:0.37408\tvalidation_1-logloss:0.41536\n",
      "[149]\tvalidation_0-logloss:0.37317\tvalidation_1-logloss:0.41461\n",
      "[150]\tvalidation_0-logloss:0.37225\tvalidation_1-logloss:0.41391\n",
      "[151]\tvalidation_0-logloss:0.37138\tvalidation_1-logloss:0.41315\n",
      "[152]\tvalidation_0-logloss:0.37046\tvalidation_1-logloss:0.41241\n",
      "[153]\tvalidation_0-logloss:0.36962\tvalidation_1-logloss:0.41179\n",
      "[154]\tvalidation_0-logloss:0.36877\tvalidation_1-logloss:0.41108\n",
      "[155]\tvalidation_0-logloss:0.36792\tvalidation_1-logloss:0.41050\n",
      "[156]\tvalidation_0-logloss:0.36711\tvalidation_1-logloss:0.40990\n",
      "[157]\tvalidation_0-logloss:0.36623\tvalidation_1-logloss:0.40930\n",
      "[158]\tvalidation_0-logloss:0.36532\tvalidation_1-logloss:0.40863\n",
      "[159]\tvalidation_0-logloss:0.36445\tvalidation_1-logloss:0.40800\n",
      "[160]\tvalidation_0-logloss:0.36364\tvalidation_1-logloss:0.40730\n",
      "[161]\tvalidation_0-logloss:0.36280\tvalidation_1-logloss:0.40664\n",
      "[162]\tvalidation_0-logloss:0.36200\tvalidation_1-logloss:0.40598\n",
      "[163]\tvalidation_0-logloss:0.36119\tvalidation_1-logloss:0.40546\n",
      "[164]\tvalidation_0-logloss:0.36041\tvalidation_1-logloss:0.40476\n",
      "[165]\tvalidation_0-logloss:0.35954\tvalidation_1-logloss:0.40418\n",
      "[166]\tvalidation_0-logloss:0.35886\tvalidation_1-logloss:0.40358\n",
      "[167]\tvalidation_0-logloss:0.35803\tvalidation_1-logloss:0.40290\n",
      "[168]\tvalidation_0-logloss:0.35724\tvalidation_1-logloss:0.40226\n",
      "[169]\tvalidation_0-logloss:0.35649\tvalidation_1-logloss:0.40175\n",
      "[170]\tvalidation_0-logloss:0.35569\tvalidation_1-logloss:0.40105\n",
      "[171]\tvalidation_0-logloss:0.35497\tvalidation_1-logloss:0.40052\n",
      "[172]\tvalidation_0-logloss:0.35420\tvalidation_1-logloss:0.39997\n",
      "[173]\tvalidation_0-logloss:0.35347\tvalidation_1-logloss:0.39947\n",
      "[174]\tvalidation_0-logloss:0.35279\tvalidation_1-logloss:0.39885\n",
      "[175]\tvalidation_0-logloss:0.35202\tvalidation_1-logloss:0.39819\n",
      "[176]\tvalidation_0-logloss:0.35134\tvalidation_1-logloss:0.39760\n",
      "[177]\tvalidation_0-logloss:0.35065\tvalidation_1-logloss:0.39705\n",
      "[178]\tvalidation_0-logloss:0.34993\tvalidation_1-logloss:0.39645\n",
      "[179]\tvalidation_0-logloss:0.34924\tvalidation_1-logloss:0.39590\n",
      "[180]\tvalidation_0-logloss:0.34850\tvalidation_1-logloss:0.39536\n",
      "[181]\tvalidation_0-logloss:0.34782\tvalidation_1-logloss:0.39477\n",
      "[182]\tvalidation_0-logloss:0.34711\tvalidation_1-logloss:0.39414\n",
      "[183]\tvalidation_0-logloss:0.34644\tvalidation_1-logloss:0.39362\n",
      "[184]\tvalidation_0-logloss:0.34585\tvalidation_1-logloss:0.39315\n",
      "[185]\tvalidation_0-logloss:0.34519\tvalidation_1-logloss:0.39261\n",
      "[186]\tvalidation_0-logloss:0.34444\tvalidation_1-logloss:0.39213\n",
      "[187]\tvalidation_0-logloss:0.34377\tvalidation_1-logloss:0.39156\n",
      "[188]\tvalidation_0-logloss:0.34306\tvalidation_1-logloss:0.39106\n",
      "[189]\tvalidation_0-logloss:0.34235\tvalidation_1-logloss:0.39060\n",
      "[190]\tvalidation_0-logloss:0.34165\tvalidation_1-logloss:0.39003\n",
      "[191]\tvalidation_0-logloss:0.34096\tvalidation_1-logloss:0.38944\n",
      "[192]\tvalidation_0-logloss:0.34031\tvalidation_1-logloss:0.38891\n",
      "[193]\tvalidation_0-logloss:0.33964\tvalidation_1-logloss:0.38838\n",
      "[194]\tvalidation_0-logloss:0.33892\tvalidation_1-logloss:0.38789\n",
      "[195]\tvalidation_0-logloss:0.33824\tvalidation_1-logloss:0.38737\n",
      "[196]\tvalidation_0-logloss:0.33756\tvalidation_1-logloss:0.38686\n",
      "[197]\tvalidation_0-logloss:0.33688\tvalidation_1-logloss:0.38639\n",
      "[198]\tvalidation_0-logloss:0.33622\tvalidation_1-logloss:0.38595\n",
      "[199]\tvalidation_0-logloss:0.33557\tvalidation_1-logloss:0.38546\n",
      "[200]\tvalidation_0-logloss:0.33493\tvalidation_1-logloss:0.38494\n",
      "[201]\tvalidation_0-logloss:0.33428\tvalidation_1-logloss:0.38448\n",
      "[202]\tvalidation_0-logloss:0.33357\tvalidation_1-logloss:0.38401\n",
      "[203]\tvalidation_0-logloss:0.33291\tvalidation_1-logloss:0.38369\n",
      "[204]\tvalidation_0-logloss:0.33223\tvalidation_1-logloss:0.38317\n",
      "[205]\tvalidation_0-logloss:0.33161\tvalidation_1-logloss:0.38271\n",
      "[206]\tvalidation_0-logloss:0.33104\tvalidation_1-logloss:0.38226\n",
      "[207]\tvalidation_0-logloss:0.33044\tvalidation_1-logloss:0.38181\n",
      "[208]\tvalidation_0-logloss:0.32980\tvalidation_1-logloss:0.38140\n",
      "[209]\tvalidation_0-logloss:0.32923\tvalidation_1-logloss:0.38094\n",
      "[210]\tvalidation_0-logloss:0.32864\tvalidation_1-logloss:0.38050\n",
      "[211]\tvalidation_0-logloss:0.32810\tvalidation_1-logloss:0.38002\n",
      "[212]\tvalidation_0-logloss:0.32748\tvalidation_1-logloss:0.37950\n",
      "[213]\tvalidation_0-logloss:0.32698\tvalidation_1-logloss:0.37910\n",
      "[214]\tvalidation_0-logloss:0.32637\tvalidation_1-logloss:0.37854\n",
      "[215]\tvalidation_0-logloss:0.32589\tvalidation_1-logloss:0.37809\n",
      "[216]\tvalidation_0-logloss:0.32538\tvalidation_1-logloss:0.37769\n",
      "[217]\tvalidation_0-logloss:0.32487\tvalidation_1-logloss:0.37726\n",
      "[218]\tvalidation_0-logloss:0.32428\tvalidation_1-logloss:0.37680\n",
      "[219]\tvalidation_0-logloss:0.32365\tvalidation_1-logloss:0.37642\n",
      "[220]\tvalidation_0-logloss:0.32313\tvalidation_1-logloss:0.37599\n",
      "[221]\tvalidation_0-logloss:0.32253\tvalidation_1-logloss:0.37562\n",
      "[222]\tvalidation_0-logloss:0.32195\tvalidation_1-logloss:0.37506\n",
      "[223]\tvalidation_0-logloss:0.32141\tvalidation_1-logloss:0.37471\n",
      "[224]\tvalidation_0-logloss:0.32081\tvalidation_1-logloss:0.37429\n",
      "[225]\tvalidation_0-logloss:0.32025\tvalidation_1-logloss:0.37388\n",
      "[226]\tvalidation_0-logloss:0.31970\tvalidation_1-logloss:0.37347\n",
      "[227]\tvalidation_0-logloss:0.31911\tvalidation_1-logloss:0.37307\n",
      "[228]\tvalidation_0-logloss:0.31855\tvalidation_1-logloss:0.37268\n",
      "[229]\tvalidation_0-logloss:0.31792\tvalidation_1-logloss:0.37229\n",
      "[230]\tvalidation_0-logloss:0.31733\tvalidation_1-logloss:0.37181\n",
      "[231]\tvalidation_0-logloss:0.31678\tvalidation_1-logloss:0.37138\n",
      "[232]\tvalidation_0-logloss:0.31627\tvalidation_1-logloss:0.37095\n",
      "[233]\tvalidation_0-logloss:0.31574\tvalidation_1-logloss:0.37061\n",
      "[234]\tvalidation_0-logloss:0.31523\tvalidation_1-logloss:0.37020\n",
      "[235]\tvalidation_0-logloss:0.31466\tvalidation_1-logloss:0.36984\n",
      "[236]\tvalidation_0-logloss:0.31415\tvalidation_1-logloss:0.36944\n",
      "[237]\tvalidation_0-logloss:0.31364\tvalidation_1-logloss:0.36912\n",
      "[238]\tvalidation_0-logloss:0.31308\tvalidation_1-logloss:0.36867\n",
      "[239]\tvalidation_0-logloss:0.31254\tvalidation_1-logloss:0.36829\n",
      "[240]\tvalidation_0-logloss:0.31202\tvalidation_1-logloss:0.36792\n",
      "[241]\tvalidation_0-logloss:0.31144\tvalidation_1-logloss:0.36745\n",
      "[242]\tvalidation_0-logloss:0.31094\tvalidation_1-logloss:0.36705\n",
      "[243]\tvalidation_0-logloss:0.31048\tvalidation_1-logloss:0.36674\n",
      "[244]\tvalidation_0-logloss:0.30999\tvalidation_1-logloss:0.36641\n",
      "[245]\tvalidation_0-logloss:0.30952\tvalidation_1-logloss:0.36605\n",
      "[246]\tvalidation_0-logloss:0.30902\tvalidation_1-logloss:0.36574\n",
      "[247]\tvalidation_0-logloss:0.30848\tvalidation_1-logloss:0.36537\n",
      "[248]\tvalidation_0-logloss:0.30798\tvalidation_1-logloss:0.36496\n",
      "[249]\tvalidation_0-logloss:0.30745\tvalidation_1-logloss:0.36462\n",
      "[250]\tvalidation_0-logloss:0.30698\tvalidation_1-logloss:0.36431\n",
      "[251]\tvalidation_0-logloss:0.30647\tvalidation_1-logloss:0.36392\n",
      "[252]\tvalidation_0-logloss:0.30606\tvalidation_1-logloss:0.36359\n",
      "[253]\tvalidation_0-logloss:0.30555\tvalidation_1-logloss:0.36325\n",
      "[254]\tvalidation_0-logloss:0.30505\tvalidation_1-logloss:0.36286\n",
      "[255]\tvalidation_0-logloss:0.30456\tvalidation_1-logloss:0.36245\n",
      "[256]\tvalidation_0-logloss:0.30411\tvalidation_1-logloss:0.36209\n",
      "[257]\tvalidation_0-logloss:0.30360\tvalidation_1-logloss:0.36179\n",
      "[258]\tvalidation_0-logloss:0.30317\tvalidation_1-logloss:0.36143\n"
     ]
    },
    {
     "name": "stdout",
     "output_type": "stream",
     "text": [
      "[259]\tvalidation_0-logloss:0.30273\tvalidation_1-logloss:0.36114\n",
      "[260]\tvalidation_0-logloss:0.30223\tvalidation_1-logloss:0.36083\n",
      "[261]\tvalidation_0-logloss:0.30181\tvalidation_1-logloss:0.36050\n",
      "[262]\tvalidation_0-logloss:0.30138\tvalidation_1-logloss:0.36013\n",
      "[263]\tvalidation_0-logloss:0.30091\tvalidation_1-logloss:0.35975\n",
      "[264]\tvalidation_0-logloss:0.30047\tvalidation_1-logloss:0.35942\n",
      "[265]\tvalidation_0-logloss:0.29997\tvalidation_1-logloss:0.35907\n",
      "[266]\tvalidation_0-logloss:0.29949\tvalidation_1-logloss:0.35874\n",
      "[267]\tvalidation_0-logloss:0.29910\tvalidation_1-logloss:0.35841\n",
      "[268]\tvalidation_0-logloss:0.29864\tvalidation_1-logloss:0.35811\n",
      "[269]\tvalidation_0-logloss:0.29817\tvalidation_1-logloss:0.35783\n",
      "[270]\tvalidation_0-logloss:0.29774\tvalidation_1-logloss:0.35751\n",
      "[271]\tvalidation_0-logloss:0.29731\tvalidation_1-logloss:0.35719\n",
      "[272]\tvalidation_0-logloss:0.29683\tvalidation_1-logloss:0.35682\n",
      "[273]\tvalidation_0-logloss:0.29634\tvalidation_1-logloss:0.35656\n",
      "[274]\tvalidation_0-logloss:0.29592\tvalidation_1-logloss:0.35625\n",
      "[275]\tvalidation_0-logloss:0.29549\tvalidation_1-logloss:0.35599\n",
      "[276]\tvalidation_0-logloss:0.29507\tvalidation_1-logloss:0.35567\n",
      "[277]\tvalidation_0-logloss:0.29463\tvalidation_1-logloss:0.35536\n",
      "[278]\tvalidation_0-logloss:0.29425\tvalidation_1-logloss:0.35511\n",
      "[279]\tvalidation_0-logloss:0.29382\tvalidation_1-logloss:0.35479\n",
      "[280]\tvalidation_0-logloss:0.29336\tvalidation_1-logloss:0.35456\n",
      "[281]\tvalidation_0-logloss:0.29299\tvalidation_1-logloss:0.35424\n",
      "[282]\tvalidation_0-logloss:0.29251\tvalidation_1-logloss:0.35396\n",
      "[283]\tvalidation_0-logloss:0.29207\tvalidation_1-logloss:0.35363\n",
      "[284]\tvalidation_0-logloss:0.29163\tvalidation_1-logloss:0.35332\n",
      "[285]\tvalidation_0-logloss:0.29123\tvalidation_1-logloss:0.35302\n",
      "[286]\tvalidation_0-logloss:0.29078\tvalidation_1-logloss:0.35278\n",
      "[287]\tvalidation_0-logloss:0.29041\tvalidation_1-logloss:0.35253\n",
      "[288]\tvalidation_0-logloss:0.29003\tvalidation_1-logloss:0.35229\n",
      "[289]\tvalidation_0-logloss:0.28961\tvalidation_1-logloss:0.35199\n",
      "[290]\tvalidation_0-logloss:0.28919\tvalidation_1-logloss:0.35169\n",
      "[291]\tvalidation_0-logloss:0.28882\tvalidation_1-logloss:0.35144\n",
      "[292]\tvalidation_0-logloss:0.28845\tvalidation_1-logloss:0.35116\n",
      "[293]\tvalidation_0-logloss:0.28802\tvalidation_1-logloss:0.35090\n",
      "[294]\tvalidation_0-logloss:0.28764\tvalidation_1-logloss:0.35066\n",
      "[295]\tvalidation_0-logloss:0.28727\tvalidation_1-logloss:0.35039\n",
      "[296]\tvalidation_0-logloss:0.28684\tvalidation_1-logloss:0.35013\n",
      "[297]\tvalidation_0-logloss:0.28641\tvalidation_1-logloss:0.34988\n",
      "[298]\tvalidation_0-logloss:0.28602\tvalidation_1-logloss:0.34968\n",
      "[299]\tvalidation_0-logloss:0.28566\tvalidation_1-logloss:0.34944\n",
      "[300]\tvalidation_0-logloss:0.28526\tvalidation_1-logloss:0.34915\n",
      "[301]\tvalidation_0-logloss:0.28487\tvalidation_1-logloss:0.34886\n",
      "[302]\tvalidation_0-logloss:0.28454\tvalidation_1-logloss:0.34855\n",
      "[303]\tvalidation_0-logloss:0.28422\tvalidation_1-logloss:0.34832\n",
      "[304]\tvalidation_0-logloss:0.28386\tvalidation_1-logloss:0.34802\n",
      "[305]\tvalidation_0-logloss:0.28343\tvalidation_1-logloss:0.34781\n",
      "[306]\tvalidation_0-logloss:0.28300\tvalidation_1-logloss:0.34755\n",
      "[307]\tvalidation_0-logloss:0.28261\tvalidation_1-logloss:0.34735\n",
      "[308]\tvalidation_0-logloss:0.28222\tvalidation_1-logloss:0.34710\n",
      "[309]\tvalidation_0-logloss:0.28179\tvalidation_1-logloss:0.34689\n",
      "[310]\tvalidation_0-logloss:0.28146\tvalidation_1-logloss:0.34673\n",
      "[311]\tvalidation_0-logloss:0.28105\tvalidation_1-logloss:0.34650\n",
      "[312]\tvalidation_0-logloss:0.28068\tvalidation_1-logloss:0.34627\n",
      "[313]\tvalidation_0-logloss:0.28032\tvalidation_1-logloss:0.34604\n",
      "[314]\tvalidation_0-logloss:0.27993\tvalidation_1-logloss:0.34585\n",
      "[315]\tvalidation_0-logloss:0.27952\tvalidation_1-logloss:0.34564\n",
      "[316]\tvalidation_0-logloss:0.27919\tvalidation_1-logloss:0.34546\n",
      "[317]\tvalidation_0-logloss:0.27889\tvalidation_1-logloss:0.34527\n",
      "[318]\tvalidation_0-logloss:0.27852\tvalidation_1-logloss:0.34503\n",
      "[319]\tvalidation_0-logloss:0.27811\tvalidation_1-logloss:0.34474\n",
      "[320]\tvalidation_0-logloss:0.27777\tvalidation_1-logloss:0.34446\n",
      "[321]\tvalidation_0-logloss:0.27740\tvalidation_1-logloss:0.34422\n",
      "[322]\tvalidation_0-logloss:0.27705\tvalidation_1-logloss:0.34398\n",
      "[323]\tvalidation_0-logloss:0.27666\tvalidation_1-logloss:0.34378\n",
      "[324]\tvalidation_0-logloss:0.27628\tvalidation_1-logloss:0.34353\n",
      "[325]\tvalidation_0-logloss:0.27594\tvalidation_1-logloss:0.34335\n",
      "[326]\tvalidation_0-logloss:0.27555\tvalidation_1-logloss:0.34308\n",
      "[327]\tvalidation_0-logloss:0.27527\tvalidation_1-logloss:0.34285\n",
      "[328]\tvalidation_0-logloss:0.27492\tvalidation_1-logloss:0.34263\n",
      "[329]\tvalidation_0-logloss:0.27463\tvalidation_1-logloss:0.34237\n",
      "[330]\tvalidation_0-logloss:0.27427\tvalidation_1-logloss:0.34214\n",
      "[331]\tvalidation_0-logloss:0.27393\tvalidation_1-logloss:0.34194\n",
      "[332]\tvalidation_0-logloss:0.27358\tvalidation_1-logloss:0.34167\n",
      "[333]\tvalidation_0-logloss:0.27321\tvalidation_1-logloss:0.34138\n",
      "[334]\tvalidation_0-logloss:0.27284\tvalidation_1-logloss:0.34120\n",
      "[335]\tvalidation_0-logloss:0.27250\tvalidation_1-logloss:0.34091\n",
      "[336]\tvalidation_0-logloss:0.27219\tvalidation_1-logloss:0.34073\n",
      "[337]\tvalidation_0-logloss:0.27182\tvalidation_1-logloss:0.34051\n",
      "[338]\tvalidation_0-logloss:0.27148\tvalidation_1-logloss:0.34039\n",
      "[339]\tvalidation_0-logloss:0.27116\tvalidation_1-logloss:0.34020\n",
      "[340]\tvalidation_0-logloss:0.27079\tvalidation_1-logloss:0.33990\n",
      "[341]\tvalidation_0-logloss:0.27045\tvalidation_1-logloss:0.33973\n",
      "[342]\tvalidation_0-logloss:0.27010\tvalidation_1-logloss:0.33949\n",
      "[343]\tvalidation_0-logloss:0.26979\tvalidation_1-logloss:0.33930\n",
      "[344]\tvalidation_0-logloss:0.26945\tvalidation_1-logloss:0.33909\n",
      "[345]\tvalidation_0-logloss:0.26909\tvalidation_1-logloss:0.33884\n",
      "[346]\tvalidation_0-logloss:0.26873\tvalidation_1-logloss:0.33861\n",
      "[347]\tvalidation_0-logloss:0.26842\tvalidation_1-logloss:0.33843\n",
      "[348]\tvalidation_0-logloss:0.26810\tvalidation_1-logloss:0.33829\n",
      "[349]\tvalidation_0-logloss:0.26774\tvalidation_1-logloss:0.33808\n",
      "[350]\tvalidation_0-logloss:0.26744\tvalidation_1-logloss:0.33791\n",
      "[351]\tvalidation_0-logloss:0.26709\tvalidation_1-logloss:0.33767\n",
      "[352]\tvalidation_0-logloss:0.26680\tvalidation_1-logloss:0.33746\n",
      "[353]\tvalidation_0-logloss:0.26647\tvalidation_1-logloss:0.33720\n",
      "[354]\tvalidation_0-logloss:0.26618\tvalidation_1-logloss:0.33700\n",
      "[355]\tvalidation_0-logloss:0.26587\tvalidation_1-logloss:0.33677\n",
      "[356]\tvalidation_0-logloss:0.26555\tvalidation_1-logloss:0.33659\n",
      "[357]\tvalidation_0-logloss:0.26527\tvalidation_1-logloss:0.33637\n",
      "[358]\tvalidation_0-logloss:0.26494\tvalidation_1-logloss:0.33613\n",
      "[359]\tvalidation_0-logloss:0.26460\tvalidation_1-logloss:0.33592\n",
      "[360]\tvalidation_0-logloss:0.26428\tvalidation_1-logloss:0.33571\n",
      "[361]\tvalidation_0-logloss:0.26396\tvalidation_1-logloss:0.33556\n",
      "[362]\tvalidation_0-logloss:0.26364\tvalidation_1-logloss:0.33536\n",
      "[363]\tvalidation_0-logloss:0.26333\tvalidation_1-logloss:0.33521\n",
      "[364]\tvalidation_0-logloss:0.26307\tvalidation_1-logloss:0.33509\n",
      "[365]\tvalidation_0-logloss:0.26275\tvalidation_1-logloss:0.33493\n",
      "[366]\tvalidation_0-logloss:0.26244\tvalidation_1-logloss:0.33474\n",
      "[367]\tvalidation_0-logloss:0.26210\tvalidation_1-logloss:0.33453\n",
      "[368]\tvalidation_0-logloss:0.26178\tvalidation_1-logloss:0.33435\n",
      "[369]\tvalidation_0-logloss:0.26147\tvalidation_1-logloss:0.33409\n",
      "[370]\tvalidation_0-logloss:0.26116\tvalidation_1-logloss:0.33390\n",
      "[371]\tvalidation_0-logloss:0.26087\tvalidation_1-logloss:0.33372\n",
      "[372]\tvalidation_0-logloss:0.26060\tvalidation_1-logloss:0.33358\n",
      "[373]\tvalidation_0-logloss:0.26034\tvalidation_1-logloss:0.33344\n",
      "[374]\tvalidation_0-logloss:0.26006\tvalidation_1-logloss:0.33326\n",
      "[375]\tvalidation_0-logloss:0.25975\tvalidation_1-logloss:0.33305\n",
      "[376]\tvalidation_0-logloss:0.25946\tvalidation_1-logloss:0.33294\n",
      "[377]\tvalidation_0-logloss:0.25919\tvalidation_1-logloss:0.33274\n",
      "[378]\tvalidation_0-logloss:0.25895\tvalidation_1-logloss:0.33259\n",
      "[379]\tvalidation_0-logloss:0.25870\tvalidation_1-logloss:0.33246\n",
      "[380]\tvalidation_0-logloss:0.25843\tvalidation_1-logloss:0.33227\n",
      "[381]\tvalidation_0-logloss:0.25817\tvalidation_1-logloss:0.33208\n",
      "[382]\tvalidation_0-logloss:0.25787\tvalidation_1-logloss:0.33193\n",
      "[383]\tvalidation_0-logloss:0.25760\tvalidation_1-logloss:0.33171\n",
      "[384]\tvalidation_0-logloss:0.25735\tvalidation_1-logloss:0.33152\n",
      "[385]\tvalidation_0-logloss:0.25714\tvalidation_1-logloss:0.33140\n",
      "[386]\tvalidation_0-logloss:0.25685\tvalidation_1-logloss:0.33126\n",
      "[387]\tvalidation_0-logloss:0.25661\tvalidation_1-logloss:0.33108\n"
     ]
    },
    {
     "name": "stdout",
     "output_type": "stream",
     "text": [
      "[388]\tvalidation_0-logloss:0.25629\tvalidation_1-logloss:0.33090\n",
      "[389]\tvalidation_0-logloss:0.25602\tvalidation_1-logloss:0.33079\n",
      "[390]\tvalidation_0-logloss:0.25574\tvalidation_1-logloss:0.33063\n",
      "[391]\tvalidation_0-logloss:0.25545\tvalidation_1-logloss:0.33049\n",
      "[392]\tvalidation_0-logloss:0.25514\tvalidation_1-logloss:0.33027\n",
      "[393]\tvalidation_0-logloss:0.25490\tvalidation_1-logloss:0.33011\n",
      "[394]\tvalidation_0-logloss:0.25462\tvalidation_1-logloss:0.32992\n",
      "[395]\tvalidation_0-logloss:0.25438\tvalidation_1-logloss:0.32979\n",
      "[396]\tvalidation_0-logloss:0.25412\tvalidation_1-logloss:0.32965\n",
      "[397]\tvalidation_0-logloss:0.25384\tvalidation_1-logloss:0.32946\n",
      "[398]\tvalidation_0-logloss:0.25355\tvalidation_1-logloss:0.32931\n",
      "[399]\tvalidation_0-logloss:0.25328\tvalidation_1-logloss:0.32915\n",
      "[400]\tvalidation_0-logloss:0.25302\tvalidation_1-logloss:0.32901\n",
      "[401]\tvalidation_0-logloss:0.25276\tvalidation_1-logloss:0.32885\n",
      "[402]\tvalidation_0-logloss:0.25247\tvalidation_1-logloss:0.32874\n",
      "[403]\tvalidation_0-logloss:0.25219\tvalidation_1-logloss:0.32864\n",
      "[404]\tvalidation_0-logloss:0.25193\tvalidation_1-logloss:0.32853\n",
      "[405]\tvalidation_0-logloss:0.25169\tvalidation_1-logloss:0.32843\n",
      "[406]\tvalidation_0-logloss:0.25141\tvalidation_1-logloss:0.32824\n",
      "[407]\tvalidation_0-logloss:0.25112\tvalidation_1-logloss:0.32810\n",
      "[408]\tvalidation_0-logloss:0.25088\tvalidation_1-logloss:0.32792\n",
      "[409]\tvalidation_0-logloss:0.25066\tvalidation_1-logloss:0.32775\n",
      "[410]\tvalidation_0-logloss:0.25039\tvalidation_1-logloss:0.32751\n",
      "[411]\tvalidation_0-logloss:0.25010\tvalidation_1-logloss:0.32737\n",
      "[412]\tvalidation_0-logloss:0.24984\tvalidation_1-logloss:0.32710\n",
      "[413]\tvalidation_0-logloss:0.24959\tvalidation_1-logloss:0.32691\n",
      "[414]\tvalidation_0-logloss:0.24932\tvalidation_1-logloss:0.32680\n",
      "[415]\tvalidation_0-logloss:0.24904\tvalidation_1-logloss:0.32664\n",
      "[416]\tvalidation_0-logloss:0.24876\tvalidation_1-logloss:0.32647\n",
      "[417]\tvalidation_0-logloss:0.24855\tvalidation_1-logloss:0.32633\n",
      "[418]\tvalidation_0-logloss:0.24828\tvalidation_1-logloss:0.32615\n",
      "[419]\tvalidation_0-logloss:0.24799\tvalidation_1-logloss:0.32603\n",
      "[420]\tvalidation_0-logloss:0.24773\tvalidation_1-logloss:0.32585\n",
      "[421]\tvalidation_0-logloss:0.24748\tvalidation_1-logloss:0.32569\n",
      "[422]\tvalidation_0-logloss:0.24722\tvalidation_1-logloss:0.32560\n",
      "[423]\tvalidation_0-logloss:0.24702\tvalidation_1-logloss:0.32550\n",
      "[424]\tvalidation_0-logloss:0.24677\tvalidation_1-logloss:0.32534\n",
      "[425]\tvalidation_0-logloss:0.24652\tvalidation_1-logloss:0.32520\n",
      "[426]\tvalidation_0-logloss:0.24631\tvalidation_1-logloss:0.32504\n",
      "[427]\tvalidation_0-logloss:0.24607\tvalidation_1-logloss:0.32488\n",
      "[428]\tvalidation_0-logloss:0.24581\tvalidation_1-logloss:0.32474\n",
      "[429]\tvalidation_0-logloss:0.24557\tvalidation_1-logloss:0.32459\n",
      "[430]\tvalidation_0-logloss:0.24535\tvalidation_1-logloss:0.32445\n",
      "[431]\tvalidation_0-logloss:0.24506\tvalidation_1-logloss:0.32432\n",
      "[432]\tvalidation_0-logloss:0.24481\tvalidation_1-logloss:0.32411\n",
      "[433]\tvalidation_0-logloss:0.24457\tvalidation_1-logloss:0.32395\n",
      "[434]\tvalidation_0-logloss:0.24438\tvalidation_1-logloss:0.32377\n",
      "[435]\tvalidation_0-logloss:0.24413\tvalidation_1-logloss:0.32368\n",
      "[436]\tvalidation_0-logloss:0.24387\tvalidation_1-logloss:0.32349\n",
      "[437]\tvalidation_0-logloss:0.24365\tvalidation_1-logloss:0.32335\n",
      "[438]\tvalidation_0-logloss:0.24340\tvalidation_1-logloss:0.32322\n",
      "[439]\tvalidation_0-logloss:0.24319\tvalidation_1-logloss:0.32313\n",
      "[440]\tvalidation_0-logloss:0.24294\tvalidation_1-logloss:0.32299\n",
      "[441]\tvalidation_0-logloss:0.24270\tvalidation_1-logloss:0.32286\n",
      "[442]\tvalidation_0-logloss:0.24246\tvalidation_1-logloss:0.32272\n",
      "[443]\tvalidation_0-logloss:0.24226\tvalidation_1-logloss:0.32259\n",
      "[444]\tvalidation_0-logloss:0.24208\tvalidation_1-logloss:0.32248\n",
      "[445]\tvalidation_0-logloss:0.24183\tvalidation_1-logloss:0.32238\n",
      "[446]\tvalidation_0-logloss:0.24158\tvalidation_1-logloss:0.32226\n",
      "[447]\tvalidation_0-logloss:0.24135\tvalidation_1-logloss:0.32212\n",
      "[448]\tvalidation_0-logloss:0.24112\tvalidation_1-logloss:0.32200\n",
      "[449]\tvalidation_0-logloss:0.24087\tvalidation_1-logloss:0.32188\n",
      "[450]\tvalidation_0-logloss:0.24064\tvalidation_1-logloss:0.32173\n",
      "[451]\tvalidation_0-logloss:0.24041\tvalidation_1-logloss:0.32158\n",
      "[452]\tvalidation_0-logloss:0.24014\tvalidation_1-logloss:0.32154\n",
      "[453]\tvalidation_0-logloss:0.23992\tvalidation_1-logloss:0.32138\n",
      "[454]\tvalidation_0-logloss:0.23969\tvalidation_1-logloss:0.32126\n",
      "[455]\tvalidation_0-logloss:0.23952\tvalidation_1-logloss:0.32114\n",
      "[456]\tvalidation_0-logloss:0.23929\tvalidation_1-logloss:0.32100\n",
      "[457]\tvalidation_0-logloss:0.23903\tvalidation_1-logloss:0.32086\n",
      "[458]\tvalidation_0-logloss:0.23880\tvalidation_1-logloss:0.32070\n",
      "[459]\tvalidation_0-logloss:0.23857\tvalidation_1-logloss:0.32060\n",
      "[460]\tvalidation_0-logloss:0.23836\tvalidation_1-logloss:0.32051\n",
      "[461]\tvalidation_0-logloss:0.23811\tvalidation_1-logloss:0.32042\n",
      "[462]\tvalidation_0-logloss:0.23792\tvalidation_1-logloss:0.32032\n",
      "[463]\tvalidation_0-logloss:0.23771\tvalidation_1-logloss:0.32021\n",
      "[464]\tvalidation_0-logloss:0.23745\tvalidation_1-logloss:0.32009\n",
      "[465]\tvalidation_0-logloss:0.23720\tvalidation_1-logloss:0.31999\n",
      "[466]\tvalidation_0-logloss:0.23697\tvalidation_1-logloss:0.31984\n",
      "[467]\tvalidation_0-logloss:0.23674\tvalidation_1-logloss:0.31970\n",
      "[468]\tvalidation_0-logloss:0.23647\tvalidation_1-logloss:0.31954\n",
      "[469]\tvalidation_0-logloss:0.23624\tvalidation_1-logloss:0.31942\n",
      "[470]\tvalidation_0-logloss:0.23602\tvalidation_1-logloss:0.31928\n",
      "[471]\tvalidation_0-logloss:0.23582\tvalidation_1-logloss:0.31912\n",
      "[472]\tvalidation_0-logloss:0.23560\tvalidation_1-logloss:0.31904\n",
      "[473]\tvalidation_0-logloss:0.23534\tvalidation_1-logloss:0.31890\n",
      "[474]\tvalidation_0-logloss:0.23511\tvalidation_1-logloss:0.31874\n",
      "[475]\tvalidation_0-logloss:0.23490\tvalidation_1-logloss:0.31870\n",
      "[476]\tvalidation_0-logloss:0.23467\tvalidation_1-logloss:0.31859\n",
      "[477]\tvalidation_0-logloss:0.23450\tvalidation_1-logloss:0.31851\n",
      "[478]\tvalidation_0-logloss:0.23426\tvalidation_1-logloss:0.31840\n",
      "[479]\tvalidation_0-logloss:0.23404\tvalidation_1-logloss:0.31832\n",
      "[480]\tvalidation_0-logloss:0.23382\tvalidation_1-logloss:0.31821\n",
      "[481]\tvalidation_0-logloss:0.23362\tvalidation_1-logloss:0.31808\n",
      "[482]\tvalidation_0-logloss:0.23343\tvalidation_1-logloss:0.31795\n",
      "[483]\tvalidation_0-logloss:0.23327\tvalidation_1-logloss:0.31790\n",
      "[484]\tvalidation_0-logloss:0.23303\tvalidation_1-logloss:0.31777\n",
      "[485]\tvalidation_0-logloss:0.23283\tvalidation_1-logloss:0.31775\n",
      "[486]\tvalidation_0-logloss:0.23261\tvalidation_1-logloss:0.31762\n",
      "[487]\tvalidation_0-logloss:0.23243\tvalidation_1-logloss:0.31752\n",
      "[488]\tvalidation_0-logloss:0.23222\tvalidation_1-logloss:0.31741\n",
      "[489]\tvalidation_0-logloss:0.23201\tvalidation_1-logloss:0.31724\n",
      "[490]\tvalidation_0-logloss:0.23181\tvalidation_1-logloss:0.31711\n",
      "[491]\tvalidation_0-logloss:0.23159\tvalidation_1-logloss:0.31704\n",
      "[492]\tvalidation_0-logloss:0.23142\tvalidation_1-logloss:0.31695\n",
      "[493]\tvalidation_0-logloss:0.23119\tvalidation_1-logloss:0.31683\n",
      "[494]\tvalidation_0-logloss:0.23100\tvalidation_1-logloss:0.31672\n",
      "[495]\tvalidation_0-logloss:0.23080\tvalidation_1-logloss:0.31665\n",
      "[496]\tvalidation_0-logloss:0.23060\tvalidation_1-logloss:0.31658\n",
      "[497]\tvalidation_0-logloss:0.23036\tvalidation_1-logloss:0.31645\n",
      "[498]\tvalidation_0-logloss:0.23014\tvalidation_1-logloss:0.31634\n",
      "[499]\tvalidation_0-logloss:0.22993\tvalidation_1-logloss:0.31626\n"
     ]
    },
    {
     "data": {
      "text/html": [
       "<style>#sk-container-id-30 {color: black;background-color: white;}#sk-container-id-30 pre{padding: 0;}#sk-container-id-30 div.sk-toggleable {background-color: white;}#sk-container-id-30 label.sk-toggleable__label {cursor: pointer;display: block;width: 100%;margin-bottom: 0;padding: 0.3em;box-sizing: border-box;text-align: center;}#sk-container-id-30 label.sk-toggleable__label-arrow:before {content: \"▸\";float: left;margin-right: 0.25em;color: #696969;}#sk-container-id-30 label.sk-toggleable__label-arrow:hover:before {color: black;}#sk-container-id-30 div.sk-estimator:hover label.sk-toggleable__label-arrow:before {color: black;}#sk-container-id-30 div.sk-toggleable__content {max-height: 0;max-width: 0;overflow: hidden;text-align: left;background-color: #f0f8ff;}#sk-container-id-30 div.sk-toggleable__content pre {margin: 0.2em;color: black;border-radius: 0.25em;background-color: #f0f8ff;}#sk-container-id-30 input.sk-toggleable__control:checked~div.sk-toggleable__content {max-height: 200px;max-width: 100%;overflow: auto;}#sk-container-id-30 input.sk-toggleable__control:checked~label.sk-toggleable__label-arrow:before {content: \"▾\";}#sk-container-id-30 div.sk-estimator input.sk-toggleable__control:checked~label.sk-toggleable__label {background-color: #d4ebff;}#sk-container-id-30 div.sk-label input.sk-toggleable__control:checked~label.sk-toggleable__label {background-color: #d4ebff;}#sk-container-id-30 input.sk-hidden--visually {border: 0;clip: rect(1px 1px 1px 1px);clip: rect(1px, 1px, 1px, 1px);height: 1px;margin: -1px;overflow: hidden;padding: 0;position: absolute;width: 1px;}#sk-container-id-30 div.sk-estimator {font-family: monospace;background-color: #f0f8ff;border: 1px dotted black;border-radius: 0.25em;box-sizing: border-box;margin-bottom: 0.5em;}#sk-container-id-30 div.sk-estimator:hover {background-color: #d4ebff;}#sk-container-id-30 div.sk-parallel-item::after {content: \"\";width: 100%;border-bottom: 1px solid gray;flex-grow: 1;}#sk-container-id-30 div.sk-label:hover label.sk-toggleable__label {background-color: #d4ebff;}#sk-container-id-30 div.sk-serial::before {content: \"\";position: absolute;border-left: 1px solid gray;box-sizing: border-box;top: 0;bottom: 0;left: 50%;z-index: 0;}#sk-container-id-30 div.sk-serial {display: flex;flex-direction: column;align-items: center;background-color: white;padding-right: 0.2em;padding-left: 0.2em;position: relative;}#sk-container-id-30 div.sk-item {position: relative;z-index: 1;}#sk-container-id-30 div.sk-parallel {display: flex;align-items: stretch;justify-content: center;background-color: white;position: relative;}#sk-container-id-30 div.sk-item::before, #sk-container-id-30 div.sk-parallel-item::before {content: \"\";position: absolute;border-left: 1px solid gray;box-sizing: border-box;top: 0;bottom: 0;left: 50%;z-index: -1;}#sk-container-id-30 div.sk-parallel-item {display: flex;flex-direction: column;z-index: 1;position: relative;background-color: white;}#sk-container-id-30 div.sk-parallel-item:first-child::after {align-self: flex-end;width: 50%;}#sk-container-id-30 div.sk-parallel-item:last-child::after {align-self: flex-start;width: 50%;}#sk-container-id-30 div.sk-parallel-item:only-child::after {width: 0;}#sk-container-id-30 div.sk-dashed-wrapped {border: 1px dashed gray;margin: 0 0.4em 0.5em 0.4em;box-sizing: border-box;padding-bottom: 0.4em;background-color: white;}#sk-container-id-30 div.sk-label label {font-family: monospace;font-weight: bold;display: inline-block;line-height: 1.2em;}#sk-container-id-30 div.sk-label-container {text-align: center;}#sk-container-id-30 div.sk-container {/* jupyter's `normalize.less` sets `[hidden] { display: none; }` but bootstrap.min.css set `[hidden] { display: none !important; }` so we also need the `!important` here to be able to override the default hidden behavior on the sphinx rendered scikit-learn.org. See: https://github.com/scikit-learn/scikit-learn/issues/21755 */display: inline-block !important;position: relative;}#sk-container-id-30 div.sk-text-repr-fallback {display: none;}</style><div id=\"sk-container-id-30\" class=\"sk-top-container\"><div class=\"sk-text-repr-fallback\"><pre>XGBClassifier(base_score=0.5, booster=&#x27;gbtree&#x27;, colsample_bylevel=1,\n",
       "              colsample_bynode=1, colsample_bytree=1, enable_categorical=False,\n",
       "              gamma=0, gpu_id=-1, importance_type=None,\n",
       "              interaction_constraints=&#x27;&#x27;, learning_rate=0.1, max_delta_step=0,\n",
       "              max_depth=4, min_child_weight=1, missing=nan,\n",
       "              monotone_constraints=&#x27;()&#x27;, n_estimators=500, n_jobs=4,\n",
       "              num_parallel_tree=1, predictor=&#x27;auto&#x27;, random_state=0,\n",
       "              reg_alpha=0, reg_lambda=0.1, scale_pos_weight=1, subsample=1,\n",
       "              tree_method=&#x27;exact&#x27;, validate_parameters=1, verbosity=None)</pre><b>In a Jupyter environment, please rerun this cell to show the HTML representation or trust the notebook. <br />On GitHub, the HTML representation is unable to render, please try loading this page with nbviewer.org.</b></div><div class=\"sk-container\" hidden><div class=\"sk-item\"><div class=\"sk-estimator sk-toggleable\"><input class=\"sk-toggleable__control sk-hidden--visually\" id=\"sk-estimator-id-40\" type=\"checkbox\" checked><label for=\"sk-estimator-id-40\" class=\"sk-toggleable__label sk-toggleable__label-arrow\">XGBClassifier</label><div class=\"sk-toggleable__content\"><pre>XGBClassifier(base_score=0.5, booster=&#x27;gbtree&#x27;, colsample_bylevel=1,\n",
       "              colsample_bynode=1, colsample_bytree=1, enable_categorical=False,\n",
       "              gamma=0, gpu_id=-1, importance_type=None,\n",
       "              interaction_constraints=&#x27;&#x27;, learning_rate=0.1, max_delta_step=0,\n",
       "              max_depth=4, min_child_weight=1, missing=nan,\n",
       "              monotone_constraints=&#x27;()&#x27;, n_estimators=500, n_jobs=4,\n",
       "              num_parallel_tree=1, predictor=&#x27;auto&#x27;, random_state=0,\n",
       "              reg_alpha=0, reg_lambda=0.1, scale_pos_weight=1, subsample=1,\n",
       "              tree_method=&#x27;exact&#x27;, validate_parameters=1, verbosity=None)</pre></div></div></div></div></div>"
      ],
      "text/plain": [
       "XGBClassifier(base_score=0.5, booster='gbtree', colsample_bylevel=1,\n",
       "              colsample_bynode=1, colsample_bytree=1, enable_categorical=False,\n",
       "              gamma=0, gpu_id=-1, importance_type=None,\n",
       "              interaction_constraints='', learning_rate=0.1, max_delta_step=0,\n",
       "              max_depth=4, min_child_weight=1, missing=nan,\n",
       "              monotone_constraints='()', n_estimators=500, n_jobs=4,\n",
       "              num_parallel_tree=1, predictor='auto', random_state=0,\n",
       "              reg_alpha=0, reg_lambda=0.1, scale_pos_weight=1, subsample=1,\n",
       "              tree_method='exact', validate_parameters=1, verbosity=None)"
      ]
     },
     "execution_count": 308,
     "metadata": {},
     "output_type": "execute_result"
    }
   ],
   "source": [
    "#treinando modelo com os dados já balanceados pela etapa do random forest\n",
    "GBDT = xgb.XGBClassifier(n_estimators=500, max_depth=4, learning_rate=0.1,random_state=0, reg_lambda=0.1)\n",
    "GBDT.fit(X_over_train, Y_over_train, eval_metric='logloss', eval_set=[(X_over_train, Y_over_train), (X_over_validacao, Y_over_validacao)])"
   ]
  },
  {
   "cell_type": "code",
   "execution_count": null,
   "id": "9ab57674",
   "metadata": {
    "id": "9ab57674",
    "outputId": "c4269437-10e8-4081-893f-8098d2c1c2be"
   },
   "outputs": [
    {
     "data": {
      "text/plain": [
       "0.8283973254801726"
      ]
     },
     "execution_count": 309,
     "metadata": {},
     "output_type": "execute_result"
    }
   ],
   "source": [
    "previsoes_gbdt = GBDT.predict(X_over_validacao)\n",
    "recall_score(Y_over_validacao, previsoes_gbdt)"
   ]
  },
  {
   "cell_type": "code",
   "execution_count": null,
   "id": "2dd6e823",
   "metadata": {
    "id": "2dd6e823",
    "outputId": "856d1ed0-0a48-45fd-b794-1605cee0e1fd"
   },
   "outputs": [
    {
     "data": {
      "text/plain": [
       "0.8752477264729307"
      ]
     },
     "execution_count": 310,
     "metadata": {},
     "output_type": "execute_result"
    },
    {
     "data": {
      "image/png": "[encoded data removed]",
      "text/plain": [
       "<Figure size 576x396 with 1 Axes>"
      ]
     },
     "metadata": {},
     "output_type": "display_data"
    }
   ],
   "source": [
    "#calculo de algumas métricas de classificação: matriz de confusao\n",
    "matriz_confusao_gbdt = ConfusionMatrix(GBDT, cmap='GnBu')\n",
    "matriz_confusao_gbdt.fit(X_over_train, Y_over_train)\n",
    "matriz_confusao_gbdt.score(X_over_validacao, Y_over_validacao)"
   ]
  },
  {
   "cell_type": "code",
   "execution_count": null,
   "id": "f51fdea8",
   "metadata": {
    "id": "f51fdea8",
    "outputId": "29f7a07b-c44f-479b-c71f-d34f1feea2af"
   },
   "outputs": [
    {
     "name": "stdout",
     "output_type": "stream",
     "text": [
      "              precision    recall  f1-score   support\n",
      "\n",
      "           0       0.84      0.92      0.88     53991\n",
      "           1       0.91      0.83      0.87     53991\n",
      "\n",
      "    accuracy                           0.88    107982\n",
      "   macro avg       0.88      0.88      0.87    107982\n",
      "weighted avg       0.88      0.88      0.87    107982\n",
      "\n"
     ]
    }
   ],
   "source": [
    "#printa as métricas de classificação\n",
    "print(classification_report(Y_over_validacao, previsoes_gbdt))"
   ]
  },
  {
   "cell_type": "code",
   "execution_count": null,
   "id": "00bbd01b",
   "metadata": {
    "id": "00bbd01b",
    "outputId": "444d85ce-30df-4e61-d485-8bcd22002b5a"
   },
   "outputs": [
    {
     "data": {
      "image/png": "[encoded data removed]",
      "text/plain": [
       "<Figure size 576x396 with 1 Axes>"
      ]
     },
     "metadata": {},
     "output_type": "display_data"
    }
   ],
   "source": [
    "roc_gbdt = plot_roc_curve(Y_over_validacao, previsoes_gbdt, 'GBDT')"
   ]
  },
  {
   "cell_type": "code",
   "execution_count": null,
   "id": "905fc08d",
   "metadata": {
    "id": "905fc08d",
    "outputId": "24e1b813-0449-4c5e-e699-dfb6d483da93"
   },
   "outputs": [
    {
     "data": {
      "image/png": "[encoded data removed]",
      "text/plain": [
       "<Figure size 576x396 with 1 Axes>"
      ]
     },
     "metadata": {},
     "output_type": "display_data"
    }
   ],
   "source": [
    "logloss_gbdt = plot_curva_learning(GBDT, 'GBDT')"
   ]
  },
  {
   "cell_type": "code",
   "execution_count": null,
   "id": "3ba6ca3e",
   "metadata": {
    "id": "3ba6ca3e",
    "outputId": "00d665af-5b57-4c31-e028-aa5fd829e7e6"
   },
   "outputs": [
    {
     "data": {
      "text/plain": [
       "<AxesSubplot:>"
      ]
     },
     "execution_count": 314,
     "metadata": {},
     "output_type": "execute_result"
    },
    {
     "data": {
      "image/png": "[encoded data removed]",
      "text/plain": [
       "<Figure size 576x396 with 1 Axes>"
      ]
     },
     "metadata": {},
     "output_type": "display_data"
    }
   ],
   "source": [
    "feat_importances = pd.Series(GBDT.feature_importances_)\n",
    "feat_importances.nlargest(10).plot(kind='barh')"
   ]
  },
  {
   "cell_type": "code",
   "execution_count": null,
   "id": "711b3531",
   "metadata": {
    "id": "711b3531",
    "outputId": "f88a2f09-01b3-49eb-aa0a-89c1eaf39c8b"
   },
   "outputs": [
    {
     "name": "stderr",
     "output_type": "stream",
     "text": [
      "/opt/anaconda3/lib/python3.9/site-packages/xgboost/sklearn.py:1224: UserWarning: The use of label encoder in XGBClassifier is deprecated and will be removed in a future release. To remove this warning, do the following: 1) Pass option use_label_encoder=False when constructing XGBClassifier object; and 2) Encode your labels (y) as integers starting with 0, i.e. 0, 1, 2, ..., [num_class - 1].\n",
      "  warnings.warn(label_encoder_deprecation_msg, UserWarning)\n"
     ]
    },
    {
     "name": "stdout",
     "output_type": "stream",
     "text": [
      "[20:59:40] WARNING: ../src/learner.cc:1115: Starting in XGBoost 1.3.0, the default evaluation metric used with the objective 'binary:logistic' was changed from 'error' to 'logloss'. Explicitly set eval_metric if you'd like to restore the old behavior.\n"
     ]
    },
    {
     "name": "stderr",
     "output_type": "stream",
     "text": [
      "/opt/anaconda3/lib/python3.9/site-packages/xgboost/sklearn.py:1224: UserWarning: The use of label encoder in XGBClassifier is deprecated and will be removed in a future release. To remove this warning, do the following: 1) Pass option use_label_encoder=False when constructing XGBClassifier object; and 2) Encode your labels (y) as integers starting with 0, i.e. 0, 1, 2, ..., [num_class - 1].\n",
      "  warnings.warn(label_encoder_deprecation_msg, UserWarning)\n"
     ]
    },
    {
     "name": "stdout",
     "output_type": "stream",
     "text": [
      "[21:02:43] WARNING: ../src/learner.cc:1115: Starting in XGBoost 1.3.0, the default evaluation metric used with the objective 'binary:logistic' was changed from 'error' to 'logloss'. Explicitly set eval_metric if you'd like to restore the old behavior.\n"
     ]
    },
    {
     "name": "stderr",
     "output_type": "stream",
     "text": [
      "/opt/anaconda3/lib/python3.9/site-packages/xgboost/sklearn.py:1224: UserWarning: The use of label encoder in XGBClassifier is deprecated and will be removed in a future release. To remove this warning, do the following: 1) Pass option use_label_encoder=False when constructing XGBClassifier object; and 2) Encode your labels (y) as integers starting with 0, i.e. 0, 1, 2, ..., [num_class - 1].\n",
      "  warnings.warn(label_encoder_deprecation_msg, UserWarning)\n"
     ]
    },
    {
     "name": "stdout",
     "output_type": "stream",
     "text": [
      "[21:05:20] WARNING: ../src/learner.cc:1115: Starting in XGBoost 1.3.0, the default evaluation metric used with the objective 'binary:logistic' was changed from 'error' to 'logloss'. Explicitly set eval_metric if you'd like to restore the old behavior.\n"
     ]
    },
    {
     "name": "stderr",
     "output_type": "stream",
     "text": [
      "/opt/anaconda3/lib/python3.9/site-packages/xgboost/sklearn.py:1224: UserWarning: The use of label encoder in XGBClassifier is deprecated and will be removed in a future release. To remove this warning, do the following: 1) Pass option use_label_encoder=False when constructing XGBClassifier object; and 2) Encode your labels (y) as integers starting with 0, i.e. 0, 1, 2, ..., [num_class - 1].\n",
      "  warnings.warn(label_encoder_deprecation_msg, UserWarning)\n"
     ]
    },
    {
     "name": "stdout",
     "output_type": "stream",
     "text": [
      "[21:09:20] WARNING: ../src/learner.cc:1115: Starting in XGBoost 1.3.0, the default evaluation metric used with the objective 'binary:logistic' was changed from 'error' to 'logloss'. Explicitly set eval_metric if you'd like to restore the old behavior.\n"
     ]
    },
    {
     "name": "stderr",
     "output_type": "stream",
     "text": [
      "/opt/anaconda3/lib/python3.9/site-packages/xgboost/sklearn.py:1224: UserWarning: The use of label encoder in XGBClassifier is deprecated and will be removed in a future release. To remove this warning, do the following: 1) Pass option use_label_encoder=False when constructing XGBClassifier object; and 2) Encode your labels (y) as integers starting with 0, i.e. 0, 1, 2, ..., [num_class - 1].\n",
      "  warnings.warn(label_encoder_deprecation_msg, UserWarning)\n"
     ]
    },
    {
     "name": "stdout",
     "output_type": "stream",
     "text": [
      "[21:54:30] WARNING: ../src/learner.cc:1115: Starting in XGBoost 1.3.0, the default evaluation metric used with the objective 'binary:logistic' was changed from 'error' to 'logloss'. Explicitly set eval_metric if you'd like to restore the old behavior.\n"
     ]
    },
    {
     "name": "stderr",
     "output_type": "stream",
     "text": [
      "/opt/anaconda3/lib/python3.9/site-packages/xgboost/sklearn.py:1224: UserWarning: The use of label encoder in XGBClassifier is deprecated and will be removed in a future release. To remove this warning, do the following: 1) Pass option use_label_encoder=False when constructing XGBClassifier object; and 2) Encode your labels (y) as integers starting with 0, i.e. 0, 1, 2, ..., [num_class - 1].\n",
      "  warnings.warn(label_encoder_deprecation_msg, UserWarning)\n"
     ]
    },
    {
     "name": "stdout",
     "output_type": "stream",
     "text": [
      "[22:01:26] WARNING: ../src/learner.cc:1115: Starting in XGBoost 1.3.0, the default evaluation metric used with the objective 'binary:logistic' was changed from 'error' to 'logloss'. Explicitly set eval_metric if you'd like to restore the old behavior.\n"
     ]
    },
    {
     "name": "stderr",
     "output_type": "stream",
     "text": [
      "/opt/anaconda3/lib/python3.9/site-packages/xgboost/sklearn.py:1224: UserWarning: The use of label encoder in XGBClassifier is deprecated and will be removed in a future release. To remove this warning, do the following: 1) Pass option use_label_encoder=False when constructing XGBClassifier object; and 2) Encode your labels (y) as integers starting with 0, i.e. 0, 1, 2, ..., [num_class - 1].\n",
      "  warnings.warn(label_encoder_deprecation_msg, UserWarning)\n"
     ]
    },
    {
     "name": "stdout",
     "output_type": "stream",
     "text": [
      "[22:08:52] WARNING: ../src/learner.cc:1115: Starting in XGBoost 1.3.0, the default evaluation metric used with the objective 'binary:logistic' was changed from 'error' to 'logloss'. Explicitly set eval_metric if you'd like to restore the old behavior.\n"
     ]
    },
    {
     "name": "stderr",
     "output_type": "stream",
     "text": [
      "/opt/anaconda3/lib/python3.9/site-packages/xgboost/sklearn.py:1224: UserWarning: The use of label encoder in XGBClassifier is deprecated and will be removed in a future release. To remove this warning, do the following: 1) Pass option use_label_encoder=False when constructing XGBClassifier object; and 2) Encode your labels (y) as integers starting with 0, i.e. 0, 1, 2, ..., [num_class - 1].\n",
      "  warnings.warn(label_encoder_deprecation_msg, UserWarning)\n"
     ]
    },
    {
     "name": "stdout",
     "output_type": "stream",
     "text": [
      "[22:14:49] WARNING: ../src/learner.cc:1115: Starting in XGBoost 1.3.0, the default evaluation metric used with the objective 'binary:logistic' was changed from 'error' to 'logloss'. Explicitly set eval_metric if you'd like to restore the old behavior.\n"
     ]
    },
    {
     "name": "stderr",
     "output_type": "stream",
     "text": [
      "/opt/anaconda3/lib/python3.9/site-packages/xgboost/sklearn.py:1224: UserWarning: The use of label encoder in XGBClassifier is deprecated and will be removed in a future release. To remove this warning, do the following: 1) Pass option use_label_encoder=False when constructing XGBClassifier object; and 2) Encode your labels (y) as integers starting with 0, i.e. 0, 1, 2, ..., [num_class - 1].\n",
      "  warnings.warn(label_encoder_deprecation_msg, UserWarning)\n"
     ]
    },
    {
     "name": "stdout",
     "output_type": "stream",
     "text": [
      "[22:19:26] WARNING: ../src/learner.cc:1115: Starting in XGBoost 1.3.0, the default evaluation metric used with the objective 'binary:logistic' was changed from 'error' to 'logloss'. Explicitly set eval_metric if you'd like to restore the old behavior.\n"
     ]
    },
    {
     "name": "stderr",
     "output_type": "stream",
     "text": [
      "/opt/anaconda3/lib/python3.9/site-packages/xgboost/sklearn.py:1224: UserWarning: The use of label encoder in XGBClassifier is deprecated and will be removed in a future release. To remove this warning, do the following: 1) Pass option use_label_encoder=False when constructing XGBClassifier object; and 2) Encode your labels (y) as integers starting with 0, i.e. 0, 1, 2, ..., [num_class - 1].\n",
      "  warnings.warn(label_encoder_deprecation_msg, UserWarning)\n"
     ]
    },
    {
     "name": "stdout",
     "output_type": "stream",
     "text": [
      "[23:06:50] WARNING: ../src/learner.cc:1115: Starting in XGBoost 1.3.0, the default evaluation metric used with the objective 'binary:logistic' was changed from 'error' to 'logloss'. Explicitly set eval_metric if you'd like to restore the old behavior.\n"
     ]
    },
    {
     "name": "stderr",
     "output_type": "stream",
     "text": [
      "/opt/anaconda3/lib/python3.9/site-packages/xgboost/sklearn.py:1224: UserWarning: The use of label encoder in XGBClassifier is deprecated and will be removed in a future release. To remove this warning, do the following: 1) Pass option use_label_encoder=False when constructing XGBClassifier object; and 2) Encode your labels (y) as integers starting with 0, i.e. 0, 1, 2, ..., [num_class - 1].\n",
      "  warnings.warn(label_encoder_deprecation_msg, UserWarning)\n"
     ]
    },
    {
     "name": "stdout",
     "output_type": "stream",
     "text": [
      "[23:16:09] WARNING: ../src/learner.cc:1115: Starting in XGBoost 1.3.0, the default evaluation metric used with the objective 'binary:logistic' was changed from 'error' to 'logloss'. Explicitly set eval_metric if you'd like to restore the old behavior.\n"
     ]
    },
    {
     "name": "stderr",
     "output_type": "stream",
     "text": [
      "/opt/anaconda3/lib/python3.9/site-packages/xgboost/sklearn.py:1224: UserWarning: The use of label encoder in XGBClassifier is deprecated and will be removed in a future release. To remove this warning, do the following: 1) Pass option use_label_encoder=False when constructing XGBClassifier object; and 2) Encode your labels (y) as integers starting with 0, i.e. 0, 1, 2, ..., [num_class - 1].\n",
      "  warnings.warn(label_encoder_deprecation_msg, UserWarning)\n"
     ]
    },
    {
     "name": "stdout",
     "output_type": "stream",
     "text": [
      "[01:28:53] WARNING: ../src/learner.cc:1115: Starting in XGBoost 1.3.0, the default evaluation metric used with the objective 'binary:logistic' was changed from 'error' to 'logloss'. Explicitly set eval_metric if you'd like to restore the old behavior.\n"
     ]
    },
    {
     "name": "stderr",
     "output_type": "stream",
     "text": [
      "/opt/anaconda3/lib/python3.9/site-packages/xgboost/sklearn.py:1224: UserWarning: The use of label encoder in XGBClassifier is deprecated and will be removed in a future release. To remove this warning, do the following: 1) Pass option use_label_encoder=False when constructing XGBClassifier object; and 2) Encode your labels (y) as integers starting with 0, i.e. 0, 1, 2, ..., [num_class - 1].\n",
      "  warnings.warn(label_encoder_deprecation_msg, UserWarning)\n"
     ]
    },
    {
     "name": "stdout",
     "output_type": "stream",
     "text": [
      "[01:41:18] WARNING: ../src/learner.cc:1115: Starting in XGBoost 1.3.0, the default evaluation metric used with the objective 'binary:logistic' was changed from 'error' to 'logloss'. Explicitly set eval_metric if you'd like to restore the old behavior.\n"
     ]
    },
    {
     "name": "stderr",
     "output_type": "stream",
     "text": [
      "/opt/anaconda3/lib/python3.9/site-packages/xgboost/sklearn.py:1224: UserWarning: The use of label encoder in XGBClassifier is deprecated and will be removed in a future release. To remove this warning, do the following: 1) Pass option use_label_encoder=False when constructing XGBClassifier object; and 2) Encode your labels (y) as integers starting with 0, i.e. 0, 1, 2, ..., [num_class - 1].\n",
      "  warnings.warn(label_encoder_deprecation_msg, UserWarning)\n"
     ]
    },
    {
     "name": "stdout",
     "output_type": "stream",
     "text": [
      "[07:30:26] WARNING: ../src/learner.cc:1115: Starting in XGBoost 1.3.0, the default evaluation metric used with the objective 'binary:logistic' was changed from 'error' to 'logloss'. Explicitly set eval_metric if you'd like to restore the old behavior.\n"
     ]
    },
    {
     "name": "stderr",
     "output_type": "stream",
     "text": [
      "/opt/anaconda3/lib/python3.9/site-packages/xgboost/sklearn.py:1224: UserWarning: The use of label encoder in XGBClassifier is deprecated and will be removed in a future release. To remove this warning, do the following: 1) Pass option use_label_encoder=False when constructing XGBClassifier object; and 2) Encode your labels (y) as integers starting with 0, i.e. 0, 1, 2, ..., [num_class - 1].\n",
      "  warnings.warn(label_encoder_deprecation_msg, UserWarning)\n"
     ]
    },
    {
     "name": "stdout",
     "output_type": "stream",
     "text": [
      "[07:39:20] WARNING: ../src/learner.cc:1115: Starting in XGBoost 1.3.0, the default evaluation metric used with the objective 'binary:logistic' was changed from 'error' to 'logloss'. Explicitly set eval_metric if you'd like to restore the old behavior.\n"
     ]
    },
    {
     "name": "stderr",
     "output_type": "stream",
     "text": [
      "/opt/anaconda3/lib/python3.9/site-packages/xgboost/sklearn.py:1224: UserWarning: The use of label encoder in XGBClassifier is deprecated and will be removed in a future release. To remove this warning, do the following: 1) Pass option use_label_encoder=False when constructing XGBClassifier object; and 2) Encode your labels (y) as integers starting with 0, i.e. 0, 1, 2, ..., [num_class - 1].\n",
      "  warnings.warn(label_encoder_deprecation_msg, UserWarning)\n"
     ]
    },
    {
     "name": "stdout",
     "output_type": "stream",
     "text": [
      "[08:27:02] WARNING: ../src/learner.cc:1115: Starting in XGBoost 1.3.0, the default evaluation metric used with the objective 'binary:logistic' was changed from 'error' to 'logloss'. Explicitly set eval_metric if you'd like to restore the old behavior.\n"
     ]
    },
    {
     "name": "stderr",
     "output_type": "stream",
     "text": [
      "/opt/anaconda3/lib/python3.9/site-packages/xgboost/sklearn.py:1224: UserWarning: The use of label encoder in XGBClassifier is deprecated and will be removed in a future release. To remove this warning, do the following: 1) Pass option use_label_encoder=False when constructing XGBClassifier object; and 2) Encode your labels (y) as integers starting with 0, i.e. 0, 1, 2, ..., [num_class - 1].\n",
      "  warnings.warn(label_encoder_deprecation_msg, UserWarning)\n"
     ]
    },
    {
     "name": "stdout",
     "output_type": "stream",
     "text": [
      "[10:16:50] WARNING: ../src/learner.cc:1115: Starting in XGBoost 1.3.0, the default evaluation metric used with the objective 'binary:logistic' was changed from 'error' to 'logloss'. Explicitly set eval_metric if you'd like to restore the old behavior.\n"
     ]
    },
    {
     "name": "stderr",
     "output_type": "stream",
     "text": [
      "/opt/anaconda3/lib/python3.9/site-packages/xgboost/sklearn.py:1224: UserWarning: The use of label encoder in XGBClassifier is deprecated and will be removed in a future release. To remove this warning, do the following: 1) Pass option use_label_encoder=False when constructing XGBClassifier object; and 2) Encode your labels (y) as integers starting with 0, i.e. 0, 1, 2, ..., [num_class - 1].\n",
      "  warnings.warn(label_encoder_deprecation_msg, UserWarning)\n"
     ]
    },
    {
     "name": "stdout",
     "output_type": "stream",
     "text": [
      "[10:46:24] WARNING: ../src/learner.cc:1115: Starting in XGBoost 1.3.0, the default evaluation metric used with the objective 'binary:logistic' was changed from 'error' to 'logloss'. Explicitly set eval_metric if you'd like to restore the old behavior.\n"
     ]
    },
    {
     "name": "stderr",
     "output_type": "stream",
     "text": [
      "/opt/anaconda3/lib/python3.9/site-packages/xgboost/sklearn.py:1224: UserWarning: The use of label encoder in XGBClassifier is deprecated and will be removed in a future release. To remove this warning, do the following: 1) Pass option use_label_encoder=False when constructing XGBClassifier object; and 2) Encode your labels (y) as integers starting with 0, i.e. 0, 1, 2, ..., [num_class - 1].\n",
      "  warnings.warn(label_encoder_deprecation_msg, UserWarning)\n"
     ]
    },
    {
     "name": "stdout",
     "output_type": "stream",
     "text": [
      "[11:04:09] WARNING: ../src/learner.cc:1115: Starting in XGBoost 1.3.0, the default evaluation metric used with the objective 'binary:logistic' was changed from 'error' to 'logloss'. Explicitly set eval_metric if you'd like to restore the old behavior.\n"
     ]
    },
    {
     "data": {
      "text/html": [
       "<style>#sk-container-id-20 {color: black;background-color: white;}#sk-container-id-20 pre{padding: 0;}#sk-container-id-20 div.sk-toggleable {background-color: white;}#sk-container-id-20 label.sk-toggleable__label {cursor: pointer;display: block;width: 100%;margin-bottom: 0;padding: 0.3em;box-sizing: border-box;text-align: center;}#sk-container-id-20 label.sk-toggleable__label-arrow:before {content: \"▸\";float: left;margin-right: 0.25em;color: #696969;}#sk-container-id-20 label.sk-toggleable__label-arrow:hover:before {color: black;}#sk-container-id-20 div.sk-estimator:hover label.sk-toggleable__label-arrow:before {color: black;}#sk-container-id-20 div.sk-toggleable__content {max-height: 0;max-width: 0;overflow: hidden;text-align: left;background-color: #f0f8ff;}#sk-container-id-20 div.sk-toggleable__content pre {margin: 0.2em;color: black;border-radius: 0.25em;background-color: #f0f8ff;}#sk-container-id-20 input.sk-toggleable__control:checked~div.sk-toggleable__content {max-height: 200px;max-width: 100%;overflow: auto;}#sk-container-id-20 input.sk-toggleable__control:checked~label.sk-toggleable__label-arrow:before {content: \"▾\";}#sk-container-id-20 div.sk-estimator input.sk-toggleable__control:checked~label.sk-toggleable__label {background-color: #d4ebff;}#sk-container-id-20 div.sk-label input.sk-toggleable__control:checked~label.sk-toggleable__label {background-color: #d4ebff;}#sk-container-id-20 input.sk-hidden--visually {border: 0;clip: rect(1px 1px 1px 1px);clip: rect(1px, 1px, 1px, 1px);height: 1px;margin: -1px;overflow: hidden;padding: 0;position: absolute;width: 1px;}#sk-container-id-20 div.sk-estimator {font-family: monospace;background-color: #f0f8ff;border: 1px dotted black;border-radius: 0.25em;box-sizing: border-box;margin-bottom: 0.5em;}#sk-container-id-20 div.sk-estimator:hover {background-color: #d4ebff;}#sk-container-id-20 div.sk-parallel-item::after {content: \"\";width: 100%;border-bottom: 1px solid gray;flex-grow: 1;}#sk-container-id-20 div.sk-label:hover label.sk-toggleable__label {background-color: #d4ebff;}#sk-container-id-20 div.sk-serial::before {content: \"\";position: absolute;border-left: 1px solid gray;box-sizing: border-box;top: 0;bottom: 0;left: 50%;z-index: 0;}#sk-container-id-20 div.sk-serial {display: flex;flex-direction: column;align-items: center;background-color: white;padding-right: 0.2em;padding-left: 0.2em;position: relative;}#sk-container-id-20 div.sk-item {position: relative;z-index: 1;}#sk-container-id-20 div.sk-parallel {display: flex;align-items: stretch;justify-content: center;background-color: white;position: relative;}#sk-container-id-20 div.sk-item::before, #sk-container-id-20 div.sk-parallel-item::before {content: \"\";position: absolute;border-left: 1px solid gray;box-sizing: border-box;top: 0;bottom: 0;left: 50%;z-index: -1;}#sk-container-id-20 div.sk-parallel-item {display: flex;flex-direction: column;z-index: 1;position: relative;background-color: white;}#sk-container-id-20 div.sk-parallel-item:first-child::after {align-self: flex-end;width: 50%;}#sk-container-id-20 div.sk-parallel-item:last-child::after {align-self: flex-start;width: 50%;}#sk-container-id-20 div.sk-parallel-item:only-child::after {width: 0;}#sk-container-id-20 div.sk-dashed-wrapped {border: 1px dashed gray;margin: 0 0.4em 0.5em 0.4em;box-sizing: border-box;padding-bottom: 0.4em;background-color: white;}#sk-container-id-20 div.sk-label label {font-family: monospace;font-weight: bold;display: inline-block;line-height: 1.2em;}#sk-container-id-20 div.sk-label-container {text-align: center;}#sk-container-id-20 div.sk-container {/* jupyter's `normalize.less` sets `[hidden] { display: none; }` but bootstrap.min.css set `[hidden] { display: none !important; }` so we also need the `!important` here to be able to override the default hidden behavior on the sphinx rendered scikit-learn.org. See: https://github.com/scikit-learn/scikit-learn/issues/21755 */display: inline-block !important;position: relative;}#sk-container-id-20 div.sk-text-repr-fallback {display: none;}</style><div id=\"sk-container-id-20\" class=\"sk-top-container\"><div class=\"sk-text-repr-fallback\"><pre>GridSearchCV(cv=2,\n",
       "             estimator=XGBClassifier(base_score=None, booster=None,\n",
       "                                     colsample_bylevel=None,\n",
       "                                     colsample_bynode=None,\n",
       "                                     colsample_bytree=None,\n",
       "                                     enable_categorical=False, gamma=None,\n",
       "                                     gpu_id=None, importance_type=None,\n",
       "                                     interaction_constraints=None,\n",
       "                                     learning_rate=None, max_delta_step=None,\n",
       "                                     max_depth=None, min_child_weight=None,\n",
       "                                     missing=nan, monotone_constraints=None,\n",
       "                                     n_estimators=100, n_jobs=None,\n",
       "                                     num_parallel_tree=None, predictor=None,\n",
       "                                     random_state=None, reg_alpha=None,\n",
       "                                     reg_lambda=None, scale_pos_weight=None,\n",
       "                                     subsample=None, tree_method=None,\n",
       "                                     validate_parameters=None, verbosity=None),\n",
       "             param_grid={&#x27;max_depth&#x27;: [3, 5, 9],\n",
       "                         &#x27;n_estimators&#x27;: [100, 150, 200]},\n",
       "             scoring=&#x27;recall&#x27;)</pre><b>In a Jupyter environment, please rerun this cell to show the HTML representation or trust the notebook. <br />On GitHub, the HTML representation is unable to render, please try loading this page with nbviewer.org.</b></div><div class=\"sk-container\" hidden><div class=\"sk-item sk-dashed-wrapped\"><div class=\"sk-label-container\"><div class=\"sk-label sk-toggleable\"><input class=\"sk-toggleable__control sk-hidden--visually\" id=\"sk-estimator-id-28\" type=\"checkbox\" ><label for=\"sk-estimator-id-28\" class=\"sk-toggleable__label sk-toggleable__label-arrow\">GridSearchCV</label><div class=\"sk-toggleable__content\"><pre>GridSearchCV(cv=2,\n",
       "             estimator=XGBClassifier(base_score=None, booster=None,\n",
       "                                     colsample_bylevel=None,\n",
       "                                     colsample_bynode=None,\n",
       "                                     colsample_bytree=None,\n",
       "                                     enable_categorical=False, gamma=None,\n",
       "                                     gpu_id=None, importance_type=None,\n",
       "                                     interaction_constraints=None,\n",
       "                                     learning_rate=None, max_delta_step=None,\n",
       "                                     max_depth=None, min_child_weight=None,\n",
       "                                     missing=nan, monotone_constraints=None,\n",
       "                                     n_estimators=100, n_jobs=None,\n",
       "                                     num_parallel_tree=None, predictor=None,\n",
       "                                     random_state=None, reg_alpha=None,\n",
       "                                     reg_lambda=None, scale_pos_weight=None,\n",
       "                                     subsample=None, tree_method=None,\n",
       "                                     validate_parameters=None, verbosity=None),\n",
       "             param_grid={&#x27;max_depth&#x27;: [3, 5, 9],\n",
       "                         &#x27;n_estimators&#x27;: [100, 150, 200]},\n",
       "             scoring=&#x27;recall&#x27;)</pre></div></div></div><div class=\"sk-parallel\"><div class=\"sk-parallel-item\"><div class=\"sk-item\"><div class=\"sk-label-container\"><div class=\"sk-label sk-toggleable\"><input class=\"sk-toggleable__control sk-hidden--visually\" id=\"sk-estimator-id-29\" type=\"checkbox\" ><label for=\"sk-estimator-id-29\" class=\"sk-toggleable__label sk-toggleable__label-arrow\">estimator: XGBClassifier</label><div class=\"sk-toggleable__content\"><pre>XGBClassifier(base_score=None, booster=None, colsample_bylevel=None,\n",
       "              colsample_bynode=None, colsample_bytree=None,\n",
       "              enable_categorical=False, gamma=None, gpu_id=None,\n",
       "              importance_type=None, interaction_constraints=None,\n",
       "              learning_rate=None, max_delta_step=None, max_depth=None,\n",
       "              min_child_weight=None, missing=nan, monotone_constraints=None,\n",
       "              n_estimators=100, n_jobs=None, num_parallel_tree=None,\n",
       "              predictor=None, random_state=None, reg_alpha=None,\n",
       "              reg_lambda=None, scale_pos_weight=None, subsample=None,\n",
       "              tree_method=None, validate_parameters=None, verbosity=None)</pre></div></div></div><div class=\"sk-serial\"><div class=\"sk-item\"><div class=\"sk-estimator sk-toggleable\"><input class=\"sk-toggleable__control sk-hidden--visually\" id=\"sk-estimator-id-30\" type=\"checkbox\" ><label for=\"sk-estimator-id-30\" class=\"sk-toggleable__label sk-toggleable__label-arrow\">XGBClassifier</label><div class=\"sk-toggleable__content\"><pre>XGBClassifier(base_score=None, booster=None, colsample_bylevel=None,\n",
       "              colsample_bynode=None, colsample_bytree=None,\n",
       "              enable_categorical=False, gamma=None, gpu_id=None,\n",
       "              importance_type=None, interaction_constraints=None,\n",
       "              learning_rate=None, max_delta_step=None, max_depth=None,\n",
       "              min_child_weight=None, missing=nan, monotone_constraints=None,\n",
       "              n_estimators=100, n_jobs=None, num_parallel_tree=None,\n",
       "              predictor=None, random_state=None, reg_alpha=None,\n",
       "              reg_lambda=None, scale_pos_weight=None, subsample=None,\n",
       "              tree_method=None, validate_parameters=None, verbosity=None)</pre></div></div></div></div></div></div></div></div></div></div>"
      ],
      "text/plain": [
       "GridSearchCV(cv=2,\n",
       "             estimator=XGBClassifier(base_score=None, booster=None,\n",
       "                                     colsample_bylevel=None,\n",
       "                                     colsample_bynode=None,\n",
       "                                     colsample_bytree=None,\n",
       "                                     enable_categorical=False, gamma=None,\n",
       "                                     gpu_id=None, importance_type=None,\n",
       "                                     interaction_constraints=None,\n",
       "                                     learning_rate=None, max_delta_step=None,\n",
       "                                     max_depth=None, min_child_weight=None,\n",
       "                                     missing=nan, monotone_constraints=None,\n",
       "                                     n_estimators=100, n_jobs=None,\n",
       "                                     num_parallel_tree=None, predictor=None,\n",
       "                                     random_state=None, reg_alpha=None,\n",
       "                                     reg_lambda=None, scale_pos_weight=None,\n",
       "                                     subsample=None, tree_method=None,\n",
       "                                     validate_parameters=None, verbosity=None),\n",
       "             param_grid={'max_depth': [3, 5, 9],\n",
       "                         'n_estimators': [100, 150, 200]},\n",
       "             scoring='recall')"
      ]
     },
     "execution_count": 241,
     "metadata": {},
     "output_type": "execute_result"
    }
   ],
   "source": [
    "#tunando os hiperparametros da GBDT com o GridSearchCV()\n",
    "parametros_gbdt = {'n_estimators': [100, 150, 200],\n",
    "              'max_depth': [3, 6, 9],\n",
    "                   'learning_rate': [0.1],\n",
    "               }  \n",
    "\n",
    "grid_gbdt = GridSearchCV(estimator=xgb.XGBClassifier(), param_grid=parametros_gbdt, cv=2, scoring='recall', verbose=0)\n",
    "grid_gbdt.fit(X_over_train, Y_over_train)"
   ]
  },
  {
   "cell_type": "code",
   "execution_count": null,
   "id": "386e4a6d",
   "metadata": {
    "id": "386e4a6d",
    "outputId": "5f444929-8d6a-407d-903f-d5289c8d87bc"
   },
   "outputs": [
    {
     "name": "stdout",
     "output_type": "stream",
     "text": [
      "Melhor modelo: XGBClassifier(base_score=0.5, booster='gbtree', colsample_bylevel=1,\n",
      "              colsample_bynode=1, colsample_bytree=1, enable_categorical=False,\n",
      "              gamma=0, gpu_id=-1, importance_type=None,\n",
      "              interaction_constraints='', learning_rate=0.300000012,\n",
      "              max_delta_step=0, max_depth=9, min_child_weight=1, missing=nan,\n",
      "              monotone_constraints='()', n_estimators=200, n_jobs=4,\n",
      "              num_parallel_tree=1, predictor='auto', random_state=0,\n",
      "              reg_alpha=0, reg_lambda=1, scale_pos_weight=1, subsample=1,\n",
      "              tree_method='exact', validate_parameters=1, verbosity=None)\n",
      "Best Score: 0.9375585850643632\n"
     ]
    }
   ],
   "source": [
    "print('Melhor modelo: ' + str(grid_gbdt.best_estimator_))\n",
    "print('Best Score: ' + str(grid_gbdt.best_score_))"
   ]
  },
  {
   "cell_type": "markdown",
   "id": "2b817be1",
   "metadata": {
    "id": "2b817be1"
   },
   "source": [
    "#  <a name=\"secao_5\"> Redes Neurais </a>\n",
    "[Voltar ao índice](#indice)\n",
    "\n",
    "Para a aplicação de redes neurais para resolver o problema, será utilizado uma rede neural simples, implementada pelo sklearn, a MLPClassifier()   (MultiLayer Perceptron).\n",
    "\n",
    "Parâmetros utilizados e variados:\n",
    "   - max_iter (epocas)\n",
    "   - activation = 'logistic'\n",
    "   - hidden_layer_sizes \n",
    "   \n",
    "métrica maximizada: recall \n",
    "\n",
    "O melhor modelo encontrado:\n",
    "   - max_iter (epocas) = 300 (efetivos=78)\n",
    "   - hidden_layer_sizes = (100, 50, 25, 13,7) \n",
    "   \n",
    "Com o recall sendo igual a:\n",
    "   - recall: 0.7827\n",
    "   "
   ]
  },
  {
   "cell_type": "code",
   "execution_count": null,
   "id": "9de19e8b",
   "metadata": {
    "id": "9de19e8b"
   },
   "outputs": [],
   "source": [
    "from sklearn.neural_network import MLPClassifier"
   ]
  },
  {
   "cell_type": "code",
   "execution_count": null,
   "id": "ca162c46",
   "metadata": {
    "id": "ca162c46",
    "outputId": "4bde788f-0ff6-4e7d-aa68-17ea80bcb7d3"
   },
   "outputs": [
    {
     "name": "stdout",
     "output_type": "stream",
     "text": [
      "Iteration 1, loss = 0.53542001\n",
      "Iteration 2, loss = 0.44677791\n",
      "Iteration 3, loss = 0.42955372\n",
      "Iteration 4, loss = 0.41790353\n",
      "Iteration 5, loss = 0.40852673\n",
      "Iteration 6, loss = 0.40211572\n",
      "Iteration 7, loss = 0.39840953\n",
      "Iteration 8, loss = 0.39520447\n",
      "Iteration 9, loss = 0.39263193\n",
      "Iteration 10, loss = 0.39208268\n",
      "Iteration 11, loss = 0.38861466\n",
      "Iteration 12, loss = 0.38704760\n",
      "Iteration 13, loss = 0.38559195\n",
      "Iteration 14, loss = 0.38456952\n",
      "Iteration 15, loss = 0.38319740\n",
      "Iteration 16, loss = 0.38312705\n",
      "Iteration 17, loss = 0.38079588\n",
      "Iteration 18, loss = 0.38012633\n",
      "Iteration 19, loss = 0.37970658\n",
      "Iteration 20, loss = 0.37961185\n",
      "Iteration 21, loss = 0.37846996\n",
      "Iteration 22, loss = 0.37689962\n",
      "Iteration 23, loss = 0.37642540\n",
      "Iteration 24, loss = 0.37599985\n",
      "Iteration 25, loss = 0.37583992\n",
      "Iteration 26, loss = 0.37522522\n",
      "Iteration 27, loss = 0.37379883\n",
      "Iteration 28, loss = 0.37466082\n",
      "Iteration 29, loss = 0.37408275\n",
      "Iteration 30, loss = 0.37262701\n",
      "Iteration 31, loss = 0.37311305\n",
      "Iteration 32, loss = 0.37254718\n",
      "Iteration 33, loss = 0.37140269\n",
      "Iteration 34, loss = 0.37190351\n",
      "Iteration 35, loss = 0.37118288\n",
      "Iteration 36, loss = 0.37017578\n",
      "Iteration 37, loss = 0.37016601\n",
      "Iteration 38, loss = 0.37028807\n",
      "Iteration 39, loss = 0.37095760\n",
      "Iteration 40, loss = 0.36957415\n",
      "Iteration 41, loss = 0.36902833\n",
      "Iteration 42, loss = 0.36941997\n",
      "Iteration 43, loss = 0.36942968\n",
      "Iteration 44, loss = 0.36859622\n",
      "Iteration 45, loss = 0.36727309\n",
      "Iteration 46, loss = 0.36802006\n",
      "Iteration 47, loss = 0.36782160\n",
      "Iteration 48, loss = 0.36712949\n",
      "Iteration 49, loss = 0.36672762\n",
      "Iteration 50, loss = 0.36730698\n",
      "Iteration 51, loss = 0.36703879\n",
      "Iteration 52, loss = 0.36712693\n",
      "Iteration 53, loss = 0.36654451\n",
      "Iteration 54, loss = 0.36672788\n",
      "Iteration 55, loss = 0.36611729\n",
      "Iteration 56, loss = 0.36619253\n",
      "Iteration 57, loss = 0.36725289\n",
      "Iteration 58, loss = 0.36543103\n",
      "Iteration 59, loss = 0.36567470\n",
      "Iteration 60, loss = 0.36513414\n",
      "Iteration 61, loss = 0.36507551\n",
      "Iteration 62, loss = 0.36494820\n",
      "Iteration 63, loss = 0.36507847\n",
      "Iteration 64, loss = 0.36582343\n",
      "Iteration 65, loss = 0.36490146\n",
      "Iteration 66, loss = 0.36456060\n",
      "Iteration 67, loss = 0.36314346\n",
      "Iteration 68, loss = 0.36383889\n",
      "Iteration 69, loss = 0.36379870\n",
      "Iteration 70, loss = 0.36409443\n",
      "Iteration 71, loss = 0.36372503\n",
      "Iteration 72, loss = 0.36422168\n",
      "Iteration 73, loss = 0.36361017\n",
      "Iteration 74, loss = 0.36465178\n",
      "Iteration 75, loss = 0.36352427\n",
      "Iteration 76, loss = 0.36306807\n",
      "Iteration 77, loss = 0.36350422\n",
      "Iteration 78, loss = 0.36367897\n",
      "Training loss did not improve more than tol=0.000100 for 10 consecutive epochs. Stopping.\n"
     ]
    },
    {
     "data": {
      "text/html": [
       "<style>#sk-container-id-40 {color: black;background-color: white;}#sk-container-id-40 pre{padding: 0;}#sk-container-id-40 div.sk-toggleable {background-color: white;}#sk-container-id-40 label.sk-toggleable__label {cursor: pointer;display: block;width: 100%;margin-bottom: 0;padding: 0.3em;box-sizing: border-box;text-align: center;}#sk-container-id-40 label.sk-toggleable__label-arrow:before {content: \"▸\";float: left;margin-right: 0.25em;color: #696969;}#sk-container-id-40 label.sk-toggleable__label-arrow:hover:before {color: black;}#sk-container-id-40 div.sk-estimator:hover label.sk-toggleable__label-arrow:before {color: black;}#sk-container-id-40 div.sk-toggleable__content {max-height: 0;max-width: 0;overflow: hidden;text-align: left;background-color: #f0f8ff;}#sk-container-id-40 div.sk-toggleable__content pre {margin: 0.2em;color: black;border-radius: 0.25em;background-color: #f0f8ff;}#sk-container-id-40 input.sk-toggleable__control:checked~div.sk-toggleable__content {max-height: 200px;max-width: 100%;overflow: auto;}#sk-container-id-40 input.sk-toggleable__control:checked~label.sk-toggleable__label-arrow:before {content: \"▾\";}#sk-container-id-40 div.sk-estimator input.sk-toggleable__control:checked~label.sk-toggleable__label {background-color: #d4ebff;}#sk-container-id-40 div.sk-label input.sk-toggleable__control:checked~label.sk-toggleable__label {background-color: #d4ebff;}#sk-container-id-40 input.sk-hidden--visually {border: 0;clip: rect(1px 1px 1px 1px);clip: rect(1px, 1px, 1px, 1px);height: 1px;margin: -1px;overflow: hidden;padding: 0;position: absolute;width: 1px;}#sk-container-id-40 div.sk-estimator {font-family: monospace;background-color: #f0f8ff;border: 1px dotted black;border-radius: 0.25em;box-sizing: border-box;margin-bottom: 0.5em;}#sk-container-id-40 div.sk-estimator:hover {background-color: #d4ebff;}#sk-container-id-40 div.sk-parallel-item::after {content: \"\";width: 100%;border-bottom: 1px solid gray;flex-grow: 1;}#sk-container-id-40 div.sk-label:hover label.sk-toggleable__label {background-color: #d4ebff;}#sk-container-id-40 div.sk-serial::before {content: \"\";position: absolute;border-left: 1px solid gray;box-sizing: border-box;top: 0;bottom: 0;left: 50%;z-index: 0;}#sk-container-id-40 div.sk-serial {display: flex;flex-direction: column;align-items: center;background-color: white;padding-right: 0.2em;padding-left: 0.2em;position: relative;}#sk-container-id-40 div.sk-item {position: relative;z-index: 1;}#sk-container-id-40 div.sk-parallel {display: flex;align-items: stretch;justify-content: center;background-color: white;position: relative;}#sk-container-id-40 div.sk-item::before, #sk-container-id-40 div.sk-parallel-item::before {content: \"\";position: absolute;border-left: 1px solid gray;box-sizing: border-box;top: 0;bottom: 0;left: 50%;z-index: -1;}#sk-container-id-40 div.sk-parallel-item {display: flex;flex-direction: column;z-index: 1;position: relative;background-color: white;}#sk-container-id-40 div.sk-parallel-item:first-child::after {align-self: flex-end;width: 50%;}#sk-container-id-40 div.sk-parallel-item:last-child::after {align-self: flex-start;width: 50%;}#sk-container-id-40 div.sk-parallel-item:only-child::after {width: 0;}#sk-container-id-40 div.sk-dashed-wrapped {border: 1px dashed gray;margin: 0 0.4em 0.5em 0.4em;box-sizing: border-box;padding-bottom: 0.4em;background-color: white;}#sk-container-id-40 div.sk-label label {font-family: monospace;font-weight: bold;display: inline-block;line-height: 1.2em;}#sk-container-id-40 div.sk-label-container {text-align: center;}#sk-container-id-40 div.sk-container {/* jupyter's `normalize.less` sets `[hidden] { display: none; }` but bootstrap.min.css set `[hidden] { display: none !important; }` so we also need the `!important` here to be able to override the default hidden behavior on the sphinx rendered scikit-learn.org. See: https://github.com/scikit-learn/scikit-learn/issues/21755 */display: inline-block !important;position: relative;}#sk-container-id-40 div.sk-text-repr-fallback {display: none;}</style><div id=\"sk-container-id-40\" class=\"sk-top-container\"><div class=\"sk-text-repr-fallback\"><pre>MLPClassifier(activation=&#x27;logistic&#x27;, hidden_layer_sizes=(100, 50, 25, 13, 7),\n",
       "              max_iter=300, random_state=0, verbose=True)</pre><b>In a Jupyter environment, please rerun this cell to show the HTML representation or trust the notebook. <br />On GitHub, the HTML representation is unable to render, please try loading this page with nbviewer.org.</b></div><div class=\"sk-container\" hidden><div class=\"sk-item\"><div class=\"sk-estimator sk-toggleable\"><input class=\"sk-toggleable__control sk-hidden--visually\" id=\"sk-estimator-id-50\" type=\"checkbox\" checked><label for=\"sk-estimator-id-50\" class=\"sk-toggleable__label sk-toggleable__label-arrow\">MLPClassifier</label><div class=\"sk-toggleable__content\"><pre>MLPClassifier(activation=&#x27;logistic&#x27;, hidden_layer_sizes=(100, 50, 25, 13, 7),\n",
       "              max_iter=300, random_state=0, verbose=True)</pre></div></div></div></div></div>"
      ],
      "text/plain": [
       "MLPClassifier(activation='logistic', hidden_layer_sizes=(100, 50, 25, 13, 7),\n",
       "              max_iter=300, random_state=0, verbose=True)"
      ]
     },
     "execution_count": 380,
     "metadata": {},
     "output_type": "execute_result"
    }
   ],
   "source": [
    "# 200 (neuronios entrada) -> 100 (1 camada oculta com 100 neuronios) -> 1 (neuronio saida)\n",
    "rede_neural = MLPClassifier(max_iter=300, verbose=True, hidden_layer_sizes = (100, 50, 25, 13,7), activation='logistic', random_state=0)\n",
    "rede_neural.fit(X_over_train, Y_over_train)"
   ]
  },
  {
   "cell_type": "code",
   "execution_count": null,
   "id": "d8bb2ae1",
   "metadata": {
    "id": "d8bb2ae1",
    "outputId": "40de3372-90aa-41a8-bc4f-d40db3165dfe"
   },
   "outputs": [
    {
     "data": {
      "text/plain": [
       "0.7826860032227594"
      ]
     },
     "execution_count": 382,
     "metadata": {},
     "output_type": "execute_result"
    }
   ],
   "source": [
    "previsoes_rn = rede_neural.predict(X_over_validacao)\n",
    "recall_score(Y_over_validacao, previsoes_rn)"
   ]
  },
  {
   "cell_type": "code",
   "execution_count": null,
   "id": "cedca433",
   "metadata": {
    "id": "cedca433",
    "outputId": "61db6d5a-a134-4c85-a7ed-a01d00c6029b"
   },
   "outputs": [
    {
     "data": {
      "text/plain": [
       "0.7909373784519642"
      ]
     },
     "execution_count": 383,
     "metadata": {},
     "output_type": "execute_result"
    },
    {
     "data": {
      "image/png": "[encoded data removed]",
      "text/plain": [
       "<Figure size 576x396 with 1 Axes>"
      ]
     },
     "metadata": {},
     "output_type": "display_data"
    }
   ],
   "source": [
    "matriz_confusao_rn = ConfusionMatrix(rede_neural, cmap='GnBu')\n",
    "matriz_confusao_rn.fit(X_over_train, Y_over_train)\n",
    "matriz_confusao_rn.score(X_over_validacao, Y_over_validacao)"
   ]
  },
  {
   "cell_type": "code",
   "execution_count": null,
   "id": "de4efdbf",
   "metadata": {
    "id": "de4efdbf",
    "outputId": "373cbdc5-d832-4891-98e3-73712f6c21ce"
   },
   "outputs": [
    {
     "name": "stdout",
     "output_type": "stream",
     "text": [
      "              precision    recall  f1-score   support\n",
      "\n",
      "           0       0.79      0.80      0.79     53991\n",
      "           1       0.80      0.78      0.79     53991\n",
      "\n",
      "    accuracy                           0.79    107982\n",
      "   macro avg       0.79      0.79      0.79    107982\n",
      "weighted avg       0.79      0.79      0.79    107982\n",
      "\n"
     ]
    }
   ],
   "source": [
    "print(classification_report(Y_over_validacao, previsoes_rn))"
   ]
  },
  {
   "cell_type": "code",
   "execution_count": null,
   "id": "5fdf89bc",
   "metadata": {
    "id": "5fdf89bc",
    "outputId": "ecd69aa4-c66d-4b38-f05e-589437ffe546"
   },
   "outputs": [
    {
     "data": {
      "image/png": "[encoded data removed]",
      "text/plain": [
       "<Figure size 576x396 with 1 Axes>"
      ]
     },
     "metadata": {},
     "output_type": "display_data"
    }
   ],
   "source": [
    "roc_redeneural = plot_roc_curve(Y_over_validacao, previsoes_rn, 'Rede Neural (MLP)')"
   ]
  },
  {
   "cell_type": "markdown",
   "id": "6c9fe7c1",
   "metadata": {
    "id": "6c9fe7c1"
   },
   "source": [
    "#  <a name=\"secao_6\"> Comparação Entre os Modelos </a>\n",
    "[Voltar ao índice](#indice)   "
   ]
  },
  {
   "cell_type": "markdown",
   "id": "030b32c6",
   "metadata": {
    "id": "030b32c6"
   },
   "source": [
    "Os modelos foram avaliados segundo a métrica **recall**. De forma que, resumidamente, obtivemos os seguintes resultados:\n",
    "\n",
    "   -  **Random Forest**: 0.72\n",
    "   - **Regressão Logistica**: 0.80\n",
    "   - **GBDT**: 0.82\n",
    "   - **Rede Neural**: 0.78    \n",
    "   \n",
    "Com isso, olhando apenas para o recall, a GBDT demonstrou possuir uma melhor performance, apesar de ter apresentado overfiting com o modelo retornado pelo GridSearchCV(). \n",
    "A GBDT também apresenta uma melhor curva ROC, estando mais localizada ao canto superior esquerdo do gráfico, sua AUC foi igual a 0.88."
   ]
  },
  {
   "cell_type": "code",
   "execution_count": null,
   "id": "e1cafcc5",
   "metadata": {
    "id": "e1cafcc5",
    "outputId": "4679b6bf-ea4b-4407-98d5-d2554af185b8"
   },
   "outputs": [
    {
     "data": {
      "image/png": "[encoded data removed]",
      "text/plain": [
       "<Figure size 576x396 with 1 Axes>"
      ]
     },
     "metadata": {},
     "output_type": "display_data"
    }
   ],
   "source": [
    "plot_roc_curve(Y_over_validacao, previsoes_random_forest, 'Random Forest', 'lightseagreen')\n",
    "plot_roc_curve(Y_over_validacao, previsoes_logistic, 'Regressão Logística', 'darkolivegreen')\n",
    "plot_roc_curve(Y_over_validacao, previsoes_gbdt, 'GBDT', 'red')\n",
    "plot_roc_curve(Y_over_validacao, previsoes_rn, 'Rede Neural (MLP)', 'orange')\n",
    "plt.show()"
   ]
  },
  {
   "cell_type": "markdown",
   "id": "994ece9c",
   "metadata": {
    "id": "994ece9c"
   },
   "source": [
    "#  <a name=\"secao_7\"> Conclusão do desafio </a>\n",
    "[Voltar ao índice](#indice)\n",
    "\n",
    "Como o problema proposto no desafio era bastante aberto, foi escolhido uma abordagem exploratória de modelos de Machine Learning para realizar a previsão de uma possível tranasação envolvendo clientes do banco Santander. O problema envolveu um banco de dados do Kaggle e consistiu de um problema de classificação binária, também preferido pelo enunciado do desafio. \n",
    "\n",
    "O pré processamento foi curto uma vez que o dados eram bastante limpos e comportados, bastando apenas de um processo de balanceamento, no qual se usou uma técnica de oversampling. A análise preditiva de classificação buscou testar desde os modelos mais simples, como a Regressão Logística, até os mais sofisticados, como o GBDT. O que se observou foi que apesar do nivel de complexidade entre estas duas técnicas ser bastante diferente, ambas retornaram um valor de recall bastante próximos, de forma que o custo-benefício tende a Regressão Logística. \n",
    "\n",
    "O pior valor encontrado foi referente ao Random Forest.\n",
    "\n",
    "A verificação de overfitting foi realizada apenas para o GBDT, mas poderia ter sido feito para todos os demais modelos. "
   ]
  }
 ],
 "metadata": {
  "colab": {
   "provenance": []
  },
  "kernelspec": {
   "display_name": "Python 3 (ipykernel)",
   "language": "python",
   "name": "python3"
  },
  "language_info": {
   "codemirror_mode": {
    "name": "ipython",
    "version": 3
   },
   "file_extension": ".py",
   "mimetype": "text/x-python",
   "name": "python",
   "nbconvert_exporter": "python",
   "pygments_lexer": "ipython3",
   "version": "3.9.7"
  }
 },
 "nbformat": 4,
 "nbformat_minor": 5
}
