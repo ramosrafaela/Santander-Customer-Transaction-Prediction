{
 "cells": [
  {
   "cell_type": "markdown",
   "id": "8d0a0b83",
   "metadata": {
    "id": "8d0a0b83"
   },
   "source": [
    "**Autora** : Rafaela Ramos Sarmento\n",
    "\n",
    "**e-mail**: rafaelaramos.datasci@gmail.com"
   ]
  },
  {
   "cell_type": "markdown",
   "id": "e11d7da9",
   "metadata": {
    "id": "e11d7da9"
   },
   "source": [
    "#  <a name=\"resumo\"> RESUMO </a>\n",
    "[Voltar ao índice](#indice)\n",
    "\n",
    "A Base de dados trabalhada é a **'Santander Customer Transaction Prediction' disponível no link:** https://www.kaggle.com/c/santander-customer-transaction-prediction\n",
    "\n",
    "Essa base de dados envolve um problema de classificação binária, isto é, a partir das features disponíveis, decidir se caso é X ou Y, ou de maneira binária, 0 ou 1.\n"
   ]
  },
  {
   "cell_type": "markdown",
   "id": "94ada09c",
   "metadata": {
    "id": "94ada09c"
   },
   "source": [
    "#  <a name=\"indice\">  Índice </a>"
   ]
  },
  {
   "cell_type": "markdown",
   "id": "a0d85f63",
   "metadata": {
    "id": "a0d85f63"
   },
   "source": [
    "* [Resumo](#resumo)\n",
    "* [Índice](#indice)\n",
    "* [Problema a ser analisado](#secao_0)\n",
    "* [Análise descritiva e exploratória](#secao_1)\n",
    "* [Random Forest](#secao_2)\n",
    "* [Regressão Logística](#secao_3)\n",
    "* [GBDT - XGBOOST](#secao_4)\n",
    "* [Redes Neurais](#secao_5)\n",
    "* [Comparação Entre  os Modelos](#secao_6)\n",
    "* [Conclusão do Desafio](#secao_7) "
   ]
  },
  {
   "cell_type": "markdown",
   "id": "f95c03dc",
   "metadata": {
    "id": "f95c03dc"
   },
   "source": [
    "#  <a name=\"secao_0\"> Problema a ser analisado </a>\n",
    "[Voltar ao índice](#indice)"
   ]
  },
  {
   "cell_type": "markdown",
   "id": "0fa92f2e",
   "metadata": {
    "id": "0fa92f2e"
   },
   "source": [
    "Como a base de dados do **'Santander Customer Transaction Prediction'** tem o seguinte texto guia: \n",
    "\n",
    "   * \"In this challenge, we invite Kagglers to help us identify which customers will make a specific transaction in the future, irrespective of the amount of money transacted. The data provided for this competition has the same structure as the real data we have available to solve this problem.\" *\n",
    "\n",
    "\n",
    "Como temos um problema de classificação binária, e o próprio desafio sugere que a análise conste como uma previsão de que os clientes do banco realizem uma determinada operação no futuro, dadas as variáveis disponíveis no banco de dados do Santander, podemos formular um problema de negócio em que o banco estará oferecendo para o cliente um investimento de renda fixa do programa “Renda Mais”. Neste caso, os modelos de machine learning tem o objetivo de prever se um dado cliente irá participar do programa ou não.\n",
    "\n",
    "Assim, as variáveis disponíveis poderiam ser interpretados como informações relacionadas a empréstimos realizados e pagos, pagamentos, idade, renda, situação civil e outras trasações e investimentos no banco.\n",
    "\n",
    "Portanto, queremos criar um modelo de previsão que forneça o indicativo sobre quais clientes possuem maior probabilidade de fazer parte do programa \"Renda Mais\", de forma que os clientes classificados positivamente (1) receberão e-mails com propostas e propagandas referentes ao programa de investimento.\n",
    "\n",
    "Para este caso, observa-se que falsos positivos (FP) não são um problema grave, uma vez que um cliente que seja classificado positivamente mas que não tenha interesse no programa poderá apenas ignorar ou recusar a oferta. Entretanto, o caso de falso negativo (FN) é considerado um problema grave, uma vez que o cliente classificado negativamente mas que tenha interesse em investir não recebera a oferta e, assim, o banco perde um cliente em potencial e não haverá lucros. A métrica de classificação de maior importância é o recall, de forma que maximizando o recall estaremos diminuindo o número de falsos negativos.\n",
    "O recall é dado pela equação:\n",
    "\n",
    "\n",
    "$$ recall = \\frac{VP}{VP + FN}$$\n",
    "\n",
    "\n",
    "\n",
    "O problema consta com a variável **ID_code** que é a identificação do cliente, a **target** que é o problema que estamos querendo resolver, isto é, é a variável do tipo classe (binária, 0 ou 1), e teremos um total de **200** features, identificadas como: var_0, var_1, ..., var_199.\n",
    "\n",
    "Um detalhe é que a base de dados de teste não possui a coluna target, então não seria possível verificar as métricas do nosso modelo utilizando esses dados, portanto, o que será feito é dividir a base de treino em duas: uma efetivamente de treino e outra de validação, de forma a ter uma proporção 70% e 30%, respectivamente.\n",
    "Além disso, a base de dados já esta bastante limpa, não sendo necessário fazer um trabalho arduo de pré-processamento dos dados.\n"
   ]
  },
  {
   "cell_type": "markdown",
   "id": "0c2fd9b4",
   "metadata": {
    "id": "0c2fd9b4"
   },
   "source": [
    "#  <a name=\"secao_1\"> Análise descritiva e exploratória </a>\n",
    "[Voltar ao índice](#indice)\n",
    "\n",
    "Vamos calcular algumas propriedades estatisticas dessa base de dados.\n",
    "\n",
    "   - Não há valores nulos;\n",
    "   - Dados em mesmo range de escala;\n",
    "   - Classes desbalanceadas -> proporção 9 (0) para 1 (1)"
   ]
  },
  {
   "cell_type": "code",
   "execution_count": 1,
   "id": "43bc8f1d",
   "metadata": {
    "id": "43bc8f1d"
   },
   "outputs": [],
   "source": [
    "import pandas as pd\n",
    "import numpy as np\n",
    "import seaborn as sns\n",
    "import sklearn as sk\n",
    "import statistics as sts\n",
    "import matplotlib.pyplot as plt\n",
    "import missingno as msno\n",
    "from sklearn.model_selection import train_test_split"
   ]
  },
  {
   "cell_type": "code",
   "execution_count": 2,
   "id": "5f2f8de9",
   "metadata": {
    "id": "5f2f8de9"
   },
   "outputs": [],
   "source": [
    "#criando funcao para ter informacoes sobre os dados\n",
    "def show_info(data) :\n",
    "    print('DATASET SHAPE: ', data.shape, '\\n')\n",
    "    print('-'*50)\n",
    "    print('FEATURE DATA TYPES:')\n",
    "    print(data.info())\n",
    "    print('\\n', '-'*50)\n",
    "    print('NUMBER OF UNIQUE VALUES PER FEATURE:', '\\n')\n",
    "    print(data.nunique())\n",
    "    print('\\n', '-'*50)\n",
    "    print('NULL VALUES PER FEATURE')\n",
    "    print(data.isnull().sum())\n",
    "  "
   ]
  },
  {
   "cell_type": "code",
   "execution_count": 69,
   "id": "52ee8e6e",
   "metadata": {
    "id": "52ee8e6e"
   },
   "outputs": [],
   "source": [
    "def plota_roc_curve(modelo, X_validacao, Y_validacao, nome_modelo, color_roc = \"pink\") :\n",
    "    sk.metrics.plot_roc_curve(modelo, X_validacao, Y_validacao, name=\"%s\" % nome_modelo, color='%s'%color_roc)\n",
    "    plt.title('Curva ROC', fontsize=15)\n",
    "    plt.plot([0, 1], [0, 1], color='darkblue', linestyle='--')\n",
    "    plt.xlabel('1- Especificidade', fontsize=12)\n",
    "    plt.ylabel('Sensibilidade', fontsize=12)\n",
    "    plt.grid(color='w', linestyle='dotted', linewidth=1)\n",
    "    plt.legend()\n",
    "    #plt.show()"
   ]
  },
  {
   "cell_type": "code",
   "execution_count": 4,
   "id": "0c154275",
   "metadata": {
    "id": "0c154275"
   },
   "outputs": [],
   "source": [
    "def plot_curva_learning(modelo, nome_modelo) :\n",
    "    results = modelo.evals_result()\n",
    "    # plot learning curves\n",
    "    plt.plot(results['validation_0']['logloss'], label='train')\n",
    "    plt.plot(results['validation_1']['logloss'], label='test')\n",
    "    plt.title('LogLoss vs n_estimator - %s' %nome_modelo)\n",
    "    plt.ylabel('LogLoss')\n",
    "    plt.xlabel('n_estimator')\n",
    "    plt.grid(color='w', linestyle='dotted', linewidth=1)\n",
    "    plt.legend()\n",
    "    plt.show()"
   ]
  },
  {
   "cell_type": "code",
   "execution_count": 6,
   "id": "1eb1e0e5",
   "metadata": {
    "id": "1eb1e0e5"
   },
   "outputs": [],
   "source": [
    "df = pd.read_csv(\"../santander-customer-transaction-prediction/train.csv\")\n",
    "df_train, df_validacao = train_test_split(df, train_size=0.7, shuffle=True)\n",
    "\n",
    "#df_test = pd.read_csv(\"santander-customer-transaction-prediction/test.csv\")"
   ]
  },
  {
   "cell_type": "code",
   "execution_count": 7,
   "id": "d62680af",
   "metadata": {
    "id": "d62680af"
   },
   "outputs": [],
   "source": [
    "#criando os arrays para X {variaveis previsoras} e Y {variavel tipo classe} para treino e teste\n",
    "Y_train = df_train.iloc[:, 1].values\n",
    "X_train = df_train.iloc[:, 2:].values\n",
    "Y_validacao = df_validacao.iloc[:, 1].values \n",
    "X_validacao = df_validacao.iloc[:, 2:].values"
   ]
  },
  {
   "cell_type": "code",
   "execution_count": 8,
   "id": "92498357",
   "metadata": {
    "id": "92498357",
    "outputId": "724ef6b8-891b-483d-d525-c3794ce7b2a2"
   },
   "outputs": [
    {
     "data": {
      "text/html": [
       "<div>\n",
       "<style scoped>\n",
       "    .dataframe tbody tr th:only-of-type {\n",
       "        vertical-align: middle;\n",
       "    }\n",
       "\n",
       "    .dataframe tbody tr th {\n",
       "        vertical-align: top;\n",
       "    }\n",
       "\n",
       "    .dataframe thead th {\n",
       "        text-align: right;\n",
       "    }\n",
       "</style>\n",
       "<table border=\"1\" class=\"dataframe\">\n",
       "  <thead>\n",
       "    <tr style=\"text-align: right;\">\n",
       "      <th></th>\n",
       "      <th>ID_code</th>\n",
       "      <th>target</th>\n",
       "      <th>var_0</th>\n",
       "      <th>var_1</th>\n",
       "      <th>var_2</th>\n",
       "      <th>var_3</th>\n",
       "      <th>var_4</th>\n",
       "      <th>var_5</th>\n",
       "      <th>var_6</th>\n",
       "      <th>var_7</th>\n",
       "      <th>...</th>\n",
       "      <th>var_190</th>\n",
       "      <th>var_191</th>\n",
       "      <th>var_192</th>\n",
       "      <th>var_193</th>\n",
       "      <th>var_194</th>\n",
       "      <th>var_195</th>\n",
       "      <th>var_196</th>\n",
       "      <th>var_197</th>\n",
       "      <th>var_198</th>\n",
       "      <th>var_199</th>\n",
       "    </tr>\n",
       "  </thead>\n",
       "  <tbody>\n",
       "    <tr>\n",
       "      <th>88875</th>\n",
       "      <td>train_88875</td>\n",
       "      <td>0</td>\n",
       "      <td>10.2140</td>\n",
       "      <td>-1.6712</td>\n",
       "      <td>12.4534</td>\n",
       "      <td>6.2898</td>\n",
       "      <td>10.9933</td>\n",
       "      <td>-9.3711</td>\n",
       "      <td>4.4673</td>\n",
       "      <td>17.4296</td>\n",
       "      <td>...</td>\n",
       "      <td>-3.4038</td>\n",
       "      <td>9.8534</td>\n",
       "      <td>-0.2260</td>\n",
       "      <td>-1.4909</td>\n",
       "      <td>21.2089</td>\n",
       "      <td>-1.0007</td>\n",
       "      <td>-3.8732</td>\n",
       "      <td>8.0180</td>\n",
       "      <td>18.4076</td>\n",
       "      <td>-3.5262</td>\n",
       "    </tr>\n",
       "    <tr>\n",
       "      <th>196713</th>\n",
       "      <td>train_196713</td>\n",
       "      <td>0</td>\n",
       "      <td>10.8859</td>\n",
       "      <td>-2.9397</td>\n",
       "      <td>9.4486</td>\n",
       "      <td>9.0127</td>\n",
       "      <td>11.2737</td>\n",
       "      <td>13.2660</td>\n",
       "      <td>5.1459</td>\n",
       "      <td>14.2890</td>\n",
       "      <td>...</td>\n",
       "      <td>12.2761</td>\n",
       "      <td>6.5860</td>\n",
       "      <td>2.7400</td>\n",
       "      <td>6.0245</td>\n",
       "      <td>19.6345</td>\n",
       "      <td>-1.0330</td>\n",
       "      <td>0.2392</td>\n",
       "      <td>8.5782</td>\n",
       "      <td>17.5441</td>\n",
       "      <td>-5.8254</td>\n",
       "    </tr>\n",
       "    <tr>\n",
       "      <th>7278</th>\n",
       "      <td>train_7278</td>\n",
       "      <td>0</td>\n",
       "      <td>13.4643</td>\n",
       "      <td>2.3387</td>\n",
       "      <td>14.8030</td>\n",
       "      <td>4.2911</td>\n",
       "      <td>13.8553</td>\n",
       "      <td>0.5665</td>\n",
       "      <td>5.3234</td>\n",
       "      <td>22.9301</td>\n",
       "      <td>...</td>\n",
       "      <td>-5.8925</td>\n",
       "      <td>6.3949</td>\n",
       "      <td>1.3124</td>\n",
       "      <td>-5.2226</td>\n",
       "      <td>17.9139</td>\n",
       "      <td>2.3752</td>\n",
       "      <td>-3.9287</td>\n",
       "      <td>7.6504</td>\n",
       "      <td>18.2337</td>\n",
       "      <td>-21.2716</td>\n",
       "    </tr>\n",
       "    <tr>\n",
       "      <th>56958</th>\n",
       "      <td>train_56958</td>\n",
       "      <td>0</td>\n",
       "      <td>5.1080</td>\n",
       "      <td>-0.9866</td>\n",
       "      <td>11.3163</td>\n",
       "      <td>7.8951</td>\n",
       "      <td>8.1722</td>\n",
       "      <td>5.2082</td>\n",
       "      <td>6.9711</td>\n",
       "      <td>19.3393</td>\n",
       "      <td>...</td>\n",
       "      <td>3.9590</td>\n",
       "      <td>4.5531</td>\n",
       "      <td>-0.5873</td>\n",
       "      <td>2.9222</td>\n",
       "      <td>17.9934</td>\n",
       "      <td>1.7334</td>\n",
       "      <td>9.7244</td>\n",
       "      <td>9.2116</td>\n",
       "      <td>19.6848</td>\n",
       "      <td>-11.4541</td>\n",
       "    </tr>\n",
       "    <tr>\n",
       "      <th>137165</th>\n",
       "      <td>train_137165</td>\n",
       "      <td>0</td>\n",
       "      <td>7.2523</td>\n",
       "      <td>-4.7387</td>\n",
       "      <td>9.9817</td>\n",
       "      <td>9.6120</td>\n",
       "      <td>10.8336</td>\n",
       "      <td>-6.1715</td>\n",
       "      <td>6.4829</td>\n",
       "      <td>20.3842</td>\n",
       "      <td>...</td>\n",
       "      <td>-0.9966</td>\n",
       "      <td>1.9151</td>\n",
       "      <td>1.3997</td>\n",
       "      <td>6.2295</td>\n",
       "      <td>19.9307</td>\n",
       "      <td>-2.1361</td>\n",
       "      <td>8.1483</td>\n",
       "      <td>8.5908</td>\n",
       "      <td>15.2996</td>\n",
       "      <td>15.6393</td>\n",
       "    </tr>\n",
       "  </tbody>\n",
       "</table>\n",
       "<p>5 rows × 202 columns</p>\n",
       "</div>"
      ],
      "text/plain": [
       "             ID_code  target    var_0   var_1    var_2   var_3    var_4  \\\n",
       "88875    train_88875       0  10.2140 -1.6712  12.4534  6.2898  10.9933   \n",
       "196713  train_196713       0  10.8859 -2.9397   9.4486  9.0127  11.2737   \n",
       "7278      train_7278       0  13.4643  2.3387  14.8030  4.2911  13.8553   \n",
       "56958    train_56958       0   5.1080 -0.9866  11.3163  7.8951   8.1722   \n",
       "137165  train_137165       0   7.2523 -4.7387   9.9817  9.6120  10.8336   \n",
       "\n",
       "          var_5   var_6    var_7  ...  var_190  var_191  var_192  var_193  \\\n",
       "88875   -9.3711  4.4673  17.4296  ...  -3.4038   9.8534  -0.2260  -1.4909   \n",
       "196713  13.2660  5.1459  14.2890  ...  12.2761   6.5860   2.7400   6.0245   \n",
       "7278     0.5665  5.3234  22.9301  ...  -5.8925   6.3949   1.3124  -5.2226   \n",
       "56958    5.2082  6.9711  19.3393  ...   3.9590   4.5531  -0.5873   2.9222   \n",
       "137165  -6.1715  6.4829  20.3842  ...  -0.9966   1.9151   1.3997   6.2295   \n",
       "\n",
       "        var_194  var_195  var_196  var_197  var_198  var_199  \n",
       "88875   21.2089  -1.0007  -3.8732   8.0180  18.4076  -3.5262  \n",
       "196713  19.6345  -1.0330   0.2392   8.5782  17.5441  -5.8254  \n",
       "7278    17.9139   2.3752  -3.9287   7.6504  18.2337 -21.2716  \n",
       "56958   17.9934   1.7334   9.7244   9.2116  19.6848 -11.4541  \n",
       "137165  19.9307  -2.1361   8.1483   8.5908  15.2996  15.6393  \n",
       "\n",
       "[5 rows x 202 columns]"
      ]
     },
     "execution_count": 8,
     "metadata": {},
     "output_type": "execute_result"
    }
   ],
   "source": [
    "df_train.head()"
   ]
  },
  {
   "cell_type": "code",
   "execution_count": 9,
   "id": "16534482",
   "metadata": {
    "id": "16534482",
    "outputId": "91124755-1083-4b9f-de10-e5fe85c724e7"
   },
   "outputs": [
    {
     "name": "stdout",
     "output_type": "stream",
     "text": [
      "DATASET SHAPE:  (140000, 202) \n",
      "\n",
      "--------------------------------------------------\n",
      "FEATURE DATA TYPES:\n",
      "<class 'pandas.core.frame.DataFrame'>\n",
      "Int64Index: 140000 entries, 88875 to 192693\n",
      "Columns: 202 entries, ID_code to var_199\n",
      "dtypes: float64(200), int64(1), object(1)\n",
      "memory usage: 216.8+ MB\n",
      "None\n",
      "\n",
      " --------------------------------------------------\n",
      "NUMBER OF UNIQUE VALUES PER FEATURE: \n",
      "\n",
      "ID_code    140000\n",
      "target          2\n",
      "var_0       79719\n",
      "var_1       89492\n",
      "var_2       74218\n",
      "            ...  \n",
      "var_195     52418\n",
      "var_196     99849\n",
      "var_197     37894\n",
      "var_198     79458\n",
      "var_199    113656\n",
      "Length: 202, dtype: int64\n",
      "\n",
      " --------------------------------------------------\n",
      "NULL VALUES PER FEATURE\n",
      "ID_code    0\n",
      "target     0\n",
      "var_0      0\n",
      "var_1      0\n",
      "var_2      0\n",
      "          ..\n",
      "var_195    0\n",
      "var_196    0\n",
      "var_197    0\n",
      "var_198    0\n",
      "var_199    0\n",
      "Length: 202, dtype: int64\n"
     ]
    }
   ],
   "source": [
    "show_info(df_train)"
   ]
  },
  {
   "cell_type": "code",
   "execution_count": 10,
   "id": "0746a364",
   "metadata": {
    "id": "0746a364",
    "outputId": "ae37a414-215e-47f6-ab32-d16cd073f44d"
   },
   "outputs": [
    {
     "name": "stdout",
     "output_type": "stream",
     "text": [
      "DATASET SHAPE:  (60000, 202) \n",
      "\n",
      "--------------------------------------------------\n",
      "FEATURE DATA TYPES:\n",
      "<class 'pandas.core.frame.DataFrame'>\n",
      "Int64Index: 60000 entries, 46927 to 103004\n",
      "Columns: 202 entries, ID_code to var_199\n",
      "dtypes: float64(200), int64(1), object(1)\n",
      "memory usage: 92.9+ MB\n",
      "None\n",
      "\n",
      " --------------------------------------------------\n",
      "NUMBER OF UNIQUE VALUES PER FEATURE: \n",
      "\n",
      "ID_code    60000\n",
      "target         2\n",
      "var_0      45877\n",
      "var_1      48608\n",
      "var_2      44197\n",
      "           ...  \n",
      "var_195    36324\n",
      "var_196    51396\n",
      "var_197    29091\n",
      "var_198    45872\n",
      "var_199    54632\n",
      "Length: 202, dtype: int64\n",
      "\n",
      " --------------------------------------------------\n",
      "NULL VALUES PER FEATURE\n",
      "ID_code    0\n",
      "target     0\n",
      "var_0      0\n",
      "var_1      0\n",
      "var_2      0\n",
      "          ..\n",
      "var_195    0\n",
      "var_196    0\n",
      "var_197    0\n",
      "var_198    0\n",
      "var_199    0\n",
      "Length: 202, dtype: int64\n"
     ]
    }
   ],
   "source": [
    "show_info(df_validacao)"
   ]
  },
  {
   "cell_type": "markdown",
   "id": "a105e0e2",
   "metadata": {
    "id": "a105e0e2"
   },
   "source": [
    "#### Primeiras observações \n",
    "\n",
    "Legenda para entendimento do problema: \n",
    "   *  ID_code :  identificação do cliente\n",
    "   *  target: variável que queremos prever\n",
    "   *  var_i ; i = 0, 1, ..., 199\n",
    "   \n",
    "observa-se que em ambos conjuntos de dados, treino e validacao, não há valores nulos. Também não será necessário fazer processo de cleaning e escalonamento, visto que as variáveis estão sem significado e as ordens de grandeza estão próximas. \n",
    "\n",
    "Temos um caso de classes desbalanceadas, sendo as contagens:\n",
    "  - Treino:\n",
    "      * classe 0 : 125972 contagens  \n",
    "      * classe 1 : 14028 contagens\n",
    "  - Validação:\n",
    "      * classe 0 : 53930 contagens  \n",
    "      * classe 1 : 6070 contagens"
   ]
  },
  {
   "cell_type": "code",
   "execution_count": 11,
   "id": "a7b7d55b",
   "metadata": {
    "id": "a7b7d55b",
    "outputId": "d64eac21-342c-4f5a-8e06-9457f59a1f4e"
   },
   "outputs": [
    {
     "data": {
      "text/html": [
       "<div>\n",
       "<style scoped>\n",
       "    .dataframe tbody tr th:only-of-type {\n",
       "        vertical-align: middle;\n",
       "    }\n",
       "\n",
       "    .dataframe tbody tr th {\n",
       "        vertical-align: top;\n",
       "    }\n",
       "\n",
       "    .dataframe thead th {\n",
       "        text-align: right;\n",
       "    }\n",
       "</style>\n",
       "<table border=\"1\" class=\"dataframe\">\n",
       "  <thead>\n",
       "    <tr style=\"text-align: right;\">\n",
       "      <th></th>\n",
       "      <th>target</th>\n",
       "      <th>var_0</th>\n",
       "      <th>var_1</th>\n",
       "      <th>var_2</th>\n",
       "      <th>var_3</th>\n",
       "      <th>var_4</th>\n",
       "      <th>var_5</th>\n",
       "      <th>var_6</th>\n",
       "      <th>var_7</th>\n",
       "      <th>var_8</th>\n",
       "      <th>...</th>\n",
       "      <th>var_190</th>\n",
       "      <th>var_191</th>\n",
       "      <th>var_192</th>\n",
       "      <th>var_193</th>\n",
       "      <th>var_194</th>\n",
       "      <th>var_195</th>\n",
       "      <th>var_196</th>\n",
       "      <th>var_197</th>\n",
       "      <th>var_198</th>\n",
       "      <th>var_199</th>\n",
       "    </tr>\n",
       "  </thead>\n",
       "  <tbody>\n",
       "    <tr>\n",
       "      <th>count</th>\n",
       "      <td>140000.000000</td>\n",
       "      <td>140000.000000</td>\n",
       "      <td>140000.000000</td>\n",
       "      <td>140000.000000</td>\n",
       "      <td>140000.000000</td>\n",
       "      <td>140000.000000</td>\n",
       "      <td>140000.000000</td>\n",
       "      <td>140000.000000</td>\n",
       "      <td>140000.000000</td>\n",
       "      <td>140000.000000</td>\n",
       "      <td>...</td>\n",
       "      <td>140000.000000</td>\n",
       "      <td>140000.000000</td>\n",
       "      <td>140000.000000</td>\n",
       "      <td>140000.000000</td>\n",
       "      <td>140000.000000</td>\n",
       "      <td>140000.000000</td>\n",
       "      <td>140000.000000</td>\n",
       "      <td>140000.000000</td>\n",
       "      <td>140000.000000</td>\n",
       "      <td>140000.000000</td>\n",
       "    </tr>\n",
       "    <tr>\n",
       "      <th>mean</th>\n",
       "      <td>0.100343</td>\n",
       "      <td>10.674161</td>\n",
       "      <td>-1.635176</td>\n",
       "      <td>10.720719</td>\n",
       "      <td>6.798151</td>\n",
       "      <td>11.080091</td>\n",
       "      <td>-5.072312</td>\n",
       "      <td>5.410635</td>\n",
       "      <td>16.544791</td>\n",
       "      <td>0.288824</td>\n",
       "      <td>...</td>\n",
       "      <td>3.230404</td>\n",
       "      <td>7.440879</td>\n",
       "      <td>1.927573</td>\n",
       "      <td>3.334550</td>\n",
       "      <td>17.990972</td>\n",
       "      <td>-0.138425</td>\n",
       "      <td>2.299417</td>\n",
       "      <td>8.908526</td>\n",
       "      <td>15.868868</td>\n",
       "      <td>-3.347517</td>\n",
       "    </tr>\n",
       "    <tr>\n",
       "      <th>std</th>\n",
       "      <td>0.300458</td>\n",
       "      <td>3.040840</td>\n",
       "      <td>4.060137</td>\n",
       "      <td>2.640049</td>\n",
       "      <td>2.046215</td>\n",
       "      <td>1.624402</td>\n",
       "      <td>7.872537</td>\n",
       "      <td>0.865695</td>\n",
       "      <td>3.416785</td>\n",
       "      <td>3.330959</td>\n",
       "      <td>...</td>\n",
       "      <td>4.565341</td>\n",
       "      <td>3.023174</td>\n",
       "      <td>1.478932</td>\n",
       "      <td>3.995588</td>\n",
       "      <td>3.130211</td>\n",
       "      <td>1.427583</td>\n",
       "      <td>5.451353</td>\n",
       "      <td>0.921110</td>\n",
       "      <td>3.010185</td>\n",
       "      <td>10.435513</td>\n",
       "    </tr>\n",
       "    <tr>\n",
       "      <th>min</th>\n",
       "      <td>0.000000</td>\n",
       "      <td>0.408400</td>\n",
       "      <td>-14.696200</td>\n",
       "      <td>2.117100</td>\n",
       "      <td>-0.040200</td>\n",
       "      <td>5.277800</td>\n",
       "      <td>-32.562600</td>\n",
       "      <td>2.495700</td>\n",
       "      <td>5.349700</td>\n",
       "      <td>-9.991100</td>\n",
       "      <td>...</td>\n",
       "      <td>-13.180800</td>\n",
       "      <td>-2.123000</td>\n",
       "      <td>-3.814500</td>\n",
       "      <td>-11.783400</td>\n",
       "      <td>8.694400</td>\n",
       "      <td>-5.261000</td>\n",
       "      <td>-14.209600</td>\n",
       "      <td>6.047600</td>\n",
       "      <td>6.644800</td>\n",
       "      <td>-38.852800</td>\n",
       "    </tr>\n",
       "    <tr>\n",
       "      <th>25%</th>\n",
       "      <td>0.000000</td>\n",
       "      <td>8.450700</td>\n",
       "      <td>-4.759900</td>\n",
       "      <td>8.731775</td>\n",
       "      <td>5.253075</td>\n",
       "      <td>9.886100</td>\n",
       "      <td>-11.217600</td>\n",
       "      <td>4.770700</td>\n",
       "      <td>13.943550</td>\n",
       "      <td>-2.314025</td>\n",
       "      <td>...</td>\n",
       "      <td>-0.066825</td>\n",
       "      <td>5.158275</td>\n",
       "      <td>0.889175</td>\n",
       "      <td>0.594575</td>\n",
       "      <td>15.635000</td>\n",
       "      <td>-1.166900</td>\n",
       "      <td>-1.948025</td>\n",
       "      <td>8.253800</td>\n",
       "      <td>13.830900</td>\n",
       "      <td>-11.230725</td>\n",
       "    </tr>\n",
       "    <tr>\n",
       "      <th>50%</th>\n",
       "      <td>0.000000</td>\n",
       "      <td>10.522800</td>\n",
       "      <td>-1.619400</td>\n",
       "      <td>10.585750</td>\n",
       "      <td>6.825800</td>\n",
       "      <td>11.108500</td>\n",
       "      <td>-4.837050</td>\n",
       "      <td>5.387900</td>\n",
       "      <td>16.452400</td>\n",
       "      <td>0.403350</td>\n",
       "      <td>...</td>\n",
       "      <td>3.204700</td>\n",
       "      <td>7.356800</td>\n",
       "      <td>1.901300</td>\n",
       "      <td>3.402100</td>\n",
       "      <td>17.957300</td>\n",
       "      <td>-0.168000</td>\n",
       "      <td>2.405450</td>\n",
       "      <td>8.889800</td>\n",
       "      <td>15.933800</td>\n",
       "      <td>-2.860900</td>\n",
       "    </tr>\n",
       "    <tr>\n",
       "      <th>75%</th>\n",
       "      <td>0.000000</td>\n",
       "      <td>12.757100</td>\n",
       "      <td>1.359400</td>\n",
       "      <td>12.522700</td>\n",
       "      <td>8.324325</td>\n",
       "      <td>12.266100</td>\n",
       "      <td>0.918025</td>\n",
       "      <td>6.004600</td>\n",
       "      <td>19.098800</td>\n",
       "      <td>2.942925</td>\n",
       "      <td>...</td>\n",
       "      <td>6.403025</td>\n",
       "      <td>9.510700</td>\n",
       "      <td>2.949700</td>\n",
       "      <td>6.214400</td>\n",
       "      <td>20.393350</td>\n",
       "      <td>0.833200</td>\n",
       "      <td>6.555025</td>\n",
       "      <td>9.592500</td>\n",
       "      <td>18.062700</td>\n",
       "      <td>4.820250</td>\n",
       "    </tr>\n",
       "    <tr>\n",
       "      <th>max</th>\n",
       "      <td>1.000000</td>\n",
       "      <td>20.315000</td>\n",
       "      <td>10.376800</td>\n",
       "      <td>19.353000</td>\n",
       "      <td>13.188300</td>\n",
       "      <td>16.671400</td>\n",
       "      <td>17.251600</td>\n",
       "      <td>8.433000</td>\n",
       "      <td>27.638900</td>\n",
       "      <td>10.151300</td>\n",
       "      <td>...</td>\n",
       "      <td>18.431800</td>\n",
       "      <td>16.716500</td>\n",
       "      <td>7.811100</td>\n",
       "      <td>18.281800</td>\n",
       "      <td>27.597300</td>\n",
       "      <td>4.166800</td>\n",
       "      <td>17.684100</td>\n",
       "      <td>12.000400</td>\n",
       "      <td>26.079100</td>\n",
       "      <td>28.500700</td>\n",
       "    </tr>\n",
       "  </tbody>\n",
       "</table>\n",
       "<p>8 rows × 201 columns</p>\n",
       "</div>"
      ],
      "text/plain": [
       "              target          var_0          var_1          var_2  \\\n",
       "count  140000.000000  140000.000000  140000.000000  140000.000000   \n",
       "mean        0.100343      10.674161      -1.635176      10.720719   \n",
       "std         0.300458       3.040840       4.060137       2.640049   \n",
       "min         0.000000       0.408400     -14.696200       2.117100   \n",
       "25%         0.000000       8.450700      -4.759900       8.731775   \n",
       "50%         0.000000      10.522800      -1.619400      10.585750   \n",
       "75%         0.000000      12.757100       1.359400      12.522700   \n",
       "max         1.000000      20.315000      10.376800      19.353000   \n",
       "\n",
       "               var_3          var_4          var_5          var_6  \\\n",
       "count  140000.000000  140000.000000  140000.000000  140000.000000   \n",
       "mean        6.798151      11.080091      -5.072312       5.410635   \n",
       "std         2.046215       1.624402       7.872537       0.865695   \n",
       "min        -0.040200       5.277800     -32.562600       2.495700   \n",
       "25%         5.253075       9.886100     -11.217600       4.770700   \n",
       "50%         6.825800      11.108500      -4.837050       5.387900   \n",
       "75%         8.324325      12.266100       0.918025       6.004600   \n",
       "max        13.188300      16.671400      17.251600       8.433000   \n",
       "\n",
       "               var_7          var_8  ...        var_190        var_191  \\\n",
       "count  140000.000000  140000.000000  ...  140000.000000  140000.000000   \n",
       "mean       16.544791       0.288824  ...       3.230404       7.440879   \n",
       "std         3.416785       3.330959  ...       4.565341       3.023174   \n",
       "min         5.349700      -9.991100  ...     -13.180800      -2.123000   \n",
       "25%        13.943550      -2.314025  ...      -0.066825       5.158275   \n",
       "50%        16.452400       0.403350  ...       3.204700       7.356800   \n",
       "75%        19.098800       2.942925  ...       6.403025       9.510700   \n",
       "max        27.638900      10.151300  ...      18.431800      16.716500   \n",
       "\n",
       "             var_192        var_193        var_194        var_195  \\\n",
       "count  140000.000000  140000.000000  140000.000000  140000.000000   \n",
       "mean        1.927573       3.334550      17.990972      -0.138425   \n",
       "std         1.478932       3.995588       3.130211       1.427583   \n",
       "min        -3.814500     -11.783400       8.694400      -5.261000   \n",
       "25%         0.889175       0.594575      15.635000      -1.166900   \n",
       "50%         1.901300       3.402100      17.957300      -0.168000   \n",
       "75%         2.949700       6.214400      20.393350       0.833200   \n",
       "max         7.811100      18.281800      27.597300       4.166800   \n",
       "\n",
       "             var_196        var_197        var_198        var_199  \n",
       "count  140000.000000  140000.000000  140000.000000  140000.000000  \n",
       "mean        2.299417       8.908526      15.868868      -3.347517  \n",
       "std         5.451353       0.921110       3.010185      10.435513  \n",
       "min       -14.209600       6.047600       6.644800     -38.852800  \n",
       "25%        -1.948025       8.253800      13.830900     -11.230725  \n",
       "50%         2.405450       8.889800      15.933800      -2.860900  \n",
       "75%         6.555025       9.592500      18.062700       4.820250  \n",
       "max        17.684100      12.000400      26.079100      28.500700  \n",
       "\n",
       "[8 rows x 201 columns]"
      ]
     },
     "execution_count": 11,
     "metadata": {},
     "output_type": "execute_result"
    }
   ],
   "source": [
    "df_train.describe()"
   ]
  },
  {
   "cell_type": "code",
   "execution_count": 12,
   "id": "9622e54d",
   "metadata": {
    "id": "9622e54d",
    "outputId": "7fedb4bc-8a78-401d-cedc-a8d846274da5"
   },
   "outputs": [
    {
     "data": {
      "text/html": [
       "<div>\n",
       "<style scoped>\n",
       "    .dataframe tbody tr th:only-of-type {\n",
       "        vertical-align: middle;\n",
       "    }\n",
       "\n",
       "    .dataframe tbody tr th {\n",
       "        vertical-align: top;\n",
       "    }\n",
       "\n",
       "    .dataframe thead th {\n",
       "        text-align: right;\n",
       "    }\n",
       "</style>\n",
       "<table border=\"1\" class=\"dataframe\">\n",
       "  <thead>\n",
       "    <tr style=\"text-align: right;\">\n",
       "      <th></th>\n",
       "      <th>target</th>\n",
       "      <th>var_0</th>\n",
       "      <th>var_1</th>\n",
       "      <th>var_2</th>\n",
       "      <th>var_3</th>\n",
       "      <th>var_4</th>\n",
       "      <th>var_5</th>\n",
       "      <th>var_6</th>\n",
       "      <th>var_7</th>\n",
       "      <th>var_8</th>\n",
       "      <th>...</th>\n",
       "      <th>var_190</th>\n",
       "      <th>var_191</th>\n",
       "      <th>var_192</th>\n",
       "      <th>var_193</th>\n",
       "      <th>var_194</th>\n",
       "      <th>var_195</th>\n",
       "      <th>var_196</th>\n",
       "      <th>var_197</th>\n",
       "      <th>var_198</th>\n",
       "      <th>var_199</th>\n",
       "    </tr>\n",
       "  </thead>\n",
       "  <tbody>\n",
       "    <tr>\n",
       "      <th>count</th>\n",
       "      <td>60000.000000</td>\n",
       "      <td>60000.000000</td>\n",
       "      <td>60000.000000</td>\n",
       "      <td>60000.000000</td>\n",
       "      <td>60000.000000</td>\n",
       "      <td>60000.000000</td>\n",
       "      <td>60000.000000</td>\n",
       "      <td>60000.000000</td>\n",
       "      <td>60000.000000</td>\n",
       "      <td>60000.000000</td>\n",
       "      <td>...</td>\n",
       "      <td>60000.000000</td>\n",
       "      <td>60000.000000</td>\n",
       "      <td>60000.000000</td>\n",
       "      <td>60000.000000</td>\n",
       "      <td>60000.000000</td>\n",
       "      <td>60000.000000</td>\n",
       "      <td>60000.000000</td>\n",
       "      <td>60000.000000</td>\n",
       "      <td>60000.000000</td>\n",
       "      <td>60000.000000</td>\n",
       "    </tr>\n",
       "    <tr>\n",
       "      <th>mean</th>\n",
       "      <td>0.100833</td>\n",
       "      <td>10.693338</td>\n",
       "      <td>-1.609995</td>\n",
       "      <td>10.702296</td>\n",
       "      <td>6.792745</td>\n",
       "      <td>11.074233</td>\n",
       "      <td>-5.048998</td>\n",
       "      <td>5.405014</td>\n",
       "      <td>16.548320</td>\n",
       "      <td>0.273284</td>\n",
       "      <td>...</td>\n",
       "      <td>3.243856</td>\n",
       "      <td>7.432643</td>\n",
       "      <td>1.928457</td>\n",
       "      <td>3.325295</td>\n",
       "      <td>18.000345</td>\n",
       "      <td>-0.150637</td>\n",
       "      <td>2.312478</td>\n",
       "      <td>8.907297</td>\n",
       "      <td>15.875043</td>\n",
       "      <td>-3.277584</td>\n",
       "    </tr>\n",
       "    <tr>\n",
       "      <th>std</th>\n",
       "      <td>0.301110</td>\n",
       "      <td>3.038192</td>\n",
       "      <td>4.026374</td>\n",
       "      <td>2.642841</td>\n",
       "      <td>2.036558</td>\n",
       "      <td>1.620230</td>\n",
       "      <td>7.841635</td>\n",
       "      <td>0.868727</td>\n",
       "      <td>3.421112</td>\n",
       "      <td>3.336540</td>\n",
       "      <td>...</td>\n",
       "      <td>4.547276</td>\n",
       "      <td>3.023517</td>\n",
       "      <td>1.477246</td>\n",
       "      <td>3.983743</td>\n",
       "      <td>3.146700</td>\n",
       "      <td>1.433514</td>\n",
       "      <td>5.461435</td>\n",
       "      <td>0.922835</td>\n",
       "      <td>3.012739</td>\n",
       "      <td>10.443775</td>\n",
       "    </tr>\n",
       "    <tr>\n",
       "      <th>min</th>\n",
       "      <td>0.000000</td>\n",
       "      <td>0.452800</td>\n",
       "      <td>-15.043400</td>\n",
       "      <td>2.789200</td>\n",
       "      <td>0.170700</td>\n",
       "      <td>5.074800</td>\n",
       "      <td>-28.246100</td>\n",
       "      <td>2.347300</td>\n",
       "      <td>6.889000</td>\n",
       "      <td>-10.505500</td>\n",
       "      <td>...</td>\n",
       "      <td>-14.093300</td>\n",
       "      <td>-2.691700</td>\n",
       "      <td>-3.410700</td>\n",
       "      <td>-10.311600</td>\n",
       "      <td>9.144600</td>\n",
       "      <td>-5.048100</td>\n",
       "      <td>-13.589100</td>\n",
       "      <td>5.960600</td>\n",
       "      <td>6.299300</td>\n",
       "      <td>-38.852800</td>\n",
       "    </tr>\n",
       "    <tr>\n",
       "      <th>25%</th>\n",
       "      <td>0.000000</td>\n",
       "      <td>8.466025</td>\n",
       "      <td>-4.691550</td>\n",
       "      <td>8.703450</td>\n",
       "      <td>5.256775</td>\n",
       "      <td>9.873900</td>\n",
       "      <td>-11.153100</td>\n",
       "      <td>4.760500</td>\n",
       "      <td>13.945350</td>\n",
       "      <td>-2.326125</td>\n",
       "      <td>...</td>\n",
       "      <td>-0.040725</td>\n",
       "      <td>5.156225</td>\n",
       "      <td>0.891575</td>\n",
       "      <td>0.559500</td>\n",
       "      <td>15.619000</td>\n",
       "      <td>-1.179600</td>\n",
       "      <td>-1.943875</td>\n",
       "      <td>8.249175</td>\n",
       "      <td>13.825925</td>\n",
       "      <td>-11.159625</td>\n",
       "    </tr>\n",
       "    <tr>\n",
       "      <th>50%</th>\n",
       "      <td>0.000000</td>\n",
       "      <td>10.531600</td>\n",
       "      <td>-1.587500</td>\n",
       "      <td>10.567600</td>\n",
       "      <td>6.823050</td>\n",
       "      <td>11.107900</td>\n",
       "      <td>-4.824250</td>\n",
       "      <td>5.379300</td>\n",
       "      <td>16.466450</td>\n",
       "      <td>0.368250</td>\n",
       "      <td>...</td>\n",
       "      <td>3.201050</td>\n",
       "      <td>7.325750</td>\n",
       "      <td>1.901400</td>\n",
       "      <td>3.381000</td>\n",
       "      <td>17.959250</td>\n",
       "      <td>-0.182950</td>\n",
       "      <td>2.416850</td>\n",
       "      <td>8.883600</td>\n",
       "      <td>15.934900</td>\n",
       "      <td>-2.730550</td>\n",
       "    </tr>\n",
       "    <tr>\n",
       "      <th>75%</th>\n",
       "      <td>0.000000</td>\n",
       "      <td>12.761925</td>\n",
       "      <td>1.357650</td>\n",
       "      <td>12.502025</td>\n",
       "      <td>8.323625</td>\n",
       "      <td>12.251400</td>\n",
       "      <td>0.938425</td>\n",
       "      <td>5.999300</td>\n",
       "      <td>19.111175</td>\n",
       "      <td>2.927200</td>\n",
       "      <td>...</td>\n",
       "      <td>6.414425</td>\n",
       "      <td>9.514900</td>\n",
       "      <td>2.948900</td>\n",
       "      <td>6.181325</td>\n",
       "      <td>20.402625</td>\n",
       "      <td>0.821325</td>\n",
       "      <td>6.562450</td>\n",
       "      <td>9.595500</td>\n",
       "      <td>18.070800</td>\n",
       "      <td>4.869700</td>\n",
       "    </tr>\n",
       "    <tr>\n",
       "      <th>max</th>\n",
       "      <td>1.000000</td>\n",
       "      <td>20.074000</td>\n",
       "      <td>9.188300</td>\n",
       "      <td>18.652100</td>\n",
       "      <td>13.098300</td>\n",
       "      <td>15.778800</td>\n",
       "      <td>17.128100</td>\n",
       "      <td>8.447700</td>\n",
       "      <td>27.691800</td>\n",
       "      <td>9.627200</td>\n",
       "      <td>...</td>\n",
       "      <td>18.440900</td>\n",
       "      <td>16.684600</td>\n",
       "      <td>8.402400</td>\n",
       "      <td>17.527300</td>\n",
       "      <td>27.928800</td>\n",
       "      <td>4.272900</td>\n",
       "      <td>18.321500</td>\n",
       "      <td>11.887600</td>\n",
       "      <td>25.857100</td>\n",
       "      <td>27.534000</td>\n",
       "    </tr>\n",
       "  </tbody>\n",
       "</table>\n",
       "<p>8 rows × 201 columns</p>\n",
       "</div>"
      ],
      "text/plain": [
       "             target         var_0         var_1         var_2         var_3  \\\n",
       "count  60000.000000  60000.000000  60000.000000  60000.000000  60000.000000   \n",
       "mean       0.100833     10.693338     -1.609995     10.702296      6.792745   \n",
       "std        0.301110      3.038192      4.026374      2.642841      2.036558   \n",
       "min        0.000000      0.452800    -15.043400      2.789200      0.170700   \n",
       "25%        0.000000      8.466025     -4.691550      8.703450      5.256775   \n",
       "50%        0.000000     10.531600     -1.587500     10.567600      6.823050   \n",
       "75%        0.000000     12.761925      1.357650     12.502025      8.323625   \n",
       "max        1.000000     20.074000      9.188300     18.652100     13.098300   \n",
       "\n",
       "              var_4         var_5         var_6         var_7         var_8  \\\n",
       "count  60000.000000  60000.000000  60000.000000  60000.000000  60000.000000   \n",
       "mean      11.074233     -5.048998      5.405014     16.548320      0.273284   \n",
       "std        1.620230      7.841635      0.868727      3.421112      3.336540   \n",
       "min        5.074800    -28.246100      2.347300      6.889000    -10.505500   \n",
       "25%        9.873900    -11.153100      4.760500     13.945350     -2.326125   \n",
       "50%       11.107900     -4.824250      5.379300     16.466450      0.368250   \n",
       "75%       12.251400      0.938425      5.999300     19.111175      2.927200   \n",
       "max       15.778800     17.128100      8.447700     27.691800      9.627200   \n",
       "\n",
       "       ...       var_190       var_191       var_192       var_193  \\\n",
       "count  ...  60000.000000  60000.000000  60000.000000  60000.000000   \n",
       "mean   ...      3.243856      7.432643      1.928457      3.325295   \n",
       "std    ...      4.547276      3.023517      1.477246      3.983743   \n",
       "min    ...    -14.093300     -2.691700     -3.410700    -10.311600   \n",
       "25%    ...     -0.040725      5.156225      0.891575      0.559500   \n",
       "50%    ...      3.201050      7.325750      1.901400      3.381000   \n",
       "75%    ...      6.414425      9.514900      2.948900      6.181325   \n",
       "max    ...     18.440900     16.684600      8.402400     17.527300   \n",
       "\n",
       "            var_194       var_195       var_196       var_197       var_198  \\\n",
       "count  60000.000000  60000.000000  60000.000000  60000.000000  60000.000000   \n",
       "mean      18.000345     -0.150637      2.312478      8.907297     15.875043   \n",
       "std        3.146700      1.433514      5.461435      0.922835      3.012739   \n",
       "min        9.144600     -5.048100    -13.589100      5.960600      6.299300   \n",
       "25%       15.619000     -1.179600     -1.943875      8.249175     13.825925   \n",
       "50%       17.959250     -0.182950      2.416850      8.883600     15.934900   \n",
       "75%       20.402625      0.821325      6.562450      9.595500     18.070800   \n",
       "max       27.928800      4.272900     18.321500     11.887600     25.857100   \n",
       "\n",
       "            var_199  \n",
       "count  60000.000000  \n",
       "mean      -3.277584  \n",
       "std       10.443775  \n",
       "min      -38.852800  \n",
       "25%      -11.159625  \n",
       "50%       -2.730550  \n",
       "75%        4.869700  \n",
       "max       27.534000  \n",
       "\n",
       "[8 rows x 201 columns]"
      ]
     },
     "execution_count": 12,
     "metadata": {},
     "output_type": "execute_result"
    }
   ],
   "source": [
    "df_validacao.describe()"
   ]
  },
  {
   "cell_type": "code",
   "execution_count": 13,
   "id": "9246b9da",
   "metadata": {
    "id": "9246b9da",
    "outputId": "9bbe4b90-8077-494a-e022-0affa652fe56"
   },
   "outputs": [
    {
     "data": {
      "image/png": "[encoded data removed]",
      "text/plain": [
       "<Figure size 432x288 with 1 Axes>"
      ]
     },
     "metadata": {
      "needs_background": "light"
     },
     "output_type": "display_data"
    }
   ],
   "source": [
    "#verificando a quantidade de cada classe dentro do conjunto de dados de treino\n",
    "sns.countplot(x=df_train['target'], palette = 'RdPu').set_title('target - treino')\n",
    "plt.show()"
   ]
  },
  {
   "cell_type": "code",
   "execution_count": 14,
   "id": "ddde5cb3",
   "metadata": {
    "id": "ddde5cb3",
    "outputId": "bf19cb64-32c9-42f0-8bed-f7cb005a5415"
   },
   "outputs": [
    {
     "data": {
      "text/plain": [
       "(array([0, 1]), array([125952,  14048]))"
      ]
     },
     "execution_count": 14,
     "metadata": {},
     "output_type": "execute_result"
    }
   ],
   "source": [
    "np.unique(Y_train, return_counts = True)"
   ]
  },
  {
   "cell_type": "code",
   "execution_count": 15,
   "id": "6ee1cf1c",
   "metadata": {
    "id": "6ee1cf1c",
    "outputId": "a4cdb236-389e-4918-d949-4e1976ab1419"
   },
   "outputs": [
    {
     "data": {
      "image/png": "[encoded data removed]",
      "text/plain": [
       "<Figure size 432x288 with 1 Axes>"
      ]
     },
     "metadata": {
      "needs_background": "light"
     },
     "output_type": "display_data"
    }
   ],
   "source": [
    "#verificando a quantidade de cada classe dentro do conjunto de dados de validacao\n",
    "sns.countplot(x=df_validacao['target'], palette = 'ocean').set_title('target - validação')\n",
    "plt.show()"
   ]
  },
  {
   "cell_type": "code",
   "execution_count": 16,
   "id": "155d0435",
   "metadata": {
    "id": "155d0435",
    "outputId": "ebabcdfb-bf44-4c53-c7ed-c89f54ca1185"
   },
   "outputs": [
    {
     "data": {
      "text/plain": [
       "(array([0, 1]), array([53950,  6050]))"
      ]
     },
     "execution_count": 16,
     "metadata": {},
     "output_type": "execute_result"
    }
   ],
   "source": [
    "np.unique(Y_validacao, return_counts = True)"
   ]
  },
  {
   "cell_type": "code",
   "execution_count": 17,
   "id": "0687129e",
   "metadata": {
    "id": "0687129e",
    "outputId": "5b8f151c-de79-41f3-f8c5-747049cd7ce4"
   },
   "outputs": [
    {
     "data": {
      "image/png": "[encoded data removed]",
      "text/plain": [
       "<Figure size 2880x1440 with 2 Axes>"
      ]
     },
     "metadata": {
      "needs_background": "light"
     },
     "output_type": "display_data"
    }
   ],
   "source": [
    "#calculo da matriz de correlação entre as variáveis do problema\n",
    "plt.figure(figsize=(40,20)) \n",
    "plt.title('Correlação entre as features', size = 50) \n",
    "sns.heatmap(df_train.corr(), cmap='RdPu')\n",
    "plt.show()"
   ]
  },
  {
   "cell_type": "markdown",
   "id": "734b574a",
   "metadata": {
    "id": "734b574a"
   },
   "source": [
    "A seguir, o calculo matriz de correlacao, verifica quais entradas é maior que 0.5 e faz a contagem. A diagonal sempre vai valer 1, se tiver 201 contagens nao nulas, entao as variaveis nao sao correlacionadas."
   ]
  },
  {
   "cell_type": "code",
   "execution_count": 18,
   "id": "70aecf12",
   "metadata": {
    "id": "70aecf12",
    "outputId": "11b00499-cb3d-4cdc-8240-232bb0999e7a"
   },
   "outputs": [
    {
     "data": {
      "text/plain": [
       "(201,\n",
       " array([[1, 0, 0, ..., 0, 0, 0],\n",
       "        [0, 1, 0, ..., 0, 0, 0],\n",
       "        [0, 0, 1, ..., 0, 0, 0],\n",
       "        ...,\n",
       "        [0, 0, 0, ..., 1, 0, 0],\n",
       "        [0, 0, 0, ..., 0, 1, 0],\n",
       "        [0, 0, 0, ..., 0, 0, 1]]))"
      ]
     },
     "execution_count": 18,
     "metadata": {},
     "output_type": "execute_result"
    }
   ],
   "source": [
    "correlacao = df_train.corr()\n",
    "qtd_correlacao = np.where(abs(correlacao)>0.5, 1, 0)\n",
    "np.count_nonzero(qtd_correlacao), qtd_correlacao"
   ]
  },
  {
   "cell_type": "markdown",
   "id": "3a617bb8",
   "metadata": {
    "id": "3a617bb8"
   },
   "source": [
    "#  <a name=\"secao_2\"> Random Forest </a>\n",
    "[Voltar ao índice](#indice)\n",
    "\n",
    "Vamos iniciar o processo de previsão utilizando um algoritmo mais simples, o Random Forest.\n",
    "\n",
    "Para este caso, foi testado alguns modelos manualmente e após isso foi utilizado o GridSearchCV() para encontrar o melhor modelo dentro de algumas possibilidades de hiper parâmetros. \n",
    "\n",
    "Com o melhor modelo, foi calculado as principais métricas para um caso de classificação, sendo elas a matriz de confusão, precision, recall e a curva ROC. Também foi plotado as 10 features mais importantes para o treino do modelo, essa informação poderia ser utilizada para eliminar features pouco importantes e deixar o treino com um custo computacional menor. Esse ultimo processo não foi feito nessa análise.\n",
    "\n",
    "\n",
    "Parâmetros utilizados e variados:\n",
    "   - n_estimator\n",
    "   - max_depth\n",
    "   - criterion = 'entropy' (fixo)\n",
    "   \n",
    "métrica maximizada: **recall** \n",
    "\n",
    "O melhor modelo, utilizando o GridSearchCV() foi construido usando os seguintes parâmetros:\n",
    "   - n_estimator: 200\n",
    "   - max_depth: 12\n",
    "\n",
    "   \n",
    "Com o recall sendo igual a:\n",
    "   - Recall Score : 0.7262\n",
    "   "
   ]
  },
  {
   "cell_type": "code",
   "execution_count": null,
   "id": "54702e80",
   "metadata": {
    "id": "54702e80",
    "outputId": "a04b20c9-6f3d-4389-8c4d-defd79099163"
   },
   "outputs": [
    {
     "name": "stdout",
     "output_type": "stream",
     "text": [
      "Requirement already satisfied: imblearn in /opt/anaconda3/lib/python3.9/site-packages (0.0)\n",
      "Requirement already satisfied: imbalanced-learn in /opt/anaconda3/lib/python3.9/site-packages (from imblearn) (0.9.1)\n",
      "Requirement already satisfied: scikit-learn>=1.1.0 in /opt/anaconda3/lib/python3.9/site-packages (from imbalanced-learn->imblearn) (1.1.3)\n",
      "Requirement already satisfied: scipy>=1.3.2 in /opt/anaconda3/lib/python3.9/site-packages (from imbalanced-learn->imblearn) (1.7.1)\n",
      "Requirement already satisfied: threadpoolctl>=2.0.0 in /opt/anaconda3/lib/python3.9/site-packages (from imbalanced-learn->imblearn) (3.1.0)\n",
      "Requirement already satisfied: numpy>=1.17.3 in /opt/anaconda3/lib/python3.9/site-packages (from imbalanced-learn->imblearn) (1.22.3)\n",
      "Requirement already satisfied: joblib>=1.0.0 in /opt/anaconda3/lib/python3.9/site-packages (from imbalanced-learn->imblearn) (1.1.0)\n"
     ]
    }
   ],
   "source": [
    "!pip install imblearn"
   ]
  },
  {
   "cell_type": "code",
   "execution_count": null,
   "id": "86ca8b50",
   "metadata": {
    "id": "86ca8b50",
    "outputId": "c558a6c1-00e2-4da7-bd2d-ec7737797142"
   },
   "outputs": [
    {
     "name": "stdout",
     "output_type": "stream",
     "text": [
      "Requirement already satisfied: threadpoolctl==3.1.0 in /opt/anaconda3/lib/python3.9/site-packages (3.1.0)\n",
      "Note: you may need to restart the kernel to use updated packages.\n"
     ]
    }
   ],
   "source": [
    "pip install threadpoolctl==3.1.0"
   ]
  },
  {
   "cell_type": "code",
   "execution_count": 31,
   "id": "00202643",
   "metadata": {
    "id": "00202643"
   },
   "outputs": [],
   "source": [
    "from sklearn.ensemble import RandomForestClassifier\n",
    "from sklearn.metrics import accuracy_score, classification_report, recall_score, roc_auc_score\n",
    "from yellowbrick.classifier import ConfusionMatrix\n",
    "from imblearn.over_sampling import BorderlineSMOTE \n",
    "from sklearn.model_selection import GridSearchCV\n",
    "from sklearn.metrics import plot_roc_curve, RocCurveDisplay, roc_curve"
   ]
  },
  {
   "cell_type": "code",
   "execution_count": 20,
   "id": "88d75d63",
   "metadata": {
    "id": "88d75d63",
    "outputId": "bdfca1f4-ab9d-467a-c16a-2daa3e916712"
   },
   "outputs": [
    {
     "data": {
      "text/plain": [
       "((140000, 200), (140000,))"
      ]
     },
     "execution_count": 20,
     "metadata": {},
     "output_type": "execute_result"
    }
   ],
   "source": [
    "X_train.shape, Y_train.shape"
   ]
  },
  {
   "cell_type": "code",
   "execution_count": 21,
   "id": "a108bcf7",
   "metadata": {
    "id": "a108bcf7",
    "outputId": "7a54519a-3233-4cd7-d6de-fdd3ad15b089"
   },
   "outputs": [
    {
     "data": {
      "text/plain": [
       "((60000, 200), (60000,))"
      ]
     },
     "execution_count": 21,
     "metadata": {},
     "output_type": "execute_result"
    }
   ],
   "source": [
    "X_validacao.shape, Y_validacao.shape"
   ]
  },
  {
   "cell_type": "code",
   "execution_count": 22,
   "id": "e8625f9d",
   "metadata": {
    "id": "e8625f9d"
   },
   "outputs": [],
   "source": [
    "#balanceando os dados, de forma a usar a técnica de oversampling\n",
    "smote_random_forest = BorderlineSMOTE(sampling_strategy='minority')\n",
    "X_over_train, Y_over_train = smote_random_forest.fit_resample(X_train, Y_train)\n",
    "X_over_validacao, Y_over_validacao = smote_random_forest.fit_resample(X_validacao, Y_validacao)"
   ]
  },
  {
   "cell_type": "code",
   "execution_count": 23,
   "id": "6a2b7211",
   "metadata": {
    "id": "6a2b7211",
    "outputId": "f028b623-5ee7-4dac-b873-20e2f8d20e36"
   },
   "outputs": [
    {
     "data": {
      "text/plain": [
       "(array([0, 1]), array([125952, 125952]))"
      ]
     },
     "execution_count": 23,
     "metadata": {},
     "output_type": "execute_result"
    }
   ],
   "source": [
    "np.unique(Y_over_train, return_counts=True)"
   ]
  },
  {
   "cell_type": "code",
   "execution_count": 24,
   "id": "be305c69",
   "metadata": {
    "id": "be305c69",
    "outputId": "eb41f5d1-6d0d-41ba-bbe6-2e00454f27e9"
   },
   "outputs": [
    {
     "data": {
      "text/plain": [
       "(array([0, 1]), array([53950, 53950]))"
      ]
     },
     "execution_count": 24,
     "metadata": {},
     "output_type": "execute_result"
    }
   ],
   "source": [
    "np.unique(Y_over_validacao, return_counts=True)"
   ]
  },
  {
   "cell_type": "code",
   "execution_count": 25,
   "id": "d17fb6b5",
   "metadata": {
    "id": "d17fb6b5",
    "outputId": "57ab2d75-63d3-4009-bc99-097cad5abe71"
   },
   "outputs": [
    {
     "name": "stderr",
     "output_type": "stream",
     "text": [
      "[Parallel(n_jobs=1)]: Using backend SequentialBackend with 1 concurrent workers.\n",
      "[Parallel(n_jobs=1)]: Done 200 out of 200 | elapsed: 21.3min finished\n"
     ]
    },
    {
     "data": {
      "text/html": [
       "<style>#sk-container-id-1 {color: black;background-color: white;}#sk-container-id-1 pre{padding: 0;}#sk-container-id-1 div.sk-toggleable {background-color: white;}#sk-container-id-1 label.sk-toggleable__label {cursor: pointer;display: block;width: 100%;margin-bottom: 0;padding: 0.3em;box-sizing: border-box;text-align: center;}#sk-container-id-1 label.sk-toggleable__label-arrow:before {content: \"▸\";float: left;margin-right: 0.25em;color: #696969;}#sk-container-id-1 label.sk-toggleable__label-arrow:hover:before {color: black;}#sk-container-id-1 div.sk-estimator:hover label.sk-toggleable__label-arrow:before {color: black;}#sk-container-id-1 div.sk-toggleable__content {max-height: 0;max-width: 0;overflow: hidden;text-align: left;background-color: #f0f8ff;}#sk-container-id-1 div.sk-toggleable__content pre {margin: 0.2em;color: black;border-radius: 0.25em;background-color: #f0f8ff;}#sk-container-id-1 input.sk-toggleable__control:checked~div.sk-toggleable__content {max-height: 200px;max-width: 100%;overflow: auto;}#sk-container-id-1 input.sk-toggleable__control:checked~label.sk-toggleable__label-arrow:before {content: \"▾\";}#sk-container-id-1 div.sk-estimator input.sk-toggleable__control:checked~label.sk-toggleable__label {background-color: #d4ebff;}#sk-container-id-1 div.sk-label input.sk-toggleable__control:checked~label.sk-toggleable__label {background-color: #d4ebff;}#sk-container-id-1 input.sk-hidden--visually {border: 0;clip: rect(1px 1px 1px 1px);clip: rect(1px, 1px, 1px, 1px);height: 1px;margin: -1px;overflow: hidden;padding: 0;position: absolute;width: 1px;}#sk-container-id-1 div.sk-estimator {font-family: monospace;background-color: #f0f8ff;border: 1px dotted black;border-radius: 0.25em;box-sizing: border-box;margin-bottom: 0.5em;}#sk-container-id-1 div.sk-estimator:hover {background-color: #d4ebff;}#sk-container-id-1 div.sk-parallel-item::after {content: \"\";width: 100%;border-bottom: 1px solid gray;flex-grow: 1;}#sk-container-id-1 div.sk-label:hover label.sk-toggleable__label {background-color: #d4ebff;}#sk-container-id-1 div.sk-serial::before {content: \"\";position: absolute;border-left: 1px solid gray;box-sizing: border-box;top: 0;bottom: 0;left: 50%;z-index: 0;}#sk-container-id-1 div.sk-serial {display: flex;flex-direction: column;align-items: center;background-color: white;padding-right: 0.2em;padding-left: 0.2em;position: relative;}#sk-container-id-1 div.sk-item {position: relative;z-index: 1;}#sk-container-id-1 div.sk-parallel {display: flex;align-items: stretch;justify-content: center;background-color: white;position: relative;}#sk-container-id-1 div.sk-item::before, #sk-container-id-1 div.sk-parallel-item::before {content: \"\";position: absolute;border-left: 1px solid gray;box-sizing: border-box;top: 0;bottom: 0;left: 50%;z-index: -1;}#sk-container-id-1 div.sk-parallel-item {display: flex;flex-direction: column;z-index: 1;position: relative;background-color: white;}#sk-container-id-1 div.sk-parallel-item:first-child::after {align-self: flex-end;width: 50%;}#sk-container-id-1 div.sk-parallel-item:last-child::after {align-self: flex-start;width: 50%;}#sk-container-id-1 div.sk-parallel-item:only-child::after {width: 0;}#sk-container-id-1 div.sk-dashed-wrapped {border: 1px dashed gray;margin: 0 0.4em 0.5em 0.4em;box-sizing: border-box;padding-bottom: 0.4em;background-color: white;}#sk-container-id-1 div.sk-label label {font-family: monospace;font-weight: bold;display: inline-block;line-height: 1.2em;}#sk-container-id-1 div.sk-label-container {text-align: center;}#sk-container-id-1 div.sk-container {/* jupyter's `normalize.less` sets `[hidden] { display: none; }` but bootstrap.min.css set `[hidden] { display: none !important; }` so we also need the `!important` here to be able to override the default hidden behavior on the sphinx rendered scikit-learn.org. See: https://github.com/scikit-learn/scikit-learn/issues/21755 */display: inline-block !important;position: relative;}#sk-container-id-1 div.sk-text-repr-fallback {display: none;}</style><div id=\"sk-container-id-1\" class=\"sk-top-container\"><div class=\"sk-text-repr-fallback\"><pre>RandomForestClassifier(criterion=&#x27;entropy&#x27;, max_depth=12, n_estimators=200,\n",
       "                       random_state=0, verbose=1)</pre><b>In a Jupyter environment, please rerun this cell to show the HTML representation or trust the notebook. <br />On GitHub, the HTML representation is unable to render, please try loading this page with nbviewer.org.</b></div><div class=\"sk-container\" hidden><div class=\"sk-item\"><div class=\"sk-estimator sk-toggleable\"><input class=\"sk-toggleable__control sk-hidden--visually\" id=\"sk-estimator-id-1\" type=\"checkbox\" checked><label for=\"sk-estimator-id-1\" class=\"sk-toggleable__label sk-toggleable__label-arrow\">RandomForestClassifier</label><div class=\"sk-toggleable__content\"><pre>RandomForestClassifier(criterion=&#x27;entropy&#x27;, max_depth=12, n_estimators=200,\n",
       "                       random_state=0, verbose=1)</pre></div></div></div></div></div>"
      ],
      "text/plain": [
       "RandomForestClassifier(criterion='entropy', max_depth=12, n_estimators=200,\n",
       "                       random_state=0, verbose=1)"
      ]
     },
     "execution_count": 25,
     "metadata": {},
     "output_type": "execute_result"
    }
   ],
   "source": [
    "#inciando o treinamento com a Random Forest, usando a metrica para hierarquia das features\n",
    "#a minimizacao da entropia (maximizacao do ganho de informacao)\n",
    "random_forest = RandomForestClassifier(n_estimators=200, criterion='entropy', max_depth=12, verbose=1,random_state = 0)\n",
    "random_forest.fit(X_over_train, Y_over_train)"
   ]
  },
  {
   "cell_type": "code",
   "execution_count": 26,
   "id": "f65cacaf",
   "metadata": {
    "id": "f65cacaf",
    "outputId": "96c06550-f4cd-4300-813a-2490f2f177da"
   },
   "outputs": [
    {
     "name": "stderr",
     "output_type": "stream",
     "text": [
      "[Parallel(n_jobs=1)]: Using backend SequentialBackend with 1 concurrent workers.\n",
      "[Parallel(n_jobs=1)]: Done 200 out of 200 | elapsed:    3.6s finished\n"
     ]
    },
    {
     "data": {
      "text/plain": [
       "0.7262835959221502"
      ]
     },
     "execution_count": 26,
     "metadata": {},
     "output_type": "execute_result"
    }
   ],
   "source": [
    "previsoes_random_forest = random_forest.predict(X_over_validacao)\n",
    "recall_score(Y_over_validacao, previsoes_random_forest)"
   ]
  },
  {
   "cell_type": "code",
   "execution_count": 27,
   "id": "85669082",
   "metadata": {
    "id": "85669082",
    "outputId": "09ecbfe6-0582-4ebc-aa85-547844f208c8"
   },
   "outputs": [
    {
     "name": "stderr",
     "output_type": "stream",
     "text": [
      "[Parallel(n_jobs=1)]: Using backend SequentialBackend with 1 concurrent workers.\n",
      "[Parallel(n_jobs=1)]: Done 200 out of 200 | elapsed:    3.5s finished\n",
      "[Parallel(n_jobs=1)]: Using backend SequentialBackend with 1 concurrent workers.\n",
      "[Parallel(n_jobs=1)]: Done 200 out of 200 | elapsed:    3.5s finished\n"
     ]
    },
    {
     "data": {
      "text/plain": [
       "0.7978591288229843"
      ]
     },
     "execution_count": 27,
     "metadata": {},
     "output_type": "execute_result"
    },
    {
     "data": {
      "image/png": "[encoded data removed]",
      "text/plain": [
       "<Figure size 576x396 with 1 Axes>"
      ]
     },
     "metadata": {},
     "output_type": "display_data"
    }
   ],
   "source": [
    "#calculo de algumas métricas de classificação: matriz de confusao\n",
    "matriz_confusao_random_forest = ConfusionMatrix(random_forest, cmap='GnBu')\n",
    "matriz_confusao_random_forest.fit(X_over_train, Y_over_train)\n",
    "matriz_confusao_random_forest.score(X_over_validacao, Y_over_validacao)"
   ]
  },
  {
   "cell_type": "code",
   "execution_count": 28,
   "id": "2e3a45f5",
   "metadata": {
    "id": "2e3a45f5",
    "outputId": "6555dc94-6e55-4dbb-f43a-f318ea9bbe85"
   },
   "outputs": [
    {
     "name": "stdout",
     "output_type": "stream",
     "text": [
      "              precision    recall  f1-score   support\n",
      "\n",
      "           0       0.76      0.87      0.81     53950\n",
      "           1       0.85      0.73      0.78     53950\n",
      "\n",
      "    accuracy                           0.80    107900\n",
      "   macro avg       0.80      0.80      0.80    107900\n",
      "weighted avg       0.80      0.80      0.80    107900\n",
      "\n"
     ]
    }
   ],
   "source": [
    "#printa as métricas de classificação\n",
    "print(classification_report(Y_over_validacao, previsoes_random_forest))"
   ]
  },
  {
   "cell_type": "code",
   "execution_count": 40,
   "id": "fd17acf2",
   "metadata": {},
   "outputs": [
    {
     "name": "stderr",
     "output_type": "stream",
     "text": [
      "/opt/anaconda3/lib/python3.9/site-packages/sklearn/utils/deprecation.py:87: FutureWarning: Function plot_roc_curve is deprecated; Function :func:`plot_roc_curve` is deprecated in 1.0 and will be removed in 1.2. Use one of the class methods: :meth:`sklearn.metrics.RocCurveDisplay.from_predictions` or :meth:`sklearn.metrics.RocCurveDisplay.from_estimator`.\n",
      "  warnings.warn(msg, category=FutureWarning)\n",
      "[Parallel(n_jobs=1)]: Using backend SequentialBackend with 1 concurrent workers.\n",
      "[Parallel(n_jobs=1)]: Done 200 out of 200 | elapsed:    3.4s finished\n"
     ]
    },
    {
     "data": {
      "image/png": "[encoded data removed]",
      "text/plain": [
       "<Figure size 576x396 with 1 Axes>"
      ]
     },
     "metadata": {},
     "output_type": "display_data"
    }
   ],
   "source": [
    "roc_random_forest = plota_roc_curve(random_forest, X_over_validacao, Y_over_validacao, 'Random Forest', color_roc = \"pink\")\n",
    "plt.show()\n"
   ]
  },
  {
   "cell_type": "code",
   "execution_count": null,
   "id": "20b1f889",
   "metadata": {
    "id": "20b1f889",
    "outputId": "1d05d829-ce41-4dd9-dd7b-d1293bb84e5c",
    "scrolled": true
   },
   "outputs": [
    {
     "data": {
      "text/plain": [
       "<AxesSubplot:>"
      ]
     },
     "execution_count": 192,
     "metadata": {},
     "output_type": "execute_result"
    },
    {
     "data": {
      "image/png": "[encoded data removed]",
      "text/plain": [
       "<Figure size 576x396 with 1 Axes>"
      ]
     },
     "metadata": {},
     "output_type": "display_data"
    }
   ],
   "source": [
    "#plotando o ranking de importancia das features utilizadas para treinar o meu modelo\n",
    "feat_importances = pd.Series(random_forest.feature_importances_)\n",
    "feat_importances.nlargest(10).plot(kind='barh')"
   ]
  },
  {
   "cell_type": "code",
   "execution_count": null,
   "id": "bd04047d",
   "metadata": {
    "id": "bd04047d",
    "outputId": "3c895490-34d9-450a-bd8a-c79e2186e3aa",
    "scrolled": true
   },
   "outputs": [
    {
     "data": {
      "text/html": [
       "<style>#sk-container-id-11 {color: black;background-color: white;}#sk-container-id-11 pre{padding: 0;}#sk-container-id-11 div.sk-toggleable {background-color: white;}#sk-container-id-11 label.sk-toggleable__label {cursor: pointer;display: block;width: 100%;margin-bottom: 0;padding: 0.3em;box-sizing: border-box;text-align: center;}#sk-container-id-11 label.sk-toggleable__label-arrow:before {content: \"▸\";float: left;margin-right: 0.25em;color: #696969;}#sk-container-id-11 label.sk-toggleable__label-arrow:hover:before {color: black;}#sk-container-id-11 div.sk-estimator:hover label.sk-toggleable__label-arrow:before {color: black;}#sk-container-id-11 div.sk-toggleable__content {max-height: 0;max-width: 0;overflow: hidden;text-align: left;background-color: #f0f8ff;}#sk-container-id-11 div.sk-toggleable__content pre {margin: 0.2em;color: black;border-radius: 0.25em;background-color: #f0f8ff;}#sk-container-id-11 input.sk-toggleable__control:checked~div.sk-toggleable__content {max-height: 200px;max-width: 100%;overflow: auto;}#sk-container-id-11 input.sk-toggleable__control:checked~label.sk-toggleable__label-arrow:before {content: \"▾\";}#sk-container-id-11 div.sk-estimator input.sk-toggleable__control:checked~label.sk-toggleable__label {background-color: #d4ebff;}#sk-container-id-11 div.sk-label input.sk-toggleable__control:checked~label.sk-toggleable__label {background-color: #d4ebff;}#sk-container-id-11 input.sk-hidden--visually {border: 0;clip: rect(1px 1px 1px 1px);clip: rect(1px, 1px, 1px, 1px);height: 1px;margin: -1px;overflow: hidden;padding: 0;position: absolute;width: 1px;}#sk-container-id-11 div.sk-estimator {font-family: monospace;background-color: #f0f8ff;border: 1px dotted black;border-radius: 0.25em;box-sizing: border-box;margin-bottom: 0.5em;}#sk-container-id-11 div.sk-estimator:hover {background-color: #d4ebff;}#sk-container-id-11 div.sk-parallel-item::after {content: \"\";width: 100%;border-bottom: 1px solid gray;flex-grow: 1;}#sk-container-id-11 div.sk-label:hover label.sk-toggleable__label {background-color: #d4ebff;}#sk-container-id-11 div.sk-serial::before {content: \"\";position: absolute;border-left: 1px solid gray;box-sizing: border-box;top: 0;bottom: 0;left: 50%;z-index: 0;}#sk-container-id-11 div.sk-serial {display: flex;flex-direction: column;align-items: center;background-color: white;padding-right: 0.2em;padding-left: 0.2em;position: relative;}#sk-container-id-11 div.sk-item {position: relative;z-index: 1;}#sk-container-id-11 div.sk-parallel {display: flex;align-items: stretch;justify-content: center;background-color: white;position: relative;}#sk-container-id-11 div.sk-item::before, #sk-container-id-11 div.sk-parallel-item::before {content: \"\";position: absolute;border-left: 1px solid gray;box-sizing: border-box;top: 0;bottom: 0;left: 50%;z-index: -1;}#sk-container-id-11 div.sk-parallel-item {display: flex;flex-direction: column;z-index: 1;position: relative;background-color: white;}#sk-container-id-11 div.sk-parallel-item:first-child::after {align-self: flex-end;width: 50%;}#sk-container-id-11 div.sk-parallel-item:last-child::after {align-self: flex-start;width: 50%;}#sk-container-id-11 div.sk-parallel-item:only-child::after {width: 0;}#sk-container-id-11 div.sk-dashed-wrapped {border: 1px dashed gray;margin: 0 0.4em 0.5em 0.4em;box-sizing: border-box;padding-bottom: 0.4em;background-color: white;}#sk-container-id-11 div.sk-label label {font-family: monospace;font-weight: bold;display: inline-block;line-height: 1.2em;}#sk-container-id-11 div.sk-label-container {text-align: center;}#sk-container-id-11 div.sk-container {/* jupyter's `normalize.less` sets `[hidden] { display: none; }` but bootstrap.min.css set `[hidden] { display: none !important; }` so we also need the `!important` here to be able to override the default hidden behavior on the sphinx rendered scikit-learn.org. See: https://github.com/scikit-learn/scikit-learn/issues/21755 */display: inline-block !important;position: relative;}#sk-container-id-11 div.sk-text-repr-fallback {display: none;}</style><div id=\"sk-container-id-11\" class=\"sk-top-container\"><div class=\"sk-text-repr-fallback\"><pre>GridSearchCV(cv=2, estimator=RandomForestClassifier(),\n",
       "             param_grid={&#x27;criterion&#x27;: [&#x27;entropy&#x27;], &#x27;max_depth&#x27;: [6, 9, 12],\n",
       "                         &#x27;n_estimators&#x27;: [50, 100, 200], &#x27;random_state&#x27;: [0]},\n",
       "             scoring=&#x27;recall&#x27;)</pre><b>In a Jupyter environment, please rerun this cell to show the HTML representation or trust the notebook. <br />On GitHub, the HTML representation is unable to render, please try loading this page with nbviewer.org.</b></div><div class=\"sk-container\" hidden><div class=\"sk-item sk-dashed-wrapped\"><div class=\"sk-label-container\"><div class=\"sk-label sk-toggleable\"><input class=\"sk-toggleable__control sk-hidden--visually\" id=\"sk-estimator-id-13\" type=\"checkbox\" ><label for=\"sk-estimator-id-13\" class=\"sk-toggleable__label sk-toggleable__label-arrow\">GridSearchCV</label><div class=\"sk-toggleable__content\"><pre>GridSearchCV(cv=2, estimator=RandomForestClassifier(),\n",
       "             param_grid={&#x27;criterion&#x27;: [&#x27;entropy&#x27;], &#x27;max_depth&#x27;: [6, 9, 12],\n",
       "                         &#x27;n_estimators&#x27;: [50, 100, 200], &#x27;random_state&#x27;: [0]},\n",
       "             scoring=&#x27;recall&#x27;)</pre></div></div></div><div class=\"sk-parallel\"><div class=\"sk-parallel-item\"><div class=\"sk-item\"><div class=\"sk-label-container\"><div class=\"sk-label sk-toggleable\"><input class=\"sk-toggleable__control sk-hidden--visually\" id=\"sk-estimator-id-14\" type=\"checkbox\" ><label for=\"sk-estimator-id-14\" class=\"sk-toggleable__label sk-toggleable__label-arrow\">estimator: RandomForestClassifier</label><div class=\"sk-toggleable__content\"><pre>RandomForestClassifier()</pre></div></div></div><div class=\"sk-serial\"><div class=\"sk-item\"><div class=\"sk-estimator sk-toggleable\"><input class=\"sk-toggleable__control sk-hidden--visually\" id=\"sk-estimator-id-15\" type=\"checkbox\" ><label for=\"sk-estimator-id-15\" class=\"sk-toggleable__label sk-toggleable__label-arrow\">RandomForestClassifier</label><div class=\"sk-toggleable__content\"><pre>RandomForestClassifier()</pre></div></div></div></div></div></div></div></div></div></div>"
      ],
      "text/plain": [
       "GridSearchCV(cv=2, estimator=RandomForestClassifier(),\n",
       "             param_grid={'criterion': ['entropy'], 'max_depth': [6, 9, 12],\n",
       "                         'n_estimators': [50, 100, 200], 'random_state': [0]},\n",
       "             scoring='recall')"
      ]
     },
     "execution_count": 178,
     "metadata": {},
     "output_type": "execute_result"
    }
   ],
   "source": [
    "#tunando os hyperparametros com o gridsearch:\n",
    "parametros = {'criterion': ['entropy'], \n",
    "              'n_estimators': [50, 100, 200],\n",
    "              'max_depth': [6, 9, 12],\n",
    "               'random_state': [0]}  \n",
    "\n",
    "grid_rf = GridSearchCV(estimator=RandomForestClassifier(), param_grid=parametros, scoring='recall', cv=2)\n",
    "grid_rf.fit(X_over_train, Y_over_train)"
   ]
  },
  {
   "cell_type": "code",
   "execution_count": null,
   "id": "554ebb33",
   "metadata": {
    "id": "554ebb33",
    "outputId": "7fabca17-af57-46bf-ad1e-d32a43300e57"
   },
   "outputs": [
    {
     "name": "stdout",
     "output_type": "stream",
     "text": [
      "Melhor modelo: RandomForestClassifier(criterion='entropy', max_depth=12, n_estimators=200,\n",
      "                       random_state=0)\n",
      "Best Score: 0.9100629240086487\n"
     ]
    }
   ],
   "source": [
    "print('Melhor modelo: ' + str(grid_rf.best_estimator_))\n",
    "print('Best Score: ' + str(grid_rf.best_score_))"
   ]
  },
  {
   "cell_type": "markdown",
   "id": "cbc35fa3",
   "metadata": {
    "id": "cbc35fa3"
   },
   "source": [
    "#  <a name=\"secao_3\"> Regressão Logística </a>\n",
    "[Voltar ao índice](#indice)\n",
    "\n",
    "Tentando um modelo mais simples para verificar como os dados se comportam. Para isso, será utilizado a regressão logística.\n",
    "\n",
    "Parâmetros utilizados e variados:\n",
    "   - max_iter\n",
    "   - solver\n",
    "   \n",
    "métrica maximizada: recall \n",
    "\n",
    "O melhor modelo, utilizando o GridSearchCV() foi construido usando os seguintes parâmetros:\n",
    "   - max_iter: 1500\n",
    "   - solver: 'lbfgs'\n",
    "   \n",
    "Com o recall sendo igual a:\n",
    "   - recall: 0.8060"
   ]
  },
  {
   "cell_type": "code",
   "execution_count": 41,
   "id": "b064831e",
   "metadata": {
    "id": "b064831e"
   },
   "outputs": [],
   "source": [
    "from sklearn.linear_model import LogisticRegression"
   ]
  },
  {
   "cell_type": "code",
   "execution_count": 42,
   "id": "186b0486",
   "metadata": {
    "id": "186b0486",
    "outputId": "ac051bd2-da21-4345-be61-ad1ee8d6ff95"
   },
   "outputs": [
    {
     "name": "stderr",
     "output_type": "stream",
     "text": [
      "/opt/anaconda3/lib/python3.9/site-packages/sklearn/linear_model/_logistic.py:444: ConvergenceWarning: lbfgs failed to converge (status=1):\n",
      "STOP: TOTAL NO. of ITERATIONS REACHED LIMIT.\n",
      "\n",
      "Increase the number of iterations (max_iter) or scale the data as shown in:\n",
      "    https://scikit-learn.org/stable/modules/preprocessing.html\n",
      "Please also refer to the documentation for alternative solver options:\n",
      "    https://scikit-learn.org/stable/modules/linear_model.html#logistic-regression\n",
      "  n_iter_i = _check_optimize_result(\n"
     ]
    },
    {
     "data": {
      "text/html": [
       "<style>#sk-container-id-2 {color: black;background-color: white;}#sk-container-id-2 pre{padding: 0;}#sk-container-id-2 div.sk-toggleable {background-color: white;}#sk-container-id-2 label.sk-toggleable__label {cursor: pointer;display: block;width: 100%;margin-bottom: 0;padding: 0.3em;box-sizing: border-box;text-align: center;}#sk-container-id-2 label.sk-toggleable__label-arrow:before {content: \"▸\";float: left;margin-right: 0.25em;color: #696969;}#sk-container-id-2 label.sk-toggleable__label-arrow:hover:before {color: black;}#sk-container-id-2 div.sk-estimator:hover label.sk-toggleable__label-arrow:before {color: black;}#sk-container-id-2 div.sk-toggleable__content {max-height: 0;max-width: 0;overflow: hidden;text-align: left;background-color: #f0f8ff;}#sk-container-id-2 div.sk-toggleable__content pre {margin: 0.2em;color: black;border-radius: 0.25em;background-color: #f0f8ff;}#sk-container-id-2 input.sk-toggleable__control:checked~div.sk-toggleable__content {max-height: 200px;max-width: 100%;overflow: auto;}#sk-container-id-2 input.sk-toggleable__control:checked~label.sk-toggleable__label-arrow:before {content: \"▾\";}#sk-container-id-2 div.sk-estimator input.sk-toggleable__control:checked~label.sk-toggleable__label {background-color: #d4ebff;}#sk-container-id-2 div.sk-label input.sk-toggleable__control:checked~label.sk-toggleable__label {background-color: #d4ebff;}#sk-container-id-2 input.sk-hidden--visually {border: 0;clip: rect(1px 1px 1px 1px);clip: rect(1px, 1px, 1px, 1px);height: 1px;margin: -1px;overflow: hidden;padding: 0;position: absolute;width: 1px;}#sk-container-id-2 div.sk-estimator {font-family: monospace;background-color: #f0f8ff;border: 1px dotted black;border-radius: 0.25em;box-sizing: border-box;margin-bottom: 0.5em;}#sk-container-id-2 div.sk-estimator:hover {background-color: #d4ebff;}#sk-container-id-2 div.sk-parallel-item::after {content: \"\";width: 100%;border-bottom: 1px solid gray;flex-grow: 1;}#sk-container-id-2 div.sk-label:hover label.sk-toggleable__label {background-color: #d4ebff;}#sk-container-id-2 div.sk-serial::before {content: \"\";position: absolute;border-left: 1px solid gray;box-sizing: border-box;top: 0;bottom: 0;left: 50%;z-index: 0;}#sk-container-id-2 div.sk-serial {display: flex;flex-direction: column;align-items: center;background-color: white;padding-right: 0.2em;padding-left: 0.2em;position: relative;}#sk-container-id-2 div.sk-item {position: relative;z-index: 1;}#sk-container-id-2 div.sk-parallel {display: flex;align-items: stretch;justify-content: center;background-color: white;position: relative;}#sk-container-id-2 div.sk-item::before, #sk-container-id-2 div.sk-parallel-item::before {content: \"\";position: absolute;border-left: 1px solid gray;box-sizing: border-box;top: 0;bottom: 0;left: 50%;z-index: -1;}#sk-container-id-2 div.sk-parallel-item {display: flex;flex-direction: column;z-index: 1;position: relative;background-color: white;}#sk-container-id-2 div.sk-parallel-item:first-child::after {align-self: flex-end;width: 50%;}#sk-container-id-2 div.sk-parallel-item:last-child::after {align-self: flex-start;width: 50%;}#sk-container-id-2 div.sk-parallel-item:only-child::after {width: 0;}#sk-container-id-2 div.sk-dashed-wrapped {border: 1px dashed gray;margin: 0 0.4em 0.5em 0.4em;box-sizing: border-box;padding-bottom: 0.4em;background-color: white;}#sk-container-id-2 div.sk-label label {font-family: monospace;font-weight: bold;display: inline-block;line-height: 1.2em;}#sk-container-id-2 div.sk-label-container {text-align: center;}#sk-container-id-2 div.sk-container {/* jupyter's `normalize.less` sets `[hidden] { display: none; }` but bootstrap.min.css set `[hidden] { display: none !important; }` so we also need the `!important` here to be able to override the default hidden behavior on the sphinx rendered scikit-learn.org. See: https://github.com/scikit-learn/scikit-learn/issues/21755 */display: inline-block !important;position: relative;}#sk-container-id-2 div.sk-text-repr-fallback {display: none;}</style><div id=\"sk-container-id-2\" class=\"sk-top-container\"><div class=\"sk-text-repr-fallback\"><pre>LogisticRegression(max_iter=1500, random_state=0)</pre><b>In a Jupyter environment, please rerun this cell to show the HTML representation or trust the notebook. <br />On GitHub, the HTML representation is unable to render, please try loading this page with nbviewer.org.</b></div><div class=\"sk-container\" hidden><div class=\"sk-item\"><div class=\"sk-estimator sk-toggleable\"><input class=\"sk-toggleable__control sk-hidden--visually\" id=\"sk-estimator-id-2\" type=\"checkbox\" checked><label for=\"sk-estimator-id-2\" class=\"sk-toggleable__label sk-toggleable__label-arrow\">LogisticRegression</label><div class=\"sk-toggleable__content\"><pre>LogisticRegression(max_iter=1500, random_state=0)</pre></div></div></div></div></div>"
      ],
      "text/plain": [
       "LogisticRegression(max_iter=1500, random_state=0)"
      ]
     },
     "execution_count": 42,
     "metadata": {},
     "output_type": "execute_result"
    }
   ],
   "source": [
    "logistic_regression = LogisticRegression(max_iter=1500, random_state = 0)\n",
    "logistic_regression.fit(X_over_train, Y_over_train)"
   ]
  },
  {
   "cell_type": "code",
   "execution_count": 43,
   "id": "1d871123",
   "metadata": {
    "id": "1d871123"
   },
   "outputs": [],
   "source": [
    "#logistic_regression.coef_"
   ]
  },
  {
   "cell_type": "code",
   "execution_count": 44,
   "id": "73553c60",
   "metadata": {
    "id": "73553c60",
    "outputId": "b3cb86fd-fadf-4a56-dcb4-a6b625cc5afc"
   },
   "outputs": [
    {
     "data": {
      "text/plain": [
       "0.8088971269694162"
      ]
     },
     "execution_count": 44,
     "metadata": {},
     "output_type": "execute_result"
    }
   ],
   "source": [
    "previsoes_logistic = logistic_regression.predict(X_over_validacao)\n",
    "recall_score(Y_over_validacao, previsoes_logistic)"
   ]
  },
  {
   "cell_type": "code",
   "execution_count": 45,
   "id": "a0e127ee",
   "metadata": {
    "id": "a0e127ee",
    "outputId": "ef4a474d-1fc2-4906-e8cb-08f5ef520e74"
   },
   "outputs": [
    {
     "data": {
      "text/plain": [
       "0.8060704355885079"
      ]
     },
     "execution_count": 45,
     "metadata": {},
     "output_type": "execute_result"
    },
    {
     "data": {
      "image/png": "[encoded data removed]",
      "text/plain": [
       "<Figure size 576x396 with 1 Axes>"
      ]
     },
     "metadata": {},
     "output_type": "display_data"
    }
   ],
   "source": [
    "matriz_confusao_logistic = ConfusionMatrix(logistic_regression, cmap='GnBu')\n",
    "matriz_confusao_logistic.fit(X_over_train, Y_over_train)\n",
    "matriz_confusao_logistic.score(X_over_validacao, Y_over_validacao)"
   ]
  },
  {
   "cell_type": "code",
   "execution_count": 46,
   "id": "f4992fba",
   "metadata": {
    "id": "f4992fba",
    "outputId": "ba8fa181-028f-4c29-894c-1f7756a991eb"
   },
   "outputs": [
    {
     "name": "stdout",
     "output_type": "stream",
     "text": [
      "              precision    recall  f1-score   support\n",
      "\n",
      "           0       0.81      0.80      0.81     53950\n",
      "           1       0.80      0.81      0.81     53950\n",
      "\n",
      "    accuracy                           0.81    107900\n",
      "   macro avg       0.81      0.81      0.81    107900\n",
      "weighted avg       0.81      0.81      0.81    107900\n",
      "\n"
     ]
    }
   ],
   "source": [
    "print(classification_report(Y_over_validacao, previsoes_logistic))"
   ]
  },
  {
   "cell_type": "code",
   "execution_count": 53,
   "id": "9fb7cc65",
   "metadata": {
    "id": "9fb7cc65",
    "outputId": "bb92e437-e272-4a02-fae0-dd380966eefb"
   },
   "outputs": [
    {
     "name": "stderr",
     "output_type": "stream",
     "text": [
      "/opt/anaconda3/lib/python3.9/site-packages/sklearn/utils/deprecation.py:87: FutureWarning: Function plot_roc_curve is deprecated; Function :func:`plot_roc_curve` is deprecated in 1.0 and will be removed in 1.2. Use one of the class methods: :meth:`sklearn.metrics.RocCurveDisplay.from_predictions` or :meth:`sklearn.metrics.RocCurveDisplay.from_estimator`.\n",
      "  warnings.warn(msg, category=FutureWarning)\n"
     ]
    },
    {
     "data": {
      "image/png": "[encoded data removed]",
      "text/plain": [
       "<Figure size 576x396 with 1 Axes>"
      ]
     },
     "metadata": {},
     "output_type": "display_data"
    }
   ],
   "source": [
    "roc_logistic = plota_roc_curve(logistic_regression, X_over_validacao, Y_over_validacao, 'Logistic Regression', color_roc = \"pink\")\n",
    "plt.show()"
   ]
  },
  {
   "cell_type": "code",
   "execution_count": null,
   "id": "bc05cdf8",
   "metadata": {
    "id": "bc05cdf8",
    "outputId": "65fa2673-18c5-4bf5-e65c-df1251a05e13"
   },
   "outputs": [
    {
     "name": "stderr",
     "output_type": "stream",
     "text": [
      "/opt/anaconda3/lib/python3.9/site-packages/sklearn/linear_model/_logistic.py:444: ConvergenceWarning: lbfgs failed to converge (status=1):\n",
      "STOP: TOTAL NO. of ITERATIONS REACHED LIMIT.\n",
      "\n",
      "Increase the number of iterations (max_iter) or scale the data as shown in:\n",
      "    https://scikit-learn.org/stable/modules/preprocessing.html\n",
      "Please also refer to the documentation for alternative solver options:\n",
      "    https://scikit-learn.org/stable/modules/linear_model.html#logistic-regression\n",
      "  n_iter_i = _check_optimize_result(\n",
      "/opt/anaconda3/lib/python3.9/site-packages/sklearn/linear_model/_logistic.py:444: ConvergenceWarning: lbfgs failed to converge (status=1):\n",
      "STOP: TOTAL NO. of ITERATIONS REACHED LIMIT.\n",
      "\n",
      "Increase the number of iterations (max_iter) or scale the data as shown in:\n",
      "    https://scikit-learn.org/stable/modules/preprocessing.html\n",
      "Please also refer to the documentation for alternative solver options:\n",
      "    https://scikit-learn.org/stable/modules/linear_model.html#logistic-regression\n",
      "  n_iter_i = _check_optimize_result(\n",
      "/opt/anaconda3/lib/python3.9/site-packages/sklearn/linear_model/_sag.py:350: ConvergenceWarning: The max_iter was reached which means the coef_ did not converge\n",
      "  warnings.warn(\n",
      "/opt/anaconda3/lib/python3.9/site-packages/sklearn/linear_model/_sag.py:350: ConvergenceWarning: The max_iter was reached which means the coef_ did not converge\n",
      "  warnings.warn(\n",
      "/opt/anaconda3/lib/python3.9/site-packages/sklearn/linear_model/_logistic.py:444: ConvergenceWarning: lbfgs failed to converge (status=1):\n",
      "STOP: TOTAL NO. of ITERATIONS REACHED LIMIT.\n",
      "\n",
      "Increase the number of iterations (max_iter) or scale the data as shown in:\n",
      "    https://scikit-learn.org/stable/modules/preprocessing.html\n",
      "Please also refer to the documentation for alternative solver options:\n",
      "    https://scikit-learn.org/stable/modules/linear_model.html#logistic-regression\n",
      "  n_iter_i = _check_optimize_result(\n",
      "/opt/anaconda3/lib/python3.9/site-packages/sklearn/linear_model/_logistic.py:444: ConvergenceWarning: lbfgs failed to converge (status=1):\n",
      "STOP: TOTAL NO. of ITERATIONS REACHED LIMIT.\n",
      "\n",
      "Increase the number of iterations (max_iter) or scale the data as shown in:\n",
      "    https://scikit-learn.org/stable/modules/preprocessing.html\n",
      "Please also refer to the documentation for alternative solver options:\n",
      "    https://scikit-learn.org/stable/modules/linear_model.html#logistic-regression\n",
      "  n_iter_i = _check_optimize_result(\n",
      "/opt/anaconda3/lib/python3.9/site-packages/sklearn/linear_model/_sag.py:350: ConvergenceWarning: The max_iter was reached which means the coef_ did not converge\n",
      "  warnings.warn(\n",
      "/opt/anaconda3/lib/python3.9/site-packages/sklearn/linear_model/_sag.py:350: ConvergenceWarning: The max_iter was reached which means the coef_ did not converge\n",
      "  warnings.warn(\n",
      "/opt/anaconda3/lib/python3.9/site-packages/sklearn/linear_model/_logistic.py:444: ConvergenceWarning: lbfgs failed to converge (status=1):\n",
      "STOP: TOTAL NO. of ITERATIONS REACHED LIMIT.\n",
      "\n",
      "Increase the number of iterations (max_iter) or scale the data as shown in:\n",
      "    https://scikit-learn.org/stable/modules/preprocessing.html\n",
      "Please also refer to the documentation for alternative solver options:\n",
      "    https://scikit-learn.org/stable/modules/linear_model.html#logistic-regression\n",
      "  n_iter_i = _check_optimize_result(\n",
      "/opt/anaconda3/lib/python3.9/site-packages/sklearn/linear_model/_logistic.py:444: ConvergenceWarning: lbfgs failed to converge (status=1):\n",
      "STOP: TOTAL NO. of ITERATIONS REACHED LIMIT.\n",
      "\n",
      "Increase the number of iterations (max_iter) or scale the data as shown in:\n",
      "    https://scikit-learn.org/stable/modules/preprocessing.html\n",
      "Please also refer to the documentation for alternative solver options:\n",
      "    https://scikit-learn.org/stable/modules/linear_model.html#logistic-regression\n",
      "  n_iter_i = _check_optimize_result(\n",
      "/opt/anaconda3/lib/python3.9/site-packages/sklearn/linear_model/_sag.py:350: ConvergenceWarning: The max_iter was reached which means the coef_ did not converge\n",
      "  warnings.warn(\n",
      "/opt/anaconda3/lib/python3.9/site-packages/sklearn/linear_model/_sag.py:350: ConvergenceWarning: The max_iter was reached which means the coef_ did not converge\n",
      "  warnings.warn(\n",
      "/opt/anaconda3/lib/python3.9/site-packages/sklearn/linear_model/_logistic.py:444: ConvergenceWarning: lbfgs failed to converge (status=1):\n",
      "STOP: TOTAL NO. of ITERATIONS REACHED LIMIT.\n",
      "\n",
      "Increase the number of iterations (max_iter) or scale the data as shown in:\n",
      "    https://scikit-learn.org/stable/modules/preprocessing.html\n",
      "Please also refer to the documentation for alternative solver options:\n",
      "    https://scikit-learn.org/stable/modules/linear_model.html#logistic-regression\n",
      "  n_iter_i = _check_optimize_result(\n",
      "/opt/anaconda3/lib/python3.9/site-packages/sklearn/linear_model/_logistic.py:444: ConvergenceWarning: lbfgs failed to converge (status=1):\n",
      "STOP: TOTAL NO. of ITERATIONS REACHED LIMIT.\n",
      "\n",
      "Increase the number of iterations (max_iter) or scale the data as shown in:\n",
      "    https://scikit-learn.org/stable/modules/preprocessing.html\n",
      "Please also refer to the documentation for alternative solver options:\n",
      "    https://scikit-learn.org/stable/modules/linear_model.html#logistic-regression\n",
      "  n_iter_i = _check_optimize_result(\n",
      "/opt/anaconda3/lib/python3.9/site-packages/sklearn/linear_model/_sag.py:350: ConvergenceWarning: The max_iter was reached which means the coef_ did not converge\n",
      "  warnings.warn(\n",
      "/opt/anaconda3/lib/python3.9/site-packages/sklearn/linear_model/_sag.py:350: ConvergenceWarning: The max_iter was reached which means the coef_ did not converge\n",
      "  warnings.warn(\n",
      "/opt/anaconda3/lib/python3.9/site-packages/sklearn/linear_model/_logistic.py:444: ConvergenceWarning: lbfgs failed to converge (status=1):\n",
      "STOP: TOTAL NO. of ITERATIONS REACHED LIMIT.\n",
      "\n",
      "Increase the number of iterations (max_iter) or scale the data as shown in:\n",
      "    https://scikit-learn.org/stable/modules/preprocessing.html\n",
      "Please also refer to the documentation for alternative solver options:\n",
      "    https://scikit-learn.org/stable/modules/linear_model.html#logistic-regression\n",
      "  n_iter_i = _check_optimize_result(\n",
      "/opt/anaconda3/lib/python3.9/site-packages/sklearn/linear_model/_logistic.py:444: ConvergenceWarning: lbfgs failed to converge (status=1):\n",
      "STOP: TOTAL NO. of ITERATIONS REACHED LIMIT.\n",
      "\n",
      "Increase the number of iterations (max_iter) or scale the data as shown in:\n",
      "    https://scikit-learn.org/stable/modules/preprocessing.html\n",
      "Please also refer to the documentation for alternative solver options:\n",
      "    https://scikit-learn.org/stable/modules/linear_model.html#logistic-regression\n",
      "  n_iter_i = _check_optimize_result(\n",
      "/opt/anaconda3/lib/python3.9/site-packages/sklearn/linear_model/_sag.py:350: ConvergenceWarning: The max_iter was reached which means the coef_ did not converge\n",
      "  warnings.warn(\n",
      "/opt/anaconda3/lib/python3.9/site-packages/sklearn/linear_model/_sag.py:350: ConvergenceWarning: The max_iter was reached which means the coef_ did not converge\n",
      "  warnings.warn(\n",
      "/opt/anaconda3/lib/python3.9/site-packages/sklearn/linear_model/_logistic.py:444: ConvergenceWarning: lbfgs failed to converge (status=1):\n",
      "STOP: TOTAL NO. of ITERATIONS REACHED LIMIT.\n",
      "\n",
      "Increase the number of iterations (max_iter) or scale the data as shown in:\n",
      "    https://scikit-learn.org/stable/modules/preprocessing.html\n",
      "Please also refer to the documentation for alternative solver options:\n",
      "    https://scikit-learn.org/stable/modules/linear_model.html#logistic-regression\n",
      "  n_iter_i = _check_optimize_result(\n"
     ]
    },
    {
     "data": {
      "text/html": [
       "<style>#sk-container-id-41 {color: black;background-color: white;}#sk-container-id-41 pre{padding: 0;}#sk-container-id-41 div.sk-toggleable {background-color: white;}#sk-container-id-41 label.sk-toggleable__label {cursor: pointer;display: block;width: 100%;margin-bottom: 0;padding: 0.3em;box-sizing: border-box;text-align: center;}#sk-container-id-41 label.sk-toggleable__label-arrow:before {content: \"▸\";float: left;margin-right: 0.25em;color: #696969;}#sk-container-id-41 label.sk-toggleable__label-arrow:hover:before {color: black;}#sk-container-id-41 div.sk-estimator:hover label.sk-toggleable__label-arrow:before {color: black;}#sk-container-id-41 div.sk-toggleable__content {max-height: 0;max-width: 0;overflow: hidden;text-align: left;background-color: #f0f8ff;}#sk-container-id-41 div.sk-toggleable__content pre {margin: 0.2em;color: black;border-radius: 0.25em;background-color: #f0f8ff;}#sk-container-id-41 input.sk-toggleable__control:checked~div.sk-toggleable__content {max-height: 200px;max-width: 100%;overflow: auto;}#sk-container-id-41 input.sk-toggleable__control:checked~label.sk-toggleable__label-arrow:before {content: \"▾\";}#sk-container-id-41 div.sk-estimator input.sk-toggleable__control:checked~label.sk-toggleable__label {background-color: #d4ebff;}#sk-container-id-41 div.sk-label input.sk-toggleable__control:checked~label.sk-toggleable__label {background-color: #d4ebff;}#sk-container-id-41 input.sk-hidden--visually {border: 0;clip: rect(1px 1px 1px 1px);clip: rect(1px, 1px, 1px, 1px);height: 1px;margin: -1px;overflow: hidden;padding: 0;position: absolute;width: 1px;}#sk-container-id-41 div.sk-estimator {font-family: monospace;background-color: #f0f8ff;border: 1px dotted black;border-radius: 0.25em;box-sizing: border-box;margin-bottom: 0.5em;}#sk-container-id-41 div.sk-estimator:hover {background-color: #d4ebff;}#sk-container-id-41 div.sk-parallel-item::after {content: \"\";width: 100%;border-bottom: 1px solid gray;flex-grow: 1;}#sk-container-id-41 div.sk-label:hover label.sk-toggleable__label {background-color: #d4ebff;}#sk-container-id-41 div.sk-serial::before {content: \"\";position: absolute;border-left: 1px solid gray;box-sizing: border-box;top: 0;bottom: 0;left: 50%;z-index: 0;}#sk-container-id-41 div.sk-serial {display: flex;flex-direction: column;align-items: center;background-color: white;padding-right: 0.2em;padding-left: 0.2em;position: relative;}#sk-container-id-41 div.sk-item {position: relative;z-index: 1;}#sk-container-id-41 div.sk-parallel {display: flex;align-items: stretch;justify-content: center;background-color: white;position: relative;}#sk-container-id-41 div.sk-item::before, #sk-container-id-41 div.sk-parallel-item::before {content: \"\";position: absolute;border-left: 1px solid gray;box-sizing: border-box;top: 0;bottom: 0;left: 50%;z-index: -1;}#sk-container-id-41 div.sk-parallel-item {display: flex;flex-direction: column;z-index: 1;position: relative;background-color: white;}#sk-container-id-41 div.sk-parallel-item:first-child::after {align-self: flex-end;width: 50%;}#sk-container-id-41 div.sk-parallel-item:last-child::after {align-self: flex-start;width: 50%;}#sk-container-id-41 div.sk-parallel-item:only-child::after {width: 0;}#sk-container-id-41 div.sk-dashed-wrapped {border: 1px dashed gray;margin: 0 0.4em 0.5em 0.4em;box-sizing: border-box;padding-bottom: 0.4em;background-color: white;}#sk-container-id-41 div.sk-label label {font-family: monospace;font-weight: bold;display: inline-block;line-height: 1.2em;}#sk-container-id-41 div.sk-label-container {text-align: center;}#sk-container-id-41 div.sk-container {/* jupyter's `normalize.less` sets `[hidden] { display: none; }` but bootstrap.min.css set `[hidden] { display: none !important; }` so we also need the `!important` here to be able to override the default hidden behavior on the sphinx rendered scikit-learn.org. See: https://github.com/scikit-learn/scikit-learn/issues/21755 */display: inline-block !important;position: relative;}#sk-container-id-41 div.sk-text-repr-fallback {display: none;}</style><div id=\"sk-container-id-41\" class=\"sk-top-container\"><div class=\"sk-text-repr-fallback\"><pre>GridSearchCV(cv=2, estimator=LogisticRegression(),\n",
       "             param_grid={&#x27;max_iter&#x27;: [100, 300, 500, 1000, 1500],\n",
       "                         &#x27;solver&#x27;: [&#x27;lbfgs&#x27;, &#x27;saga&#x27;]},\n",
       "             scoring=&#x27;recall&#x27;)</pre><b>In a Jupyter environment, please rerun this cell to show the HTML representation or trust the notebook. <br />On GitHub, the HTML representation is unable to render, please try loading this page with nbviewer.org.</b></div><div class=\"sk-container\" hidden><div class=\"sk-item sk-dashed-wrapped\"><div class=\"sk-label-container\"><div class=\"sk-label sk-toggleable\"><input class=\"sk-toggleable__control sk-hidden--visually\" id=\"sk-estimator-id-51\" type=\"checkbox\" ><label for=\"sk-estimator-id-51\" class=\"sk-toggleable__label sk-toggleable__label-arrow\">GridSearchCV</label><div class=\"sk-toggleable__content\"><pre>GridSearchCV(cv=2, estimator=LogisticRegression(),\n",
       "             param_grid={&#x27;max_iter&#x27;: [100, 300, 500, 1000, 1500],\n",
       "                         &#x27;solver&#x27;: [&#x27;lbfgs&#x27;, &#x27;saga&#x27;]},\n",
       "             scoring=&#x27;recall&#x27;)</pre></div></div></div><div class=\"sk-parallel\"><div class=\"sk-parallel-item\"><div class=\"sk-item\"><div class=\"sk-label-container\"><div class=\"sk-label sk-toggleable\"><input class=\"sk-toggleable__control sk-hidden--visually\" id=\"sk-estimator-id-52\" type=\"checkbox\" ><label for=\"sk-estimator-id-52\" class=\"sk-toggleable__label sk-toggleable__label-arrow\">estimator: LogisticRegression</label><div class=\"sk-toggleable__content\"><pre>LogisticRegression()</pre></div></div></div><div class=\"sk-serial\"><div class=\"sk-item\"><div class=\"sk-estimator sk-toggleable\"><input class=\"sk-toggleable__control sk-hidden--visually\" id=\"sk-estimator-id-53\" type=\"checkbox\" ><label for=\"sk-estimator-id-53\" class=\"sk-toggleable__label sk-toggleable__label-arrow\">LogisticRegression</label><div class=\"sk-toggleable__content\"><pre>LogisticRegression()</pre></div></div></div></div></div></div></div></div></div></div>"
      ],
      "text/plain": [
       "GridSearchCV(cv=2, estimator=LogisticRegression(),\n",
       "             param_grid={'max_iter': [100, 300, 500, 1000, 1500],\n",
       "                         'solver': ['lbfgs', 'saga']},\n",
       "             scoring='recall')"
      ]
     },
     "execution_count": 386,
     "metadata": {},
     "output_type": "execute_result"
    }
   ],
   "source": [
    "#tunando os hiperparametros da logistic regression com o GridSearchCV()\n",
    "parametros_logistic = {'max_iter': [100, 300, 500, 1000, 1500],\n",
    "                   'solver': ['lbfgs', 'saga'],\n",
    "               }  \n",
    "\n",
    "grid_logistic= GridSearchCV(estimator=LogisticRegression(), param_grid=parametros_logistic, cv=2, scoring='recall', verbose=0)\n",
    "grid_logistic.fit(X_over_train, Y_over_train)"
   ]
  },
  {
   "cell_type": "code",
   "execution_count": null,
   "id": "e95de529",
   "metadata": {
    "id": "e95de529",
    "outputId": "7850a538-58c9-450f-9a39-fd6e3c2c2d81"
   },
   "outputs": [
    {
     "name": "stdout",
     "output_type": "stream",
     "text": [
      "Melhor modelo: LogisticRegression(max_iter=1500)\n",
      "Best Score: 0.822676229584365\n"
     ]
    }
   ],
   "source": [
    "print('Melhor modelo: ' + str(grid_logistic.best_estimator_))\n",
    "print('Best Score: ' + str(grid_logistic.best_score_))"
   ]
  },
  {
   "cell_type": "markdown",
   "id": "389722b4",
   "metadata": {
    "id": "389722b4"
   },
   "source": [
    "#  <a name=\"secao_4\"> GBDT - XGBOOST </a>\n",
    "[Voltar ao índice](#indice)\n",
    "\n",
    "Utilizando a GBDT, um algoritmo mais avançado, em que teremos um ensemble de decisions trees trabalhando de forma sequencial. A GBDT aqui é implementada pela biblioteca XGBoost.\n",
    "\n",
    "Parâmetros utilizados e variados:\n",
    "   - n_estimator\n",
    "   - max_depth\n",
    "   - learning_rate\n",
    "\n",
    "métrica maximizada: recall \n",
    "\n",
    "O melhor modelo, utilizando o GridSearchCV() foi construido usando os seguintes parâmetros:\n",
    "   - n_estimator: 200\n",
    "   - max_depth: 9\n",
    "   - learning_rate: 0.3 \n",
    "   \n",
    "Com o recall sendo igual a:\n",
    "   - recall: 0.7417\n",
    "\n",
    "Entretanto, este modelo overfitou, assim, os parâmetros foram atualizados e adicionou-se um parâmetro de regularização (L2 - reg_gamma). De forma, que obteve-se o resultado:\n",
    "   - n_estimator: 500\n",
    "   - max_depth: 4\n",
    "   - learning_rate: 0.1 \n",
    "   \n",
    "Com o recall sendo igual a:\n",
    "   - recall: 0.8246"
   ]
  },
  {
   "cell_type": "code",
   "execution_count": 48,
   "id": "c1d46370",
   "metadata": {
    "id": "c1d46370"
   },
   "outputs": [],
   "source": [
    "import xgboost as xgb\n",
    "import xgboost as get_score\n",
    "from sklearn.metrics import log_loss"
   ]
  },
  {
   "cell_type": "code",
   "execution_count": 49,
   "id": "e7b23d27",
   "metadata": {
    "id": "e7b23d27",
    "outputId": "7ec8b497-313b-4450-919c-576eb0000433"
   },
   "outputs": [
    {
     "name": "stdout",
     "output_type": "stream",
     "text": [
      "[0]\tvalidation_0-logloss:0.686779\tvalidation_1-logloss:0.687546\n",
      "[1]\tvalidation_0-logloss:0.680754\tvalidation_1-logloss:0.682463\n",
      "[2]\tvalidation_0-logloss:0.675043\tvalidation_1-logloss:0.676994\n",
      "[3]\tvalidation_0-logloss:0.669569\tvalidation_1-logloss:0.671953\n",
      "[4]\tvalidation_0-logloss:0.664246\tvalidation_1-logloss:0.667499\n",
      "[5]\tvalidation_0-logloss:0.659224\tvalidation_1-logloss:0.663149\n",
      "[6]\tvalidation_0-logloss:0.654268\tvalidation_1-logloss:0.658688\n",
      "[7]\tvalidation_0-logloss:0.64948\tvalidation_1-logloss:0.65458\n",
      "[8]\tvalidation_0-logloss:0.644629\tvalidation_1-logloss:0.650721\n",
      "[9]\tvalidation_0-logloss:0.640084\tvalidation_1-logloss:0.646584\n",
      "[10]\tvalidation_0-logloss:0.635714\tvalidation_1-logloss:0.642793\n",
      "[11]\tvalidation_0-logloss:0.631447\tvalidation_1-logloss:0.638793\n",
      "[12]\tvalidation_0-logloss:0.627205\tvalidation_1-logloss:0.634642\n",
      "[13]\tvalidation_0-logloss:0.62301\tvalidation_1-logloss:0.630997\n",
      "[14]\tvalidation_0-logloss:0.618987\tvalidation_1-logloss:0.627537\n",
      "[15]\tvalidation_0-logloss:0.614973\tvalidation_1-logloss:0.623841\n",
      "[16]\tvalidation_0-logloss:0.611194\tvalidation_1-logloss:0.620308\n",
      "[17]\tvalidation_0-logloss:0.607466\tvalidation_1-logloss:0.616918\n",
      "[18]\tvalidation_0-logloss:0.603783\tvalidation_1-logloss:0.6138\n",
      "[19]\tvalidation_0-logloss:0.600141\tvalidation_1-logloss:0.610641\n",
      "[20]\tvalidation_0-logloss:0.596339\tvalidation_1-logloss:0.607794\n",
      "[21]\tvalidation_0-logloss:0.592711\tvalidation_1-logloss:0.604726\n",
      "[22]\tvalidation_0-logloss:0.589285\tvalidation_1-logloss:0.601653\n",
      "[23]\tvalidation_0-logloss:0.585852\tvalidation_1-logloss:0.598706\n",
      "[24]\tvalidation_0-logloss:0.58247\tvalidation_1-logloss:0.595861\n",
      "[25]\tvalidation_0-logloss:0.57926\tvalidation_1-logloss:0.593147\n",
      "[26]\tvalidation_0-logloss:0.576107\tvalidation_1-logloss:0.590174\n",
      "[27]\tvalidation_0-logloss:0.572939\tvalidation_1-logloss:0.587316\n",
      "[28]\tvalidation_0-logloss:0.569805\tvalidation_1-logloss:0.584743\n",
      "[29]\tvalidation_0-logloss:0.566855\tvalidation_1-logloss:0.582389\n",
      "[30]\tvalidation_0-logloss:0.563876\tvalidation_1-logloss:0.579841\n",
      "[31]\tvalidation_0-logloss:0.560941\tvalidation_1-logloss:0.577158\n",
      "[32]\tvalidation_0-logloss:0.557946\tvalidation_1-logloss:0.574551\n",
      "[33]\tvalidation_0-logloss:0.55497\tvalidation_1-logloss:0.571833\n",
      "[34]\tvalidation_0-logloss:0.552141\tvalidation_1-logloss:0.569286\n",
      "[35]\tvalidation_0-logloss:0.549291\tvalidation_1-logloss:0.566798\n",
      "[36]\tvalidation_0-logloss:0.546536\tvalidation_1-logloss:0.564466\n",
      "[37]\tvalidation_0-logloss:0.543724\tvalidation_1-logloss:0.562126\n",
      "[38]\tvalidation_0-logloss:0.541019\tvalidation_1-logloss:0.559667\n",
      "[39]\tvalidation_0-logloss:0.53844\tvalidation_1-logloss:0.557309\n",
      "[40]\tvalidation_0-logloss:0.535866\tvalidation_1-logloss:0.554851\n",
      "[41]\tvalidation_0-logloss:0.533316\tvalidation_1-logloss:0.552602\n",
      "[42]\tvalidation_0-logloss:0.530869\tvalidation_1-logloss:0.550533\n",
      "[43]\tvalidation_0-logloss:0.528326\tvalidation_1-logloss:0.548218\n",
      "[44]\tvalidation_0-logloss:0.525905\tvalidation_1-logloss:0.546291\n",
      "[45]\tvalidation_0-logloss:0.523474\tvalidation_1-logloss:0.544255\n",
      "[46]\tvalidation_0-logloss:0.521148\tvalidation_1-logloss:0.542213\n",
      "[47]\tvalidation_0-logloss:0.51886\tvalidation_1-logloss:0.54036\n",
      "[48]\tvalidation_0-logloss:0.516553\tvalidation_1-logloss:0.538215\n",
      "[49]\tvalidation_0-logloss:0.514186\tvalidation_1-logloss:0.536322\n",
      "[50]\tvalidation_0-logloss:0.511825\tvalidation_1-logloss:0.533942\n",
      "[51]\tvalidation_0-logloss:0.509586\tvalidation_1-logloss:0.531883\n",
      "[52]\tvalidation_0-logloss:0.50739\tvalidation_1-logloss:0.529859\n",
      "[53]\tvalidation_0-logloss:0.505179\tvalidation_1-logloss:0.528041\n",
      "[54]\tvalidation_0-logloss:0.503024\tvalidation_1-logloss:0.525964\n",
      "[55]\tvalidation_0-logloss:0.500904\tvalidation_1-logloss:0.524233\n",
      "[56]\tvalidation_0-logloss:0.498735\tvalidation_1-logloss:0.522404\n",
      "[57]\tvalidation_0-logloss:0.496613\tvalidation_1-logloss:0.520517\n",
      "[58]\tvalidation_0-logloss:0.494429\tvalidation_1-logloss:0.518613\n",
      "[59]\tvalidation_0-logloss:0.49239\tvalidation_1-logloss:0.516847\n",
      "[60]\tvalidation_0-logloss:0.490219\tvalidation_1-logloss:0.514853\n",
      "[61]\tvalidation_0-logloss:0.488281\tvalidation_1-logloss:0.513032\n",
      "[62]\tvalidation_0-logloss:0.486296\tvalidation_1-logloss:0.511359\n",
      "[63]\tvalidation_0-logloss:0.484376\tvalidation_1-logloss:0.50976\n",
      "[64]\tvalidation_0-logloss:0.482439\tvalidation_1-logloss:0.508053\n",
      "[65]\tvalidation_0-logloss:0.480558\tvalidation_1-logloss:0.506302\n",
      "[66]\tvalidation_0-logloss:0.478698\tvalidation_1-logloss:0.504819\n",
      "[67]\tvalidation_0-logloss:0.476815\tvalidation_1-logloss:0.503305\n",
      "[68]\tvalidation_0-logloss:0.474972\tvalidation_1-logloss:0.5017\n",
      "[69]\tvalidation_0-logloss:0.473121\tvalidation_1-logloss:0.500214\n",
      "[70]\tvalidation_0-logloss:0.471305\tvalidation_1-logloss:0.498773\n",
      "[71]\tvalidation_0-logloss:0.469557\tvalidation_1-logloss:0.497201\n",
      "[72]\tvalidation_0-logloss:0.467746\tvalidation_1-logloss:0.495735\n",
      "[73]\tvalidation_0-logloss:0.465987\tvalidation_1-logloss:0.494125\n",
      "[74]\tvalidation_0-logloss:0.464297\tvalidation_1-logloss:0.492578\n",
      "[75]\tvalidation_0-logloss:0.462684\tvalidation_1-logloss:0.491243\n",
      "[76]\tvalidation_0-logloss:0.461031\tvalidation_1-logloss:0.489877\n",
      "[77]\tvalidation_0-logloss:0.459331\tvalidation_1-logloss:0.488613\n",
      "[78]\tvalidation_0-logloss:0.457736\tvalidation_1-logloss:0.487207\n",
      "[79]\tvalidation_0-logloss:0.456121\tvalidation_1-logloss:0.485781\n",
      "[80]\tvalidation_0-logloss:0.454502\tvalidation_1-logloss:0.484464\n",
      "[81]\tvalidation_0-logloss:0.452844\tvalidation_1-logloss:0.483077\n",
      "[82]\tvalidation_0-logloss:0.451256\tvalidation_1-logloss:0.48174\n",
      "[83]\tvalidation_0-logloss:0.449636\tvalidation_1-logloss:0.480405\n",
      "[84]\tvalidation_0-logloss:0.448095\tvalidation_1-logloss:0.479194\n",
      "[85]\tvalidation_0-logloss:0.446613\tvalidation_1-logloss:0.477854\n",
      "[86]\tvalidation_0-logloss:0.445159\tvalidation_1-logloss:0.476479\n",
      "[87]\tvalidation_0-logloss:0.443664\tvalidation_1-logloss:0.475029\n",
      "[88]\tvalidation_0-logloss:0.44217\tvalidation_1-logloss:0.473752\n",
      "[89]\tvalidation_0-logloss:0.440641\tvalidation_1-logloss:0.472424\n",
      "[90]\tvalidation_0-logloss:0.439158\tvalidation_1-logloss:0.471181\n",
      "[91]\tvalidation_0-logloss:0.437789\tvalidation_1-logloss:0.469952\n",
      "[92]\tvalidation_0-logloss:0.43633\tvalidation_1-logloss:0.468944\n",
      "[93]\tvalidation_0-logloss:0.434992\tvalidation_1-logloss:0.467815\n",
      "[94]\tvalidation_0-logloss:0.433637\tvalidation_1-logloss:0.466867\n",
      "[95]\tvalidation_0-logloss:0.432318\tvalidation_1-logloss:0.465695\n",
      "[96]\tvalidation_0-logloss:0.430836\tvalidation_1-logloss:0.464254\n",
      "[97]\tvalidation_0-logloss:0.429492\tvalidation_1-logloss:0.463123\n",
      "[98]\tvalidation_0-logloss:0.428108\tvalidation_1-logloss:0.462026\n",
      "[99]\tvalidation_0-logloss:0.426748\tvalidation_1-logloss:0.460893\n",
      "[100]\tvalidation_0-logloss:0.425374\tvalidation_1-logloss:0.459765\n",
      "[101]\tvalidation_0-logloss:0.424113\tvalidation_1-logloss:0.458754\n",
      "[102]\tvalidation_0-logloss:0.422768\tvalidation_1-logloss:0.457733\n",
      "[103]\tvalidation_0-logloss:0.421519\tvalidation_1-logloss:0.456688\n",
      "[104]\tvalidation_0-logloss:0.420202\tvalidation_1-logloss:0.455722\n",
      "[105]\tvalidation_0-logloss:0.41895\tvalidation_1-logloss:0.454611\n",
      "[106]\tvalidation_0-logloss:0.417687\tvalidation_1-logloss:0.453453\n",
      "[107]\tvalidation_0-logloss:0.416505\tvalidation_1-logloss:0.4525\n",
      "[108]\tvalidation_0-logloss:0.415308\tvalidation_1-logloss:0.45156\n",
      "[109]\tvalidation_0-logloss:0.414117\tvalidation_1-logloss:0.450511\n",
      "[110]\tvalidation_0-logloss:0.412902\tvalidation_1-logloss:0.449485\n",
      "[111]\tvalidation_0-logloss:0.411756\tvalidation_1-logloss:0.448581\n",
      "[112]\tvalidation_0-logloss:0.410584\tvalidation_1-logloss:0.447751\n",
      "[113]\tvalidation_0-logloss:0.409421\tvalidation_1-logloss:0.446721\n",
      "[114]\tvalidation_0-logloss:0.408317\tvalidation_1-logloss:0.445832\n",
      "[115]\tvalidation_0-logloss:0.407179\tvalidation_1-logloss:0.4448\n",
      "[116]\tvalidation_0-logloss:0.406059\tvalidation_1-logloss:0.443908\n",
      "[117]\tvalidation_0-logloss:0.404967\tvalidation_1-logloss:0.442958\n",
      "[118]\tvalidation_0-logloss:0.403857\tvalidation_1-logloss:0.442041\n",
      "[119]\tvalidation_0-logloss:0.40269\tvalidation_1-logloss:0.441326\n",
      "[120]\tvalidation_0-logloss:0.401639\tvalidation_1-logloss:0.440348\n",
      "[121]\tvalidation_0-logloss:0.400502\tvalidation_1-logloss:0.439412\n",
      "[122]\tvalidation_0-logloss:0.399505\tvalidation_1-logloss:0.438552\n",
      "[123]\tvalidation_0-logloss:0.398279\tvalidation_1-logloss:0.437757\n",
      "[124]\tvalidation_0-logloss:0.397141\tvalidation_1-logloss:0.436853\n",
      "[125]\tvalidation_0-logloss:0.396084\tvalidation_1-logloss:0.436039\n",
      "[126]\tvalidation_0-logloss:0.395087\tvalidation_1-logloss:0.435157\n"
     ]
    },
    {
     "name": "stdout",
     "output_type": "stream",
     "text": [
      "[127]\tvalidation_0-logloss:0.394118\tvalidation_1-logloss:0.434281\n",
      "[128]\tvalidation_0-logloss:0.393085\tvalidation_1-logloss:0.433424\n",
      "[129]\tvalidation_0-logloss:0.391997\tvalidation_1-logloss:0.432655\n",
      "[130]\tvalidation_0-logloss:0.391016\tvalidation_1-logloss:0.431703\n",
      "[131]\tvalidation_0-logloss:0.390042\tvalidation_1-logloss:0.4308\n",
      "[132]\tvalidation_0-logloss:0.388956\tvalidation_1-logloss:0.43004\n",
      "[133]\tvalidation_0-logloss:0.38796\tvalidation_1-logloss:0.429252\n",
      "[134]\tvalidation_0-logloss:0.387011\tvalidation_1-logloss:0.428455\n",
      "[135]\tvalidation_0-logloss:0.385998\tvalidation_1-logloss:0.427751\n",
      "[136]\tvalidation_0-logloss:0.385069\tvalidation_1-logloss:0.427027\n",
      "[137]\tvalidation_0-logloss:0.384095\tvalidation_1-logloss:0.426307\n",
      "[138]\tvalidation_0-logloss:0.383169\tvalidation_1-logloss:0.425626\n",
      "[139]\tvalidation_0-logloss:0.382241\tvalidation_1-logloss:0.424819\n",
      "[140]\tvalidation_0-logloss:0.381278\tvalidation_1-logloss:0.424031\n",
      "[141]\tvalidation_0-logloss:0.380281\tvalidation_1-logloss:0.423096\n",
      "[142]\tvalidation_0-logloss:0.379384\tvalidation_1-logloss:0.422304\n",
      "[143]\tvalidation_0-logloss:0.378517\tvalidation_1-logloss:0.421584\n",
      "[144]\tvalidation_0-logloss:0.377581\tvalidation_1-logloss:0.420849\n",
      "[145]\tvalidation_0-logloss:0.376619\tvalidation_1-logloss:0.420103\n",
      "[146]\tvalidation_0-logloss:0.375754\tvalidation_1-logloss:0.419414\n",
      "[147]\tvalidation_0-logloss:0.374827\tvalidation_1-logloss:0.418709\n",
      "[148]\tvalidation_0-logloss:0.373883\tvalidation_1-logloss:0.417967\n",
      "[149]\tvalidation_0-logloss:0.373029\tvalidation_1-logloss:0.417142\n",
      "[150]\tvalidation_0-logloss:0.372159\tvalidation_1-logloss:0.416438\n",
      "[151]\tvalidation_0-logloss:0.371265\tvalidation_1-logloss:0.415794\n",
      "[152]\tvalidation_0-logloss:0.37037\tvalidation_1-logloss:0.415146\n",
      "[153]\tvalidation_0-logloss:0.369474\tvalidation_1-logloss:0.414461\n",
      "[154]\tvalidation_0-logloss:0.368612\tvalidation_1-logloss:0.413886\n",
      "[155]\tvalidation_0-logloss:0.367755\tvalidation_1-logloss:0.413123\n",
      "[156]\tvalidation_0-logloss:0.366958\tvalidation_1-logloss:0.412475\n",
      "[157]\tvalidation_0-logloss:0.366127\tvalidation_1-logloss:0.411781\n",
      "[158]\tvalidation_0-logloss:0.36532\tvalidation_1-logloss:0.411084\n",
      "[159]\tvalidation_0-logloss:0.36449\tvalidation_1-logloss:0.410467\n",
      "[160]\tvalidation_0-logloss:0.363632\tvalidation_1-logloss:0.409773\n",
      "[161]\tvalidation_0-logloss:0.362777\tvalidation_1-logloss:0.409222\n",
      "[162]\tvalidation_0-logloss:0.362019\tvalidation_1-logloss:0.408574\n",
      "[163]\tvalidation_0-logloss:0.361263\tvalidation_1-logloss:0.407944\n",
      "[164]\tvalidation_0-logloss:0.360407\tvalidation_1-logloss:0.407171\n",
      "[165]\tvalidation_0-logloss:0.359626\tvalidation_1-logloss:0.406646\n",
      "[166]\tvalidation_0-logloss:0.358807\tvalidation_1-logloss:0.406034\n",
      "[167]\tvalidation_0-logloss:0.358074\tvalidation_1-logloss:0.405466\n",
      "[168]\tvalidation_0-logloss:0.357296\tvalidation_1-logloss:0.404831\n",
      "[169]\tvalidation_0-logloss:0.356501\tvalidation_1-logloss:0.404184\n",
      "[170]\tvalidation_0-logloss:0.355708\tvalidation_1-logloss:0.403505\n",
      "[171]\tvalidation_0-logloss:0.354962\tvalidation_1-logloss:0.402899\n",
      "[172]\tvalidation_0-logloss:0.354122\tvalidation_1-logloss:0.402334\n",
      "[173]\tvalidation_0-logloss:0.353383\tvalidation_1-logloss:0.401723\n",
      "[174]\tvalidation_0-logloss:0.352608\tvalidation_1-logloss:0.401088\n",
      "[175]\tvalidation_0-logloss:0.351837\tvalidation_1-logloss:0.400512\n",
      "[176]\tvalidation_0-logloss:0.351062\tvalidation_1-logloss:0.39993\n",
      "[177]\tvalidation_0-logloss:0.35031\tvalidation_1-logloss:0.399273\n",
      "[178]\tvalidation_0-logloss:0.349565\tvalidation_1-logloss:0.398687\n",
      "[179]\tvalidation_0-logloss:0.348841\tvalidation_1-logloss:0.398035\n",
      "[180]\tvalidation_0-logloss:0.348116\tvalidation_1-logloss:0.39743\n",
      "[181]\tvalidation_0-logloss:0.347437\tvalidation_1-logloss:0.396877\n",
      "[182]\tvalidation_0-logloss:0.346698\tvalidation_1-logloss:0.396277\n",
      "[183]\tvalidation_0-logloss:0.345975\tvalidation_1-logloss:0.395678\n",
      "[184]\tvalidation_0-logloss:0.345257\tvalidation_1-logloss:0.395103\n",
      "[185]\tvalidation_0-logloss:0.344513\tvalidation_1-logloss:0.394587\n",
      "[186]\tvalidation_0-logloss:0.343821\tvalidation_1-logloss:0.394014\n",
      "[187]\tvalidation_0-logloss:0.343063\tvalidation_1-logloss:0.393502\n",
      "[188]\tvalidation_0-logloss:0.34235\tvalidation_1-logloss:0.392956\n",
      "[189]\tvalidation_0-logloss:0.341645\tvalidation_1-logloss:0.392538\n",
      "[190]\tvalidation_0-logloss:0.340939\tvalidation_1-logloss:0.392002\n",
      "[191]\tvalidation_0-logloss:0.34029\tvalidation_1-logloss:0.391478\n",
      "[192]\tvalidation_0-logloss:0.339723\tvalidation_1-logloss:0.391056\n",
      "[193]\tvalidation_0-logloss:0.339047\tvalidation_1-logloss:0.390515\n",
      "[194]\tvalidation_0-logloss:0.338409\tvalidation_1-logloss:0.390127\n",
      "[195]\tvalidation_0-logloss:0.337777\tvalidation_1-logloss:0.389656\n",
      "[196]\tvalidation_0-logloss:0.33711\tvalidation_1-logloss:0.38922\n",
      "[197]\tvalidation_0-logloss:0.336396\tvalidation_1-logloss:0.388668\n",
      "[198]\tvalidation_0-logloss:0.335727\tvalidation_1-logloss:0.38822\n",
      "[199]\tvalidation_0-logloss:0.33509\tvalidation_1-logloss:0.387683\n",
      "[200]\tvalidation_0-logloss:0.334476\tvalidation_1-logloss:0.387345\n",
      "[201]\tvalidation_0-logloss:0.333829\tvalidation_1-logloss:0.386925\n",
      "[202]\tvalidation_0-logloss:0.333203\tvalidation_1-logloss:0.386391\n",
      "[203]\tvalidation_0-logloss:0.332532\tvalidation_1-logloss:0.385868\n",
      "[204]\tvalidation_0-logloss:0.331892\tvalidation_1-logloss:0.385353\n",
      "[205]\tvalidation_0-logloss:0.331349\tvalidation_1-logloss:0.384954\n",
      "[206]\tvalidation_0-logloss:0.330705\tvalidation_1-logloss:0.384507\n",
      "[207]\tvalidation_0-logloss:0.330043\tvalidation_1-logloss:0.383989\n",
      "[208]\tvalidation_0-logloss:0.329392\tvalidation_1-logloss:0.383555\n",
      "[209]\tvalidation_0-logloss:0.328772\tvalidation_1-logloss:0.383172\n",
      "[210]\tvalidation_0-logloss:0.328166\tvalidation_1-logloss:0.382784\n",
      "[211]\tvalidation_0-logloss:0.327596\tvalidation_1-logloss:0.382243\n",
      "[212]\tvalidation_0-logloss:0.327\tvalidation_1-logloss:0.381734\n",
      "[213]\tvalidation_0-logloss:0.326445\tvalidation_1-logloss:0.381275\n",
      "[214]\tvalidation_0-logloss:0.325902\tvalidation_1-logloss:0.38076\n",
      "[215]\tvalidation_0-logloss:0.325344\tvalidation_1-logloss:0.38034\n",
      "[216]\tvalidation_0-logloss:0.324746\tvalidation_1-logloss:0.379861\n",
      "[217]\tvalidation_0-logloss:0.324228\tvalidation_1-logloss:0.37952\n",
      "[218]\tvalidation_0-logloss:0.32361\tvalidation_1-logloss:0.379061\n",
      "[219]\tvalidation_0-logloss:0.322977\tvalidation_1-logloss:0.378594\n",
      "[220]\tvalidation_0-logloss:0.322419\tvalidation_1-logloss:0.378183\n",
      "[221]\tvalidation_0-logloss:0.321777\tvalidation_1-logloss:0.377802\n",
      "[222]\tvalidation_0-logloss:0.32124\tvalidation_1-logloss:0.37741\n",
      "[223]\tvalidation_0-logloss:0.320697\tvalidation_1-logloss:0.377077\n",
      "[224]\tvalidation_0-logloss:0.320165\tvalidation_1-logloss:0.376751\n",
      "[225]\tvalidation_0-logloss:0.319624\tvalidation_1-logloss:0.376371\n",
      "[226]\tvalidation_0-logloss:0.319045\tvalidation_1-logloss:0.375982\n",
      "[227]\tvalidation_0-logloss:0.318452\tvalidation_1-logloss:0.375671\n",
      "[228]\tvalidation_0-logloss:0.317889\tvalidation_1-logloss:0.375322\n",
      "[229]\tvalidation_0-logloss:0.317388\tvalidation_1-logloss:0.374988\n",
      "[230]\tvalidation_0-logloss:0.316831\tvalidation_1-logloss:0.374591\n",
      "[231]\tvalidation_0-logloss:0.316322\tvalidation_1-logloss:0.374149\n",
      "[232]\tvalidation_0-logloss:0.315822\tvalidation_1-logloss:0.373757\n",
      "[233]\tvalidation_0-logloss:0.315254\tvalidation_1-logloss:0.373299\n",
      "[234]\tvalidation_0-logloss:0.314717\tvalidation_1-logloss:0.372935\n",
      "[235]\tvalidation_0-logloss:0.314149\tvalidation_1-logloss:0.372513\n",
      "[236]\tvalidation_0-logloss:0.31364\tvalidation_1-logloss:0.372133\n",
      "[237]\tvalidation_0-logloss:0.313208\tvalidation_1-logloss:0.371764\n",
      "[238]\tvalidation_0-logloss:0.312683\tvalidation_1-logloss:0.371413\n",
      "[239]\tvalidation_0-logloss:0.312146\tvalidation_1-logloss:0.370998\n",
      "[240]\tvalidation_0-logloss:0.311631\tvalidation_1-logloss:0.370638\n",
      "[241]\tvalidation_0-logloss:0.311105\tvalidation_1-logloss:0.3702\n",
      "[242]\tvalidation_0-logloss:0.310626\tvalidation_1-logloss:0.369847\n",
      "[243]\tvalidation_0-logloss:0.310167\tvalidation_1-logloss:0.369494\n",
      "[244]\tvalidation_0-logloss:0.309689\tvalidation_1-logloss:0.369098\n",
      "[245]\tvalidation_0-logloss:0.309219\tvalidation_1-logloss:0.368762\n",
      "[246]\tvalidation_0-logloss:0.308753\tvalidation_1-logloss:0.368427\n",
      "[247]\tvalidation_0-logloss:0.308241\tvalidation_1-logloss:0.368115\n",
      "[248]\tvalidation_0-logloss:0.307736\tvalidation_1-logloss:0.367722\n",
      "[249]\tvalidation_0-logloss:0.30728\tvalidation_1-logloss:0.36743\n",
      "[250]\tvalidation_0-logloss:0.30678\tvalidation_1-logloss:0.367025\n",
      "[251]\tvalidation_0-logloss:0.306269\tvalidation_1-logloss:0.366665\n"
     ]
    },
    {
     "name": "stdout",
     "output_type": "stream",
     "text": [
      "[252]\tvalidation_0-logloss:0.305784\tvalidation_1-logloss:0.366324\n",
      "[253]\tvalidation_0-logloss:0.305305\tvalidation_1-logloss:0.365946\n",
      "[254]\tvalidation_0-logloss:0.304807\tvalidation_1-logloss:0.36563\n",
      "[255]\tvalidation_0-logloss:0.304339\tvalidation_1-logloss:0.365331\n",
      "[256]\tvalidation_0-logloss:0.303825\tvalidation_1-logloss:0.364932\n",
      "[257]\tvalidation_0-logloss:0.303343\tvalidation_1-logloss:0.364597\n",
      "[258]\tvalidation_0-logloss:0.302879\tvalidation_1-logloss:0.364259\n",
      "[259]\tvalidation_0-logloss:0.302393\tvalidation_1-logloss:0.363976\n",
      "[260]\tvalidation_0-logloss:0.301916\tvalidation_1-logloss:0.363639\n",
      "[261]\tvalidation_0-logloss:0.30145\tvalidation_1-logloss:0.363275\n",
      "[262]\tvalidation_0-logloss:0.300964\tvalidation_1-logloss:0.362893\n",
      "[263]\tvalidation_0-logloss:0.300559\tvalidation_1-logloss:0.36259\n",
      "[264]\tvalidation_0-logloss:0.300085\tvalidation_1-logloss:0.36229\n",
      "[265]\tvalidation_0-logloss:0.299681\tvalidation_1-logloss:0.362059\n",
      "[266]\tvalidation_0-logloss:0.299199\tvalidation_1-logloss:0.361823\n",
      "[267]\tvalidation_0-logloss:0.298777\tvalidation_1-logloss:0.361499\n",
      "[268]\tvalidation_0-logloss:0.298375\tvalidation_1-logloss:0.361255\n",
      "[269]\tvalidation_0-logloss:0.297905\tvalidation_1-logloss:0.360957\n",
      "[270]\tvalidation_0-logloss:0.297423\tvalidation_1-logloss:0.360715\n",
      "[271]\tvalidation_0-logloss:0.296997\tvalidation_1-logloss:0.360347\n",
      "[272]\tvalidation_0-logloss:0.296523\tvalidation_1-logloss:0.360015\n",
      "[273]\tvalidation_0-logloss:0.296095\tvalidation_1-logloss:0.359737\n",
      "[274]\tvalidation_0-logloss:0.295664\tvalidation_1-logloss:0.35936\n",
      "[275]\tvalidation_0-logloss:0.295206\tvalidation_1-logloss:0.359033\n",
      "[276]\tvalidation_0-logloss:0.294765\tvalidation_1-logloss:0.358741\n",
      "[277]\tvalidation_0-logloss:0.294317\tvalidation_1-logloss:0.358499\n",
      "[278]\tvalidation_0-logloss:0.293855\tvalidation_1-logloss:0.358171\n",
      "[279]\tvalidation_0-logloss:0.293486\tvalidation_1-logloss:0.357884\n",
      "[280]\tvalidation_0-logloss:0.29307\tvalidation_1-logloss:0.35753\n",
      "[281]\tvalidation_0-logloss:0.29264\tvalidation_1-logloss:0.357196\n",
      "[282]\tvalidation_0-logloss:0.292236\tvalidation_1-logloss:0.356883\n",
      "[283]\tvalidation_0-logloss:0.291776\tvalidation_1-logloss:0.356531\n",
      "[284]\tvalidation_0-logloss:0.291328\tvalidation_1-logloss:0.356212\n",
      "[285]\tvalidation_0-logloss:0.290891\tvalidation_1-logloss:0.355933\n",
      "[286]\tvalidation_0-logloss:0.290488\tvalidation_1-logloss:0.35564\n",
      "[287]\tvalidation_0-logloss:0.290044\tvalidation_1-logloss:0.355353\n",
      "[288]\tvalidation_0-logloss:0.289672\tvalidation_1-logloss:0.355067\n",
      "[289]\tvalidation_0-logloss:0.28928\tvalidation_1-logloss:0.354862\n",
      "[290]\tvalidation_0-logloss:0.288834\tvalidation_1-logloss:0.354669\n",
      "[291]\tvalidation_0-logloss:0.288398\tvalidation_1-logloss:0.354432\n",
      "[292]\tvalidation_0-logloss:0.288001\tvalidation_1-logloss:0.354194\n",
      "[293]\tvalidation_0-logloss:0.287587\tvalidation_1-logloss:0.353892\n",
      "[294]\tvalidation_0-logloss:0.287201\tvalidation_1-logloss:0.353632\n",
      "[295]\tvalidation_0-logloss:0.286816\tvalidation_1-logloss:0.353322\n",
      "[296]\tvalidation_0-logloss:0.286422\tvalidation_1-logloss:0.353079\n",
      "[297]\tvalidation_0-logloss:0.286001\tvalidation_1-logloss:0.352871\n",
      "[298]\tvalidation_0-logloss:0.285597\tvalidation_1-logloss:0.35265\n",
      "[299]\tvalidation_0-logloss:0.285238\tvalidation_1-logloss:0.352439\n",
      "[300]\tvalidation_0-logloss:0.284864\tvalidation_1-logloss:0.352192\n",
      "[301]\tvalidation_0-logloss:0.284474\tvalidation_1-logloss:0.351997\n",
      "[302]\tvalidation_0-logloss:0.284099\tvalidation_1-logloss:0.351677\n",
      "[303]\tvalidation_0-logloss:0.283699\tvalidation_1-logloss:0.35147\n",
      "[304]\tvalidation_0-logloss:0.283377\tvalidation_1-logloss:0.351239\n",
      "[305]\tvalidation_0-logloss:0.28294\tvalidation_1-logloss:0.350966\n",
      "[306]\tvalidation_0-logloss:0.282581\tvalidation_1-logloss:0.350714\n",
      "[307]\tvalidation_0-logloss:0.282176\tvalidation_1-logloss:0.350475\n",
      "[308]\tvalidation_0-logloss:0.281772\tvalidation_1-logloss:0.35018\n",
      "[309]\tvalidation_0-logloss:0.281358\tvalidation_1-logloss:0.349993\n",
      "[310]\tvalidation_0-logloss:0.281045\tvalidation_1-logloss:0.349699\n",
      "[311]\tvalidation_0-logloss:0.280675\tvalidation_1-logloss:0.349343\n",
      "[312]\tvalidation_0-logloss:0.280276\tvalidation_1-logloss:0.349011\n",
      "[313]\tvalidation_0-logloss:0.279899\tvalidation_1-logloss:0.348752\n",
      "[314]\tvalidation_0-logloss:0.279542\tvalidation_1-logloss:0.348526\n",
      "[315]\tvalidation_0-logloss:0.279211\tvalidation_1-logloss:0.348304\n",
      "[316]\tvalidation_0-logloss:0.278921\tvalidation_1-logloss:0.348058\n",
      "[317]\tvalidation_0-logloss:0.278566\tvalidation_1-logloss:0.347875\n",
      "[318]\tvalidation_0-logloss:0.278176\tvalidation_1-logloss:0.347601\n",
      "[319]\tvalidation_0-logloss:0.277808\tvalidation_1-logloss:0.347422\n",
      "[320]\tvalidation_0-logloss:0.277433\tvalidation_1-logloss:0.347142\n",
      "[321]\tvalidation_0-logloss:0.277072\tvalidation_1-logloss:0.346941\n",
      "[322]\tvalidation_0-logloss:0.27667\tvalidation_1-logloss:0.346742\n",
      "[323]\tvalidation_0-logloss:0.276291\tvalidation_1-logloss:0.346509\n",
      "[324]\tvalidation_0-logloss:0.275959\tvalidation_1-logloss:0.346273\n",
      "[325]\tvalidation_0-logloss:0.275646\tvalidation_1-logloss:0.346023\n",
      "[326]\tvalidation_0-logloss:0.275326\tvalidation_1-logloss:0.345765\n",
      "[327]\tvalidation_0-logloss:0.275015\tvalidation_1-logloss:0.345523\n",
      "[328]\tvalidation_0-logloss:0.274648\tvalidation_1-logloss:0.345254\n",
      "[329]\tvalidation_0-logloss:0.274341\tvalidation_1-logloss:0.345035\n",
      "[330]\tvalidation_0-logloss:0.273973\tvalidation_1-logloss:0.344787\n",
      "[331]\tvalidation_0-logloss:0.273621\tvalidation_1-logloss:0.344533\n",
      "[332]\tvalidation_0-logloss:0.27327\tvalidation_1-logloss:0.344336\n",
      "[333]\tvalidation_0-logloss:0.272913\tvalidation_1-logloss:0.344087\n",
      "[334]\tvalidation_0-logloss:0.272516\tvalidation_1-logloss:0.34385\n",
      "[335]\tvalidation_0-logloss:0.272206\tvalidation_1-logloss:0.343679\n",
      "[336]\tvalidation_0-logloss:0.271856\tvalidation_1-logloss:0.343479\n",
      "[337]\tvalidation_0-logloss:0.271517\tvalidation_1-logloss:0.343266\n",
      "[338]\tvalidation_0-logloss:0.271187\tvalidation_1-logloss:0.343001\n",
      "[339]\tvalidation_0-logloss:0.270865\tvalidation_1-logloss:0.342829\n",
      "[340]\tvalidation_0-logloss:0.270593\tvalidation_1-logloss:0.34264\n",
      "[341]\tvalidation_0-logloss:0.27025\tvalidation_1-logloss:0.342418\n",
      "[342]\tvalidation_0-logloss:0.269951\tvalidation_1-logloss:0.342221\n",
      "[343]\tvalidation_0-logloss:0.269612\tvalidation_1-logloss:0.342014\n",
      "[344]\tvalidation_0-logloss:0.26926\tvalidation_1-logloss:0.341785\n",
      "[345]\tvalidation_0-logloss:0.268921\tvalidation_1-logloss:0.341525\n",
      "[346]\tvalidation_0-logloss:0.268587\tvalidation_1-logloss:0.341302\n",
      "[347]\tvalidation_0-logloss:0.268243\tvalidation_1-logloss:0.341059\n",
      "[348]\tvalidation_0-logloss:0.267936\tvalidation_1-logloss:0.340846\n",
      "[349]\tvalidation_0-logloss:0.267612\tvalidation_1-logloss:0.34065\n",
      "[350]\tvalidation_0-logloss:0.267331\tvalidation_1-logloss:0.34044\n",
      "[351]\tvalidation_0-logloss:0.266976\tvalidation_1-logloss:0.340227\n",
      "[352]\tvalidation_0-logloss:0.266733\tvalidation_1-logloss:0.34004\n",
      "[353]\tvalidation_0-logloss:0.266433\tvalidation_1-logloss:0.339788\n",
      "[354]\tvalidation_0-logloss:0.266117\tvalidation_1-logloss:0.33965\n",
      "[355]\tvalidation_0-logloss:0.265764\tvalidation_1-logloss:0.339486\n",
      "[356]\tvalidation_0-logloss:0.265486\tvalidation_1-logloss:0.339338\n",
      "[357]\tvalidation_0-logloss:0.265183\tvalidation_1-logloss:0.339177\n",
      "[358]\tvalidation_0-logloss:0.264863\tvalidation_1-logloss:0.338933\n",
      "[359]\tvalidation_0-logloss:0.264565\tvalidation_1-logloss:0.338805\n",
      "[360]\tvalidation_0-logloss:0.264294\tvalidation_1-logloss:0.338611\n",
      "[361]\tvalidation_0-logloss:0.263962\tvalidation_1-logloss:0.338446\n",
      "[362]\tvalidation_0-logloss:0.263669\tvalidation_1-logloss:0.338307\n",
      "[363]\tvalidation_0-logloss:0.263349\tvalidation_1-logloss:0.33813\n",
      "[364]\tvalidation_0-logloss:0.263043\tvalidation_1-logloss:0.337925\n",
      "[365]\tvalidation_0-logloss:0.262747\tvalidation_1-logloss:0.33782\n",
      "[366]\tvalidation_0-logloss:0.262448\tvalidation_1-logloss:0.337671\n",
      "[367]\tvalidation_0-logloss:0.262118\tvalidation_1-logloss:0.337485\n",
      "[368]\tvalidation_0-logloss:0.261804\tvalidation_1-logloss:0.337218\n",
      "[369]\tvalidation_0-logloss:0.261466\tvalidation_1-logloss:0.336992\n",
      "[370]\tvalidation_0-logloss:0.261213\tvalidation_1-logloss:0.336803\n",
      "[371]\tvalidation_0-logloss:0.260868\tvalidation_1-logloss:0.33659\n",
      "[372]\tvalidation_0-logloss:0.260621\tvalidation_1-logloss:0.336384\n",
      "[373]\tvalidation_0-logloss:0.260343\tvalidation_1-logloss:0.336196\n",
      "[374]\tvalidation_0-logloss:0.260041\tvalidation_1-logloss:0.336018\n",
      "[375]\tvalidation_0-logloss:0.259719\tvalidation_1-logloss:0.335787\n",
      "[376]\tvalidation_0-logloss:0.259442\tvalidation_1-logloss:0.335645\n"
     ]
    },
    {
     "name": "stdout",
     "output_type": "stream",
     "text": [
      "[377]\tvalidation_0-logloss:0.259148\tvalidation_1-logloss:0.335459\n",
      "[378]\tvalidation_0-logloss:0.258888\tvalidation_1-logloss:0.335265\n",
      "[379]\tvalidation_0-logloss:0.258619\tvalidation_1-logloss:0.335086\n",
      "[380]\tvalidation_0-logloss:0.258306\tvalidation_1-logloss:0.33487\n",
      "[381]\tvalidation_0-logloss:0.258031\tvalidation_1-logloss:0.334739\n",
      "[382]\tvalidation_0-logloss:0.257746\tvalidation_1-logloss:0.334605\n",
      "[383]\tvalidation_0-logloss:0.257426\tvalidation_1-logloss:0.334398\n",
      "[384]\tvalidation_0-logloss:0.257167\tvalidation_1-logloss:0.334262\n",
      "[385]\tvalidation_0-logloss:0.256862\tvalidation_1-logloss:0.33408\n",
      "[386]\tvalidation_0-logloss:0.256599\tvalidation_1-logloss:0.333967\n",
      "[387]\tvalidation_0-logloss:0.256318\tvalidation_1-logloss:0.333859\n",
      "[388]\tvalidation_0-logloss:0.256098\tvalidation_1-logloss:0.333662\n",
      "[389]\tvalidation_0-logloss:0.255833\tvalidation_1-logloss:0.333445\n",
      "[390]\tvalidation_0-logloss:0.255594\tvalidation_1-logloss:0.333274\n",
      "[391]\tvalidation_0-logloss:0.255312\tvalidation_1-logloss:0.333063\n",
      "[392]\tvalidation_0-logloss:0.255042\tvalidation_1-logloss:0.332914\n",
      "[393]\tvalidation_0-logloss:0.254782\tvalidation_1-logloss:0.332785\n",
      "[394]\tvalidation_0-logloss:0.254501\tvalidation_1-logloss:0.332598\n",
      "[395]\tvalidation_0-logloss:0.254258\tvalidation_1-logloss:0.332388\n",
      "[396]\tvalidation_0-logloss:0.253943\tvalidation_1-logloss:0.332222\n",
      "[397]\tvalidation_0-logloss:0.253684\tvalidation_1-logloss:0.332124\n",
      "[398]\tvalidation_0-logloss:0.253494\tvalidation_1-logloss:0.331977\n",
      "[399]\tvalidation_0-logloss:0.253218\tvalidation_1-logloss:0.331835\n",
      "[400]\tvalidation_0-logloss:0.252918\tvalidation_1-logloss:0.331635\n",
      "[401]\tvalidation_0-logloss:0.252662\tvalidation_1-logloss:0.331503\n",
      "[402]\tvalidation_0-logloss:0.252412\tvalidation_1-logloss:0.331367\n",
      "[403]\tvalidation_0-logloss:0.25211\tvalidation_1-logloss:0.331194\n",
      "[404]\tvalidation_0-logloss:0.251845\tvalidation_1-logloss:0.331017\n",
      "[405]\tvalidation_0-logloss:0.251578\tvalidation_1-logloss:0.330866\n",
      "[406]\tvalidation_0-logloss:0.251324\tvalidation_1-logloss:0.330677\n",
      "[407]\tvalidation_0-logloss:0.251052\tvalidation_1-logloss:0.330516\n",
      "[408]\tvalidation_0-logloss:0.250765\tvalidation_1-logloss:0.330325\n",
      "[409]\tvalidation_0-logloss:0.250496\tvalidation_1-logloss:0.330242\n",
      "[410]\tvalidation_0-logloss:0.250207\tvalidation_1-logloss:0.330075\n",
      "[411]\tvalidation_0-logloss:0.249939\tvalidation_1-logloss:0.329939\n",
      "[412]\tvalidation_0-logloss:0.249677\tvalidation_1-logloss:0.329742\n",
      "[413]\tvalidation_0-logloss:0.249436\tvalidation_1-logloss:0.329548\n",
      "[414]\tvalidation_0-logloss:0.249232\tvalidation_1-logloss:0.32941\n",
      "[415]\tvalidation_0-logloss:0.248953\tvalidation_1-logloss:0.32923\n",
      "[416]\tvalidation_0-logloss:0.248709\tvalidation_1-logloss:0.329098\n",
      "[417]\tvalidation_0-logloss:0.248428\tvalidation_1-logloss:0.328996\n",
      "[418]\tvalidation_0-logloss:0.248158\tvalidation_1-logloss:0.328839\n",
      "[419]\tvalidation_0-logloss:0.247892\tvalidation_1-logloss:0.328739\n",
      "[420]\tvalidation_0-logloss:0.247651\tvalidation_1-logloss:0.328596\n",
      "[421]\tvalidation_0-logloss:0.247382\tvalidation_1-logloss:0.32838\n",
      "[422]\tvalidation_0-logloss:0.247097\tvalidation_1-logloss:0.328245\n",
      "[423]\tvalidation_0-logloss:0.246862\tvalidation_1-logloss:0.328116\n",
      "[424]\tvalidation_0-logloss:0.24665\tvalidation_1-logloss:0.32791\n",
      "[425]\tvalidation_0-logloss:0.246415\tvalidation_1-logloss:0.327782\n",
      "[426]\tvalidation_0-logloss:0.246167\tvalidation_1-logloss:0.327638\n",
      "[427]\tvalidation_0-logloss:0.24595\tvalidation_1-logloss:0.327537\n",
      "[428]\tvalidation_0-logloss:0.245701\tvalidation_1-logloss:0.327355\n",
      "[429]\tvalidation_0-logloss:0.245456\tvalidation_1-logloss:0.327176\n",
      "[430]\tvalidation_0-logloss:0.245166\tvalidation_1-logloss:0.327017\n",
      "[431]\tvalidation_0-logloss:0.244946\tvalidation_1-logloss:0.326874\n",
      "[432]\tvalidation_0-logloss:0.244667\tvalidation_1-logloss:0.326725\n",
      "[433]\tvalidation_0-logloss:0.24441\tvalidation_1-logloss:0.326644\n",
      "[434]\tvalidation_0-logloss:0.244173\tvalidation_1-logloss:0.326512\n",
      "[435]\tvalidation_0-logloss:0.243948\tvalidation_1-logloss:0.326356\n",
      "[436]\tvalidation_0-logloss:0.243732\tvalidation_1-logloss:0.326205\n",
      "[437]\tvalidation_0-logloss:0.243481\tvalidation_1-logloss:0.326098\n",
      "[438]\tvalidation_0-logloss:0.243207\tvalidation_1-logloss:0.326015\n",
      "[439]\tvalidation_0-logloss:0.243037\tvalidation_1-logloss:0.325865\n",
      "[440]\tvalidation_0-logloss:0.242755\tvalidation_1-logloss:0.325731\n",
      "[441]\tvalidation_0-logloss:0.24256\tvalidation_1-logloss:0.325627\n",
      "[442]\tvalidation_0-logloss:0.242307\tvalidation_1-logloss:0.325567\n",
      "[443]\tvalidation_0-logloss:0.242061\tvalidation_1-logloss:0.325417\n",
      "[444]\tvalidation_0-logloss:0.241821\tvalidation_1-logloss:0.325251\n",
      "[445]\tvalidation_0-logloss:0.241621\tvalidation_1-logloss:0.3251\n",
      "[446]\tvalidation_0-logloss:0.241393\tvalidation_1-logloss:0.325\n",
      "[447]\tvalidation_0-logloss:0.241142\tvalidation_1-logloss:0.324842\n",
      "[448]\tvalidation_0-logloss:0.240946\tvalidation_1-logloss:0.324732\n",
      "[449]\tvalidation_0-logloss:0.2407\tvalidation_1-logloss:0.324582\n",
      "[450]\tvalidation_0-logloss:0.240459\tvalidation_1-logloss:0.324451\n",
      "[451]\tvalidation_0-logloss:0.240261\tvalidation_1-logloss:0.324367\n",
      "[452]\tvalidation_0-logloss:0.240041\tvalidation_1-logloss:0.324174\n",
      "[453]\tvalidation_0-logloss:0.239826\tvalidation_1-logloss:0.324071\n",
      "[454]\tvalidation_0-logloss:0.239588\tvalidation_1-logloss:0.323948\n",
      "[455]\tvalidation_0-logloss:0.23939\tvalidation_1-logloss:0.323787\n",
      "[456]\tvalidation_0-logloss:0.239146\tvalidation_1-logloss:0.323711\n",
      "[457]\tvalidation_0-logloss:0.23898\tvalidation_1-logloss:0.323581\n",
      "[458]\tvalidation_0-logloss:0.238739\tvalidation_1-logloss:0.323443\n",
      "[459]\tvalidation_0-logloss:0.238549\tvalidation_1-logloss:0.323356\n",
      "[460]\tvalidation_0-logloss:0.23833\tvalidation_1-logloss:0.323209\n",
      "[461]\tvalidation_0-logloss:0.23812\tvalidation_1-logloss:0.323085\n",
      "[462]\tvalidation_0-logloss:0.237882\tvalidation_1-logloss:0.322929\n",
      "[463]\tvalidation_0-logloss:0.237656\tvalidation_1-logloss:0.322818\n",
      "[464]\tvalidation_0-logloss:0.237409\tvalidation_1-logloss:0.322702\n",
      "[465]\tvalidation_0-logloss:0.237211\tvalidation_1-logloss:0.322569\n",
      "[466]\tvalidation_0-logloss:0.237017\tvalidation_1-logloss:0.322432\n",
      "[467]\tvalidation_0-logloss:0.236764\tvalidation_1-logloss:0.322316\n",
      "[468]\tvalidation_0-logloss:0.236556\tvalidation_1-logloss:0.322247\n",
      "[469]\tvalidation_0-logloss:0.236361\tvalidation_1-logloss:0.32214\n",
      "[470]\tvalidation_0-logloss:0.236104\tvalidation_1-logloss:0.32202\n",
      "[471]\tvalidation_0-logloss:0.235914\tvalidation_1-logloss:0.321888\n",
      "[472]\tvalidation_0-logloss:0.235711\tvalidation_1-logloss:0.321761\n",
      "[473]\tvalidation_0-logloss:0.235534\tvalidation_1-logloss:0.321666\n",
      "[474]\tvalidation_0-logloss:0.235307\tvalidation_1-logloss:0.321568\n",
      "[475]\tvalidation_0-logloss:0.235085\tvalidation_1-logloss:0.321468\n",
      "[476]\tvalidation_0-logloss:0.234851\tvalidation_1-logloss:0.321301\n",
      "[477]\tvalidation_0-logloss:0.23463\tvalidation_1-logloss:0.321146\n",
      "[478]\tvalidation_0-logloss:0.234447\tvalidation_1-logloss:0.321002\n",
      "[479]\tvalidation_0-logloss:0.234229\tvalidation_1-logloss:0.320882\n",
      "[480]\tvalidation_0-logloss:0.234038\tvalidation_1-logloss:0.320731\n",
      "[481]\tvalidation_0-logloss:0.233823\tvalidation_1-logloss:0.320625\n",
      "[482]\tvalidation_0-logloss:0.233583\tvalidation_1-logloss:0.32047\n",
      "[483]\tvalidation_0-logloss:0.233366\tvalidation_1-logloss:0.320363\n",
      "[484]\tvalidation_0-logloss:0.233192\tvalidation_1-logloss:0.320288\n",
      "[485]\tvalidation_0-logloss:0.232992\tvalidation_1-logloss:0.320204\n",
      "[486]\tvalidation_0-logloss:0.232801\tvalidation_1-logloss:0.320093\n",
      "[487]\tvalidation_0-logloss:0.232589\tvalidation_1-logloss:0.320012\n",
      "[488]\tvalidation_0-logloss:0.232345\tvalidation_1-logloss:0.31989\n",
      "[489]\tvalidation_0-logloss:0.232148\tvalidation_1-logloss:0.319786\n",
      "[490]\tvalidation_0-logloss:0.231956\tvalidation_1-logloss:0.319656\n",
      "[491]\tvalidation_0-logloss:0.23175\tvalidation_1-logloss:0.319505\n",
      "[492]\tvalidation_0-logloss:0.231558\tvalidation_1-logloss:0.31937\n",
      "[493]\tvalidation_0-logloss:0.231354\tvalidation_1-logloss:0.319244\n",
      "[494]\tvalidation_0-logloss:0.231176\tvalidation_1-logloss:0.319151\n",
      "[495]\tvalidation_0-logloss:0.230919\tvalidation_1-logloss:0.318989\n",
      "[496]\tvalidation_0-logloss:0.230681\tvalidation_1-logloss:0.318842\n",
      "[497]\tvalidation_0-logloss:0.230444\tvalidation_1-logloss:0.318761\n",
      "[498]\tvalidation_0-logloss:0.230261\tvalidation_1-logloss:0.318691\n",
      "[499]\tvalidation_0-logloss:0.230084\tvalidation_1-logloss:0.318555\n"
     ]
    },
    {
     "data": {
      "text/html": [
       "<style>#sk-container-id-3 {color: black;background-color: white;}#sk-container-id-3 pre{padding: 0;}#sk-container-id-3 div.sk-toggleable {background-color: white;}#sk-container-id-3 label.sk-toggleable__label {cursor: pointer;display: block;width: 100%;margin-bottom: 0;padding: 0.3em;box-sizing: border-box;text-align: center;}#sk-container-id-3 label.sk-toggleable__label-arrow:before {content: \"▸\";float: left;margin-right: 0.25em;color: #696969;}#sk-container-id-3 label.sk-toggleable__label-arrow:hover:before {color: black;}#sk-container-id-3 div.sk-estimator:hover label.sk-toggleable__label-arrow:before {color: black;}#sk-container-id-3 div.sk-toggleable__content {max-height: 0;max-width: 0;overflow: hidden;text-align: left;background-color: #f0f8ff;}#sk-container-id-3 div.sk-toggleable__content pre {margin: 0.2em;color: black;border-radius: 0.25em;background-color: #f0f8ff;}#sk-container-id-3 input.sk-toggleable__control:checked~div.sk-toggleable__content {max-height: 200px;max-width: 100%;overflow: auto;}#sk-container-id-3 input.sk-toggleable__control:checked~label.sk-toggleable__label-arrow:before {content: \"▾\";}#sk-container-id-3 div.sk-estimator input.sk-toggleable__control:checked~label.sk-toggleable__label {background-color: #d4ebff;}#sk-container-id-3 div.sk-label input.sk-toggleable__control:checked~label.sk-toggleable__label {background-color: #d4ebff;}#sk-container-id-3 input.sk-hidden--visually {border: 0;clip: rect(1px 1px 1px 1px);clip: rect(1px, 1px, 1px, 1px);height: 1px;margin: -1px;overflow: hidden;padding: 0;position: absolute;width: 1px;}#sk-container-id-3 div.sk-estimator {font-family: monospace;background-color: #f0f8ff;border: 1px dotted black;border-radius: 0.25em;box-sizing: border-box;margin-bottom: 0.5em;}#sk-container-id-3 div.sk-estimator:hover {background-color: #d4ebff;}#sk-container-id-3 div.sk-parallel-item::after {content: \"\";width: 100%;border-bottom: 1px solid gray;flex-grow: 1;}#sk-container-id-3 div.sk-label:hover label.sk-toggleable__label {background-color: #d4ebff;}#sk-container-id-3 div.sk-serial::before {content: \"\";position: absolute;border-left: 1px solid gray;box-sizing: border-box;top: 0;bottom: 0;left: 50%;z-index: 0;}#sk-container-id-3 div.sk-serial {display: flex;flex-direction: column;align-items: center;background-color: white;padding-right: 0.2em;padding-left: 0.2em;position: relative;}#sk-container-id-3 div.sk-item {position: relative;z-index: 1;}#sk-container-id-3 div.sk-parallel {display: flex;align-items: stretch;justify-content: center;background-color: white;position: relative;}#sk-container-id-3 div.sk-item::before, #sk-container-id-3 div.sk-parallel-item::before {content: \"\";position: absolute;border-left: 1px solid gray;box-sizing: border-box;top: 0;bottom: 0;left: 50%;z-index: -1;}#sk-container-id-3 div.sk-parallel-item {display: flex;flex-direction: column;z-index: 1;position: relative;background-color: white;}#sk-container-id-3 div.sk-parallel-item:first-child::after {align-self: flex-end;width: 50%;}#sk-container-id-3 div.sk-parallel-item:last-child::after {align-self: flex-start;width: 50%;}#sk-container-id-3 div.sk-parallel-item:only-child::after {width: 0;}#sk-container-id-3 div.sk-dashed-wrapped {border: 1px dashed gray;margin: 0 0.4em 0.5em 0.4em;box-sizing: border-box;padding-bottom: 0.4em;background-color: white;}#sk-container-id-3 div.sk-label label {font-family: monospace;font-weight: bold;display: inline-block;line-height: 1.2em;}#sk-container-id-3 div.sk-label-container {text-align: center;}#sk-container-id-3 div.sk-container {/* jupyter's `normalize.less` sets `[hidden] { display: none; }` but bootstrap.min.css set `[hidden] { display: none !important; }` so we also need the `!important` here to be able to override the default hidden behavior on the sphinx rendered scikit-learn.org. See: https://github.com/scikit-learn/scikit-learn/issues/21755 */display: inline-block !important;position: relative;}#sk-container-id-3 div.sk-text-repr-fallback {display: none;}</style><div id=\"sk-container-id-3\" class=\"sk-top-container\"><div class=\"sk-text-repr-fallback\"><pre>XGBClassifier(max_depth=4, n_estimators=500, reg_lambda=0.1)</pre><b>In a Jupyter environment, please rerun this cell to show the HTML representation or trust the notebook. <br />On GitHub, the HTML representation is unable to render, please try loading this page with nbviewer.org.</b></div><div class=\"sk-container\" hidden><div class=\"sk-item\"><div class=\"sk-estimator sk-toggleable\"><input class=\"sk-toggleable__control sk-hidden--visually\" id=\"sk-estimator-id-3\" type=\"checkbox\" checked><label for=\"sk-estimator-id-3\" class=\"sk-toggleable__label sk-toggleable__label-arrow\">XGBClassifier</label><div class=\"sk-toggleable__content\"><pre>XGBClassifier(max_depth=4, n_estimators=500, reg_lambda=0.1)</pre></div></div></div></div></div>"
      ],
      "text/plain": [
       "XGBClassifier(max_depth=4, n_estimators=500, reg_lambda=0.1)"
      ]
     },
     "execution_count": 49,
     "metadata": {},
     "output_type": "execute_result"
    }
   ],
   "source": [
    "#treinando modelo com os dados já balanceados pela etapa do random forest\n",
    "GBDT = xgb.XGBClassifier(n_estimators=500, max_depth=4, learning_rate=0.1,random_state=0, reg_lambda=0.1)\n",
    "GBDT.fit(X_over_train, Y_over_train, eval_metric='logloss', eval_set=[(X_over_train, Y_over_train), (X_over_validacao, Y_over_validacao)])"
   ]
  },
  {
   "cell_type": "code",
   "execution_count": 50,
   "id": "9ab57674",
   "metadata": {
    "id": "9ab57674",
    "outputId": "c4269437-10e8-4081-893f-8098d2c1c2be"
   },
   "outputs": [
    {
     "data": {
      "text/plain": [
       "0.8246895273401298"
      ]
     },
     "execution_count": 50,
     "metadata": {},
     "output_type": "execute_result"
    }
   ],
   "source": [
    "previsoes_gbdt = GBDT.predict(X_over_validacao)\n",
    "recall_score(Y_over_validacao, previsoes_gbdt)"
   ]
  },
  {
   "cell_type": "code",
   "execution_count": 51,
   "id": "2dd6e823",
   "metadata": {
    "id": "2dd6e823",
    "outputId": "856d1ed0-0a48-45fd-b794-1605cee0e1fd"
   },
   "outputs": [
    {
     "data": {
      "text/plain": [
       "0.8738924930491195"
      ]
     },
     "execution_count": 51,
     "metadata": {},
     "output_type": "execute_result"
    },
    {
     "data": {
      "image/png": "[encoded data removed]",
      "text/plain": [
       "<Figure size 576x396 with 1 Axes>"
      ]
     },
     "metadata": {},
     "output_type": "display_data"
    }
   ],
   "source": [
    "#calculo de algumas métricas de classificação: matriz de confusao\n",
    "matriz_confusao_gbdt = ConfusionMatrix(GBDT, cmap='GnBu')\n",
    "matriz_confusao_gbdt.fit(X_over_train, Y_over_train)\n",
    "matriz_confusao_gbdt.score(X_over_validacao, Y_over_validacao)"
   ]
  },
  {
   "cell_type": "code",
   "execution_count": 52,
   "id": "f51fdea8",
   "metadata": {
    "id": "f51fdea8",
    "outputId": "29f7a07b-c44f-479b-c71f-d34f1feea2af"
   },
   "outputs": [
    {
     "name": "stdout",
     "output_type": "stream",
     "text": [
      "              precision    recall  f1-score   support\n",
      "\n",
      "           0       0.84      0.92      0.88     53950\n",
      "           1       0.91      0.82      0.87     53950\n",
      "\n",
      "    accuracy                           0.87    107900\n",
      "   macro avg       0.88      0.87      0.87    107900\n",
      "weighted avg       0.88      0.87      0.87    107900\n",
      "\n"
     ]
    }
   ],
   "source": [
    "#printa as métricas de classificação\n",
    "print(classification_report(Y_over_validacao, previsoes_gbdt))"
   ]
  },
  {
   "cell_type": "code",
   "execution_count": 56,
   "id": "00bbd01b",
   "metadata": {
    "id": "00bbd01b",
    "outputId": "444d85ce-30df-4e61-d485-8bcd22002b5a"
   },
   "outputs": [
    {
     "name": "stderr",
     "output_type": "stream",
     "text": [
      "/opt/anaconda3/lib/python3.9/site-packages/sklearn/utils/deprecation.py:87: FutureWarning: Function plot_roc_curve is deprecated; Function :func:`plot_roc_curve` is deprecated in 1.0 and will be removed in 1.2. Use one of the class methods: :meth:`sklearn.metrics.RocCurveDisplay.from_predictions` or :meth:`sklearn.metrics.RocCurveDisplay.from_estimator`.\n",
      "  warnings.warn(msg, category=FutureWarning)\n"
     ]
    },
    {
     "data": {
      "image/png": "[encoded data removed]",
      "text/plain": [
       "<Figure size 576x396 with 1 Axes>"
      ]
     },
     "metadata": {},
     "output_type": "display_data"
    }
   ],
   "source": [
    "roc_gbdt = plota_roc_curve(GBDT, X_over_validacao, Y_over_validacao, \"GBDT\")"
   ]
  },
  {
   "cell_type": "code",
   "execution_count": 57,
   "id": "905fc08d",
   "metadata": {
    "id": "905fc08d",
    "outputId": "24e1b813-0449-4c5e-e699-dfb6d483da93"
   },
   "outputs": [
    {
     "data": {
      "image/png": "[encoded data removed]",
      "text/plain": [
       "<Figure size 576x396 with 1 Axes>"
      ]
     },
     "metadata": {},
     "output_type": "display_data"
    }
   ],
   "source": [
    "logloss_gbdt = plot_curva_learning(GBDT, 'GBDT')"
   ]
  },
  {
   "cell_type": "code",
   "execution_count": 58,
   "id": "3ba6ca3e",
   "metadata": {
    "id": "3ba6ca3e",
    "outputId": "00d665af-5b57-4c31-e028-aa5fd829e7e6"
   },
   "outputs": [
    {
     "data": {
      "text/plain": [
       "<AxesSubplot:>"
      ]
     },
     "execution_count": 58,
     "metadata": {},
     "output_type": "execute_result"
    },
    {
     "data": {
      "image/png": "[encoded data removed]",
      "text/plain": [
       "<Figure size 576x396 with 1 Axes>"
      ]
     },
     "metadata": {},
     "output_type": "display_data"
    }
   ],
   "source": [
    "feat_importances = pd.Series(GBDT.feature_importances_)\n",
    "feat_importances.nlargest(10).plot(kind='barh')"
   ]
  },
  {
   "cell_type": "code",
   "execution_count": null,
   "id": "711b3531",
   "metadata": {
    "id": "711b3531",
    "outputId": "f88a2f09-01b3-49eb-aa0a-89c1eaf39c8b"
   },
   "outputs": [
    {
     "name": "stderr",
     "output_type": "stream",
     "text": [
      "/opt/anaconda3/lib/python3.9/site-packages/xgboost/sklearn.py:1224: UserWarning: The use of label encoder in XGBClassifier is deprecated and will be removed in a future release. To remove this warning, do the following: 1) Pass option use_label_encoder=False when constructing XGBClassifier object; and 2) Encode your labels (y) as integers starting with 0, i.e. 0, 1, 2, ..., [num_class - 1].\n",
      "  warnings.warn(label_encoder_deprecation_msg, UserWarning)\n"
     ]
    },
    {
     "name": "stdout",
     "output_type": "stream",
     "text": [
      "[20:59:40] WARNING: ../src/learner.cc:1115: Starting in XGBoost 1.3.0, the default evaluation metric used with the objective 'binary:logistic' was changed from 'error' to 'logloss'. Explicitly set eval_metric if you'd like to restore the old behavior.\n"
     ]
    },
    {
     "name": "stderr",
     "output_type": "stream",
     "text": [
      "/opt/anaconda3/lib/python3.9/site-packages/xgboost/sklearn.py:1224: UserWarning: The use of label encoder in XGBClassifier is deprecated and will be removed in a future release. To remove this warning, do the following: 1) Pass option use_label_encoder=False when constructing XGBClassifier object; and 2) Encode your labels (y) as integers starting with 0, i.e. 0, 1, 2, ..., [num_class - 1].\n",
      "  warnings.warn(label_encoder_deprecation_msg, UserWarning)\n"
     ]
    },
    {
     "name": "stdout",
     "output_type": "stream",
     "text": [
      "[21:02:43] WARNING: ../src/learner.cc:1115: Starting in XGBoost 1.3.0, the default evaluation metric used with the objective 'binary:logistic' was changed from 'error' to 'logloss'. Explicitly set eval_metric if you'd like to restore the old behavior.\n"
     ]
    },
    {
     "name": "stderr",
     "output_type": "stream",
     "text": [
      "/opt/anaconda3/lib/python3.9/site-packages/xgboost/sklearn.py:1224: UserWarning: The use of label encoder in XGBClassifier is deprecated and will be removed in a future release. To remove this warning, do the following: 1) Pass option use_label_encoder=False when constructing XGBClassifier object; and 2) Encode your labels (y) as integers starting with 0, i.e. 0, 1, 2, ..., [num_class - 1].\n",
      "  warnings.warn(label_encoder_deprecation_msg, UserWarning)\n"
     ]
    },
    {
     "name": "stdout",
     "output_type": "stream",
     "text": [
      "[21:05:20] WARNING: ../src/learner.cc:1115: Starting in XGBoost 1.3.0, the default evaluation metric used with the objective 'binary:logistic' was changed from 'error' to 'logloss'. Explicitly set eval_metric if you'd like to restore the old behavior.\n"
     ]
    },
    {
     "name": "stderr",
     "output_type": "stream",
     "text": [
      "/opt/anaconda3/lib/python3.9/site-packages/xgboost/sklearn.py:1224: UserWarning: The use of label encoder in XGBClassifier is deprecated and will be removed in a future release. To remove this warning, do the following: 1) Pass option use_label_encoder=False when constructing XGBClassifier object; and 2) Encode your labels (y) as integers starting with 0, i.e. 0, 1, 2, ..., [num_class - 1].\n",
      "  warnings.warn(label_encoder_deprecation_msg, UserWarning)\n"
     ]
    },
    {
     "name": "stdout",
     "output_type": "stream",
     "text": [
      "[21:09:20] WARNING: ../src/learner.cc:1115: Starting in XGBoost 1.3.0, the default evaluation metric used with the objective 'binary:logistic' was changed from 'error' to 'logloss'. Explicitly set eval_metric if you'd like to restore the old behavior.\n"
     ]
    },
    {
     "name": "stderr",
     "output_type": "stream",
     "text": [
      "/opt/anaconda3/lib/python3.9/site-packages/xgboost/sklearn.py:1224: UserWarning: The use of label encoder in XGBClassifier is deprecated and will be removed in a future release. To remove this warning, do the following: 1) Pass option use_label_encoder=False when constructing XGBClassifier object; and 2) Encode your labels (y) as integers starting with 0, i.e. 0, 1, 2, ..., [num_class - 1].\n",
      "  warnings.warn(label_encoder_deprecation_msg, UserWarning)\n"
     ]
    },
    {
     "name": "stdout",
     "output_type": "stream",
     "text": [
      "[21:54:30] WARNING: ../src/learner.cc:1115: Starting in XGBoost 1.3.0, the default evaluation metric used with the objective 'binary:logistic' was changed from 'error' to 'logloss'. Explicitly set eval_metric if you'd like to restore the old behavior.\n"
     ]
    },
    {
     "name": "stderr",
     "output_type": "stream",
     "text": [
      "/opt/anaconda3/lib/python3.9/site-packages/xgboost/sklearn.py:1224: UserWarning: The use of label encoder in XGBClassifier is deprecated and will be removed in a future release. To remove this warning, do the following: 1) Pass option use_label_encoder=False when constructing XGBClassifier object; and 2) Encode your labels (y) as integers starting with 0, i.e. 0, 1, 2, ..., [num_class - 1].\n",
      "  warnings.warn(label_encoder_deprecation_msg, UserWarning)\n"
     ]
    },
    {
     "name": "stdout",
     "output_type": "stream",
     "text": [
      "[22:01:26] WARNING: ../src/learner.cc:1115: Starting in XGBoost 1.3.0, the default evaluation metric used with the objective 'binary:logistic' was changed from 'error' to 'logloss'. Explicitly set eval_metric if you'd like to restore the old behavior.\n"
     ]
    },
    {
     "name": "stderr",
     "output_type": "stream",
     "text": [
      "/opt/anaconda3/lib/python3.9/site-packages/xgboost/sklearn.py:1224: UserWarning: The use of label encoder in XGBClassifier is deprecated and will be removed in a future release. To remove this warning, do the following: 1) Pass option use_label_encoder=False when constructing XGBClassifier object; and 2) Encode your labels (y) as integers starting with 0, i.e. 0, 1, 2, ..., [num_class - 1].\n",
      "  warnings.warn(label_encoder_deprecation_msg, UserWarning)\n"
     ]
    },
    {
     "name": "stdout",
     "output_type": "stream",
     "text": [
      "[22:08:52] WARNING: ../src/learner.cc:1115: Starting in XGBoost 1.3.0, the default evaluation metric used with the objective 'binary:logistic' was changed from 'error' to 'logloss'. Explicitly set eval_metric if you'd like to restore the old behavior.\n"
     ]
    },
    {
     "name": "stderr",
     "output_type": "stream",
     "text": [
      "/opt/anaconda3/lib/python3.9/site-packages/xgboost/sklearn.py:1224: UserWarning: The use of label encoder in XGBClassifier is deprecated and will be removed in a future release. To remove this warning, do the following: 1) Pass option use_label_encoder=False when constructing XGBClassifier object; and 2) Encode your labels (y) as integers starting with 0, i.e. 0, 1, 2, ..., [num_class - 1].\n",
      "  warnings.warn(label_encoder_deprecation_msg, UserWarning)\n"
     ]
    },
    {
     "name": "stdout",
     "output_type": "stream",
     "text": [
      "[22:14:49] WARNING: ../src/learner.cc:1115: Starting in XGBoost 1.3.0, the default evaluation metric used with the objective 'binary:logistic' was changed from 'error' to 'logloss'. Explicitly set eval_metric if you'd like to restore the old behavior.\n"
     ]
    },
    {
     "name": "stderr",
     "output_type": "stream",
     "text": [
      "/opt/anaconda3/lib/python3.9/site-packages/xgboost/sklearn.py:1224: UserWarning: The use of label encoder in XGBClassifier is deprecated and will be removed in a future release. To remove this warning, do the following: 1) Pass option use_label_encoder=False when constructing XGBClassifier object; and 2) Encode your labels (y) as integers starting with 0, i.e. 0, 1, 2, ..., [num_class - 1].\n",
      "  warnings.warn(label_encoder_deprecation_msg, UserWarning)\n"
     ]
    },
    {
     "name": "stdout",
     "output_type": "stream",
     "text": [
      "[22:19:26] WARNING: ../src/learner.cc:1115: Starting in XGBoost 1.3.0, the default evaluation metric used with the objective 'binary:logistic' was changed from 'error' to 'logloss'. Explicitly set eval_metric if you'd like to restore the old behavior.\n"
     ]
    },
    {
     "name": "stderr",
     "output_type": "stream",
     "text": [
      "/opt/anaconda3/lib/python3.9/site-packages/xgboost/sklearn.py:1224: UserWarning: The use of label encoder in XGBClassifier is deprecated and will be removed in a future release. To remove this warning, do the following: 1) Pass option use_label_encoder=False when constructing XGBClassifier object; and 2) Encode your labels (y) as integers starting with 0, i.e. 0, 1, 2, ..., [num_class - 1].\n",
      "  warnings.warn(label_encoder_deprecation_msg, UserWarning)\n"
     ]
    },
    {
     "name": "stdout",
     "output_type": "stream",
     "text": [
      "[23:06:50] WARNING: ../src/learner.cc:1115: Starting in XGBoost 1.3.0, the default evaluation metric used with the objective 'binary:logistic' was changed from 'error' to 'logloss'. Explicitly set eval_metric if you'd like to restore the old behavior.\n"
     ]
    },
    {
     "name": "stderr",
     "output_type": "stream",
     "text": [
      "/opt/anaconda3/lib/python3.9/site-packages/xgboost/sklearn.py:1224: UserWarning: The use of label encoder in XGBClassifier is deprecated and will be removed in a future release. To remove this warning, do the following: 1) Pass option use_label_encoder=False when constructing XGBClassifier object; and 2) Encode your labels (y) as integers starting with 0, i.e. 0, 1, 2, ..., [num_class - 1].\n",
      "  warnings.warn(label_encoder_deprecation_msg, UserWarning)\n"
     ]
    },
    {
     "name": "stdout",
     "output_type": "stream",
     "text": [
      "[23:16:09] WARNING: ../src/learner.cc:1115: Starting in XGBoost 1.3.0, the default evaluation metric used with the objective 'binary:logistic' was changed from 'error' to 'logloss'. Explicitly set eval_metric if you'd like to restore the old behavior.\n"
     ]
    },
    {
     "name": "stderr",
     "output_type": "stream",
     "text": [
      "/opt/anaconda3/lib/python3.9/site-packages/xgboost/sklearn.py:1224: UserWarning: The use of label encoder in XGBClassifier is deprecated and will be removed in a future release. To remove this warning, do the following: 1) Pass option use_label_encoder=False when constructing XGBClassifier object; and 2) Encode your labels (y) as integers starting with 0, i.e. 0, 1, 2, ..., [num_class - 1].\n",
      "  warnings.warn(label_encoder_deprecation_msg, UserWarning)\n"
     ]
    },
    {
     "name": "stdout",
     "output_type": "stream",
     "text": [
      "[01:28:53] WARNING: ../src/learner.cc:1115: Starting in XGBoost 1.3.0, the default evaluation metric used with the objective 'binary:logistic' was changed from 'error' to 'logloss'. Explicitly set eval_metric if you'd like to restore the old behavior.\n"
     ]
    },
    {
     "name": "stderr",
     "output_type": "stream",
     "text": [
      "/opt/anaconda3/lib/python3.9/site-packages/xgboost/sklearn.py:1224: UserWarning: The use of label encoder in XGBClassifier is deprecated and will be removed in a future release. To remove this warning, do the following: 1) Pass option use_label_encoder=False when constructing XGBClassifier object; and 2) Encode your labels (y) as integers starting with 0, i.e. 0, 1, 2, ..., [num_class - 1].\n",
      "  warnings.warn(label_encoder_deprecation_msg, UserWarning)\n"
     ]
    },
    {
     "name": "stdout",
     "output_type": "stream",
     "text": [
      "[01:41:18] WARNING: ../src/learner.cc:1115: Starting in XGBoost 1.3.0, the default evaluation metric used with the objective 'binary:logistic' was changed from 'error' to 'logloss'. Explicitly set eval_metric if you'd like to restore the old behavior.\n"
     ]
    },
    {
     "name": "stderr",
     "output_type": "stream",
     "text": [
      "/opt/anaconda3/lib/python3.9/site-packages/xgboost/sklearn.py:1224: UserWarning: The use of label encoder in XGBClassifier is deprecated and will be removed in a future release. To remove this warning, do the following: 1) Pass option use_label_encoder=False when constructing XGBClassifier object; and 2) Encode your labels (y) as integers starting with 0, i.e. 0, 1, 2, ..., [num_class - 1].\n",
      "  warnings.warn(label_encoder_deprecation_msg, UserWarning)\n"
     ]
    },
    {
     "name": "stdout",
     "output_type": "stream",
     "text": [
      "[07:30:26] WARNING: ../src/learner.cc:1115: Starting in XGBoost 1.3.0, the default evaluation metric used with the objective 'binary:logistic' was changed from 'error' to 'logloss'. Explicitly set eval_metric if you'd like to restore the old behavior.\n"
     ]
    },
    {
     "name": "stderr",
     "output_type": "stream",
     "text": [
      "/opt/anaconda3/lib/python3.9/site-packages/xgboost/sklearn.py:1224: UserWarning: The use of label encoder in XGBClassifier is deprecated and will be removed in a future release. To remove this warning, do the following: 1) Pass option use_label_encoder=False when constructing XGBClassifier object; and 2) Encode your labels (y) as integers starting with 0, i.e. 0, 1, 2, ..., [num_class - 1].\n",
      "  warnings.warn(label_encoder_deprecation_msg, UserWarning)\n"
     ]
    },
    {
     "name": "stdout",
     "output_type": "stream",
     "text": [
      "[07:39:20] WARNING: ../src/learner.cc:1115: Starting in XGBoost 1.3.0, the default evaluation metric used with the objective 'binary:logistic' was changed from 'error' to 'logloss'. Explicitly set eval_metric if you'd like to restore the old behavior.\n"
     ]
    },
    {
     "name": "stderr",
     "output_type": "stream",
     "text": [
      "/opt/anaconda3/lib/python3.9/site-packages/xgboost/sklearn.py:1224: UserWarning: The use of label encoder in XGBClassifier is deprecated and will be removed in a future release. To remove this warning, do the following: 1) Pass option use_label_encoder=False when constructing XGBClassifier object; and 2) Encode your labels (y) as integers starting with 0, i.e. 0, 1, 2, ..., [num_class - 1].\n",
      "  warnings.warn(label_encoder_deprecation_msg, UserWarning)\n"
     ]
    },
    {
     "name": "stdout",
     "output_type": "stream",
     "text": [
      "[08:27:02] WARNING: ../src/learner.cc:1115: Starting in XGBoost 1.3.0, the default evaluation metric used with the objective 'binary:logistic' was changed from 'error' to 'logloss'. Explicitly set eval_metric if you'd like to restore the old behavior.\n"
     ]
    },
    {
     "name": "stderr",
     "output_type": "stream",
     "text": [
      "/opt/anaconda3/lib/python3.9/site-packages/xgboost/sklearn.py:1224: UserWarning: The use of label encoder in XGBClassifier is deprecated and will be removed in a future release. To remove this warning, do the following: 1) Pass option use_label_encoder=False when constructing XGBClassifier object; and 2) Encode your labels (y) as integers starting with 0, i.e. 0, 1, 2, ..., [num_class - 1].\n",
      "  warnings.warn(label_encoder_deprecation_msg, UserWarning)\n"
     ]
    },
    {
     "name": "stdout",
     "output_type": "stream",
     "text": [
      "[10:16:50] WARNING: ../src/learner.cc:1115: Starting in XGBoost 1.3.0, the default evaluation metric used with the objective 'binary:logistic' was changed from 'error' to 'logloss'. Explicitly set eval_metric if you'd like to restore the old behavior.\n"
     ]
    },
    {
     "name": "stderr",
     "output_type": "stream",
     "text": [
      "/opt/anaconda3/lib/python3.9/site-packages/xgboost/sklearn.py:1224: UserWarning: The use of label encoder in XGBClassifier is deprecated and will be removed in a future release. To remove this warning, do the following: 1) Pass option use_label_encoder=False when constructing XGBClassifier object; and 2) Encode your labels (y) as integers starting with 0, i.e. 0, 1, 2, ..., [num_class - 1].\n",
      "  warnings.warn(label_encoder_deprecation_msg, UserWarning)\n"
     ]
    },
    {
     "name": "stdout",
     "output_type": "stream",
     "text": [
      "[10:46:24] WARNING: ../src/learner.cc:1115: Starting in XGBoost 1.3.0, the default evaluation metric used with the objective 'binary:logistic' was changed from 'error' to 'logloss'. Explicitly set eval_metric if you'd like to restore the old behavior.\n"
     ]
    },
    {
     "name": "stderr",
     "output_type": "stream",
     "text": [
      "/opt/anaconda3/lib/python3.9/site-packages/xgboost/sklearn.py:1224: UserWarning: The use of label encoder in XGBClassifier is deprecated and will be removed in a future release. To remove this warning, do the following: 1) Pass option use_label_encoder=False when constructing XGBClassifier object; and 2) Encode your labels (y) as integers starting with 0, i.e. 0, 1, 2, ..., [num_class - 1].\n",
      "  warnings.warn(label_encoder_deprecation_msg, UserWarning)\n"
     ]
    },
    {
     "name": "stdout",
     "output_type": "stream",
     "text": [
      "[11:04:09] WARNING: ../src/learner.cc:1115: Starting in XGBoost 1.3.0, the default evaluation metric used with the objective 'binary:logistic' was changed from 'error' to 'logloss'. Explicitly set eval_metric if you'd like to restore the old behavior.\n"
     ]
    },
    {
     "data": {
      "text/html": [
       "<style>#sk-container-id-20 {color: black;background-color: white;}#sk-container-id-20 pre{padding: 0;}#sk-container-id-20 div.sk-toggleable {background-color: white;}#sk-container-id-20 label.sk-toggleable__label {cursor: pointer;display: block;width: 100%;margin-bottom: 0;padding: 0.3em;box-sizing: border-box;text-align: center;}#sk-container-id-20 label.sk-toggleable__label-arrow:before {content: \"▸\";float: left;margin-right: 0.25em;color: #696969;}#sk-container-id-20 label.sk-toggleable__label-arrow:hover:before {color: black;}#sk-container-id-20 div.sk-estimator:hover label.sk-toggleable__label-arrow:before {color: black;}#sk-container-id-20 div.sk-toggleable__content {max-height: 0;max-width: 0;overflow: hidden;text-align: left;background-color: #f0f8ff;}#sk-container-id-20 div.sk-toggleable__content pre {margin: 0.2em;color: black;border-radius: 0.25em;background-color: #f0f8ff;}#sk-container-id-20 input.sk-toggleable__control:checked~div.sk-toggleable__content {max-height: 200px;max-width: 100%;overflow: auto;}#sk-container-id-20 input.sk-toggleable__control:checked~label.sk-toggleable__label-arrow:before {content: \"▾\";}#sk-container-id-20 div.sk-estimator input.sk-toggleable__control:checked~label.sk-toggleable__label {background-color: #d4ebff;}#sk-container-id-20 div.sk-label input.sk-toggleable__control:checked~label.sk-toggleable__label {background-color: #d4ebff;}#sk-container-id-20 input.sk-hidden--visually {border: 0;clip: rect(1px 1px 1px 1px);clip: rect(1px, 1px, 1px, 1px);height: 1px;margin: -1px;overflow: hidden;padding: 0;position: absolute;width: 1px;}#sk-container-id-20 div.sk-estimator {font-family: monospace;background-color: #f0f8ff;border: 1px dotted black;border-radius: 0.25em;box-sizing: border-box;margin-bottom: 0.5em;}#sk-container-id-20 div.sk-estimator:hover {background-color: #d4ebff;}#sk-container-id-20 div.sk-parallel-item::after {content: \"\";width: 100%;border-bottom: 1px solid gray;flex-grow: 1;}#sk-container-id-20 div.sk-label:hover label.sk-toggleable__label {background-color: #d4ebff;}#sk-container-id-20 div.sk-serial::before {content: \"\";position: absolute;border-left: 1px solid gray;box-sizing: border-box;top: 0;bottom: 0;left: 50%;z-index: 0;}#sk-container-id-20 div.sk-serial {display: flex;flex-direction: column;align-items: center;background-color: white;padding-right: 0.2em;padding-left: 0.2em;position: relative;}#sk-container-id-20 div.sk-item {position: relative;z-index: 1;}#sk-container-id-20 div.sk-parallel {display: flex;align-items: stretch;justify-content: center;background-color: white;position: relative;}#sk-container-id-20 div.sk-item::before, #sk-container-id-20 div.sk-parallel-item::before {content: \"\";position: absolute;border-left: 1px solid gray;box-sizing: border-box;top: 0;bottom: 0;left: 50%;z-index: -1;}#sk-container-id-20 div.sk-parallel-item {display: flex;flex-direction: column;z-index: 1;position: relative;background-color: white;}#sk-container-id-20 div.sk-parallel-item:first-child::after {align-self: flex-end;width: 50%;}#sk-container-id-20 div.sk-parallel-item:last-child::after {align-self: flex-start;width: 50%;}#sk-container-id-20 div.sk-parallel-item:only-child::after {width: 0;}#sk-container-id-20 div.sk-dashed-wrapped {border: 1px dashed gray;margin: 0 0.4em 0.5em 0.4em;box-sizing: border-box;padding-bottom: 0.4em;background-color: white;}#sk-container-id-20 div.sk-label label {font-family: monospace;font-weight: bold;display: inline-block;line-height: 1.2em;}#sk-container-id-20 div.sk-label-container {text-align: center;}#sk-container-id-20 div.sk-container {/* jupyter's `normalize.less` sets `[hidden] { display: none; }` but bootstrap.min.css set `[hidden] { display: none !important; }` so we also need the `!important` here to be able to override the default hidden behavior on the sphinx rendered scikit-learn.org. See: https://github.com/scikit-learn/scikit-learn/issues/21755 */display: inline-block !important;position: relative;}#sk-container-id-20 div.sk-text-repr-fallback {display: none;}</style><div id=\"sk-container-id-20\" class=\"sk-top-container\"><div class=\"sk-text-repr-fallback\"><pre>GridSearchCV(cv=2,\n",
       "             estimator=XGBClassifier(base_score=None, booster=None,\n",
       "                                     colsample_bylevel=None,\n",
       "                                     colsample_bynode=None,\n",
       "                                     colsample_bytree=None,\n",
       "                                     enable_categorical=False, gamma=None,\n",
       "                                     gpu_id=None, importance_type=None,\n",
       "                                     interaction_constraints=None,\n",
       "                                     learning_rate=None, max_delta_step=None,\n",
       "                                     max_depth=None, min_child_weight=None,\n",
       "                                     missing=nan, monotone_constraints=None,\n",
       "                                     n_estimators=100, n_jobs=None,\n",
       "                                     num_parallel_tree=None, predictor=None,\n",
       "                                     random_state=None, reg_alpha=None,\n",
       "                                     reg_lambda=None, scale_pos_weight=None,\n",
       "                                     subsample=None, tree_method=None,\n",
       "                                     validate_parameters=None, verbosity=None),\n",
       "             param_grid={&#x27;max_depth&#x27;: [3, 5, 9],\n",
       "                         &#x27;n_estimators&#x27;: [100, 150, 200]},\n",
       "             scoring=&#x27;recall&#x27;)</pre><b>In a Jupyter environment, please rerun this cell to show the HTML representation or trust the notebook. <br />On GitHub, the HTML representation is unable to render, please try loading this page with nbviewer.org.</b></div><div class=\"sk-container\" hidden><div class=\"sk-item sk-dashed-wrapped\"><div class=\"sk-label-container\"><div class=\"sk-label sk-toggleable\"><input class=\"sk-toggleable__control sk-hidden--visually\" id=\"sk-estimator-id-28\" type=\"checkbox\" ><label for=\"sk-estimator-id-28\" class=\"sk-toggleable__label sk-toggleable__label-arrow\">GridSearchCV</label><div class=\"sk-toggleable__content\"><pre>GridSearchCV(cv=2,\n",
       "             estimator=XGBClassifier(base_score=None, booster=None,\n",
       "                                     colsample_bylevel=None,\n",
       "                                     colsample_bynode=None,\n",
       "                                     colsample_bytree=None,\n",
       "                                     enable_categorical=False, gamma=None,\n",
       "                                     gpu_id=None, importance_type=None,\n",
       "                                     interaction_constraints=None,\n",
       "                                     learning_rate=None, max_delta_step=None,\n",
       "                                     max_depth=None, min_child_weight=None,\n",
       "                                     missing=nan, monotone_constraints=None,\n",
       "                                     n_estimators=100, n_jobs=None,\n",
       "                                     num_parallel_tree=None, predictor=None,\n",
       "                                     random_state=None, reg_alpha=None,\n",
       "                                     reg_lambda=None, scale_pos_weight=None,\n",
       "                                     subsample=None, tree_method=None,\n",
       "                                     validate_parameters=None, verbosity=None),\n",
       "             param_grid={&#x27;max_depth&#x27;: [3, 5, 9],\n",
       "                         &#x27;n_estimators&#x27;: [100, 150, 200]},\n",
       "             scoring=&#x27;recall&#x27;)</pre></div></div></div><div class=\"sk-parallel\"><div class=\"sk-parallel-item\"><div class=\"sk-item\"><div class=\"sk-label-container\"><div class=\"sk-label sk-toggleable\"><input class=\"sk-toggleable__control sk-hidden--visually\" id=\"sk-estimator-id-29\" type=\"checkbox\" ><label for=\"sk-estimator-id-29\" class=\"sk-toggleable__label sk-toggleable__label-arrow\">estimator: XGBClassifier</label><div class=\"sk-toggleable__content\"><pre>XGBClassifier(base_score=None, booster=None, colsample_bylevel=None,\n",
       "              colsample_bynode=None, colsample_bytree=None,\n",
       "              enable_categorical=False, gamma=None, gpu_id=None,\n",
       "              importance_type=None, interaction_constraints=None,\n",
       "              learning_rate=None, max_delta_step=None, max_depth=None,\n",
       "              min_child_weight=None, missing=nan, monotone_constraints=None,\n",
       "              n_estimators=100, n_jobs=None, num_parallel_tree=None,\n",
       "              predictor=None, random_state=None, reg_alpha=None,\n",
       "              reg_lambda=None, scale_pos_weight=None, subsample=None,\n",
       "              tree_method=None, validate_parameters=None, verbosity=None)</pre></div></div></div><div class=\"sk-serial\"><div class=\"sk-item\"><div class=\"sk-estimator sk-toggleable\"><input class=\"sk-toggleable__control sk-hidden--visually\" id=\"sk-estimator-id-30\" type=\"checkbox\" ><label for=\"sk-estimator-id-30\" class=\"sk-toggleable__label sk-toggleable__label-arrow\">XGBClassifier</label><div class=\"sk-toggleable__content\"><pre>XGBClassifier(base_score=None, booster=None, colsample_bylevel=None,\n",
       "              colsample_bynode=None, colsample_bytree=None,\n",
       "              enable_categorical=False, gamma=None, gpu_id=None,\n",
       "              importance_type=None, interaction_constraints=None,\n",
       "              learning_rate=None, max_delta_step=None, max_depth=None,\n",
       "              min_child_weight=None, missing=nan, monotone_constraints=None,\n",
       "              n_estimators=100, n_jobs=None, num_parallel_tree=None,\n",
       "              predictor=None, random_state=None, reg_alpha=None,\n",
       "              reg_lambda=None, scale_pos_weight=None, subsample=None,\n",
       "              tree_method=None, validate_parameters=None, verbosity=None)</pre></div></div></div></div></div></div></div></div></div></div>"
      ],
      "text/plain": [
       "GridSearchCV(cv=2,\n",
       "             estimator=XGBClassifier(base_score=None, booster=None,\n",
       "                                     colsample_bylevel=None,\n",
       "                                     colsample_bynode=None,\n",
       "                                     colsample_bytree=None,\n",
       "                                     enable_categorical=False, gamma=None,\n",
       "                                     gpu_id=None, importance_type=None,\n",
       "                                     interaction_constraints=None,\n",
       "                                     learning_rate=None, max_delta_step=None,\n",
       "                                     max_depth=None, min_child_weight=None,\n",
       "                                     missing=nan, monotone_constraints=None,\n",
       "                                     n_estimators=100, n_jobs=None,\n",
       "                                     num_parallel_tree=None, predictor=None,\n",
       "                                     random_state=None, reg_alpha=None,\n",
       "                                     reg_lambda=None, scale_pos_weight=None,\n",
       "                                     subsample=None, tree_method=None,\n",
       "                                     validate_parameters=None, verbosity=None),\n",
       "             param_grid={'max_depth': [3, 5, 9],\n",
       "                         'n_estimators': [100, 150, 200]},\n",
       "             scoring='recall')"
      ]
     },
     "execution_count": 241,
     "metadata": {},
     "output_type": "execute_result"
    }
   ],
   "source": [
    "#tunando os hiperparametros da GBDT com o GridSearchCV()\n",
    "parametros_gbdt = {'n_estimators': [100, 150, 200],\n",
    "              'max_depth': [3, 6, 9],\n",
    "                   'learning_rate': [0.1],\n",
    "               }  \n",
    "\n",
    "grid_gbdt = GridSearchCV(estimator=xgb.XGBClassifier(), param_grid=parametros_gbdt, cv=2, scoring='recall', verbose=0)\n",
    "grid_gbdt.fit(X_over_train, Y_over_train)"
   ]
  },
  {
   "cell_type": "code",
   "execution_count": null,
   "id": "386e4a6d",
   "metadata": {
    "id": "386e4a6d",
    "outputId": "5f444929-8d6a-407d-903f-d5289c8d87bc"
   },
   "outputs": [
    {
     "name": "stdout",
     "output_type": "stream",
     "text": [
      "Melhor modelo: XGBClassifier(base_score=0.5, booster='gbtree', colsample_bylevel=1,\n",
      "              colsample_bynode=1, colsample_bytree=1, enable_categorical=False,\n",
      "              gamma=0, gpu_id=-1, importance_type=None,\n",
      "              interaction_constraints='', learning_rate=0.300000012,\n",
      "              max_delta_step=0, max_depth=9, min_child_weight=1, missing=nan,\n",
      "              monotone_constraints='()', n_estimators=200, n_jobs=4,\n",
      "              num_parallel_tree=1, predictor='auto', random_state=0,\n",
      "              reg_alpha=0, reg_lambda=1, scale_pos_weight=1, subsample=1,\n",
      "              tree_method='exact', validate_parameters=1, verbosity=None)\n",
      "Best Score: 0.9375585850643632\n"
     ]
    }
   ],
   "source": [
    "print('Melhor modelo: ' + str(grid_gbdt.best_estimator_))\n",
    "print('Best Score: ' + str(grid_gbdt.best_score_))"
   ]
  },
  {
   "cell_type": "markdown",
   "id": "2b817be1",
   "metadata": {
    "id": "2b817be1"
   },
   "source": [
    "#  <a name=\"secao_5\"> Redes Neurais </a>\n",
    "[Voltar ao índice](#indice)\n",
    "\n",
    "Para a aplicação de redes neurais para resolver o problema, será utilizado uma rede neural simples, implementada pelo sklearn, a MLPClassifier()   (MultiLayer Perceptron).\n",
    "\n",
    "Parâmetros utilizados e variados:\n",
    "   - max_iter (epocas)\n",
    "   - activation = 'logistic'\n",
    "   - hidden_layer_sizes \n",
    "   \n",
    "métrica maximizada: recall \n",
    "\n",
    "O melhor modelo encontrado:\n",
    "   - max_iter (epocas) = 300 (efetivos=78)\n",
    "   - hidden_layer_sizes = (100, 50, 25, 13,7) \n",
    "   \n",
    "Com o recall sendo igual a:\n",
    "   - recall: 0.8024\n",
    "   "
   ]
  },
  {
   "cell_type": "code",
   "execution_count": 59,
   "id": "9de19e8b",
   "metadata": {
    "id": "9de19e8b"
   },
   "outputs": [],
   "source": [
    "from sklearn.neural_network import MLPClassifier"
   ]
  },
  {
   "cell_type": "code",
   "execution_count": 60,
   "id": "ca162c46",
   "metadata": {
    "id": "ca162c46",
    "outputId": "4bde788f-0ff6-4e7d-aa68-17ea80bcb7d3"
   },
   "outputs": [
    {
     "name": "stdout",
     "output_type": "stream",
     "text": [
      "Iteration 1, loss = 0.53956545\n",
      "Iteration 2, loss = 0.44623350\n",
      "Iteration 3, loss = 0.42696295\n",
      "Iteration 4, loss = 0.41745976\n",
      "Iteration 5, loss = 0.41333270\n",
      "Iteration 6, loss = 0.40774099\n",
      "Iteration 7, loss = 0.40501559\n",
      "Iteration 8, loss = 0.40285528\n",
      "Iteration 9, loss = 0.39936332\n",
      "Iteration 10, loss = 0.39825600\n",
      "Iteration 11, loss = 0.39644000\n",
      "Iteration 12, loss = 0.39466058\n",
      "Iteration 13, loss = 0.39311481\n",
      "Iteration 14, loss = 0.39155314\n",
      "Iteration 15, loss = 0.39129961\n",
      "Iteration 16, loss = 0.39026003\n",
      "Iteration 17, loss = 0.38927564\n",
      "Iteration 18, loss = 0.38853620\n",
      "Iteration 19, loss = 0.38813090\n",
      "Iteration 20, loss = 0.38818364\n",
      "Iteration 21, loss = 0.38566102\n",
      "Iteration 22, loss = 0.38596618\n",
      "Iteration 23, loss = 0.38545123\n",
      "Iteration 24, loss = 0.38498772\n",
      "Iteration 25, loss = 0.38353090\n",
      "Iteration 26, loss = 0.38383430\n",
      "Iteration 27, loss = 0.38288557\n",
      "Iteration 28, loss = 0.38322865\n",
      "Iteration 29, loss = 0.38315556\n",
      "Iteration 30, loss = 0.38181880\n",
      "Iteration 31, loss = 0.38153706\n",
      "Iteration 32, loss = 0.38113092\n",
      "Iteration 33, loss = 0.38077003\n",
      "Iteration 34, loss = 0.38005629\n",
      "Iteration 35, loss = 0.38028340\n",
      "Iteration 36, loss = 0.37972243\n",
      "Iteration 37, loss = 0.37990612\n",
      "Iteration 38, loss = 0.37946330\n",
      "Iteration 39, loss = 0.37861484\n",
      "Iteration 40, loss = 0.37828904\n",
      "Iteration 41, loss = 0.37909277\n",
      "Iteration 42, loss = 0.37851017\n",
      "Iteration 43, loss = 0.37952934\n",
      "Iteration 44, loss = 0.37858842\n",
      "Iteration 45, loss = 0.37739504\n",
      "Iteration 46, loss = 0.37748767\n",
      "Iteration 47, loss = 0.37707885\n",
      "Iteration 48, loss = 0.37796535\n",
      "Iteration 49, loss = 0.37709055\n",
      "Iteration 50, loss = 0.37726645\n",
      "Iteration 51, loss = 0.37663969\n",
      "Iteration 52, loss = 0.37617485\n",
      "Iteration 53, loss = 0.37580027\n",
      "Iteration 54, loss = 0.37643861\n",
      "Iteration 55, loss = 0.37438810\n",
      "Iteration 56, loss = 0.37611299\n",
      "Iteration 57, loss = 0.37469367\n",
      "Iteration 58, loss = 0.37557411\n",
      "Iteration 59, loss = 0.37471220\n",
      "Iteration 60, loss = 0.37491491\n",
      "Iteration 61, loss = 0.37525202\n",
      "Iteration 62, loss = 0.37441669\n",
      "Iteration 63, loss = 0.37430211\n",
      "Iteration 64, loss = 0.37383817\n",
      "Iteration 65, loss = 0.37480403\n",
      "Iteration 66, loss = 0.37349679\n",
      "Iteration 67, loss = 0.37420336\n",
      "Iteration 68, loss = 0.37341003\n",
      "Iteration 69, loss = 0.37317748\n",
      "Iteration 70, loss = 0.37328566\n",
      "Iteration 71, loss = 0.37278143\n",
      "Iteration 72, loss = 0.37251933\n",
      "Iteration 73, loss = 0.37328079\n",
      "Iteration 74, loss = 0.37301915\n",
      "Iteration 75, loss = 0.37259363\n",
      "Iteration 76, loss = 0.37351514\n",
      "Iteration 77, loss = 0.37278910\n",
      "Iteration 78, loss = 0.37353207\n",
      "Iteration 79, loss = 0.37262545\n",
      "Iteration 80, loss = 0.37270652\n",
      "Iteration 81, loss = 0.37165726\n",
      "Iteration 82, loss = 0.37300950\n",
      "Iteration 83, loss = 0.37375714\n",
      "Iteration 84, loss = 0.37243931\n",
      "Iteration 85, loss = 0.37234929\n",
      "Iteration 86, loss = 0.37219868\n",
      "Iteration 87, loss = 0.37200528\n",
      "Iteration 88, loss = 0.37128801\n",
      "Iteration 89, loss = 0.37234665\n",
      "Iteration 90, loss = 0.37078071\n",
      "Iteration 91, loss = 0.37118598\n",
      "Iteration 92, loss = 0.37045045\n",
      "Iteration 93, loss = 0.37105233\n",
      "Iteration 94, loss = 0.37176417\n",
      "Iteration 95, loss = 0.37088567\n",
      "Iteration 96, loss = 0.37136848\n",
      "Iteration 97, loss = 0.37018791\n",
      "Iteration 98, loss = 0.37136062\n",
      "Iteration 99, loss = 0.37045997\n",
      "Iteration 100, loss = 0.37126712\n",
      "Iteration 101, loss = 0.37125425\n",
      "Iteration 102, loss = 0.37050351\n",
      "Iteration 103, loss = 0.37021494\n",
      "Iteration 104, loss = 0.37056105\n",
      "Iteration 105, loss = 0.37014537\n",
      "Iteration 106, loss = 0.36987638\n",
      "Iteration 107, loss = 0.37059712\n",
      "Iteration 108, loss = 0.36999477\n",
      "Iteration 109, loss = 0.37000286\n",
      "Iteration 110, loss = 0.36999187\n",
      "Iteration 111, loss = 0.37015898\n",
      "Iteration 112, loss = 0.36949205\n",
      "Iteration 113, loss = 0.37011584\n",
      "Iteration 114, loss = 0.36942294\n",
      "Iteration 115, loss = 0.37014884\n",
      "Iteration 116, loss = 0.37037021\n",
      "Iteration 117, loss = 0.36954283\n",
      "Iteration 118, loss = 0.36954645\n",
      "Iteration 119, loss = 0.36834793\n",
      "Iteration 120, loss = 0.36958307\n",
      "Iteration 121, loss = 0.36890561\n",
      "Iteration 122, loss = 0.36911489\n",
      "Iteration 123, loss = 0.36913581\n",
      "Iteration 124, loss = 0.36891877\n",
      "Iteration 125, loss = 0.36915537\n",
      "Iteration 126, loss = 0.36903268\n",
      "Iteration 127, loss = 0.36843080\n",
      "Iteration 128, loss = 0.36847194\n",
      "Iteration 129, loss = 0.36934499\n",
      "Iteration 130, loss = 0.36841768\n",
      "Training loss did not improve more than tol=0.000100 for 10 consecutive epochs. Stopping.\n"
     ]
    },
    {
     "data": {
      "text/html": [
       "<style>#sk-container-id-4 {color: black;background-color: white;}#sk-container-id-4 pre{padding: 0;}#sk-container-id-4 div.sk-toggleable {background-color: white;}#sk-container-id-4 label.sk-toggleable__label {cursor: pointer;display: block;width: 100%;margin-bottom: 0;padding: 0.3em;box-sizing: border-box;text-align: center;}#sk-container-id-4 label.sk-toggleable__label-arrow:before {content: \"▸\";float: left;margin-right: 0.25em;color: #696969;}#sk-container-id-4 label.sk-toggleable__label-arrow:hover:before {color: black;}#sk-container-id-4 div.sk-estimator:hover label.sk-toggleable__label-arrow:before {color: black;}#sk-container-id-4 div.sk-toggleable__content {max-height: 0;max-width: 0;overflow: hidden;text-align: left;background-color: #f0f8ff;}#sk-container-id-4 div.sk-toggleable__content pre {margin: 0.2em;color: black;border-radius: 0.25em;background-color: #f0f8ff;}#sk-container-id-4 input.sk-toggleable__control:checked~div.sk-toggleable__content {max-height: 200px;max-width: 100%;overflow: auto;}#sk-container-id-4 input.sk-toggleable__control:checked~label.sk-toggleable__label-arrow:before {content: \"▾\";}#sk-container-id-4 div.sk-estimator input.sk-toggleable__control:checked~label.sk-toggleable__label {background-color: #d4ebff;}#sk-container-id-4 div.sk-label input.sk-toggleable__control:checked~label.sk-toggleable__label {background-color: #d4ebff;}#sk-container-id-4 input.sk-hidden--visually {border: 0;clip: rect(1px 1px 1px 1px);clip: rect(1px, 1px, 1px, 1px);height: 1px;margin: -1px;overflow: hidden;padding: 0;position: absolute;width: 1px;}#sk-container-id-4 div.sk-estimator {font-family: monospace;background-color: #f0f8ff;border: 1px dotted black;border-radius: 0.25em;box-sizing: border-box;margin-bottom: 0.5em;}#sk-container-id-4 div.sk-estimator:hover {background-color: #d4ebff;}#sk-container-id-4 div.sk-parallel-item::after {content: \"\";width: 100%;border-bottom: 1px solid gray;flex-grow: 1;}#sk-container-id-4 div.sk-label:hover label.sk-toggleable__label {background-color: #d4ebff;}#sk-container-id-4 div.sk-serial::before {content: \"\";position: absolute;border-left: 1px solid gray;box-sizing: border-box;top: 0;bottom: 0;left: 50%;z-index: 0;}#sk-container-id-4 div.sk-serial {display: flex;flex-direction: column;align-items: center;background-color: white;padding-right: 0.2em;padding-left: 0.2em;position: relative;}#sk-container-id-4 div.sk-item {position: relative;z-index: 1;}#sk-container-id-4 div.sk-parallel {display: flex;align-items: stretch;justify-content: center;background-color: white;position: relative;}#sk-container-id-4 div.sk-item::before, #sk-container-id-4 div.sk-parallel-item::before {content: \"\";position: absolute;border-left: 1px solid gray;box-sizing: border-box;top: 0;bottom: 0;left: 50%;z-index: -1;}#sk-container-id-4 div.sk-parallel-item {display: flex;flex-direction: column;z-index: 1;position: relative;background-color: white;}#sk-container-id-4 div.sk-parallel-item:first-child::after {align-self: flex-end;width: 50%;}#sk-container-id-4 div.sk-parallel-item:last-child::after {align-self: flex-start;width: 50%;}#sk-container-id-4 div.sk-parallel-item:only-child::after {width: 0;}#sk-container-id-4 div.sk-dashed-wrapped {border: 1px dashed gray;margin: 0 0.4em 0.5em 0.4em;box-sizing: border-box;padding-bottom: 0.4em;background-color: white;}#sk-container-id-4 div.sk-label label {font-family: monospace;font-weight: bold;display: inline-block;line-height: 1.2em;}#sk-container-id-4 div.sk-label-container {text-align: center;}#sk-container-id-4 div.sk-container {/* jupyter's `normalize.less` sets `[hidden] { display: none; }` but bootstrap.min.css set `[hidden] { display: none !important; }` so we also need the `!important` here to be able to override the default hidden behavior on the sphinx rendered scikit-learn.org. See: https://github.com/scikit-learn/scikit-learn/issues/21755 */display: inline-block !important;position: relative;}#sk-container-id-4 div.sk-text-repr-fallback {display: none;}</style><div id=\"sk-container-id-4\" class=\"sk-top-container\"><div class=\"sk-text-repr-fallback\"><pre>MLPClassifier(activation=&#x27;logistic&#x27;, hidden_layer_sizes=(100, 50, 25, 13, 7),\n",
       "              max_iter=300, random_state=0, verbose=True)</pre><b>In a Jupyter environment, please rerun this cell to show the HTML representation or trust the notebook. <br />On GitHub, the HTML representation is unable to render, please try loading this page with nbviewer.org.</b></div><div class=\"sk-container\" hidden><div class=\"sk-item\"><div class=\"sk-estimator sk-toggleable\"><input class=\"sk-toggleable__control sk-hidden--visually\" id=\"sk-estimator-id-4\" type=\"checkbox\" checked><label for=\"sk-estimator-id-4\" class=\"sk-toggleable__label sk-toggleable__label-arrow\">MLPClassifier</label><div class=\"sk-toggleable__content\"><pre>MLPClassifier(activation=&#x27;logistic&#x27;, hidden_layer_sizes=(100, 50, 25, 13, 7),\n",
       "              max_iter=300, random_state=0, verbose=True)</pre></div></div></div></div></div>"
      ],
      "text/plain": [
       "MLPClassifier(activation='logistic', hidden_layer_sizes=(100, 50, 25, 13, 7),\n",
       "              max_iter=300, random_state=0, verbose=True)"
      ]
     },
     "execution_count": 60,
     "metadata": {},
     "output_type": "execute_result"
    }
   ],
   "source": [
    "# 200 (neuronios entrada) -> 100 (1 camada oculta com 100 neuronios) -> 1 (neuronio saida)\n",
    "rede_neural = MLPClassifier(max_iter=300, verbose=True, hidden_layer_sizes = (100, 50, 25, 13,7), activation='logistic', random_state=0)\n",
    "rede_neural.fit(X_over_train, Y_over_train)"
   ]
  },
  {
   "cell_type": "code",
   "execution_count": 64,
   "id": "d8bb2ae1",
   "metadata": {
    "id": "d8bb2ae1",
    "outputId": "40de3372-90aa-41a8-bc4f-d40db3165dfe"
   },
   "outputs": [
    {
     "data": {
      "text/plain": [
       "0.8024652455977758"
      ]
     },
     "execution_count": 64,
     "metadata": {},
     "output_type": "execute_result"
    }
   ],
   "source": [
    "previsoes_rn = rede_neural.predict(X_over_validacao)\n",
    "recall_score(Y_over_validacao, previsoes_rn)"
   ]
  },
  {
   "cell_type": "code",
   "execution_count": 65,
   "id": "cedca433",
   "metadata": {
    "id": "cedca433",
    "outputId": "61db6d5a-a134-4c85-a7ed-a01d00c6029b"
   },
   "outputs": [
    {
     "data": {
      "text/plain": [
       "0.7926413345690454"
      ]
     },
     "execution_count": 65,
     "metadata": {},
     "output_type": "execute_result"
    },
    {
     "data": {
      "image/png": "[encoded data removed]",
      "text/plain": [
       "<Figure size 576x396 with 1 Axes>"
      ]
     },
     "metadata": {},
     "output_type": "display_data"
    }
   ],
   "source": [
    "matriz_confusao_rn = ConfusionMatrix(rede_neural, cmap='GnBu')\n",
    "matriz_confusao_rn.fit(X_over_train, Y_over_train)\n",
    "matriz_confusao_rn.score(X_over_validacao, Y_over_validacao)"
   ]
  },
  {
   "cell_type": "code",
   "execution_count": 66,
   "id": "de4efdbf",
   "metadata": {
    "id": "de4efdbf",
    "outputId": "373cbdc5-d832-4891-98e3-73712f6c21ce"
   },
   "outputs": [
    {
     "name": "stdout",
     "output_type": "stream",
     "text": [
      "              precision    recall  f1-score   support\n",
      "\n",
      "           0       0.80      0.78      0.79     53950\n",
      "           1       0.79      0.80      0.79     53950\n",
      "\n",
      "    accuracy                           0.79    107900\n",
      "   macro avg       0.79      0.79      0.79    107900\n",
      "weighted avg       0.79      0.79      0.79    107900\n",
      "\n"
     ]
    }
   ],
   "source": [
    "print(classification_report(Y_over_validacao, previsoes_rn))"
   ]
  },
  {
   "cell_type": "code",
   "execution_count": 67,
   "id": "5fdf89bc",
   "metadata": {
    "id": "5fdf89bc",
    "outputId": "ecd69aa4-c66d-4b38-f05e-589437ffe546"
   },
   "outputs": [
    {
     "name": "stderr",
     "output_type": "stream",
     "text": [
      "/opt/anaconda3/lib/python3.9/site-packages/sklearn/utils/deprecation.py:87: FutureWarning: Function plot_roc_curve is deprecated; Function :func:`plot_roc_curve` is deprecated in 1.0 and will be removed in 1.2. Use one of the class methods: :meth:`sklearn.metrics.RocCurveDisplay.from_predictions` or :meth:`sklearn.metrics.RocCurveDisplay.from_estimator`.\n",
      "  warnings.warn(msg, category=FutureWarning)\n"
     ]
    },
    {
     "data": {
      "image/png": "[encoded data removed]",
      "text/plain": [
       "<Figure size 576x396 with 1 Axes>"
      ]
     },
     "metadata": {},
     "output_type": "display_data"
    }
   ],
   "source": [
    "roc_redeneural = plota_roc_curve(rede_neural, X_over_validacao, Y_over_validacao, \"Rede Neural\")"
   ]
  },
  {
   "cell_type": "markdown",
   "id": "6c9fe7c1",
   "metadata": {
    "id": "6c9fe7c1"
   },
   "source": [
    "#  <a name=\"secao_6\"> Comparação Entre os Modelos </a>\n",
    "[Voltar ao índice](#indice)   "
   ]
  },
  {
   "cell_type": "markdown",
   "id": "030b32c6",
   "metadata": {
    "id": "030b32c6"
   },
   "source": [
    "Os modelos foram avaliados segundo a métrica **recall**. De forma que, resumidamente, obtivemos os seguintes resultados:\n",
    "\n",
    "   -  **Random Forest**: 0.72\n",
    "   - **Regressão Logistica**: 0.81\n",
    "   - **GBDT**: 0.82\n",
    "   - **Rede Neural**: 0.80    \n",
    "   \n",
    "Com isso, olhando apenas para o recall, a GBDT demonstrou possuir uma melhor performance, apesar de ter apresentado overfiting com o modelo retornado pelo GridSearchCV(). \n",
    "A GBDT também apresenta uma melhor curva ROC, estando mais localizada ao canto superior esquerdo do gráfico, sua AUC foi igual a 0.88."
   ]
  },
  {
   "cell_type": "code",
   "execution_count": 78,
   "id": "05660342",
   "metadata": {},
   "outputs": [
    {
     "name": "stderr",
     "output_type": "stream",
     "text": [
      "/opt/anaconda3/lib/python3.9/site-packages/sklearn/utils/deprecation.py:87: FutureWarning: Function plot_roc_curve is deprecated; Function :func:`plot_roc_curve` is deprecated in 1.0 and will be removed in 1.2. Use one of the class methods: :meth:`sklearn.metrics.RocCurveDisplay.from_predictions` or :meth:`sklearn.metrics.RocCurveDisplay.from_estimator`.\n",
      "  warnings.warn(msg, category=FutureWarning)\n",
      "[Parallel(n_jobs=1)]: Using backend SequentialBackend with 1 concurrent workers.\n",
      "[Parallel(n_jobs=1)]: Done 200 out of 200 | elapsed:    3.3s finished\n",
      "/opt/anaconda3/lib/python3.9/site-packages/sklearn/utils/deprecation.py:87: FutureWarning: Function plot_roc_curve is deprecated; Function :func:`plot_roc_curve` is deprecated in 1.0 and will be removed in 1.2. Use one of the class methods: :meth:`sklearn.metrics.RocCurveDisplay.from_predictions` or :meth:`sklearn.metrics.RocCurveDisplay.from_estimator`.\n",
      "  warnings.warn(msg, category=FutureWarning)\n",
      "/opt/anaconda3/lib/python3.9/site-packages/sklearn/utils/deprecation.py:87: FutureWarning: Function plot_roc_curve is deprecated; Function :func:`plot_roc_curve` is deprecated in 1.0 and will be removed in 1.2. Use one of the class methods: :meth:`sklearn.metrics.RocCurveDisplay.from_predictions` or :meth:`sklearn.metrics.RocCurveDisplay.from_estimator`.\n",
      "  warnings.warn(msg, category=FutureWarning)\n",
      "/opt/anaconda3/lib/python3.9/site-packages/sklearn/utils/deprecation.py:87: FutureWarning: Function plot_roc_curve is deprecated; Function :func:`plot_roc_curve` is deprecated in 1.0 and will be removed in 1.2. Use one of the class methods: :meth:`sklearn.metrics.RocCurveDisplay.from_predictions` or :meth:`sklearn.metrics.RocCurveDisplay.from_estimator`.\n",
      "  warnings.warn(msg, category=FutureWarning)\n"
     ]
    },
    {
     "data": {
      "text/plain": [
       "<matplotlib.legend.Legend at 0x168b44b80>"
      ]
     },
     "execution_count": 78,
     "metadata": {},
     "output_type": "execute_result"
    },
    {
     "data": {
      "image/png": "[encoded data removed]",
      "text/plain": [
       "<Figure size 576x396 with 1 Axes>"
      ]
     },
     "metadata": {},
     "output_type": "display_data"
    }
   ],
   "source": [
    "fig = plot_roc_curve(random_forest, X_over_validacao, Y_over_validacao, name='Random Forest', color='lightseagreen')\n",
    "fig = plot_roc_curve(logistic_regression, X_over_validacao, Y_over_validacao, name='Logistic Regression', color='darkolivegreen', ax = fig.ax_)\n",
    "fig = plot_roc_curve(GBDT, X_over_validacao, Y_over_validacao, name='GBDT', color='red', ax = fig.ax_)\n",
    "fig = plot_roc_curve(rede_neural, X_over_validacao, Y_over_validacao, name='Neural Network (MLP)', color='orange', ax = fig.ax_)\n",
    "plt.title('Curva ROC', fontsize=15)\n",
    "plt.plot([0, 1], [0, 1], color='darkblue', linestyle='--')\n",
    "plt.xlabel('1- Especificidade', fontsize=12)\n",
    "plt.ylabel('Sensibilidade', fontsize=12)\n",
    "plt.grid(color='w', linestyle='dotted', linewidth=1)\n",
    "plt.legend()"
   ]
  },
  {
   "cell_type": "markdown",
   "id": "994ece9c",
   "metadata": {
    "id": "994ece9c"
   },
   "source": [
    "#  <a name=\"secao_7\"> Conclusão do desafio </a>\n",
    "[Voltar ao índice](#indice)\n",
    "\n",
    "Como o problema proposto no desafio era bastante aberto, foi escolhido uma abordagem exploratória de modelos de Machine Learning para realizar a previsão de uma possível tranasação envolvendo clientes do banco Santander. O problema envolveu um banco de dados do Kaggle e consistiu de um problema de classificação binária, também preferido pelo enunciado do desafio. \n",
    "\n",
    "O pré processamento foi curto uma vez que o dados eram bastante limpos e comportados, bastando apenas de um processo de balanceamento, no qual se usou uma técnica de oversampling. A análise preditiva de classificação buscou testar desde os modelos mais simples, como a Regressão Logística, até os mais sofisticados, como o GBDT. O que se observou foi que apesar do nivel de complexidade entre estas duas técnicas ser bastante diferente, ambas retornaram um valor de recall bastante próximos, de forma que o custo-benefício tende a Regressão Logística. \n",
    "\n",
    "O pior valor encontrado foi referente ao Random Forest.\n",
    "\n",
    "A verificação de overfitting foi realizada apenas para o GBDT, mas poderia ter sido feito para todos os demais modelos. "
   ]
  }
 ],
 "metadata": {
  "colab": {
   "provenance": []
  },
  "kernelspec": {
   "display_name": "Python 3 (ipykernel)",
   "language": "python",
   "name": "python3"
  },
  "language_info": {
   "codemirror_mode": {
    "name": "ipython",
    "version": 3
   },
   "file_extension": ".py",
   "mimetype": "text/x-python",
   "name": "python",
   "nbconvert_exporter": "python",
   "pygments_lexer": "ipython3",
   "version": "3.9.7"
  }
 },
 "nbformat": 4,
 "nbformat_minor": 5
}
